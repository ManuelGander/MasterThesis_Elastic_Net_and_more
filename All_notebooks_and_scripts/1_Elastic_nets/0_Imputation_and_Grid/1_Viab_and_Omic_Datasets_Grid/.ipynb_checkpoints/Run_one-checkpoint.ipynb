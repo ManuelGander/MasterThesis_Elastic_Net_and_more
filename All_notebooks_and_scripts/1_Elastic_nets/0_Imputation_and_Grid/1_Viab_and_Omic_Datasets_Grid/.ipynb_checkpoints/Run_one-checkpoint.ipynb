{
 "cells": [
  {
   "cell_type": "code",
   "execution_count": 16,
   "id": "4a5bdd28",
   "metadata": {},
   "outputs": [],
   "source": [
    "i0=1\n",
    "i1=3\n",
    "i2=5\n",
    "i3=5"
   ]
  },
  {
   "cell_type": "code",
   "execution_count": 17,
   "id": "6e37cf79",
   "metadata": {},
   "outputs": [
    {
     "data": {
      "text/plain": [
       "5"
      ]
     },
     "execution_count": 17,
     "metadata": {},
     "output_type": "execute_result"
    }
   ],
   "source": [
    "6\n",
    "6\n",
    "7\n",
    "5"
   ]
  },
  {
   "cell_type": "code",
   "execution_count": 18,
   "id": "e190d25b",
   "metadata": {},
   "outputs": [],
   "source": [
    "import pandas as pd\n",
    "import numpy as np\n",
    "import seaborn as sns\n",
    "import matplotlib.pyplot as plt\n",
    "import importlib\n",
    "from tqdm import tqdm\n",
    "import sys\n",
    "sys.path.append('/home/icb/manuel.gander/Atl/notebooks/')\n",
    "import utils\n",
    "utils = importlib.reload(utils)\n",
    "import scipy\n",
    "import pickle\n",
    "\n",
    "import warnings\n",
    "from scipy.stats import ConstantInputWarning\n",
    "from sklearn.exceptions import ConvergenceWarning\n",
    "\n",
    "# Ignore ConstantInputWarning\n",
    "warnings.filterwarnings(\"ignore\", category=ConstantInputWarning)\n",
    "warnings.filterwarnings(\"ignore\", category=ConvergenceWarning)\n",
    "warnings.simplefilter(action='ignore', category=FutureWarning)\n",
    "\n",
    "datasets = ['atlantic', 'atl_only_phos', 'atl_only_full', 'Gygi', 'kinase_scores', 'RNA', 'drug_scores', 'identity']\n",
    "\n",
    "sources=['CTD2', 'GDSC1', 'GDSC2', 'DTP', 'CTPR', 'MR_NCI60']\n",
    "\n",
    "\n",
    "alphas = [0.01, 0.03, 0.1, 0.3, 1.0, 3.0, 10.0]\n",
    "l1_ratios = [0.01, 0.03, 0.1, 0.3, 0.5, 0.9, 0.99]\n",
    "kn=10**9\n",
    "reps=100\n",
    "\n",
    "alpha = alphas[i0]\n",
    "l1_ratio = l1_ratios[i1]\n",
    "dataset = datasets[i2]\n",
    "source = sources[i3]"
   ]
  },
  {
   "cell_type": "code",
   "execution_count": 19,
   "id": "b9827345",
   "metadata": {},
   "outputs": [
    {
     "name": "stderr",
     "output_type": "stream",
     "text": [
      "100%|███████████████████████████████████████████████████████████████████████████████████████████████| 1315/1315 [02:04<00:00, 10.53it/s]\n",
      "100%|████████████████████████████████████████████████████████████████████████████████████| 1960464/1960464 [00:01<00:00, 1438923.07it/s]\n"
     ]
    }
   ],
   "source": [
    "D_prot, features, celllines = utils.load_dataset(dataset)\n",
    "dfv = utils.prep_viability_AUCs2(D_prot)\n",
    "dfv = dfv[dfv['Source']==source].copy()\n",
    "\n",
    "with open('/home/icb/manuel.gander/Atl/data/common_drugs.pkl', 'rb') as file:\n",
    "    Dd = pickle.load(file)\n",
    "drugs = Dd[source]"
   ]
  },
  {
   "cell_type": "code",
   "execution_count": null,
   "id": "06904361",
   "metadata": {},
   "outputs": [],
   "source": []
  },
  {
   "cell_type": "code",
   "execution_count": null,
   "id": "8c9e081d",
   "metadata": {},
   "outputs": [],
   "source": []
  },
  {
   "cell_type": "code",
   "execution_count": 20,
   "id": "b2860907",
   "metadata": {},
   "outputs": [
    {
     "data": {
      "text/plain": [
       "42"
      ]
     },
     "execution_count": 20,
     "metadata": {},
     "output_type": "execute_result"
    }
   ],
   "source": [
    "len(dfv['Cello'].value_counts())"
   ]
  },
  {
   "cell_type": "code",
   "execution_count": 15,
   "id": "8f71863e",
   "metadata": {},
   "outputs": [
    {
     "data": {
      "text/plain": [
       "59"
      ]
     },
     "execution_count": 15,
     "metadata": {},
     "output_type": "execute_result"
    }
   ],
   "source": [
    "len(dfv['Cello'].value_counts())"
   ]
  },
  {
   "cell_type": "code",
   "execution_count": 21,
   "id": "24cbb330",
   "metadata": {},
   "outputs": [
    {
     "data": {
      "text/plain": [
       "'MR_NCI60'"
      ]
     },
     "execution_count": 21,
     "metadata": {},
     "output_type": "execute_result"
    }
   ],
   "source": [
    "source"
   ]
  },
  {
   "cell_type": "code",
   "execution_count": 22,
   "id": "6542f189",
   "metadata": {},
   "outputs": [
    {
     "data": {
      "text/plain": [
       "'RNA'"
      ]
     },
     "execution_count": 22,
     "metadata": {},
     "output_type": "execute_result"
    }
   ],
   "source": [
    "dataset"
   ]
  },
  {
   "cell_type": "code",
   "execution_count": null,
   "id": "ec16bff1",
   "metadata": {},
   "outputs": [],
   "source": []
  },
  {
   "cell_type": "code",
   "execution_count": null,
   "id": "b026fba1",
   "metadata": {},
   "outputs": [],
   "source": []
  },
  {
   "cell_type": "code",
   "execution_count": null,
   "id": "9577d4c9",
   "metadata": {},
   "outputs": [],
   "source": []
  },
  {
   "cell_type": "code",
   "execution_count": 22,
   "id": "15985b6f",
   "metadata": {
    "scrolled": true
   },
   "outputs": [
    {
     "name": "stderr",
     "output_type": "stream",
     "text": [
      "100%|██████████████████████████████████████████████████████████████████████████████████████████| 1/1 [00:21<00:00, 21.09s/it]\n"
     ]
    }
   ],
   "source": [
    "frames=[]\n",
    "for dr in tqdm(drugs[-1:]):\n",
    "    dfvs=dfv[dfv['PubChem_CID']==dr].copy()\n",
    "\n",
    "    ccls=sorted(set(dfvs['Cello']))\n",
    "    res={}\n",
    "    res['pearsons']=[]\n",
    "    res['spearmans']=[]\n",
    "    res['l1_ratios']=[]\n",
    "    res['RMSE']=[]\n",
    "    res['RMSE_mean_model']=[]\n",
    "    if len(ccls)>30:\n",
    "        D_holdout = utils.get_holdouts_balanced(dfvs, reps, source0='all')\n",
    "        if len(D_holdout)>0:\n",
    "            for hs in range(reps):\n",
    "                holdouts=D_holdout[hs]\n",
    "                dfv0, dfh=utils.split_of_validation_cell_lines(dfvs, ccls=holdouts)\n",
    "                train_input=utils.dfv_to_train_arrays(dfv0, D_prot)\n",
    "                mean = train_input[1].mean()\n",
    "\n",
    "                # Preselection of kn features and inference\n",
    "                predictions, ys = utils.calc_predictions_combinations(dfv0, dfh, D_prot, kn, alpha, l1_ratio)\n",
    "                p=predictions[0]\n",
    "                y=ys[0]\n",
    "\n",
    "                res['pearsons'].append(scipy.stats.pearsonr(p, y).statistic)\n",
    "                res['spearmans'].append(scipy.stats.spearmanr(p, y).statistic)\n",
    "                res['RMSE'].append(np.sqrt(np.mean((p-y)**2)))\n",
    "                res['l1_ratios'].append(np.mean(abs(p-y))/np.mean(abs(mean-y)))\n",
    "                res['RMSE_mean_model'].append(np.sqrt(np.mean((mean-y)**2)))\n",
    "\n",
    "    df = pd.DataFrame(res)\n",
    "    df['PubChem_CID']=dr\n",
    "    df['ind']=range(len(df))\n",
    "    df['n_ccls'] = len(dfvs)\n",
    "    frames.append(df)\n",
    "Df = pd.concat(frames, ignore_index=True)\n",
    "Df['source']=source\n",
    "Df['dataset']=dataset\n",
    "Df['alpha']=alpha\n",
    "Df['l1_ratio']=l1_ratio\n",
    "Df['kn'] = kn"
   ]
  },
  {
   "cell_type": "code",
   "execution_count": null,
   "id": "1ded2c77",
   "metadata": {},
   "outputs": [],
   "source": [
    "Df.to_pickle(f'/home/icb/manuel.gander/Atl/data/dones_grid/{alpha}_{l1_ratio}_{dataset}_{source}.pkl')"
   ]
  },
  {
   "cell_type": "code",
   "execution_count": null,
   "id": "18cf5163",
   "metadata": {},
   "outputs": [],
   "source": []
  },
  {
   "cell_type": "code",
   "execution_count": null,
   "id": "b429b16a",
   "metadata": {},
   "outputs": [],
   "source": []
  },
  {
   "cell_type": "code",
   "execution_count": null,
   "id": "fdbab4d3",
   "metadata": {},
   "outputs": [],
   "source": []
  },
  {
   "cell_type": "code",
   "execution_count": null,
   "id": "7f818111",
   "metadata": {},
   "outputs": [],
   "source": []
  },
  {
   "cell_type": "code",
   "execution_count": null,
   "id": "cf68c20d",
   "metadata": {},
   "outputs": [],
   "source": []
  }
 ],
 "metadata": {
  "kernelspec": {
   "display_name": "ott_env",
   "language": "python",
   "name": "ott_env"
  },
  "language_info": {
   "codemirror_mode": {
    "name": "ipython",
    "version": 3
   },
   "file_extension": ".py",
   "mimetype": "text/x-python",
   "name": "python",
   "nbconvert_exporter": "python",
   "pygments_lexer": "ipython3",
   "version": "3.9.18"
  }
 },
 "nbformat": 4,
 "nbformat_minor": 5
}
