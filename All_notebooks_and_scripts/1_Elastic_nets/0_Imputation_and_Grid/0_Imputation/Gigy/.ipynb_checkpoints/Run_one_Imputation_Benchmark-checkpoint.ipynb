{
 "cells": [
  {
   "cell_type": "code",
   "execution_count": 5,
   "id": "4a5bdd28",
   "metadata": {},
   "outputs": [],
   "source": [
    "i0=0\n",
    "i1=0\n",
    "i2=0\n",
    "i3=0"
   ]
  },
  {
   "cell_type": "code",
   "execution_count": 27,
   "id": "1c8a4a4f",
   "metadata": {},
   "outputs": [],
   "source": [
    "def z_transform(M0):\n",
    "    M0=M0-np.array(M0.mean(1))[:,None]\n",
    "    M0=M0/np.array(M0.std(1))[:,None]\n",
    "    return(M0)\n",
    "\n",
    "import pandas as pd\n",
    "import numpy as np\n",
    "import seaborn as sns\n",
    "import matplotlib.pyplot as plt\n",
    "import importlib\n",
    "from tqdm import tqdm\n",
    "import sys\n",
    "sys.path.append('/home/icb/manuel.gander/Atl/notebooks/')\n",
    "import utils\n",
    "utils = importlib.reload(utils)\n",
    "import scipy\n",
    "\n",
    "\n",
    "import warnings\n",
    "from scipy.stats import ConstantInputWarning\n",
    "from sklearn.exceptions import ConvergenceWarning\n",
    "\n",
    "# Ignore ConstantInputWarning\n",
    "warnings.filterwarnings(\"ignore\", category=ConstantInputWarning)\n",
    "warnings.filterwarnings(\"ignore\", category=ConvergenceWarning)\n",
    "warnings.simplefilter(action='ignore', category=FutureWarning)\n",
    "\n",
    "\n",
    "alphas = [0.01, 0.03, 0.1, 0.3, 1.0, 3.0, 10.0]\n",
    "l1_ratios = [0.01, 0.03, 0.1, 0.3, 0.5, 0.9, 0.99]\n",
    "imputations = ['knn', 'als', 'hlm', 'lwn', 'zer', 'fals']\n",
    "z_scores = [True, False]\n",
    "\n",
    "kn=10**9\n",
    "reps=100"
   ]
  },
  {
   "cell_type": "code",
   "execution_count": 12,
   "id": "c5ab733c",
   "metadata": {},
   "outputs": [],
   "source": [
    "alpha = alphas[i0]\n",
    "l1_ratio = l1_ratios[i1]\n",
    "data = 'Gygi'\n",
    "imputation = imputations[i2]\n",
    "z_score = z_scores[i3]\n",
    "source = 'MR_NCI60'"
   ]
  },
  {
   "cell_type": "code",
   "execution_count": 20,
   "id": "f66c8b4b",
   "metadata": {},
   "outputs": [],
   "source": [
    "df = pd.read_pickle(f'{imputation}_imp_M0.pkl')\n",
    "    \n",
    "if z_score:\n",
    "    df = z_transform(df)\n",
    "\n",
    "df.columns = [a+'_'+str(i) for i,a in enumerate(df.columns)]\n",
    "\n",
    "D_prot={}\n",
    "for a in df.columns:\n",
    "    D_prot[a]=np.array(df[a])\n",
    "features=list(df.index)\n",
    "celllines=sorted(set([a.split('_')[0] for a in D_prot.keys()]))\n",
    "\n",
    "dfv = utils.prep_viability_AUCs2(D_prot)\n",
    "dfv = dfv[dfv['Source']==source].copy()\n",
    "drugs = sorted(set(dfv['PubChem_CID']))"
   ]
  },
  {
   "cell_type": "code",
   "execution_count": null,
   "id": "f8006b74",
   "metadata": {},
   "outputs": [],
   "source": []
  },
  {
   "cell_type": "code",
   "execution_count": 30,
   "id": "0d4813d0",
   "metadata": {},
   "outputs": [
    {
     "name": "stderr",
     "output_type": "stream",
     "text": [
      "100%|██████████████████████████████████████████████████████████████████████████████████████████| 5/5 [00:00<00:00,  8.28it/s]\n"
     ]
    }
   ],
   "source": [
    "frames=[]\n",
    "for dr in tqdm(drugs):\n",
    "    dfvs=dfv[dfv['PubChem_CID']==dr].copy()\n",
    "\n",
    "    ccls=sorted(set(dfvs['Cello']))\n",
    "    res={}\n",
    "    res['pearsons']=[]\n",
    "    res['spearmans']=[]\n",
    "    res['l1_ratios']=[]\n",
    "    res['RMSE']=[]\n",
    "    res['RMSE_mean_model']=[]\n",
    "    if len(ccls)>30:\n",
    "        D_holdout = utils.get_holdouts_balanced(dfvs, reps)\n",
    "        if len(D_holdout)>0:\n",
    "            for hs in range(reps):\n",
    "                holdouts=D_holdout[hs]\n",
    "                dfv0, dfh=utils.split_of_validation_cell_lines(dfvs, ccls=holdouts)\n",
    "                train_input=utils.dfv_to_train_arrays(dfv0, D_prot)\n",
    "                mean = train_input[1].mean()\n",
    "\n",
    "                # Preselection of kn features and inference\n",
    "                predictions, ys = utils.calc_predictions_combinations(dfv0, dfh, D_prot, kn, alpha, l1_ratio)\n",
    "                p=predictions[0]\n",
    "                y=ys[0]\n",
    "\n",
    "                res['pearsons'].append(scipy.stats.pearsonr(p, y).statistic)\n",
    "                res['spearmans'].append(scipy.stats.spearmanr(p, y).statistic)\n",
    "                res['RMSE'].append(np.sqrt(np.mean((p-y)**2)))\n",
    "                res['l1_ratios'].append(np.mean(abs(p-y))/np.mean(abs(mean-y)))\n",
    "                res['RMSE_mean_model'].append(np.sqrt(np.mean((mean-y)**2)))\n",
    "\n",
    "    df = pd.DataFrame(res)\n",
    "    df['PubChem_CID']=dr\n",
    "    df['ind']=range(len(df))\n",
    "    df['n_ccls'] = len(dfvs)\n",
    "    frames.append(df)\n",
    "Df = pd.concat(frames, ignore_index=True)\n",
    "\n",
    "Df['imputation']=imputation\n",
    "Df['z_score']=z_score\n",
    "Df['source']=source\n",
    "Df['dataset']=data\n",
    "Df['alpha']=alpha\n",
    "Df['l1_ratio']=l1_ratio"
   ]
  },
  {
   "cell_type": "code",
   "execution_count": null,
   "id": "881ac51c",
   "metadata": {},
   "outputs": [],
   "source": []
  },
  {
   "cell_type": "code",
   "execution_count": null,
   "id": "f04553f2",
   "metadata": {},
   "outputs": [],
   "source": [
    "Df.to_pickle(f'/home/icb/manuel.gander/Atl/data/dones_imp_Gygi/{alpha}_{l1_ratio}_{imputation}_{data}_{z_score}.pkl')"
   ]
  },
  {
   "cell_type": "code",
   "execution_count": null,
   "id": "a5c1edb0",
   "metadata": {},
   "outputs": [],
   "source": []
  },
  {
   "cell_type": "code",
   "execution_count": null,
   "id": "4ea62e5e",
   "metadata": {},
   "outputs": [],
   "source": []
  }
 ],
 "metadata": {
  "kernelspec": {
   "display_name": "ott_env",
   "language": "python",
   "name": "ott_env"
  },
  "language_info": {
   "codemirror_mode": {
    "name": "ipython",
    "version": 3
   },
   "file_extension": ".py",
   "mimetype": "text/x-python",
   "name": "python",
   "nbconvert_exporter": "python",
   "pygments_lexer": "ipython3",
   "version": "3.9.18"
  }
 },
 "nbformat": 4,
 "nbformat_minor": 5
}
