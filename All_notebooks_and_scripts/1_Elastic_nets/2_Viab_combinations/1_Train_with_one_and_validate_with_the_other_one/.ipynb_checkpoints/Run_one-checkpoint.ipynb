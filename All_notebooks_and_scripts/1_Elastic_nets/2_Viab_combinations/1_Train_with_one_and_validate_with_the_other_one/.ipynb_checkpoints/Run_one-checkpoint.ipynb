{
 "cells": [
  {
   "cell_type": "code",
   "execution_count": 5,
   "id": "4a5bdd28",
   "metadata": {},
   "outputs": [],
   "source": [
    "i0=1\n",
    "i1=3\n",
    "i2=3"
   ]
  },
  {
   "cell_type": "code",
   "execution_count": 6,
   "id": "6e37cf79",
   "metadata": {},
   "outputs": [
    {
     "data": {
      "text/plain": [
       "5"
      ]
     },
     "execution_count": 6,
     "metadata": {},
     "output_type": "execute_result"
    }
   ],
   "source": [
    "6\n",
    "6\n",
    "5"
   ]
  },
  {
   "cell_type": "code",
   "execution_count": 7,
   "id": "2db4a891",
   "metadata": {},
   "outputs": [],
   "source": [
    "import pandas as pd\n",
    "import numpy as np\n",
    "import seaborn as sns\n",
    "import matplotlib.pyplot as plt\n",
    "import importlib\n",
    "from tqdm import tqdm\n",
    "import sys\n",
    "sys.path.append('/home/icb/manuel.gander/Atl/notebooks/')\n",
    "import utils\n",
    "utils = importlib.reload(utils)\n",
    "import scipy\n",
    "import pickle\n",
    "\n",
    "import warnings\n",
    "from scipy.stats import ConstantInputWarning\n",
    "from sklearn.exceptions import ConvergenceWarning\n",
    "\n",
    "# Ignore ConstantInputWarning\n",
    "warnings.filterwarnings(\"ignore\", category=ConstantInputWarning)\n",
    "warnings.filterwarnings(\"ignore\", category=ConvergenceWarning)\n",
    "warnings.simplefilter(action='ignore', category=FutureWarning)\n",
    "\n",
    "alphas = [0.01, 0.03, 0.1, 0.3, 1.0, 3.0, 10.0]\n",
    "l1_ratios = [0.01, 0.03, 0.1, 0.3, 0.5, 0.9, 0.99]\n",
    "sources=['CTD2', 'GDSC1', 'GDSC2', 'DTP', 'CTPR', 'MR_NCI60']\n",
    "kn=10**9\n",
    "reps=100\n",
    "dataset = 'RNA'\n",
    "source0 = 'GDSC2'\n",
    "\n",
    "alpha = alphas[i0]\n",
    "l1_ratio = l1_ratios[i1]\n",
    "source1 = sources[i2]"
   ]
  },
  {
   "cell_type": "code",
   "execution_count": 8,
   "id": "a395d402",
   "metadata": {},
   "outputs": [
    {
     "name": "stderr",
     "output_type": "stream",
     "text": [
      "100%|████████████████████████████████████████████████████████████████████████████████████████████████████████████████████████| 1315/1315 [01:54<00:00, 11.49it/s]\n",
      "100%|█████████████████████████████████████████████████████████████████████████████████████████████████████████████| 1960464/1960464 [00:00<00:00, 2151519.33it/s]\n"
     ]
    }
   ],
   "source": [
    "D_prot, features, celllines = utils.load_dataset(dataset)\n",
    "dfv = utils.prep_viability_AUCs2(D_prot)\n",
    "dfv = dfv[dfv['Source'].isin([source0, source1])].copy()\n",
    "\n",
    "# we only need to take drugs that are found in both sources\n",
    "dr0s = sorted(set(dfv[dfv['Source']==source0]['PubChem_CID']))\n",
    "dr1s = sorted(set(dfv[dfv['Source']==source1]['PubChem_CID']))\n",
    "drugs = sorted(set(dr0s)&set(dr1s))"
   ]
  },
  {
   "cell_type": "code",
   "execution_count": null,
   "id": "5aa7d42d",
   "metadata": {},
   "outputs": [],
   "source": []
  },
  {
   "cell_type": "code",
   "execution_count": null,
   "id": "ed75fa9d",
   "metadata": {},
   "outputs": [],
   "source": []
  },
  {
   "cell_type": "code",
   "execution_count": 9,
   "id": "59dd52e0",
   "metadata": {},
   "outputs": [],
   "source": [
    "reps = 1"
   ]
  },
  {
   "cell_type": "code",
   "execution_count": 10,
   "id": "15985b6f",
   "metadata": {
    "scrolled": true
   },
   "outputs": [
    {
     "name": "stderr",
     "output_type": "stream",
     "text": [
      "100%|██████████████████████████████████████████████████████████████████████████████████████████████████████████████████████████| 160/160 [00:31<00:00,  5.07it/s]\n"
     ]
    }
   ],
   "source": [
    "frames=[]\n",
    "for dr in tqdm(drugs):\n",
    "    dfvs=dfv[dfv['PubChem_CID']==dr].copy()\n",
    "\n",
    "    ccls=sorted(set(dfvs['Cello']))\n",
    "    res={}\n",
    "    res['pearsons']=[]\n",
    "    res['spearmans']=[]\n",
    "    res['l1_ratios']=[]\n",
    "    res['RMSE']=[]\n",
    "    res['RMSE_mean_model']=[]\n",
    "    dfv1 = dfvs[dfvs['Source']==source1].copy()\n",
    "    if len(dfv1)>30:\n",
    "        D_holdout = utils.get_holdouts_balanced(dfvs, reps, source0=source0)\n",
    "        if len(D_holdout)>0:\n",
    "            for hs in range(reps):\n",
    "                holdouts=D_holdout[hs]\n",
    "                dfv0, dfh=utils.split_of_validation_cell_lines(dfvs, ccls=holdouts)\n",
    "                dfv0 = dfv0[dfv0['Source']==source1].copy()\n",
    "                dfh = dfh[dfh['Source']==source0].copy()\n",
    "                train_input=utils.dfv_to_train_arrays(dfv0, D_prot)\n",
    "                mean = train_input[1].mean()\n",
    "\n",
    "                # Preselection of kn features and inference\n",
    "                predictions, ys = utils.calc_predictions_combinations(dfv0, dfh, D_prot, kn, alpha, l1_ratio)\n",
    "                p=predictions[0]\n",
    "                y=ys[0]\n",
    "\n",
    "                res['pearsons'].append(scipy.stats.pearsonr(p, y).statistic)\n",
    "                res['spearmans'].append(scipy.stats.spearmanr(p, y).statistic)\n",
    "                res['RMSE'].append(np.sqrt(np.mean((p-y)**2)))\n",
    "                res['l1_ratios'].append(np.mean(abs(p-y))/np.mean(abs(mean-y)))\n",
    "                res['RMSE_mean_model'].append(np.sqrt(np.mean((mean-y)**2)))\n",
    "\n",
    "    df = pd.DataFrame(res)\n",
    "    df['PubChem_CID']=dr\n",
    "    df['ind']=range(len(df))\n",
    "    df['n_ccls'] = len(dfvs)\n",
    "    frames.append(df)\n",
    "Df = pd.concat(frames, ignore_index=True)\n",
    "Df['source']=source0\n",
    "Df['dataset']=dataset\n",
    "Df['alpha']=alpha\n",
    "Df['l1_ratio']=l1_ratio\n",
    "Df['kn'] = kn"
   ]
  },
  {
   "cell_type": "code",
   "execution_count": null,
   "id": "69a4d473",
   "metadata": {},
   "outputs": [],
   "source": []
  },
  {
   "cell_type": "code",
   "execution_count": null,
   "id": "18cf5163",
   "metadata": {},
   "outputs": [],
   "source": []
  },
  {
   "cell_type": "code",
   "execution_count": null,
   "id": "b429b16a",
   "metadata": {},
   "outputs": [],
   "source": []
  },
  {
   "cell_type": "code",
   "execution_count": null,
   "id": "fdbab4d3",
   "metadata": {},
   "outputs": [],
   "source": []
  },
  {
   "cell_type": "code",
   "execution_count": null,
   "id": "7f818111",
   "metadata": {},
   "outputs": [],
   "source": []
  },
  {
   "cell_type": "code",
   "execution_count": null,
   "id": "cf68c20d",
   "metadata": {},
   "outputs": [],
   "source": []
  }
 ],
 "metadata": {
  "kernelspec": {
   "display_name": "ott_env",
   "language": "python",
   "name": "ott_env"
  },
  "language_info": {
   "codemirror_mode": {
    "name": "ipython",
    "version": 3
   },
   "file_extension": ".py",
   "mimetype": "text/x-python",
   "name": "python",
   "nbconvert_exporter": "python",
   "pygments_lexer": "ipython3",
   "version": "3.9.18"
  }
 },
 "nbformat": 4,
 "nbformat_minor": 5
}
