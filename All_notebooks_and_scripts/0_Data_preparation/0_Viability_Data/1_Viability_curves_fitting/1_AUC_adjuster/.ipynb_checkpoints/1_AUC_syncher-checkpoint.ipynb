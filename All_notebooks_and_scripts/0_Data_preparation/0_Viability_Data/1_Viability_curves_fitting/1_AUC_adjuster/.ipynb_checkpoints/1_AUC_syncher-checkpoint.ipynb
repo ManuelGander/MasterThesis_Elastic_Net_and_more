{
 "cells": [
  {
   "cell_type": "code",
   "execution_count": 1,
   "id": "deac42b1-799a-44e9-b53f-cd0f60facee2",
   "metadata": {},
   "outputs": [],
   "source": [
    "import pandas as pd\n",
    "import numpy as np\n",
    "import csv\n",
    "import pickle\n",
    "import seaborn as sns\n",
    "import numpy as np\n",
    "from scipy.optimize import curve_fit\n",
    "from tqdm import tqdm\n",
    "import matplotlib.pyplot as plt\n",
    "import scipy"
   ]
  },
  {
   "cell_type": "code",
   "execution_count": 2,
   "id": "02dc1f95-27d5-46cb-99c1-b84f50a64f3a",
   "metadata": {},
   "outputs": [],
   "source": [
    "def fct(x, a, b, c, d):\n",
    "    return a + (b-a) / (1+10**(-c*(x-d)))"
   ]
  },
  {
   "cell_type": "code",
   "execution_count": 3,
   "id": "80d3ec34-b32b-4df7-88ea-e8a37a9f1511",
   "metadata": {
    "scrolled": true
   },
   "outputs": [
    {
     "data": {
      "text/plain": [
       "['CTD2', 'CTPR', 'DTP', 'GDSC1', 'GDSC2', 'MR_NCI60', 'PRISM2']"
      ]
     },
     "execution_count": 3,
     "metadata": {},
     "output_type": "execute_result"
    }
   ],
   "source": [
    "Path='/home/mgander/Atlantic/data/Viability/'\n",
    "\n",
    "M = pd.read_pickle(f'{Path}/M_cleaned.pkl')\n",
    "sources = sorted(set(M['Source']))\n",
    "sources"
   ]
  },
  {
   "cell_type": "code",
   "execution_count": 4,
   "id": "aea23451-c9e7-44b3-bb40-4b795a30e2ef",
   "metadata": {},
   "outputs": [],
   "source": [
    "M['log_dose']=np.log10(M['Dose'])\n",
    "M['log_dose_rounded']= (M['log_dose']*10).astype('int')\n",
    "M['key'] = M['Cello']+'_'+M['PubChem_CID']\n",
    "M['key'] = M['key'].astype('category')\n",
    "keys=sorted(set(M['key']))\n",
    "M['PubChem_CID'] = M['PubChem_CID'].astype('category')"
   ]
  },
  {
   "cell_type": "code",
   "execution_count": 5,
   "id": "36d2ad08-4445-4a19-88b5-e15943a27323",
   "metadata": {},
   "outputs": [],
   "source": [
    "import pickle\n",
    "# Load from pickle file\n",
    "with open('F_cleaned.pkl', 'rb') as file:\n",
    "    F = pickle.load(file)"
   ]
  },
  {
   "cell_type": "code",
   "execution_count": 6,
   "id": "9ec3dc06-7a4e-49ca-bae6-3f92b62b043e",
   "metadata": {},
   "outputs": [],
   "source": [
    "def get_intervals(dfg):\n",
    "    # rounded dose onto 1 decimal\n",
    "    lefts = [a[1]['log_dose_rounded'].min() for a in list(dfg.groupby('Cello'))]\n",
    "    rights = [a[1]['log_dose_rounded'].max() for a in list(dfg.groupby('Cello'))]\n",
    "\n",
    "    left_maj = list(pd.DataFrame(lefts, columns=['v']).value_counts().index)[0][0]\n",
    "    right_maj = list(pd.DataFrame(rights, columns=['v']).value_counts().index)[0][0]\n",
    "    return(left_maj, right_maj)\n",
    "def get_ic50(f):\n",
    "    a,b,c,d = f\n",
    "    psi = (b-a)/(0.5-a)-1\n",
    "    if psi>0:\n",
    "        p = np.log10(psi)\n",
    "        ic50 = -p/c+d\n",
    "    else:\n",
    "        ic50=np.NaN\n",
    "    return(ic50)"
   ]
  },
  {
   "cell_type": "code",
   "execution_count": 7,
   "id": "4efabe67-d206-40f7-9164-8094b3360d6d",
   "metadata": {},
   "outputs": [],
   "source": [
    "import warnings\n",
    "# Ignore the specific warning\n",
    "warnings.filterwarnings(\"ignore\", message=\"overflow encountered in power\")"
   ]
  },
  {
   "cell_type": "code",
   "execution_count": 8,
   "id": "c88f6a63-50f8-49e0-b12e-33cd4f0cac33",
   "metadata": {
    "scrolled": true
   },
   "outputs": [
    {
     "name": "stderr",
     "output_type": "stream",
     "text": [
      "100%|█████████████████████████████████████████████████████████████████████████████████| 24256/24256 [1:01:27<00:00,  6.58it/s]\n"
     ]
    }
   ],
   "source": [
    "l_drugs = []\n",
    "l_ccls = []\n",
    "l_sources = []\n",
    "l_aucs = []\n",
    "l_ic50s = []\n",
    "l_left = []\n",
    "l_right = []\n",
    "\n",
    "drugs = sorted(set(M['PubChem_CID']))\n",
    "for drug in tqdm(drugs):\n",
    "    dfg = M[M['PubChem_CID']==drug].copy()\n",
    "    sources = sorted(set(dfg['Source']))\n",
    "    \n",
    "    left_maj, right_maj = get_intervals(dfg)\n",
    "    \n",
    "    xs = np.linspace(left_maj/10, right_maj/10, 101)\n",
    "    \n",
    "    for source in sources:\n",
    "        dfgs = dfg[dfg['Source']==source].copy()\n",
    "    \n",
    "        ccls = sorted(set(dfgs['Cello']))\n",
    "        dfgss = list(dfgs.groupby('Cello'))\n",
    "    \n",
    "        for ccl, dfc in dfgss:\n",
    "            key = ccl+'_'+drug\n",
    "            f = F[source].loc[key][['front', 'back', 'slope', 'pEC50']]\n",
    "            \n",
    "            l_drugs.append(drug)\n",
    "            l_ccls.append(ccl)\n",
    "            l_sources.append(source)\n",
    "            l_aucs.append(np.mean(fct(xs, *f)))\n",
    "            l_ic50s.append(get_ic50(f))\n",
    "            l_left.append(left_maj)\n",
    "            l_right.append(right_maj)\n",
    "    \n",
    "            \n",
    "            #sns.scatterplot(data=dfgs[dfgs['key']==key], x='log_dose_6', y='Viability')\n",
    "            #sns.scatterplot(x=xs, y=fct(xs, *f))\n",
    "            #plt.pause(0.01)"
   ]
  },
  {
   "cell_type": "code",
   "execution_count": 10,
   "id": "254d845a-5c16-47f5-af01-b48fa94b2eb1",
   "metadata": {},
   "outputs": [],
   "source": [
    "D_pubchem_to_dr_repr=dict(zip(M['PubChem_CID'], M['Dr_repr_name']))"
   ]
  },
  {
   "cell_type": "code",
   "execution_count": 11,
   "id": "1800f698-f515-4132-b7b7-e0bcd200f89c",
   "metadata": {},
   "outputs": [],
   "source": [
    "Dfn = pd.DataFrame({'PubChem_CID':l_drugs, 'Cello':l_ccls, 'Source':l_sources, 'AUC':l_aucs, 'ic50':l_ic50s, 'min_dose':l_left,\n",
    "                   'max_dose':l_right})\n",
    "Dfn['Dr_repr_name'] = Dfn['PubChem_CID'].map(D_pubchem_to_dr_repr)"
   ]
  },
  {
   "cell_type": "code",
   "execution_count": 12,
   "id": "4d31b949-6e03-4ff8-b9bf-05f9b69f315e",
   "metadata": {},
   "outputs": [],
   "source": [
    "Dfn.to_pickle(f'{Path}/Synched_aucs.pkl')"
   ]
  },
  {
   "cell_type": "code",
   "execution_count": null,
   "id": "7f98b2a1-ef8d-4a21-a9cc-8be31cb15516",
   "metadata": {},
   "outputs": [],
   "source": []
  },
  {
   "cell_type": "code",
   "execution_count": null,
   "id": "c5955dec-3551-4028-bad4-e7b33cd5b55f",
   "metadata": {},
   "outputs": [],
   "source": []
  },
  {
   "cell_type": "code",
   "execution_count": 13,
   "id": "74d07089-fbbc-446d-bdb6-4644cf8b8288",
   "metadata": {},
   "outputs": [
    {
     "data": {
      "text/plain": [
       "Source\n",
       "DTP         1216907\n",
       "PRISM2       416865\n",
       "CTD2         383099\n",
       "GDSC1        284432\n",
       "GDSC2        210803\n",
       "CTPR          30193\n",
       "MR_NCI60      10072\n",
       "Name: count, dtype: int64"
      ]
     },
     "execution_count": 13,
     "metadata": {},
     "output_type": "execute_result"
    }
   ],
   "source": [
    "Dfn['Source'].value_counts()"
   ]
  },
  {
   "cell_type": "code",
   "execution_count": null,
   "id": "866ca2e8-95ac-4574-bb11-6210e519643e",
   "metadata": {},
   "outputs": [],
   "source": []
  },
  {
   "cell_type": "code",
   "execution_count": null,
   "id": "5c4a821f-18ed-4ca7-95aa-cbdd6af3f69d",
   "metadata": {},
   "outputs": [],
   "source": []
  },
  {
   "cell_type": "code",
   "execution_count": null,
   "id": "4866d1ca-c717-4bae-ae13-09a6ffddea75",
   "metadata": {},
   "outputs": [],
   "source": []
  },
  {
   "cell_type": "code",
   "execution_count": null,
   "id": "10a4550d-ec42-4bbb-99c3-c7c8fdbb5567",
   "metadata": {},
   "outputs": [],
   "source": []
  },
  {
   "cell_type": "code",
   "execution_count": null,
   "id": "c8fee1dc-53f8-4a72-b0fa-a82f5aa31546",
   "metadata": {},
   "outputs": [],
   "source": []
  },
  {
   "cell_type": "code",
   "execution_count": null,
   "id": "420e8e4d-8006-4f30-88b0-c189164c6562",
   "metadata": {},
   "outputs": [],
   "source": []
  }
 ],
 "metadata": {
  "kernelspec": {
   "display_name": "Python 3 (ipykernel)",
   "language": "python",
   "name": "python3"
  },
  "language_info": {
   "codemirror_mode": {
    "name": "ipython",
    "version": 3
   },
   "file_extension": ".py",
   "mimetype": "text/x-python",
   "name": "python",
   "nbconvert_exporter": "python",
   "pygments_lexer": "ipython3",
   "version": "3.10.12"
  }
 },
 "nbformat": 4,
 "nbformat_minor": 5
}
