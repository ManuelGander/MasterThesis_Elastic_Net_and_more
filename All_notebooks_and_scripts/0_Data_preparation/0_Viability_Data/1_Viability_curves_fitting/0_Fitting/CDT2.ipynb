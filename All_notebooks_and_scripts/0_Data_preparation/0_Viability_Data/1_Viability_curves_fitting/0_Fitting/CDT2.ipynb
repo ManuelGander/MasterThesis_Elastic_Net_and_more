{
 "cells": [
  {
   "cell_type": "code",
   "execution_count": null,
   "id": "cef756ec-925d-41cd-92f1-4fbab953b6d5",
   "metadata": {},
   "outputs": [
    {
     "name": "stderr",
     "output_type": "stream",
     "text": [
      "  8%|███████▏                                                                                      | 3/39 [02:24<28:36, 47.69s/it]"
     ]
    }
   ],
   "source": [
    "i=0\n",
    "\n",
    "import warnings\n",
    "warnings.filterwarnings(\"ignore\")\n",
    "\n",
    "import pandas as pd\n",
    "import numpy as np\n",
    "import csv\n",
    "import pickle\n",
    "import seaborn as sns\n",
    "import numpy as np\n",
    "from scipy.optimize import curve_fit\n",
    "from tqdm import tqdm\n",
    "import matplotlib.pyplot as plt\n",
    "\n",
    "import sys\n",
    "sys.path.append(\"/home/mgander/Atlantic/notebooks/Kinobeads\")\n",
    "import fitter\n",
    "from fitter import process_dfs\n",
    "cols = ['-pec50', 'slope', 'front', 'back', 'fold_change', 'auc', 'rmse', 'r2', 'M1_noise', 'p_err_0', 'p_err_1', 'p_err_2', 'p_err_3', \n",
    "     'p_err_4', 'm0_rmse', 'm1_likelihood', 'm0_likelihood', 'f_statistic', 'p_value']\n",
    "\n",
    "Path='/home/mgander/Atlantic/data/Viability/'\n",
    "\n",
    "M = pd.read_pickle(f'{Path}/M_all_all.pkl')\n",
    "sources = sorted(set(M['Source']))\n",
    "\n",
    "df = M[M['Source']==sources[i]].copy()\n",
    "\n",
    "df['log_dose']=np.log10(df['Dose'])\n",
    "\n",
    "df['key'] = df['Cello']+'_'+df['PubChem_CID']\n",
    "df['key'] = df['key'].astype('category')\n",
    "\n",
    "keys=sorted(set(df['key']))\n",
    "\n",
    "def do_batch(batch):\n",
    "    dfb = df[df['key'].isin(batch)].copy()\n",
    "    dfb['key'] = list(dfb['key'])\n",
    "    dfb['key'] = dfb['key'].astype('category')\n",
    "    all_dfs = [group for _, group in dfb.groupby('key')]\n",
    "\n",
    "    from joblib import Parallel, delayed\n",
    "    from tqdm import tqdm\n",
    "    \n",
    "    # Initialize lists to store results\n",
    "    lks = []\n",
    "    ress = []\n",
    "    \n",
    "    # Define the number of jobs\n",
    "    num_jobs = 25  # Set to -1 to use all available cores\n",
    "    \n",
    "    # Parallel processing\n",
    "    results = Parallel(n_jobs=num_jobs)(delayed(process_dfs)(dfs) for dfs in all_dfs)\n",
    "    \n",
    "    # Process the results\n",
    "    for key, res in results:\n",
    "        lks.append(key)\n",
    "        ress.append(res)\n",
    "    return(lks, ress)\n",
    "\n",
    "\n",
    "lks, ress = [], []\n",
    "\n",
    "batchsize = 10**4\n",
    "\n",
    "ks = int(np.ceil(len(keys) / batchsize))\n",
    "\n",
    "for k in tqdm(range(ks)):\n",
    "    batch = keys[k*batchsize:(k+1)*batchsize]\n",
    "    a,b = do_batch(batch)\n",
    "    lks.append(a)\n",
    "    ress.append(b)\n",
    "lks2=[a for b in lks for a in b]\n",
    "ress2=[a for b in ress for a in b]\n",
    "\n",
    "dff=pd.DataFrame(data=np.array(ress2), index=lks2, columns=cols)\n",
    "dff.to_pickle(f'{Path}/dff_ctd2.pkl')\n",
    "dff"
   ]
  },
  {
   "cell_type": "code",
   "execution_count": 4,
   "id": "d9fbd783-0e1a-4662-8b8c-67a97094a1b4",
   "metadata": {},
   "outputs": [
    {
     "data": {
      "text/plain": [
       "-pec50                1\n",
       "slope                 0\n",
       "front                 0\n",
       "back                  0\n",
       "fold_change      122706\n",
       "auc                 298\n",
       "rmse                  0\n",
       "r2               387034\n",
       "M1_noise              1\n",
       "p_err_0               1\n",
       "p_err_1               1\n",
       "p_err_2               1\n",
       "p_err_3               0\n",
       "p_err_4               0\n",
       "m0_rmse               0\n",
       "m1_likelihood    387034\n",
       "m0_likelihood    387034\n",
       "f_statistic           0\n",
       "p_value               0\n",
       "dtype: int64"
      ]
     },
     "execution_count": 4,
     "metadata": {},
     "output_type": "execute_result"
    }
   ],
   "source": [
    "(~np.isfinite(dff)).sum()"
   ]
  },
  {
   "cell_type": "code",
   "execution_count": null,
   "id": "189a7ed4-02e2-4cba-85ca-20f46b9e3b8c",
   "metadata": {},
   "outputs": [],
   "source": []
  },
  {
   "cell_type": "code",
   "execution_count": null,
   "id": "1f40d6cb-9dcf-48d1-b00d-d38290319cd2",
   "metadata": {},
   "outputs": [],
   "source": []
  },
  {
   "cell_type": "code",
   "execution_count": null,
   "id": "32641aa3-97ba-4c3b-92e0-03eff6d7bcca",
   "metadata": {},
   "outputs": [],
   "source": []
  },
  {
   "cell_type": "code",
   "execution_count": null,
   "id": "d27f79ac-44fc-4e40-aed9-0099610146b2",
   "metadata": {},
   "outputs": [],
   "source": []
  },
  {
   "cell_type": "code",
   "execution_count": null,
   "id": "622defca-3d61-442b-8942-9b84ef549183",
   "metadata": {},
   "outputs": [],
   "source": []
  },
  {
   "cell_type": "code",
   "execution_count": 1,
   "id": "ce0161c3-4d39-4c21-b31f-fde8feb6e333",
   "metadata": {},
   "outputs": [],
   "source": [
    "import warnings\n",
    "warnings.filterwarnings(\"ignore\")\n",
    "\n",
    "import pandas as pd\n",
    "import numpy as np\n",
    "import csv\n",
    "import pickle\n",
    "import seaborn as sns\n",
    "import numpy as np\n",
    "from scipy.optimize import curve_fit\n",
    "from tqdm import tqdm\n",
    "import matplotlib.pyplot as plt\n",
    "\n",
    "import sys\n",
    "sys.path.append(\"/home/mgander/Atlantic/notebooks/Kinobeads\")\n",
    "import fitter\n",
    "from fitter import process_dfs\n",
    "\n",
    "Path='/home/mgander/Atlantic/data/Viability/'\n",
    "dff = pd.read_pickle(f'{Path}/dff_ctd2.pkl')"
   ]
  },
  {
   "cell_type": "code",
   "execution_count": 2,
   "id": "f43ccfb3-e554-43ca-a4b0-34d59b07a082",
   "metadata": {},
   "outputs": [
    {
     "data": {
      "text/plain": [
       "-pec50      1\n",
       "slope       0\n",
       "front       0\n",
       "back        0\n",
       "rmse      298\n",
       "r2          0\n",
       "dtype: int64"
      ]
     },
     "execution_count": 2,
     "metadata": {},
     "output_type": "execute_result"
    }
   ],
   "source": [
    "(~np.isfinite(dff)).sum()"
   ]
  },
  {
   "cell_type": "code",
   "execution_count": null,
   "id": "06987689-3eee-4db7-bd0f-780e3d8e26e0",
   "metadata": {},
   "outputs": [],
   "source": []
  },
  {
   "cell_type": "code",
   "execution_count": null,
   "id": "9dfc07d3-3dd0-4c6c-89af-4679bde10997",
   "metadata": {},
   "outputs": [],
   "source": []
  },
  {
   "cell_type": "code",
   "execution_count": null,
   "id": "29e9cddd-c37d-4f41-982f-6c0dd2b29f7a",
   "metadata": {},
   "outputs": [],
   "source": []
  },
  {
   "cell_type": "code",
   "execution_count": null,
   "id": "fc6e48fc-c5fd-40ae-805d-770a676e3a59",
   "metadata": {},
   "outputs": [],
   "source": []
  },
  {
   "cell_type": "code",
   "execution_count": null,
   "id": "ea724c53-2afe-4f11-82a0-3b71fa6857de",
   "metadata": {},
   "outputs": [],
   "source": []
  }
 ],
 "metadata": {
  "kernelspec": {
   "display_name": "phos",
   "language": "python",
   "name": "phos"
  },
  "language_info": {
   "codemirror_mode": {
    "name": "ipython",
    "version": 3
   },
   "file_extension": ".py",
   "mimetype": "text/x-python",
   "name": "python",
   "nbconvert_exporter": "python",
   "pygments_lexer": "ipython3",
   "version": "3.9.16"
  }
 },
 "nbformat": 4,
 "nbformat_minor": 5
}
