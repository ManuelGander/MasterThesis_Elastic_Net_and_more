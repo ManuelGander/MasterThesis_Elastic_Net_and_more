{
 "cells": [
  {
   "cell_type": "code",
   "execution_count": 13,
   "id": "e924319e-606e-4e1f-9cc3-56e37ecf12c0",
   "metadata": {
    "scrolled": true
   },
   "outputs": [
    {
     "name": "stderr",
     "output_type": "stream",
     "text": [
      "100%|███████████████████████████████████████████████████████████████████████████████████████████████| 2/2 [00:28<00:00, 14.31s/it]\n"
     ]
    }
   ],
   "source": [
    "i=5\n",
    "\n",
    "import warnings\n",
    "warnings.filterwarnings(\"ignore\")\n",
    "\n",
    "import pandas as pd\n",
    "import numpy as np\n",
    "import csv\n",
    "import pickle\n",
    "import seaborn as sns\n",
    "import numpy as np\n",
    "from scipy.optimize import curve_fit\n",
    "from tqdm import tqdm\n",
    "import matplotlib.pyplot as plt\n",
    "\n",
    "import sys\n",
    "sys.path.append(\"/home/mgander/Atlantic/notebooks/Kinobeads\")\n",
    "import fitter\n",
    "from fitter import process_dfs\n",
    "cols = ['-pec50', 'slope', 'front', 'back', 'fold_change', 'auc', 'rmse', 'r2', 'M1_noise', 'p_err_0', 'p_err_1', 'p_err_2', 'p_err_3', \n",
    "     'p_err_4', 'm0_rmse', 'm1_likelihood', 'm0_likelihood', 'f_statistic', 'p_value']\n",
    "\n",
    "Path='/home/mgander/Atlantic/data/Viability/'\n",
    "\n",
    "M = pd.read_pickle(f'{Path}/M_all_all.pkl')\n",
    "sources = sorted(set(M['Source']))\n",
    "\n",
    "df = M[M['Source']==sources[i]].copy()\n",
    "\n",
    "df['log_dose']=np.log10(df['Dose'])\n",
    "\n",
    "df['key'] = df['Cello']+'_'+df['PubChem_CID']\n",
    "df['key'] = df['key'].astype('category')\n",
    "\n",
    "keys=sorted(set(df['key']))\n",
    "\n",
    "def do_batch(batch):\n",
    "    dfb = df[df['key'].isin(batch)].copy()\n",
    "    dfb['key'] = list(dfb['key'])\n",
    "    dfb['key'] = dfb['key'].astype('category')\n",
    "    all_dfs = [group for _, group in dfb.groupby('key')]\n",
    "\n",
    "    from joblib import Parallel, delayed\n",
    "    from tqdm import tqdm\n",
    "    \n",
    "    # Initialize lists to store results\n",
    "    lks = []\n",
    "    ress = []\n",
    "    \n",
    "    # Define the number of jobs\n",
    "    num_jobs = 25  # Set to -1 to use all available cores\n",
    "    \n",
    "    # Parallel processing\n",
    "    results = Parallel(n_jobs=num_jobs)(delayed(process_dfs)(dfs) for dfs in all_dfs)\n",
    "    \n",
    "    # Process the results\n",
    "    for key, res in results:\n",
    "        lks.append(key)\n",
    "        ress.append(res)\n",
    "    return(lks, ress)\n",
    "\n",
    "\n",
    "lks, ress = [], []\n",
    "\n",
    "batchsize = 10**4\n",
    "\n",
    "ks = int(np.ceil(len(keys) / batchsize))\n",
    "\n",
    "for k in tqdm(range(ks)):\n",
    "    batch = keys[k*batchsize:(k+1)*batchsize]\n",
    "    a,b = do_batch(batch)\n",
    "    lks.append(a)\n",
    "    ress.append(b)\n",
    "lks2=[a for b in lks for a in b]\n",
    "ress2=[a for b in ress for a in b]\n",
    "\n",
    "dff=pd.DataFrame(data=np.array(ress2), index=lks2, columns=cols)\n",
    "dff.to_pickle(f'{Path}/dff_inhouse.pkl')\n",
    "dff"
   ]
  },
  {
   "cell_type": "code",
   "execution_count": 16,
   "id": "eb0f99ee-a8e7-4884-8abf-7b70ebc1ffc8",
   "metadata": {},
   "outputs": [
    {
     "data": {
      "text/plain": [
       "-pec50               0\n",
       "slope                0\n",
       "front                0\n",
       "back                 0\n",
       "fold_change       3448\n",
       "auc                  0\n",
       "rmse                 0\n",
       "r2               10114\n",
       "M1_noise             0\n",
       "p_err_0              0\n",
       "p_err_1              0\n",
       "p_err_2              0\n",
       "p_err_3              0\n",
       "p_err_4              0\n",
       "m0_rmse              0\n",
       "m1_likelihood    10114\n",
       "m0_likelihood    10114\n",
       "f_statistic          0\n",
       "p_value              0\n",
       "dtype: int64"
      ]
     },
     "execution_count": 16,
     "metadata": {},
     "output_type": "execute_result"
    }
   ],
   "source": [
    "(~np.isfinite(dff)).sum()"
   ]
  },
  {
   "cell_type": "code",
   "execution_count": 22,
   "id": "95f37e14-985b-4f47-bb09-ebd5ebac6a93",
   "metadata": {},
   "outputs": [],
   "source": [
    "dff['lgp']=-np.log10(dff['p_value'])"
   ]
  },
  {
   "cell_type": "code",
   "execution_count": null,
   "id": "dacbb66a-a4cb-4315-8740-050ac6e1d108",
   "metadata": {},
   "outputs": [],
   "source": []
  },
  {
   "cell_type": "code",
   "execution_count": 24,
   "id": "5812da98-6d07-47d4-ad20-8655b52aa89c",
   "metadata": {},
   "outputs": [
    {
     "data": {
      "text/plain": [
       "<Axes: xlabel='lgp', ylabel='Count'>"
      ]
     },
     "execution_count": 24,
     "metadata": {},
     "output_type": "execute_result"
    },
    {
     "data": {
      "image/png": "[encoded data removed]",
      "text/plain": [
       "<Figure size 640x480 with 1 Axes>"
      ]
     },
     "metadata": {},
     "output_type": "display_data"
    }
   ],
   "source": [
    "sns.histplot(data=dff, x='lgp', bins=np.linspace(0,10,101))"
   ]
  },
  {
   "cell_type": "code",
   "execution_count": null,
   "id": "b9e51763-d2d2-420d-a757-768b74bd4275",
   "metadata": {},
   "outputs": [],
   "source": []
  },
  {
   "cell_type": "code",
   "execution_count": null,
   "id": "01cf6a5d-1c50-49b3-9890-c1cff4da601b",
   "metadata": {},
   "outputs": [],
   "source": []
  },
  {
   "cell_type": "code",
   "execution_count": null,
   "id": "4574ead9-e00d-414b-a60f-ef8e76d724d2",
   "metadata": {},
   "outputs": [],
   "source": []
  },
  {
   "cell_type": "code",
   "execution_count": null,
   "id": "f2be89ff-2812-48f6-84a7-63114d0537dc",
   "metadata": {},
   "outputs": [],
   "source": []
  },
  {
   "cell_type": "code",
   "execution_count": null,
   "id": "219fc0cc-eba2-4c55-ae2b-c1c4d845a562",
   "metadata": {},
   "outputs": [],
   "source": []
  }
 ],
 "metadata": {
  "kernelspec": {
   "display_name": "phos",
   "language": "python",
   "name": "phos"
  },
  "language_info": {
   "codemirror_mode": {
    "name": "ipython",
    "version": 3
   },
   "file_extension": ".py",
   "mimetype": "text/x-python",
   "name": "python",
   "nbconvert_exporter": "python",
   "pygments_lexer": "ipython3",
   "version": "3.9.16"
  }
 },
 "nbformat": 4,
 "nbformat_minor": 5
}
