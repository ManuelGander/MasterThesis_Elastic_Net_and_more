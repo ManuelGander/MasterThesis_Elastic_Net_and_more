{
 "cells": [
  {
   "cell_type": "code",
   "execution_count": null,
   "id": "cef756ec-925d-41cd-92f1-4fbab953b6d5",
   "metadata": {},
   "outputs": [],
   "source": [
    "i=1\n",
    "\n",
    "import warnings\n",
    "warnings.filterwarnings(\"ignore\")\n",
    "\n",
    "import pandas as pd\n",
    "import numpy as np\n",
    "import csv\n",
    "import pickle\n",
    "import seaborn as sns\n",
    "import numpy as np\n",
    "from scipy.optimize import curve_fit\n",
    "from tqdm import tqdm\n",
    "import matplotlib.pyplot as plt\n",
    "\n",
    "import sys\n",
    "sys.path.append(\"/home/mgander/Atlantic/notebooks/Kinobeads\")\n",
    "import fitter\n",
    "from fitter import process_dfs\n",
    "cols = ['-pec50', 'slope', 'front', 'back', 'fold_change', 'auc', 'rmse', 'r2', 'M1_noise', 'p_err_0', 'p_err_1', 'p_err_2', 'p_err_3', \n",
    "     'p_err_4', 'm0_rmse', 'm1_likelihood', 'm0_likelihood', 'f_statistic', 'p_value']\n",
    "\n",
    "Path='/home/mgander/Atlantic/data/Viability/'\n",
    "\n",
    "M = pd.read_pickle(f'{Path}/M_all_all.pkl')\n",
    "sources = sorted(set(M['Source']))\n",
    "\n",
    "df = M[M['Source']==sources[i]].copy()\n",
    "\n",
    "df['log_dose']=np.log10(df['Dose'])\n",
    "\n",
    "df['key'] = df['Cello']+'_'+df['PubChem_CID']\n",
    "df['key'] = df['key'].astype('category')\n",
    "\n",
    "keys=sorted(set(df['key']))\n",
    "\n",
    "def do_batch(batch):\n",
    "    dfb = df[df['key'].isin(batch)].copy()\n",
    "    dfb['key'] = list(dfb['key'])\n",
    "    dfb['key'] = dfb['key'].astype('category')\n",
    "    all_dfs = [group for _, group in dfb.groupby('key')]\n",
    "\n",
    "    from joblib import Parallel, delayed\n",
    "    from tqdm import tqdm\n",
    "    \n",
    "    # Initialize lists to store results\n",
    "    lks = []\n",
    "    ress = []\n",
    "    \n",
    "    # Define the number of jobs\n",
    "    num_jobs = 25  # Set to -1 to use all available cores\n",
    "    \n",
    "    # Parallel processing\n",
    "    results = Parallel(n_jobs=num_jobs)(delayed(process_dfs)(dfs) for dfs in all_dfs)\n",
    "    \n",
    "    # Process the results\n",
    "    for key, res in results:\n",
    "        lks.append(key)\n",
    "        ress.append(res)\n",
    "    return(lks, ress)\n",
    "\n",
    "\n",
    "lks, ress = [], []\n",
    "\n",
    "batchsize = 10**4\n",
    "\n",
    "ks = int(np.ceil(len(keys) / batchsize))\n",
    "\n",
    "for k in tqdm(range(ks)):\n",
    "    batch = keys[k*batchsize:(k+1)*batchsize]\n",
    "    a,b = do_batch(batch)\n",
    "    lks.append(a)\n",
    "    ress.append(b)\n",
    "lks2=[a for b in lks for a in b]\n",
    "ress2=[a for b in ress for a in b]\n",
    "\n",
    "dff=pd.DataFrame(data=np.array(ress2), index=lks2, columns=cols)\n",
    "dff.to_pickle(f'{Path}/dff_ctrp.pkl')\n",
    "dff"
   ]
  },
  {
   "cell_type": "code",
   "execution_count": 3,
   "id": "4cda3cc4-0311-421d-b1f7-b10713811e65",
   "metadata": {},
   "outputs": [
    {
     "data": {
      "text/plain": [
       "-pec50               0\n",
       "slope                0\n",
       "front                0\n",
       "back                 0\n",
       "fold_change      13310\n",
       "auc                 11\n",
       "rmse                 0\n",
       "r2               30669\n",
       "M1_noise             0\n",
       "p_err_0              0\n",
       "p_err_1              0\n",
       "p_err_2              0\n",
       "p_err_3              0\n",
       "p_err_4              0\n",
       "m0_rmse              0\n",
       "m1_likelihood    30669\n",
       "m0_likelihood    30669\n",
       "f_statistic          0\n",
       "p_value              0\n",
       "dtype: int64"
      ]
     },
     "execution_count": 3,
     "metadata": {},
     "output_type": "execute_result"
    }
   ],
   "source": [
    "(~np.isfinite(dff)).sum()"
   ]
  },
  {
   "cell_type": "code",
   "execution_count": null,
   "id": "e56068d8-bd1e-49dc-9c86-3551e4e36d67",
   "metadata": {},
   "outputs": [],
   "source": []
  },
  {
   "cell_type": "code",
   "execution_count": null,
   "id": "fe65a726-686b-43a0-9773-132364615263",
   "metadata": {},
   "outputs": [],
   "source": []
  },
  {
   "cell_type": "code",
   "execution_count": null,
   "id": "0c380ff3-e4b7-41e6-8391-7c79a1f5048b",
   "metadata": {},
   "outputs": [],
   "source": []
  },
  {
   "cell_type": "code",
   "execution_count": null,
   "id": "40baf277-f896-4709-ab4e-daba8fd47d98",
   "metadata": {},
   "outputs": [],
   "source": []
  },
  {
   "cell_type": "code",
   "execution_count": null,
   "id": "3d199a63-653d-4f21-8e1c-2dedfb66f92b",
   "metadata": {},
   "outputs": [],
   "source": []
  },
  {
   "cell_type": "code",
   "execution_count": 1,
   "id": "b82cf0f9-eb22-43e9-9c3c-15c1bbe83709",
   "metadata": {},
   "outputs": [],
   "source": [
    "import warnings\n",
    "warnings.filterwarnings(\"ignore\")\n",
    "\n",
    "import pandas as pd\n",
    "import numpy as np\n",
    "import csv\n",
    "import pickle\n",
    "import seaborn as sns\n",
    "import numpy as np\n",
    "from scipy.optimize import curve_fit\n",
    "from tqdm import tqdm\n",
    "import matplotlib.pyplot as plt\n",
    "\n",
    "import sys\n",
    "sys.path.append(\"/home/mgander/Atlantic/notebooks/Kinobeads\")\n",
    "import fitter\n",
    "from fitter import process_dfs\n",
    "\n",
    "Path='/home/mgander/Atlantic/data/Viability/'\n",
    "dff = pd.read_pickle(f'{Path}/dff_ctrp.pkl')"
   ]
  },
  {
   "cell_type": "code",
   "execution_count": 2,
   "id": "e42d1cb1-05c9-458c-9d5f-90680bcef1bc",
   "metadata": {},
   "outputs": [
    {
     "data": {
      "text/plain": [
       "-pec50     0\n",
       "slope      0\n",
       "front      0\n",
       "back       0\n",
       "rmse      11\n",
       "r2         0\n",
       "dtype: int64"
      ]
     },
     "execution_count": 2,
     "metadata": {},
     "output_type": "execute_result"
    }
   ],
   "source": [
    "(~np.isfinite(dff)).sum()"
   ]
  },
  {
   "cell_type": "code",
   "execution_count": null,
   "id": "5c6eef97-a110-4629-81d1-2bdcc189450e",
   "metadata": {},
   "outputs": [],
   "source": []
  },
  {
   "cell_type": "code",
   "execution_count": null,
   "id": "9d826340-3a20-4017-8961-4590ce9645a2",
   "metadata": {},
   "outputs": [],
   "source": []
  },
  {
   "cell_type": "code",
   "execution_count": null,
   "id": "926c5a8c-2b30-41a2-82e3-0066f4430bdf",
   "metadata": {},
   "outputs": [],
   "source": []
  },
  {
   "cell_type": "code",
   "execution_count": null,
   "id": "6d4bf768-aa0e-46db-8989-a820f7d5f227",
   "metadata": {},
   "outputs": [],
   "source": []
  },
  {
   "cell_type": "code",
   "execution_count": null,
   "id": "ea724c53-2afe-4f11-82a0-3b71fa6857de",
   "metadata": {},
   "outputs": [],
   "source": []
  }
 ],
 "metadata": {
  "kernelspec": {
   "display_name": "phos",
   "language": "python",
   "name": "phos"
  },
  "language_info": {
   "codemirror_mode": {
    "name": "ipython",
    "version": 3
   },
   "file_extension": ".py",
   "mimetype": "text/x-python",
   "name": "python",
   "nbconvert_exporter": "python",
   "pygments_lexer": "ipython3",
   "version": "3.9.16"
  }
 },
 "nbformat": 4,
 "nbformat_minor": 5
}
