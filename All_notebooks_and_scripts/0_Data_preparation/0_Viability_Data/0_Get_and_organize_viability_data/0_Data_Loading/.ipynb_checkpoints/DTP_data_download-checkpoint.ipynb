{
 "cells": [
  {
   "cell_type": "code",
   "execution_count": 2,
   "id": "9c357261",
   "metadata": {},
   "outputs": [],
   "source": [
    "import pandas as pd\n",
    "import numpy as np\n",
    "import csv"
   ]
  },
  {
   "cell_type": "code",
   "execution_count": 3,
   "id": "4668a929",
   "metadata": {},
   "outputs": [],
   "source": [
    "Path='/home/mgander/Atlantic/data/Viability/DTP'"
   ]
  },
  {
   "cell_type": "code",
   "execution_count": 4,
   "id": "a63399e3",
   "metadata": {},
   "outputs": [
    {
     "data": {
      "text/html": [
       "<div>\n",
       "<style scoped>\n",
       "    .dataframe tbody tr th:only-of-type {\n",
       "        vertical-align: middle;\n",
       "    }\n",
       "\n",
       "    .dataframe tbody tr th {\n",
       "        vertical-align: top;\n",
       "    }\n",
       "\n",
       "    .dataframe thead th {\n",
       "        text-align: right;\n",
       "    }\n",
       "</style>\n",
       "<table border=\"1\" class=\"dataframe\">\n",
       "  <thead>\n",
       "    <tr style=\"text-align: right;\">\n",
       "      <th></th>\n",
       "      <th>NSC</th>\n",
       "      <th>Compound</th>\n",
       "    </tr>\n",
       "  </thead>\n",
       "  <tbody>\n",
       "    <tr>\n",
       "      <th>8</th>\n",
       "      <td>1</td>\n",
       "      <td>tolylquinone</td>\n",
       "    </tr>\n",
       "    <tr>\n",
       "      <th>9</th>\n",
       "      <td>17</td>\n",
       "      <td>4-AMINO-3-PENTADECYLPHENOL</td>\n",
       "    </tr>\n",
       "    <tr>\n",
       "      <th>10</th>\n",
       "      <td>26</td>\n",
       "      <td>3-IODO-1,1,1-TRIPHENYLPROPANE</td>\n",
       "    </tr>\n",
       "    <tr>\n",
       "      <th>11</th>\n",
       "      <td>89</td>\n",
       "      <td>(dimethylamino)propiophenone hydrochloride</td>\n",
       "    </tr>\n",
       "    <tr>\n",
       "      <th>12</th>\n",
       "      <td>112</td>\n",
       "      <td>TRIMETHYL-(2,3,4,6-TETRAMETHYLBENZYL)-AMMONIUM...</td>\n",
       "    </tr>\n",
       "    <tr>\n",
       "      <th>...</th>\n",
       "      <td>...</td>\n",
       "      <td>...</td>\n",
       "    </tr>\n",
       "    <tr>\n",
       "      <th>57458</th>\n",
       "      <td>900973</td>\n",
       "      <td>c(Xxx-Xxx-Xxx-Pro.psi.(CH2S)Gly-Xxx-Xxx-Asn), ...</td>\n",
       "    </tr>\n",
       "    <tr>\n",
       "      <th>57459</th>\n",
       "      <td>900974</td>\n",
       "      <td>c(Xxx-Xxx-Pro.psi.(CH2S)Gly-Xxx-Xxx-Xxx-Asn), ...</td>\n",
       "    </tr>\n",
       "    <tr>\n",
       "      <th>57460</th>\n",
       "      <td>900975</td>\n",
       "      <td>c(Xxx-Pro.psi.(CH2S)Gly-Xxx-Xxx-Xxx-Xxx-Asn), ...</td>\n",
       "    </tr>\n",
       "    <tr>\n",
       "      <th>57461</th>\n",
       "      <td>900976</td>\n",
       "      <td>c(Pro.psi.(CH2S)Gly-Xxx-Xxx-Xxx-Xxx-Xxx-Asn), ...</td>\n",
       "    </tr>\n",
       "    <tr>\n",
       "      <th>57462</th>\n",
       "      <td>921923</td>\n",
       "      <td>Library Li VI 21 [Ave MW=970]</td>\n",
       "    </tr>\n",
       "  </tbody>\n",
       "</table>\n",
       "<p>57455 rows × 2 columns</p>\n",
       "</div>"
      ],
      "text/plain": [
       "          NSC                                           Compound\n",
       "8           1                                       tolylquinone\n",
       "9          17                         4-AMINO-3-PENTADECYLPHENOL\n",
       "10         26                      3-IODO-1,1,1-TRIPHENYLPROPANE\n",
       "11         89         (dimethylamino)propiophenone hydrochloride\n",
       "12        112  TRIMETHYL-(2,3,4,6-TETRAMETHYLBENZYL)-AMMONIUM...\n",
       "...       ...                                                ...\n",
       "57458  900973  c(Xxx-Xxx-Xxx-Pro.psi.(CH2S)Gly-Xxx-Xxx-Asn), ...\n",
       "57459  900974  c(Xxx-Xxx-Pro.psi.(CH2S)Gly-Xxx-Xxx-Xxx-Asn), ...\n",
       "57460  900975  c(Xxx-Pro.psi.(CH2S)Gly-Xxx-Xxx-Xxx-Xxx-Asn), ...\n",
       "57461  900976  c(Pro.psi.(CH2S)Gly-Xxx-Xxx-Xxx-Xxx-Xxx-Asn), ...\n",
       "57462  921923                      Library Li VI 21 [Ave MW=970]\n",
       "\n",
       "[57455 rows x 2 columns]"
      ]
     },
     "execution_count": 4,
     "metadata": {},
     "output_type": "execute_result"
    }
   ],
   "source": [
    "df0=pd.read_excel(f'{Path}/downloaded_data/NSC_QUERY_LIST.xlsx', sheet_name='all').iloc[8:,:2]\n",
    "df0.columns=['NSC', 'Compound']\n",
    "df0"
   ]
  },
  {
   "cell_type": "code",
   "execution_count": 5,
   "id": "b91b6fa3",
   "metadata": {},
   "outputs": [],
   "source": [
    "# Let's only download drugs which we can find in PubChem\n",
    "\n",
    "# Use PubChem for the name translation: https://pubchem.ncbi.nlm.nih.gov/idexchange/idexchange.cgi\n",
    "comps=df0['Compound']\n",
    "with open(f'{Path}/Dict/cmpds', mode='w', newline='') as file:\n",
    "    writer = csv.writer(file, delimiter='\\t')\n",
    "    writer.writerow(comps)\n",
    "df=pd.read_csv(f'{Path}/Dict/PubChem_translation.txt', sep='\\t', header=None)\n",
    "compounds_kept=sorted(set(df[~np.isnan(df[1])][0]))"
   ]
  },
  {
   "cell_type": "code",
   "execution_count": 6,
   "id": "b7166ebe",
   "metadata": {},
   "outputs": [],
   "source": [
    "compounds_kept=sorted(set(df[~np.isnan(df[1])][0]))"
   ]
  },
  {
   "cell_type": "code",
   "execution_count": 7,
   "id": "54ce211a",
   "metadata": {},
   "outputs": [],
   "source": [
    "df0=df0[df0['Compound'].isin(compounds_kept)].copy()"
   ]
  },
  {
   "cell_type": "code",
   "execution_count": 8,
   "id": "835dc80c",
   "metadata": {},
   "outputs": [
    {
     "data": {
      "text/html": [
       "<div>\n",
       "<style scoped>\n",
       "    .dataframe tbody tr th:only-of-type {\n",
       "        vertical-align: middle;\n",
       "    }\n",
       "\n",
       "    .dataframe tbody tr th {\n",
       "        vertical-align: top;\n",
       "    }\n",
       "\n",
       "    .dataframe thead th {\n",
       "        text-align: right;\n",
       "    }\n",
       "</style>\n",
       "<table border=\"1\" class=\"dataframe\">\n",
       "  <thead>\n",
       "    <tr style=\"text-align: right;\">\n",
       "      <th></th>\n",
       "      <th>NSC</th>\n",
       "      <th>Compound</th>\n",
       "    </tr>\n",
       "  </thead>\n",
       "  <tbody>\n",
       "    <tr>\n",
       "      <th>8</th>\n",
       "      <td>1</td>\n",
       "      <td>tolylquinone</td>\n",
       "    </tr>\n",
       "    <tr>\n",
       "      <th>9</th>\n",
       "      <td>17</td>\n",
       "      <td>4-AMINO-3-PENTADECYLPHENOL</td>\n",
       "    </tr>\n",
       "    <tr>\n",
       "      <th>11</th>\n",
       "      <td>89</td>\n",
       "      <td>(dimethylamino)propiophenone hydrochloride</td>\n",
       "    </tr>\n",
       "    <tr>\n",
       "      <th>13</th>\n",
       "      <td>171</td>\n",
       "      <td>o-pyridinecarboxylic acid</td>\n",
       "    </tr>\n",
       "    <tr>\n",
       "      <th>14</th>\n",
       "      <td>185</td>\n",
       "      <td>Cactinomycin</td>\n",
       "    </tr>\n",
       "    <tr>\n",
       "      <th>...</th>\n",
       "      <td>...</td>\n",
       "      <td>...</td>\n",
       "    </tr>\n",
       "    <tr>\n",
       "      <th>57364</th>\n",
       "      <td>845108</td>\n",
       "      <td>Conoidin A</td>\n",
       "    </tr>\n",
       "    <tr>\n",
       "      <th>57365</th>\n",
       "      <td>845308</td>\n",
       "      <td>Murizatoclax</td>\n",
       "    </tr>\n",
       "    <tr>\n",
       "      <th>57366</th>\n",
       "      <td>845762</td>\n",
       "      <td>H-151</td>\n",
       "    </tr>\n",
       "    <tr>\n",
       "      <th>57367</th>\n",
       "      <td>846146</td>\n",
       "      <td>Opnurasib</td>\n",
       "    </tr>\n",
       "    <tr>\n",
       "      <th>57368</th>\n",
       "      <td>846147</td>\n",
       "      <td>OTS-447</td>\n",
       "    </tr>\n",
       "  </tbody>\n",
       "</table>\n",
       "<p>23750 rows × 2 columns</p>\n",
       "</div>"
      ],
      "text/plain": [
       "          NSC                                    Compound\n",
       "8           1                                tolylquinone\n",
       "9          17                  4-AMINO-3-PENTADECYLPHENOL\n",
       "11         89  (dimethylamino)propiophenone hydrochloride\n",
       "13        171                   o-pyridinecarboxylic acid\n",
       "14        185                                Cactinomycin\n",
       "...       ...                                         ...\n",
       "57364  845108                                  Conoidin A\n",
       "57365  845308                                Murizatoclax\n",
       "57366  845762                                       H-151\n",
       "57367  846146                                   Opnurasib\n",
       "57368  846147                                     OTS-447\n",
       "\n",
       "[23750 rows x 2 columns]"
      ]
     },
     "execution_count": 8,
     "metadata": {},
     "output_type": "execute_result"
    }
   ],
   "source": [
    "df0"
   ]
  },
  {
   "cell_type": "code",
   "execution_count": 9,
   "id": "6e06dc22",
   "metadata": {},
   "outputs": [
    {
     "data": {
      "text/plain": [
       "True"
      ]
     },
     "execution_count": 9,
     "metadata": {},
     "output_type": "execute_result"
    }
   ],
   "source": [
    "'Dasatinib' in list(df0['Compound'])"
   ]
  },
  {
   "cell_type": "code",
   "execution_count": null,
   "id": "3ce184c4",
   "metadata": {},
   "outputs": [],
   "source": []
  },
  {
   "cell_type": "code",
   "execution_count": 10,
   "id": "a608587b",
   "metadata": {},
   "outputs": [
    {
     "data": {
      "text/plain": [
       "23750"
      ]
     },
     "execution_count": 10,
     "metadata": {},
     "output_type": "execute_result"
    }
   ],
   "source": [
    "nscs=df0['NSC']\n",
    "len(nscs)"
   ]
  },
  {
   "cell_type": "code",
   "execution_count": 11,
   "id": "a702bfaf",
   "metadata": {},
   "outputs": [],
   "source": [
    "def str_to_copyable(l):\n",
    "    string=''\n",
    "    for i in l:\n",
    "        string+=' '+str(i)\n",
    "    print(string[1:])"
   ]
  },
  {
   "cell_type": "code",
   "execution_count": 65,
   "id": "f7a0c655",
   "metadata": {},
   "outputs": [
    {
     "name": "stdout",
     "output_type": "stream",
     "text": [
      "682726 682728 682729 682730 682731 682732 682733 682734 682735 682736 682737 682738 682740 682741 682742 682743 682744 682745 682747 682748 682749 682751 682758 682760 682766 682767 682768 682770 682797 682804 682807 682808 682809 682810 682812 682813 682862 682863 682864 682879 682880 682881 682882 682883 682885 682886 682918 682919 682920 682921 682923 682924 682925 682927 682928 682932 682933 682990 682995 683041 683042 683043 683044 683047 683050 683054 683055 683056 683057 683058 683059 683060 683061 683062 683063 683064 683065 683066 683067 683068 683069 683132 683133 683134 683135 683136 683137 683237 683238 683239 683240 683246 683256 683257 683258 683259 683260 683262 683263 683264\n"
     ]
    }
   ],
   "source": [
    "i=150+24\n",
    "k=100\n",
    "str_to_copyable(nscs[i*k:(i+1)*k])"
   ]
  },
  {
   "cell_type": "code",
   "execution_count": 52,
   "id": "16f5f892",
   "metadata": {},
   "outputs": [
    {
     "data": {
      "text/plain": [
       "846147"
      ]
     },
     "execution_count": 52,
     "metadata": {},
     "output_type": "execute_result"
    }
   ],
   "source": [
    "682767"
   ]
  },
  {
   "cell_type": "code",
   "execution_count": null,
   "id": "6b51b549",
   "metadata": {},
   "outputs": [],
   "source": [
    "682738"
   ]
  },
  {
   "cell_type": "code",
   "execution_count": null,
   "id": "0770b1d1",
   "metadata": {},
   "outputs": [],
   "source": []
  },
  {
   "cell_type": "code",
   "execution_count": null,
   "id": "3222264a",
   "metadata": {},
   "outputs": [],
   "source": [
    "# Copy this into https://dtp.cancer.gov/dtpstandard/subsets/dose.jsp"
   ]
  },
  {
   "cell_type": "code",
   "execution_count": null,
   "id": "8598448e",
   "metadata": {},
   "outputs": [],
   "source": []
  },
  {
   "cell_type": "code",
   "execution_count": null,
   "id": "05e0d5c2",
   "metadata": {},
   "outputs": [],
   "source": []
  },
  {
   "cell_type": "code",
   "execution_count": null,
   "id": "ca1042c4",
   "metadata": {},
   "outputs": [],
   "source": []
  },
  {
   "cell_type": "code",
   "execution_count": null,
   "id": "765f4c4f",
   "metadata": {},
   "outputs": [],
   "source": []
  },
  {
   "cell_type": "code",
   "execution_count": null,
   "id": "0d24ae40",
   "metadata": {},
   "outputs": [],
   "source": []
  }
 ],
 "metadata": {
  "kernelspec": {
   "display_name": "phos",
   "language": "python",
   "name": "phos"
  },
  "language_info": {
   "codemirror_mode": {
    "name": "ipython",
    "version": 3
   },
   "file_extension": ".py",
   "mimetype": "text/x-python",
   "name": "python",
   "nbconvert_exporter": "python",
   "pygments_lexer": "ipython3",
   "version": "3.10.5"
  }
 },
 "nbformat": 4,
 "nbformat_minor": 5
}
