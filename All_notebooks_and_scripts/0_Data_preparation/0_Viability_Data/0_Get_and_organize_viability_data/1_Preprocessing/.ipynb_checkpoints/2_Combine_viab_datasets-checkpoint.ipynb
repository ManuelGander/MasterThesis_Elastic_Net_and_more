{
 "cells": [
  {
   "cell_type": "code",
   "execution_count": 1,
   "id": "99576c5b",
   "metadata": {},
   "outputs": [],
   "source": [
    "import pandas as pd\n",
    "import numpy as np\n",
    "import csv\n",
    "import pickle\n",
    "import seaborn as sns\n",
    "\n",
    "import matplotlib.pyplot as plt"
   ]
  },
  {
   "cell_type": "code",
   "execution_count": 2,
   "id": "7eda1e73",
   "metadata": {},
   "outputs": [],
   "source": [
    "Path='/home/mgander/Atlantic/data/Viability/'"
   ]
  },
  {
   "cell_type": "code",
   "execution_count": 3,
   "id": "7d1594d5",
   "metadata": {},
   "outputs": [],
   "source": [
    "M0=pd.read_pickle(f'{Path}/CCLE/M.pkl')\n",
    "M1=pd.read_pickle(f'{Path}/CTPR/M.pkl')\n",
    "M2=M=pd.read_pickle(f'{Path}/GDSC/M.pkl')\n",
    "M3=pd.read_pickle(f'{Path}/DTP/M.pkl')\n",
    "M4=pd.read_pickle(f'{Path}/NCI60/M.pkl')\n",
    "M5=pd.read_pickle(f'{Path}/PRISM/M.pkl')"
   ]
  },
  {
   "cell_type": "code",
   "execution_count": 4,
   "id": "1516c93f",
   "metadata": {},
   "outputs": [
    {
     "data": {
      "text/plain": [
       "51426153"
      ]
     },
     "execution_count": 4,
     "metadata": {},
     "output_type": "execute_result"
    }
   ],
   "source": [
    "M=pd.concat([M0, M1, M2, M3, M4, M5], ignore_index=True)\n",
    "#M=pd.concat([M0, M1, M2, M3, M4], ignore_index=True)\n",
    "M['Source']=M['Source'].astype('str').astype('category')\n",
    "M['CCL']=M['CCL'].astype('str')\n",
    "len(M)"
   ]
  },
  {
   "cell_type": "code",
   "execution_count": 5,
   "id": "85262f15",
   "metadata": {},
   "outputs": [
    {
     "data": {
      "text/plain": [
       "50492805"
      ]
     },
     "execution_count": 5,
     "metadata": {},
     "output_type": "execute_result"
    }
   ],
   "source": [
    "M=M.drop_duplicates(subset=['CCL', 'Drug', 'Dose', 'Duration', 'Viability', 'Source']).copy()\n",
    "len(M)"
   ]
  },
  {
   "cell_type": "markdown",
   "id": "1f160a6c",
   "metadata": {},
   "source": [
    "# Cell line renaming"
   ]
  },
  {
   "cell_type": "markdown",
   "id": "0021af88",
   "metadata": {},
   "source": [
    "Map everything onto CelloSaurus Names to remove cell line naming ambiguity"
   ]
  },
  {
   "cell_type": "code",
   "execution_count": 6,
   "id": "4b47dc43",
   "metadata": {},
   "outputs": [],
   "source": [
    "def purge_and_capitalize(ccl):\n",
    "    ccl_str=ccl.replace('-', '')\n",
    "    ccl_str=ccl_str.replace(' ', '')\n",
    "    return(ccl_str.upper())"
   ]
  },
  {
   "cell_type": "code",
   "execution_count": 7,
   "id": "85f1d89b",
   "metadata": {},
   "outputs": [
    {
     "data": {
      "text/plain": [
       "1415"
      ]
     },
     "execution_count": 7,
     "metadata": {},
     "output_type": "execute_result"
    }
   ],
   "source": [
    "# Let's remove '-' and spaces and capitalize everything\n",
    "\n",
    "ccls=sorted(set(M['CCL']))\n",
    "\n",
    "D_ccl={}\n",
    "\n",
    "for ccl in ccls:\n",
    "    D_ccl[ccl]=purge_and_capitalize(ccl)\n",
    "M['CCL_reduced']=[D_ccl[a] for a in M['CCL']]\n",
    "ccl_red=sorted(set(M['CCL_reduced']))\n",
    "len(ccl_red)"
   ]
  },
  {
   "cell_type": "markdown",
   "id": "d9ee7f5a",
   "metadata": {},
   "source": [
    "## Map everything to Cellosaurus"
   ]
  },
  {
   "cell_type": "code",
   "execution_count": 8,
   "id": "5b90a28d",
   "metadata": {},
   "outputs": [
    {
     "data": {
      "text/html": [
       "<div>\n",
       "<style scoped>\n",
       "    .dataframe tbody tr th:only-of-type {\n",
       "        vertical-align: middle;\n",
       "    }\n",
       "\n",
       "    .dataframe tbody tr th {\n",
       "        vertical-align: top;\n",
       "    }\n",
       "\n",
       "    .dataframe thead th {\n",
       "        text-align: right;\n",
       "    }\n",
       "</style>\n",
       "<table border=\"1\" class=\"dataframe\">\n",
       "  <thead>\n",
       "    <tr style=\"text-align: right;\">\n",
       "      <th></th>\n",
       "      <th>Cellosaurus_ID</th>\n",
       "      <th>Acesion</th>\n",
       "      <th>Synonyms</th>\n",
       "      <th>Species</th>\n",
       "    </tr>\n",
       "  </thead>\n",
       "  <tbody>\n",
       "    <tr>\n",
       "      <th>2</th>\n",
       "      <td>#15310LN</td>\n",
       "      <td>CVCL_E548</td>\n",
       "      <td>15310LN; TER461; TER461; TER461; TER479; TER47...</td>\n",
       "      <td>NCBI_TaxID=9606; ! Homo sapiens (Human)</td>\n",
       "    </tr>\n",
       "    <tr>\n",
       "      <th>8</th>\n",
       "      <td>#W7079</td>\n",
       "      <td>CVCL_E549</td>\n",
       "      <td>#W7079REM; REMUS; W7079</td>\n",
       "      <td>NCBI_TaxID=9606; ! Homo sapiens (Human)</td>\n",
       "    </tr>\n",
       "    <tr>\n",
       "      <th>10</th>\n",
       "      <td>(L)PC6</td>\n",
       "      <td>CVCL_VG99</td>\n",
       "      <td></td>\n",
       "      <td>NCBI_TaxID=9606; ! Homo sapiens (Human)</td>\n",
       "    </tr>\n",
       "    <tr>\n",
       "      <th>18</th>\n",
       "      <td>0.5ALPHA</td>\n",
       "      <td>CVCL_B5B3</td>\n",
       "      <td>0.5ALPHA</td>\n",
       "      <td>NCBI_TaxID=9606; ! Homo sapiens (Human)</td>\n",
       "    </tr>\n",
       "    <tr>\n",
       "      <th>19</th>\n",
       "      <td>00136</td>\n",
       "      <td>CVCL_E557</td>\n",
       "      <td>136</td>\n",
       "      <td>NCBI_TaxID=9606; ! Homo sapiens (Human)</td>\n",
       "    </tr>\n",
       "    <tr>\n",
       "      <th>...</th>\n",
       "      <td>...</td>\n",
       "      <td>...</td>\n",
       "      <td>...</td>\n",
       "      <td>...</td>\n",
       "    </tr>\n",
       "    <tr>\n",
       "      <th>148676</th>\n",
       "      <td>ZZUSAHI001A</td>\n",
       "      <td>CVCL_ZB29</td>\n",
       "      <td>KCNA5V259IIPSC</td>\n",
       "      <td>NCBI_TaxID=9606; ! Homo sapiens (Human)</td>\n",
       "    </tr>\n",
       "    <tr>\n",
       "      <th>148677</th>\n",
       "      <td>ZZUSAHI002A</td>\n",
       "      <td>CVCL_ZB30</td>\n",
       "      <td></td>\n",
       "      <td>NCBI_TaxID=9606; ! Homo sapiens (Human)</td>\n",
       "    </tr>\n",
       "    <tr>\n",
       "      <th>148678</th>\n",
       "      <td>ZZUSAHI003A</td>\n",
       "      <td>CVCL_A3ZF</td>\n",
       "      <td></td>\n",
       "      <td>NCBI_TaxID=9606; ! Homo sapiens (Human)</td>\n",
       "    </tr>\n",
       "    <tr>\n",
       "      <th>148679</th>\n",
       "      <td>ZZUSAHI004A</td>\n",
       "      <td>CVCL_C6U7</td>\n",
       "      <td></td>\n",
       "      <td>NCBI_TaxID=9606; ! Homo sapiens (Human)</td>\n",
       "    </tr>\n",
       "    <tr>\n",
       "      <th>148680</th>\n",
       "      <td>__PARENT_CELL_LINE_OF_DLD1/HCT8/HCT15/HRT18</td>\n",
       "      <td>CVCL_3449</td>\n",
       "      <td></td>\n",
       "      <td>NCBI_TaxID=9606; ! Homo sapiens (Human)</td>\n",
       "    </tr>\n",
       "  </tbody>\n",
       "</table>\n",
       "<p>109591 rows × 4 columns</p>\n",
       "</div>"
      ],
      "text/plain": [
       "                                     Cellosaurus_ID    Acesion  \\\n",
       "2                                          #15310LN  CVCL_E548   \n",
       "8                                            #W7079  CVCL_E549   \n",
       "10                                           (L)PC6  CVCL_VG99   \n",
       "18                                         0.5ALPHA  CVCL_B5B3   \n",
       "19                                            00136  CVCL_E557   \n",
       "...                                             ...        ...   \n",
       "148676                                  ZZUSAHI001A  CVCL_ZB29   \n",
       "148677                                  ZZUSAHI002A  CVCL_ZB30   \n",
       "148678                                  ZZUSAHI003A  CVCL_A3ZF   \n",
       "148679                                  ZZUSAHI004A  CVCL_C6U7   \n",
       "148680  __PARENT_CELL_LINE_OF_DLD1/HCT8/HCT15/HRT18  CVCL_3449   \n",
       "\n",
       "                                                 Synonyms  \\\n",
       "2       15310LN; TER461; TER461; TER461; TER479; TER47...   \n",
       "8                                 #W7079REM; REMUS; W7079   \n",
       "10                                                          \n",
       "18                                               0.5ALPHA   \n",
       "19                                                    136   \n",
       "...                                                   ...   \n",
       "148676                                     KCNA5V259IIPSC   \n",
       "148677                                                      \n",
       "148678                                                      \n",
       "148679                                                      \n",
       "148680                                                      \n",
       "\n",
       "                                        Species  \n",
       "2       NCBI_TaxID=9606; ! Homo sapiens (Human)  \n",
       "8       NCBI_TaxID=9606; ! Homo sapiens (Human)  \n",
       "10      NCBI_TaxID=9606; ! Homo sapiens (Human)  \n",
       "18      NCBI_TaxID=9606; ! Homo sapiens (Human)  \n",
       "19      NCBI_TaxID=9606; ! Homo sapiens (Human)  \n",
       "...                                         ...  \n",
       "148676  NCBI_TaxID=9606; ! Homo sapiens (Human)  \n",
       "148677  NCBI_TaxID=9606; ! Homo sapiens (Human)  \n",
       "148678  NCBI_TaxID=9606; ! Homo sapiens (Human)  \n",
       "148679  NCBI_TaxID=9606; ! Homo sapiens (Human)  \n",
       "148680  NCBI_TaxID=9606; ! Homo sapiens (Human)  \n",
       "\n",
       "[109591 rows x 4 columns]"
      ]
     },
     "execution_count": 8,
     "metadata": {},
     "output_type": "execute_result"
    }
   ],
   "source": [
    "dfc=pd.read_pickle(f'{Path}/CCL_dict/Cellosaurus_CCLs.pkl')\n",
    "dfc=dfc[dfc['Species']=='NCBI_TaxID=9606; ! Homo sapiens (Human)']\n",
    "dfc"
   ]
  },
  {
   "cell_type": "code",
   "execution_count": 9,
   "id": "d6856a78",
   "metadata": {},
   "outputs": [],
   "source": [
    "# Use the synonyms to map to the Cellosaurus ID\n",
    "cellosaurus_ids=list(dfc['Cellosaurus_ID'])\n",
    "syns=list(dfc['Synonyms'])\n",
    "\n",
    "syn_l=[]\n",
    "for s in syns:\n",
    "    if '; ' in s:\n",
    "        syn_l.append(s.split('; '))\n",
    "    else:\n",
    "        syn_l.append(s)\n",
    "D_cello={cellosaurus_ids[i]:cellosaurus_ids[i] for i in range(len(cellosaurus_ids))}\n",
    "\n",
    "for i in range(len(syn_l)):\n",
    "    for s in syn_l[i]:\n",
    "        D_cello[s]=cellosaurus_ids[i]"
   ]
  },
  {
   "cell_type": "code",
   "execution_count": 10,
   "id": "3b7ffcbb",
   "metadata": {},
   "outputs": [],
   "source": [
    "ccl_red=sorted(set(M['CCL_reduced']))\n",
    "for ccl in ccl_red:\n",
    "    if ccl in cellosaurus_ids:\n",
    "        D_cello[ccl]=ccl"
   ]
  },
  {
   "cell_type": "code",
   "execution_count": 11,
   "id": "d3c7f07a",
   "metadata": {},
   "outputs": [],
   "source": [
    "D_cello['CJM']='CJM'\n",
    "D_cello['CJM[HUMANMELANOMA]']='CJM'\n",
    "D_cello['HARA']='HARA'\n",
    "D_cello['HARA[HUMANSQUAMOUSCELLLUNGCARCINOMA]']='HARA'\n",
    "D_cello['HH']='HH'\n",
    "D_cello['HH[HUMANLYMPHOMA]']='HH'\n",
    "\n",
    "D_cello['K2']='K2'\n",
    "D_cello['K2[HUMANTHYROIDCARCINOMA]']='K2'\n",
    "\n",
    "# My guess is they switched up the letters and KRIJ is supposed to be KRJ-I\n",
    "D_cello['KRIJ']='KRJI'\n",
    "\n",
    "D_cello['KS1']='KS1'\n",
    "D_cello['KS1[HUMANGLIOBLASTOMA]']='KS1'\n",
    "\n",
    "D_cello['ML1']='ML1'\n",
    "D_cello['ML1[HUMANLEUKEMIA]']='ML1'\n",
    "\n",
    "D_cello['PC3_[JPC3]']='PC3JPC3'\n",
    "D_cello['PC3[HUMANLUNGCARCINOMA]']='PC3JPC3'\n",
    "\n",
    "D_cello['SAT']='SAT'\n",
    "D_cello['SAT[HUMANHNSCC]']='SAT'\n",
    "\n",
    "D_cello['TK']='TK'\n",
    "D_cello['TK[HUMANBCELLLYMPHOMA]']='TK'\n",
    "\n",
    "D_cello['TTTHYROID']='TT'"
   ]
  },
  {
   "cell_type": "code",
   "execution_count": 12,
   "id": "9f82f8d2",
   "metadata": {},
   "outputs": [],
   "source": [
    "keys=list(D_cello.keys())"
   ]
  },
  {
   "cell_type": "code",
   "execution_count": 13,
   "id": "32c0c847",
   "metadata": {
    "scrolled": true
   },
   "outputs": [],
   "source": [
    "ccls=sorted(set(M['CCL']))\n",
    "dfm=M[['CCL', 'CCL_reduced']].copy()\n",
    "dfm=dfm.drop_duplicates()"
   ]
  },
  {
   "cell_type": "code",
   "execution_count": 14,
   "id": "ad632090",
   "metadata": {
    "scrolled": true
   },
   "outputs": [
    {
     "name": "stdout",
     "output_type": "stream",
     "text": [
      "L33:L33\n",
      "P388:P388\n",
      "P388/ADR:P388/ADR\n",
      "T47D ERE4:T47DERE4\n",
      "T47D FOS1:T47DFOS1\n",
      "T47D NFkB15:T47DNFKB15\n",
      "COLO 746:COLO746\n",
      "CXF 264L:CXF264L\n",
      "H1299p53RE29:H1299P53RE29\n",
      "HCT-116/CMV-1:HCT116/CMV1\n",
      "HCT-116/CMV-2:HCT116/CMV2\n",
      "HCT-116/E6-1:HCT116/E61\n",
      "HCT-116/P:HCT116/P\n",
      "HCT-116/P21/A:HCT116/P21/A\n",
      "HCT-116/P21/B:HCT116/P21/B\n",
      "HCT-116/P21/C:HCT116/P21/C\n",
      "HCT-116/PV:HCT116/PV\n",
      "HT29p53RE22:HT29P53RE22\n",
      "MLI-059:MLI059\n",
      "RKO Waf1:RKOWAF1\n",
      "RKOp53RE1:RKOP53RE1\n",
      "A-C/EBP 3:AC/EBP3\n",
      "A-CREB 1:ACREB1\n",
      "A-CREB 2:ACREB2\n",
      "A-FOS 2:AFOS2\n",
      "A-FOS 3:AFOS3\n",
      "A-JUN 1:AJUN1\n",
      "A-JUN 3:AJUN3\n",
      "UABMEL3:UABMEL3\n",
      "LXFS 650L:LXFS650L\n",
      "MLI-045:MLI045\n",
      "MLI-076:MLI076\n",
      "UABLG22:UABLG22\n",
      "TSU-PRI:TSUPRI\n",
      "UOK-57:UOK57\n",
      "HCT-116/E6-2:HCT116/E62\n",
      "CHO:CHO\n",
      "CHO/159-1:CHO/1591\n",
      "NYH/ICRF-187-1:NYH/ICRF1871\n",
      "MLI-019:MLI019\n",
      "VDSO/CMV-8:VDSO/CMV8\n",
      "VDSO/CMV-9:VDSO/CMV9\n",
      "VDSO/E6-18:VDSO/E618\n",
      "VDSO/E6-19:VDSO/E619\n",
      "VDSO/P:VDSO/P\n",
      "A673STAG2KO16:A673STAG2KO16\n",
      "A673STAG2KO45:A673STAG2KO45\n",
      "A673STAG2NT14:A673STAG2NT14\n",
      "A673STAG2NT23:A673STAG2NT23\n",
      "KD:KD\n"
     ]
    }
   ],
   "source": [
    "# missing, i.e. these cell lines could not be mapped onto a cellosaurus-ID\n",
    "for i in range(len(dfm)):\n",
    "    ccl_red=dfm.iloc[i]['CCL_reduced']\n",
    "    ccl=dfm.iloc[i]['CCL']\n",
    "    \n",
    "    if ccl_red[-7:]=='/H.FINE':\n",
    "        if ccl_red[:-7] in keys:\n",
    "            D_cello[ccl_red]=D_cello[ccl_red[:-7]]\n",
    "            keys=list(D_cello.keys())\n",
    "            \n",
    "    if ccl_red[-5:]=='/ATCC':\n",
    "        if ccl_red[:-5] in keys:\n",
    "            D_cello[ccl_red]=D_cello[ccl_red[:-5]]\n",
    "            keys=list(D_cello.keys())\n",
    "    \n",
    "    if not ccl_red in keys:\n",
    "        print(f'{ccl}:{ccl_red}')"
   ]
  },
  {
   "cell_type": "code",
   "execution_count": 15,
   "id": "cb35174c",
   "metadata": {},
   "outputs": [],
   "source": [
    "D_cello['T47DERE4']='T47D'\n",
    "D_cello['T47DFOS1']='T47D'\n",
    "D_cello['T47DNFKB15']='T47D'\n",
    "D_cello['HCT116/CMV1']='p53HCT116'\n",
    "D_cello['HCT116/CMV2']='p53HCT116'\n",
    "D_cello['HCT116/E61']='p53HCT116'\n",
    "D_cello['HCT116/P21/A']='p53HCT116'\n",
    "D_cello['HCT116/P21/B']='p53HCT116'\n",
    "D_cello['HCT116/P21/C']='p53HCT116'\n",
    "D_cello['HCT116/P21/C']='p53HCT116'\n",
    "D_cello['HCT116/P']='p53HCT116'\n",
    "D_cello['RKOWAF1']='RKO'\n",
    "D_cello['RKOP53RE1']='P53R'\n",
    "D_cello['TSUPRI']='TSUPR1'\n",
    "D_cello['HCT116/E62']='HCT116'\n",
    "D_cello['NYH/ICRF1871']='GLC2'\n",
    "D_cello['MLI019']='MLI003A'\n",
    "D_cello['KD']='KD[HUMANABDOMENRHABDOIDTUMOR]'"
   ]
  },
  {
   "cell_type": "code",
   "execution_count": 16,
   "id": "1803390d",
   "metadata": {},
   "outputs": [],
   "source": [
    "D_cello['COLO746']='nan'\n",
    "D_cello['CXF264L']='nan'\n",
    "D_cello['H1299P53RE29']='nan'\n",
    "D_cello['HT29P53RE22']='nan'\n",
    "D_cello['MLI059']='nan'\n",
    "D_cello['AC/EBP3']='nan'\n",
    "D_cello['ACREB1']='nan'\n",
    "D_cello['ACREB2']='nan'\n",
    "D_cello['AFOS2']='nan'\n",
    "D_cello['AFOS3']='nan'\n",
    "D_cello['AJUN1']='nan'\n",
    "D_cello['AJUN3']='nan'\n",
    "D_cello['UABMEL3']='nan'\n",
    "D_cello['LXFS650L']='nan'\n",
    "D_cello['MLI045']='nan'\n",
    "D_cello['MLI076']='nan'\n",
    "D_cello['UABLG22']='nan'\n",
    "D_cello['UOK57']='nan'\n",
    "D_cello['CHO/1591']='nan'\n",
    "D_cello['VDSO/CMV8']='nan'\n",
    "D_cello['VDSO/CMV9']='nan'\n",
    "D_cello['VDSO/E618']='nan'\n",
    "D_cello['VDSO/E619']='nan'\n",
    "D_cello['VDSO/P']='nan'\n",
    "D_cello['A673STAG2KO16']='nan'\n",
    "D_cello['A673STAG2KO45']='nan'\n",
    "D_cello['A673STAG2NT14']='nan'\n",
    "D_cello['A673STAG2NT23']='nan'\n",
    "D_cello['AC/EBP3']='nan'\n",
    "D_cello['ACREB1']='nan'\n",
    "D_cello['ACREB2']='nan'\n",
    "D_cello['MIN6M14']='nan'\n",
    "D_cello['CHO']='nan'\n",
    "D_cello['L33']='L3.3'\n",
    "D_cello['HCT116/PV']='nan'\n",
    "D_cello['P388']='nan'\n",
    "D_cello['P388/ADR']='nan'\n",
    "D_cello['']='nan'\n",
    "D_cello['']='nan'"
   ]
  },
  {
   "cell_type": "code",
   "execution_count": 17,
   "id": "65e1e574",
   "metadata": {},
   "outputs": [],
   "source": [
    "keys=list(D_cello.keys())\n",
    "# Still missing\n",
    "for ccl_red in list(set(M['CCL_reduced'])):\n",
    "    if not ccl_red in keys:\n",
    "        print(f'{ccl_red}')"
   ]
  },
  {
   "cell_type": "code",
   "execution_count": null,
   "id": "bd19f147",
   "metadata": {},
   "outputs": [],
   "source": []
  },
  {
   "cell_type": "code",
   "execution_count": 20,
   "id": "6d414306",
   "metadata": {},
   "outputs": [],
   "source": [
    "M['Cello']=M['CCL_reduced'].map(D_cello)"
   ]
  },
  {
   "cell_type": "code",
   "execution_count": 21,
   "id": "4a5f767c",
   "metadata": {},
   "outputs": [
    {
     "data": {
      "text/plain": [
       "50492805"
      ]
     },
     "execution_count": 21,
     "metadata": {},
     "output_type": "execute_result"
    }
   ],
   "source": [
    "len(M)"
   ]
  },
  {
   "cell_type": "code",
   "execution_count": 22,
   "id": "ddc2a1e1",
   "metadata": {},
   "outputs": [],
   "source": [
    "M=M[M['Cello']!='nan'].copy()"
   ]
  },
  {
   "cell_type": "code",
   "execution_count": 23,
   "id": "9daa7511",
   "metadata": {},
   "outputs": [
    {
     "data": {
      "text/plain": [
       "50428490"
      ]
     },
     "execution_count": 23,
     "metadata": {},
     "output_type": "execute_result"
    }
   ],
   "source": [
    "len(M)"
   ]
  },
  {
   "cell_type": "markdown",
   "id": "10e797cb",
   "metadata": {},
   "source": [
    "# Map Drugs to PubChemID"
   ]
  },
  {
   "cell_type": "code",
   "execution_count": 24,
   "id": "2cb581fa",
   "metadata": {},
   "outputs": [],
   "source": [
    "dfn=pd.read_pickle(f'{Path}/Drug_dict/Mapped_compound_names.pkl')\n",
    "drugs=list(dfn['Drug'])\n",
    "cids=list(dfn['Reduced_CID'])"
   ]
  },
  {
   "cell_type": "code",
   "execution_count": 25,
   "id": "50194fa9",
   "metadata": {},
   "outputs": [],
   "source": [
    "D_drug_name_to_Pubchem={drugs[i]:cids[i] for i in range(len(drugs))}\n",
    "#D_drug_name_to_Pubchem['nan']=D_drug_name_to_Pubchem['nan']"
   ]
  },
  {
   "cell_type": "code",
   "execution_count": 26,
   "id": "053683ea",
   "metadata": {},
   "outputs": [],
   "source": [
    "M['PubChem_CID']=M['Drug'].map(D_drug_name_to_Pubchem).astype('str')"
   ]
  },
  {
   "cell_type": "code",
   "execution_count": 27,
   "id": "30c51cda",
   "metadata": {},
   "outputs": [],
   "source": [
    "Ms=M[M['PubChem_CID']=='nan'].copy()"
   ]
  },
  {
   "cell_type": "code",
   "execution_count": 28,
   "id": "48f1b938",
   "metadata": {},
   "outputs": [
    {
     "data": {
      "text/plain": [
       "{'BTS', 'CPP'}"
      ]
     },
     "execution_count": 28,
     "metadata": {},
     "output_type": "execute_result"
    }
   ],
   "source": [
    "set(Ms['Drug'].astype('str'))"
   ]
  },
  {
   "cell_type": "code",
   "execution_count": 29,
   "id": "758c1604",
   "metadata": {},
   "outputs": [],
   "source": [
    "M=M[M['PubChem_CID']!='nan'].copy()"
   ]
  },
  {
   "cell_type": "code",
   "execution_count": 30,
   "id": "8bd06064",
   "metadata": {},
   "outputs": [
    {
     "data": {
      "text/plain": [
       "26904"
      ]
     },
     "execution_count": 30,
     "metadata": {},
     "output_type": "execute_result"
    }
   ],
   "source": [
    "len(set(M['PubChem_CID']))"
   ]
  },
  {
   "cell_type": "code",
   "execution_count": 31,
   "id": "18a38a75",
   "metadata": {},
   "outputs": [
    {
     "data": {
      "text/plain": [
       "<Axes: ylabel='Count'>"
      ]
     },
     "execution_count": 31,
     "metadata": {},
     "output_type": "execute_result"
    },
    {
     "data": {
      "image/png": "[encoded data removed]",
      "text/plain": [
       "<Figure size 432x288 with 1 Axes>"
      ]
     },
     "metadata": {
      "needs_background": "light"
     },
     "output_type": "display_data"
    }
   ],
   "source": [
    "vc=M['PubChem_CID'].value_counts()\n",
    "sns.histplot(x=vc.values, bins=np.linspace(0,10**3, 101))"
   ]
  },
  {
   "cell_type": "code",
   "execution_count": 32,
   "id": "e67a2445",
   "metadata": {},
   "outputs": [],
   "source": [
    "# And find a drug representative name\n",
    "D_inv={}\n",
    "for k in D_drug_name_to_Pubchem.keys():\n",
    "    D_inv[D_drug_name_to_Pubchem[k]]=k\n",
    "M['Dr_repr_name']=[D_inv[a] for a in M['PubChem_CID']]"
   ]
  },
  {
   "cell_type": "code",
   "execution_count": 33,
   "id": "2a1a062c",
   "metadata": {
    "scrolled": true
   },
   "outputs": [
    {
     "data": {
      "text/plain": [
       "Dr_repr_name\n",
       "MG-132                                                                                      466953\n",
       "staurosporine                                                                               416056\n",
       "bortezomib                                                                                  157797\n",
       "afatinib                                                                                    130219\n",
       "PD0325901                                                                                   110949\n",
       "                                                                                             ...  \n",
       "N-(2-Ethoxyphenyl)-2-(1-oxido-3-oxo-3,4-dihydro-2H-1,4-benzothiazin-2-yl)-2-oxoacetamide       150\n",
       "N-(2,4-Dichlorophenyl)-N'-(4-oxo-2-thioxo-1,4-dihydroquinazolin-3(2H)-yl)ethanediamide         150\n",
       "3,5-Diphenyloxazol-2-one                                                                       149\n",
       "Schultesine                                                                                    140\n",
       "9 ohe hcl                                                                                       26\n",
       "Name: count, Length: 26904, dtype: int64"
      ]
     },
     "execution_count": 33,
     "metadata": {},
     "output_type": "execute_result"
    }
   ],
   "source": [
    "M['Dr_repr_name'].value_counts()"
   ]
  },
  {
   "cell_type": "code",
   "execution_count": 34,
   "id": "33ba9f84",
   "metadata": {},
   "outputs": [],
   "source": [
    "M.to_pickle(f'{Path}/M_all_all.pkl')"
   ]
  },
  {
   "cell_type": "code",
   "execution_count": null,
   "id": "6e993eac",
   "metadata": {},
   "outputs": [],
   "source": []
  },
  {
   "cell_type": "code",
   "execution_count": null,
   "id": "b9a91dfb",
   "metadata": {},
   "outputs": [],
   "source": []
  },
  {
   "cell_type": "code",
   "execution_count": null,
   "id": "35659ff6",
   "metadata": {},
   "outputs": [],
   "source": []
  },
  {
   "cell_type": "code",
   "execution_count": null,
   "id": "b31d2370",
   "metadata": {},
   "outputs": [],
   "source": []
  },
  {
   "cell_type": "code",
   "execution_count": null,
   "id": "3a35b41b",
   "metadata": {},
   "outputs": [],
   "source": []
  },
  {
   "cell_type": "code",
   "execution_count": null,
   "id": "e3702f79",
   "metadata": {},
   "outputs": [],
   "source": [
    "import pandas as pd\n",
    "import numpy as np\n",
    "import seaborn as sns"
   ]
  },
  {
   "cell_type": "code",
   "execution_count": null,
   "id": "786f0c4c",
   "metadata": {},
   "outputs": [],
   "source": [
    "Path='/home/mgander/Atlantic/data/Viability/'"
   ]
  },
  {
   "cell_type": "code",
   "execution_count": null,
   "id": "61632d44",
   "metadata": {},
   "outputs": [],
   "source": [
    "M=pd.read_pickle(f'{Path}/M_all_all.pkl')"
   ]
  },
  {
   "cell_type": "code",
   "execution_count": 35,
   "id": "c2b8e4e0",
   "metadata": {},
   "outputs": [
    {
     "data": {
      "text/html": [
       "<div>\n",
       "<style scoped>\n",
       "    .dataframe tbody tr th:only-of-type {\n",
       "        vertical-align: middle;\n",
       "    }\n",
       "\n",
       "    .dataframe tbody tr th {\n",
       "        vertical-align: top;\n",
       "    }\n",
       "\n",
       "    .dataframe thead th {\n",
       "        text-align: right;\n",
       "    }\n",
       "</style>\n",
       "<table border=\"1\" class=\"dataframe\">\n",
       "  <thead>\n",
       "    <tr style=\"text-align: right;\">\n",
       "      <th></th>\n",
       "      <th>CCL</th>\n",
       "      <th>Drug</th>\n",
       "      <th>Dose</th>\n",
       "      <th>Duration</th>\n",
       "      <th>Viability</th>\n",
       "      <th>Source</th>\n",
       "      <th>CCL_reduced</th>\n",
       "      <th>Cello</th>\n",
       "      <th>PubChem_CID</th>\n",
       "      <th>Dr_repr_name</th>\n",
       "    </tr>\n",
       "  </thead>\n",
       "  <tbody>\n",
       "    <tr>\n",
       "      <th>0</th>\n",
       "      <td>CAS1</td>\n",
       "      <td>CIL55</td>\n",
       "      <td>0.00030</td>\n",
       "      <td>72.0</td>\n",
       "      <td>0.948448</td>\n",
       "      <td>CTD2</td>\n",
       "      <td>CAS1</td>\n",
       "      <td>CAS1</td>\n",
       "      <td>6623618</td>\n",
       "      <td>CIL55</td>\n",
       "    </tr>\n",
       "    <tr>\n",
       "      <th>1</th>\n",
       "      <td>CAS1</td>\n",
       "      <td>CIL55</td>\n",
       "      <td>0.00030</td>\n",
       "      <td>72.0</td>\n",
       "      <td>0.912565</td>\n",
       "      <td>CTD2</td>\n",
       "      <td>CAS1</td>\n",
       "      <td>CAS1</td>\n",
       "      <td>6623618</td>\n",
       "      <td>CIL55</td>\n",
       "    </tr>\n",
       "    <tr>\n",
       "      <th>2</th>\n",
       "      <td>CAS1</td>\n",
       "      <td>CIL55</td>\n",
       "      <td>0.00061</td>\n",
       "      <td>72.0</td>\n",
       "      <td>0.880625</td>\n",
       "      <td>CTD2</td>\n",
       "      <td>CAS1</td>\n",
       "      <td>CAS1</td>\n",
       "      <td>6623618</td>\n",
       "      <td>CIL55</td>\n",
       "    </tr>\n",
       "    <tr>\n",
       "      <th>3</th>\n",
       "      <td>CAS1</td>\n",
       "      <td>CIL55</td>\n",
       "      <td>0.00061</td>\n",
       "      <td>72.0</td>\n",
       "      <td>0.789330</td>\n",
       "      <td>CTD2</td>\n",
       "      <td>CAS1</td>\n",
       "      <td>CAS1</td>\n",
       "      <td>6623618</td>\n",
       "      <td>CIL55</td>\n",
       "    </tr>\n",
       "    <tr>\n",
       "      <th>4</th>\n",
       "      <td>CAS1</td>\n",
       "      <td>CIL55</td>\n",
       "      <td>0.00120</td>\n",
       "      <td>72.0</td>\n",
       "      <td>0.973525</td>\n",
       "      <td>CTD2</td>\n",
       "      <td>CAS1</td>\n",
       "      <td>CAS1</td>\n",
       "      <td>6623618</td>\n",
       "      <td>CIL55</td>\n",
       "    </tr>\n",
       "  </tbody>\n",
       "</table>\n",
       "</div>"
      ],
      "text/plain": [
       "    CCL   Drug     Dose  Duration  Viability Source CCL_reduced Cello  \\\n",
       "0  CAS1  CIL55  0.00030      72.0   0.948448   CTD2        CAS1  CAS1   \n",
       "1  CAS1  CIL55  0.00030      72.0   0.912565   CTD2        CAS1  CAS1   \n",
       "2  CAS1  CIL55  0.00061      72.0   0.880625   CTD2        CAS1  CAS1   \n",
       "3  CAS1  CIL55  0.00061      72.0   0.789330   CTD2        CAS1  CAS1   \n",
       "4  CAS1  CIL55  0.00120      72.0   0.973525   CTD2        CAS1  CAS1   \n",
       "\n",
       "  PubChem_CID Dr_repr_name  \n",
       "0     6623618        CIL55  \n",
       "1     6623618        CIL55  \n",
       "2     6623618        CIL55  \n",
       "3     6623618        CIL55  \n",
       "4     6623618        CIL55  "
      ]
     },
     "execution_count": 35,
     "metadata": {},
     "output_type": "execute_result"
    }
   ],
   "source": [
    "M.head()"
   ]
  },
  {
   "cell_type": "code",
   "execution_count": null,
   "id": "57e8d385",
   "metadata": {},
   "outputs": [],
   "source": []
  },
  {
   "cell_type": "code",
   "execution_count": null,
   "id": "079b3081",
   "metadata": {},
   "outputs": [],
   "source": []
  },
  {
   "cell_type": "markdown",
   "id": "5242e9da",
   "metadata": {},
   "source": [
    "## Add doubling times"
   ]
  },
  {
   "cell_type": "markdown",
   "id": "420156e1",
   "metadata": {},
   "source": [
    "For some cell line I couldn't find the doubling time, so I put in 40h. Doubling times are highly different for different labs/growth conditions so use this with an enormous amount of caution"
   ]
  },
  {
   "cell_type": "code",
   "execution_count": 36,
   "id": "13e0ed0e",
   "metadata": {},
   "outputs": [],
   "source": [
    "def transform_to_0_1(value, doubling_time, time):\n",
    "    alpha=time/doubling_time\n",
    "    if value>0:\n",
    "        return(value/100*(1-2**(-alpha))+2**(-alpha))\n",
    "    if value<=0:\n",
    "        return(2**(-alpha)*(value/100+1))"
   ]
  },
  {
   "cell_type": "code",
   "execution_count": 37,
   "id": "bb752e92",
   "metadata": {},
   "outputs": [],
   "source": [
    "df=pd.read_csv(f'{Path}/NCI60_CRC65_CCL.csv')\n",
    "doubling_times=[a.replace(',', '.') for a in df['Doubling_time']]\n",
    "doubling_times=[float(a) if a!='mouse' else np.NaN for a in doubling_times]\n",
    "df['Doubling_time_float']=doubling_times\n",
    "D_doubling_time={df.iloc[i]['CCL']:df.iloc[i]['Doubling_time_float'] for i in range(len(doubling_times))}\n",
    "D_keys=list(D_doubling_time.keys())\n",
    "\n",
    "cellos=list(set(M['Cello']))\n",
    "for c in cellos:\n",
    "    if not c in D_keys:\n",
    "        # Maybe it makes sense to put 40h here as a generic doubling time value\n",
    "        D_doubling_time[c]=np.NaN"
   ]
  },
  {
   "cell_type": "code",
   "execution_count": 38,
   "id": "c69f3605",
   "metadata": {},
   "outputs": [
    {
     "data": {
      "text/plain": [
       "{'CTD2', 'CTPR', 'DTP', 'GDSC1', 'GDSC2', 'MR_NCI60', 'PRISM1', 'PRISM2'}"
      ]
     },
     "execution_count": 38,
     "metadata": {},
     "output_type": "execute_result"
    }
   ],
   "source": [
    "set(M['Source'])"
   ]
  },
  {
   "cell_type": "code",
   "execution_count": 39,
   "id": "7a2685ab",
   "metadata": {
    "scrolled": true
   },
   "outputs": [
    {
     "name": "stdout",
     "output_type": "stream",
     "text": [
      "20100000\n",
      "20200000\n",
      "20300000\n",
      "20400000\n",
      "20500000\n",
      "20600000\n",
      "20700000\n",
      "20800000\n",
      "20900000\n",
      "21000000\n",
      "21100000\n",
      "21200000\n",
      "21300000\n",
      "21400000\n",
      "21500000\n",
      "21600000\n",
      "21700000\n",
      "21800000\n",
      "21900000\n",
      "22000000\n",
      "22100000\n",
      "22200000\n",
      "22300000\n",
      "22400000\n",
      "22500000\n",
      "22600000\n",
      "22700000\n",
      "22800000\n",
      "22900000\n",
      "23000000\n",
      "23100000\n",
      "23200000\n",
      "23300000\n",
      "23400000\n",
      "23500000\n",
      "23600000\n",
      "23700000\n",
      "23800000\n",
      "23900000\n",
      "24000000\n",
      "24100000\n",
      "24200000\n",
      "24300000\n",
      "24400000\n",
      "24500000\n",
      "24600000\n",
      "24700000\n",
      "24800000\n",
      "24900000\n",
      "25000000\n",
      "25100000\n",
      "25200000\n",
      "25300000\n",
      "25400000\n",
      "25500000\n",
      "25600000\n",
      "25700000\n",
      "25800000\n",
      "25900000\n",
      "26000000\n",
      "26100000\n",
      "26200000\n",
      "26300000\n",
      "26400000\n",
      "26500000\n",
      "26600000\n",
      "26700000\n",
      "26800000\n",
      "26900000\n",
      "27000000\n",
      "27100000\n",
      "27200000\n",
      "27300000\n",
      "27400000\n",
      "27500000\n",
      "27600000\n",
      "27700000\n",
      "27800000\n",
      "27900000\n",
      "28000000\n",
      "28100000\n",
      "28200000\n",
      "28300000\n",
      "28400000\n",
      "28500000\n",
      "28600000\n",
      "28700000\n",
      "28800000\n",
      "28900000\n",
      "29000000\n",
      "29100000\n",
      "29200000\n",
      "29300000\n"
     ]
    }
   ],
   "source": [
    "sources=list(M['Source'])\n",
    "ccls=list(M['Cello'])\n",
    "times=list(M['Duration'])\n",
    "viabs=list(M['Viability'])\n",
    "wh=np.where(M['Source']=='DTP')[0]\n",
    "for i in wh:\n",
    "    viabs[i]=transform_to_0_1(viabs[i], D_doubling_time[ccls[i]], times[i])\n",
    "    if i%10**5==0:\n",
    "        print(i)"
   ]
  },
  {
   "cell_type": "code",
   "execution_count": 40,
   "id": "74f77e72",
   "metadata": {},
   "outputs": [
    {
     "data": {
      "text/html": [
       "<div>\n",
       "<style scoped>\n",
       "    .dataframe tbody tr th:only-of-type {\n",
       "        vertical-align: middle;\n",
       "    }\n",
       "\n",
       "    .dataframe tbody tr th {\n",
       "        vertical-align: top;\n",
       "    }\n",
       "\n",
       "    .dataframe thead th {\n",
       "        text-align: right;\n",
       "    }\n",
       "</style>\n",
       "<table border=\"1\" class=\"dataframe\">\n",
       "  <thead>\n",
       "    <tr style=\"text-align: right;\">\n",
       "      <th></th>\n",
       "      <th>CCL</th>\n",
       "      <th>Drug</th>\n",
       "      <th>Dose</th>\n",
       "      <th>Duration</th>\n",
       "      <th>Viability</th>\n",
       "      <th>Source</th>\n",
       "      <th>CCL_reduced</th>\n",
       "      <th>Cello</th>\n",
       "      <th>PubChem_CID</th>\n",
       "      <th>Dr_repr_name</th>\n",
       "    </tr>\n",
       "  </thead>\n",
       "  <tbody>\n",
       "    <tr>\n",
       "      <th>20171677</th>\n",
       "      <td>SF-268</td>\n",
       "      <td>1,4-Naphthalenedione, 2,2'-(1H-indole-2,3-diyl...</td>\n",
       "      <td>0.01</td>\n",
       "      <td>48.0</td>\n",
       "      <td>92.7</td>\n",
       "      <td>DTP</td>\n",
       "      <td>SF268</td>\n",
       "      <td>SF268</td>\n",
       "      <td>362451</td>\n",
       "      <td>1,4-Naphthalenedione, 2,2'-(1H-indole-2,3-diyl...</td>\n",
       "    </tr>\n",
       "    <tr>\n",
       "      <th>20171678</th>\n",
       "      <td>SF-268</td>\n",
       "      <td>1,4-Naphthalenedione, 2,2'-(1H-indole-2,3-diyl...</td>\n",
       "      <td>0.10</td>\n",
       "      <td>48.0</td>\n",
       "      <td>96.1</td>\n",
       "      <td>DTP</td>\n",
       "      <td>SF268</td>\n",
       "      <td>SF268</td>\n",
       "      <td>362451</td>\n",
       "      <td>1,4-Naphthalenedione, 2,2'-(1H-indole-2,3-diyl...</td>\n",
       "    </tr>\n",
       "    <tr>\n",
       "      <th>20171679</th>\n",
       "      <td>SF-268</td>\n",
       "      <td>1,4-Naphthalenedione, 2,2'-(1H-indole-2,3-diyl...</td>\n",
       "      <td>1.00</td>\n",
       "      <td>48.0</td>\n",
       "      <td>96.3</td>\n",
       "      <td>DTP</td>\n",
       "      <td>SF268</td>\n",
       "      <td>SF268</td>\n",
       "      <td>362451</td>\n",
       "      <td>1,4-Naphthalenedione, 2,2'-(1H-indole-2,3-diyl...</td>\n",
       "    </tr>\n",
       "    <tr>\n",
       "      <th>20171680</th>\n",
       "      <td>SF-268</td>\n",
       "      <td>1,4-Naphthalenedione, 2,2'-(1H-indole-2,3-diyl...</td>\n",
       "      <td>10.00</td>\n",
       "      <td>48.0</td>\n",
       "      <td>92.6</td>\n",
       "      <td>DTP</td>\n",
       "      <td>SF268</td>\n",
       "      <td>SF268</td>\n",
       "      <td>362451</td>\n",
       "      <td>1,4-Naphthalenedione, 2,2'-(1H-indole-2,3-diyl...</td>\n",
       "    </tr>\n",
       "    <tr>\n",
       "      <th>20171681</th>\n",
       "      <td>SF-268</td>\n",
       "      <td>1,4-Naphthalenedione, 2,2'-(1H-indole-2,3-diyl...</td>\n",
       "      <td>100.00</td>\n",
       "      <td>48.0</td>\n",
       "      <td>13.2</td>\n",
       "      <td>DTP</td>\n",
       "      <td>SF268</td>\n",
       "      <td>SF268</td>\n",
       "      <td>362451</td>\n",
       "      <td>1,4-Naphthalenedione, 2,2'-(1H-indole-2,3-diyl...</td>\n",
       "    </tr>\n",
       "    <tr>\n",
       "      <th>...</th>\n",
       "      <td>...</td>\n",
       "      <td>...</td>\n",
       "      <td>...</td>\n",
       "      <td>...</td>\n",
       "      <td>...</td>\n",
       "      <td>...</td>\n",
       "      <td>...</td>\n",
       "      <td>...</td>\n",
       "      <td>...</td>\n",
       "      <td>...</td>\n",
       "    </tr>\n",
       "    <tr>\n",
       "      <th>30277153</th>\n",
       "      <td>DMS 273</td>\n",
       "      <td>9-Acetamido-10-hydroxy-20-(S)-camptothecin</td>\n",
       "      <td>1.00</td>\n",
       "      <td>48.0</td>\n",
       "      <td>20.5</td>\n",
       "      <td>DTP</td>\n",
       "      <td>DMS273</td>\n",
       "      <td>DMS273</td>\n",
       "      <td>44315616</td>\n",
       "      <td>9-Acetamido-10-hydroxy-20-(S)-camptothecin</td>\n",
       "    </tr>\n",
       "    <tr>\n",
       "      <th>30277154</th>\n",
       "      <td>DMS 273</td>\n",
       "      <td>9-Acetamido-10-hydroxy-20-(S)-camptothecin</td>\n",
       "      <td>10.00</td>\n",
       "      <td>48.0</td>\n",
       "      <td>8.5</td>\n",
       "      <td>DTP</td>\n",
       "      <td>DMS273</td>\n",
       "      <td>DMS273</td>\n",
       "      <td>44315616</td>\n",
       "      <td>9-Acetamido-10-hydroxy-20-(S)-camptothecin</td>\n",
       "    </tr>\n",
       "    <tr>\n",
       "      <th>30277155</th>\n",
       "      <td>DMS 273</td>\n",
       "      <td>9-Acetamido-10-hydroxy-20-(S)-camptothecin</td>\n",
       "      <td>10.00</td>\n",
       "      <td>48.0</td>\n",
       "      <td>-32.0</td>\n",
       "      <td>DTP</td>\n",
       "      <td>DMS273</td>\n",
       "      <td>DMS273</td>\n",
       "      <td>44315616</td>\n",
       "      <td>9-Acetamido-10-hydroxy-20-(S)-camptothecin</td>\n",
       "    </tr>\n",
       "    <tr>\n",
       "      <th>30277156</th>\n",
       "      <td>DMS 273</td>\n",
       "      <td>9-Acetamido-10-hydroxy-20-(S)-camptothecin</td>\n",
       "      <td>100.00</td>\n",
       "      <td>48.0</td>\n",
       "      <td>-9.7</td>\n",
       "      <td>DTP</td>\n",
       "      <td>DMS273</td>\n",
       "      <td>DMS273</td>\n",
       "      <td>44315616</td>\n",
       "      <td>9-Acetamido-10-hydroxy-20-(S)-camptothecin</td>\n",
       "    </tr>\n",
       "    <tr>\n",
       "      <th>30277157</th>\n",
       "      <td>DMS 273</td>\n",
       "      <td>9-Acetamido-10-hydroxy-20-(S)-camptothecin</td>\n",
       "      <td>100.00</td>\n",
       "      <td>48.0</td>\n",
       "      <td>-47.1</td>\n",
       "      <td>DTP</td>\n",
       "      <td>DMS273</td>\n",
       "      <td>DMS273</td>\n",
       "      <td>44315616</td>\n",
       "      <td>9-Acetamido-10-hydroxy-20-(S)-camptothecin</td>\n",
       "    </tr>\n",
       "  </tbody>\n",
       "</table>\n",
       "<p>9260719 rows × 10 columns</p>\n",
       "</div>"
      ],
      "text/plain": [
       "              CCL                                               Drug    Dose  \\\n",
       "20171677   SF-268  1,4-Naphthalenedione, 2,2'-(1H-indole-2,3-diyl...    0.01   \n",
       "20171678   SF-268  1,4-Naphthalenedione, 2,2'-(1H-indole-2,3-diyl...    0.10   \n",
       "20171679   SF-268  1,4-Naphthalenedione, 2,2'-(1H-indole-2,3-diyl...    1.00   \n",
       "20171680   SF-268  1,4-Naphthalenedione, 2,2'-(1H-indole-2,3-diyl...   10.00   \n",
       "20171681   SF-268  1,4-Naphthalenedione, 2,2'-(1H-indole-2,3-diyl...  100.00   \n",
       "...           ...                                                ...     ...   \n",
       "30277153  DMS 273         9-Acetamido-10-hydroxy-20-(S)-camptothecin    1.00   \n",
       "30277154  DMS 273         9-Acetamido-10-hydroxy-20-(S)-camptothecin   10.00   \n",
       "30277155  DMS 273         9-Acetamido-10-hydroxy-20-(S)-camptothecin   10.00   \n",
       "30277156  DMS 273         9-Acetamido-10-hydroxy-20-(S)-camptothecin  100.00   \n",
       "30277157  DMS 273         9-Acetamido-10-hydroxy-20-(S)-camptothecin  100.00   \n",
       "\n",
       "          Duration  Viability Source CCL_reduced   Cello PubChem_CID  \\\n",
       "20171677      48.0       92.7    DTP       SF268   SF268      362451   \n",
       "20171678      48.0       96.1    DTP       SF268   SF268      362451   \n",
       "20171679      48.0       96.3    DTP       SF268   SF268      362451   \n",
       "20171680      48.0       92.6    DTP       SF268   SF268      362451   \n",
       "20171681      48.0       13.2    DTP       SF268   SF268      362451   \n",
       "...            ...        ...    ...         ...     ...         ...   \n",
       "30277153      48.0       20.5    DTP      DMS273  DMS273    44315616   \n",
       "30277154      48.0        8.5    DTP      DMS273  DMS273    44315616   \n",
       "30277155      48.0      -32.0    DTP      DMS273  DMS273    44315616   \n",
       "30277156      48.0       -9.7    DTP      DMS273  DMS273    44315616   \n",
       "30277157      48.0      -47.1    DTP      DMS273  DMS273    44315616   \n",
       "\n",
       "                                               Dr_repr_name  \n",
       "20171677  1,4-Naphthalenedione, 2,2'-(1H-indole-2,3-diyl...  \n",
       "20171678  1,4-Naphthalenedione, 2,2'-(1H-indole-2,3-diyl...  \n",
       "20171679  1,4-Naphthalenedione, 2,2'-(1H-indole-2,3-diyl...  \n",
       "20171680  1,4-Naphthalenedione, 2,2'-(1H-indole-2,3-diyl...  \n",
       "20171681  1,4-Naphthalenedione, 2,2'-(1H-indole-2,3-diyl...  \n",
       "...                                                     ...  \n",
       "30277153         9-Acetamido-10-hydroxy-20-(S)-camptothecin  \n",
       "30277154         9-Acetamido-10-hydroxy-20-(S)-camptothecin  \n",
       "30277155         9-Acetamido-10-hydroxy-20-(S)-camptothecin  \n",
       "30277156         9-Acetamido-10-hydroxy-20-(S)-camptothecin  \n",
       "30277157         9-Acetamido-10-hydroxy-20-(S)-camptothecin  \n",
       "\n",
       "[9260719 rows x 10 columns]"
      ]
     },
     "execution_count": 40,
     "metadata": {},
     "output_type": "execute_result"
    }
   ],
   "source": [
    "M[M['Source']=='DTP']"
   ]
  },
  {
   "cell_type": "code",
   "execution_count": 41,
   "id": "dfc3cc6e",
   "metadata": {},
   "outputs": [
    {
     "data": {
      "text/html": [
       "<div>\n",
       "<style scoped>\n",
       "    .dataframe tbody tr th:only-of-type {\n",
       "        vertical-align: middle;\n",
       "    }\n",
       "\n",
       "    .dataframe tbody tr th {\n",
       "        vertical-align: top;\n",
       "    }\n",
       "\n",
       "    .dataframe thead th {\n",
       "        text-align: right;\n",
       "    }\n",
       "</style>\n",
       "<table border=\"1\" class=\"dataframe\">\n",
       "  <thead>\n",
       "    <tr style=\"text-align: right;\">\n",
       "      <th></th>\n",
       "      <th>CCL</th>\n",
       "      <th>Drug</th>\n",
       "      <th>Dose</th>\n",
       "      <th>Duration</th>\n",
       "      <th>Viability</th>\n",
       "      <th>Source</th>\n",
       "      <th>CCL_reduced</th>\n",
       "      <th>Cello</th>\n",
       "      <th>PubChem_CID</th>\n",
       "      <th>Dr_repr_name</th>\n",
       "    </tr>\n",
       "  </thead>\n",
       "  <tbody>\n",
       "    <tr>\n",
       "      <th>20171677</th>\n",
       "      <td>SF-268</td>\n",
       "      <td>1,4-Naphthalenedione, 2,2'-(1H-indole-2,3-diyl...</td>\n",
       "      <td>0.01</td>\n",
       "      <td>48.0</td>\n",
       "      <td>0.953717</td>\n",
       "      <td>DTP</td>\n",
       "      <td>SF268</td>\n",
       "      <td>SF268</td>\n",
       "      <td>362451</td>\n",
       "      <td>1,4-Naphthalenedione, 2,2'-(1H-indole-2,3-diyl...</td>\n",
       "    </tr>\n",
       "    <tr>\n",
       "      <th>20171678</th>\n",
       "      <td>SF-268</td>\n",
       "      <td>1,4-Naphthalenedione, 2,2'-(1H-indole-2,3-diyl...</td>\n",
       "      <td>0.10</td>\n",
       "      <td>48.0</td>\n",
       "      <td>0.975273</td>\n",
       "      <td>DTP</td>\n",
       "      <td>SF268</td>\n",
       "      <td>SF268</td>\n",
       "      <td>362451</td>\n",
       "      <td>1,4-Naphthalenedione, 2,2'-(1H-indole-2,3-diyl...</td>\n",
       "    </tr>\n",
       "    <tr>\n",
       "      <th>20171679</th>\n",
       "      <td>SF-268</td>\n",
       "      <td>1,4-Naphthalenedione, 2,2'-(1H-indole-2,3-diyl...</td>\n",
       "      <td>1.00</td>\n",
       "      <td>48.0</td>\n",
       "      <td>0.976541</td>\n",
       "      <td>DTP</td>\n",
       "      <td>SF268</td>\n",
       "      <td>SF268</td>\n",
       "      <td>362451</td>\n",
       "      <td>1,4-Naphthalenedione, 2,2'-(1H-indole-2,3-diyl...</td>\n",
       "    </tr>\n",
       "    <tr>\n",
       "      <th>20171680</th>\n",
       "      <td>SF-268</td>\n",
       "      <td>1,4-Naphthalenedione, 2,2'-(1H-indole-2,3-diyl...</td>\n",
       "      <td>10.00</td>\n",
       "      <td>48.0</td>\n",
       "      <td>0.953083</td>\n",
       "      <td>DTP</td>\n",
       "      <td>SF268</td>\n",
       "      <td>SF268</td>\n",
       "      <td>362451</td>\n",
       "      <td>1,4-Naphthalenedione, 2,2'-(1H-indole-2,3-diyl...</td>\n",
       "    </tr>\n",
       "    <tr>\n",
       "      <th>20171681</th>\n",
       "      <td>SF-268</td>\n",
       "      <td>1,4-Naphthalenedione, 2,2'-(1H-indole-2,3-diyl...</td>\n",
       "      <td>100.00</td>\n",
       "      <td>48.0</td>\n",
       "      <td>0.449673</td>\n",
       "      <td>DTP</td>\n",
       "      <td>SF268</td>\n",
       "      <td>SF268</td>\n",
       "      <td>362451</td>\n",
       "      <td>1,4-Naphthalenedione, 2,2'-(1H-indole-2,3-diyl...</td>\n",
       "    </tr>\n",
       "    <tr>\n",
       "      <th>...</th>\n",
       "      <td>...</td>\n",
       "      <td>...</td>\n",
       "      <td>...</td>\n",
       "      <td>...</td>\n",
       "      <td>...</td>\n",
       "      <td>...</td>\n",
       "      <td>...</td>\n",
       "      <td>...</td>\n",
       "      <td>...</td>\n",
       "      <td>...</td>\n",
       "    </tr>\n",
       "    <tr>\n",
       "      <th>30277153</th>\n",
       "      <td>DMS 273</td>\n",
       "      <td>9-Acetamido-10-hydroxy-20-(S)-camptothecin</td>\n",
       "      <td>1.00</td>\n",
       "      <td>48.0</td>\n",
       "      <td>0.233538</td>\n",
       "      <td>DTP</td>\n",
       "      <td>DMS273</td>\n",
       "      <td>DMS273</td>\n",
       "      <td>44315616</td>\n",
       "      <td>9-Acetamido-10-hydroxy-20-(S)-camptothecin</td>\n",
       "    </tr>\n",
       "    <tr>\n",
       "      <th>30277154</th>\n",
       "      <td>DMS 273</td>\n",
       "      <td>9-Acetamido-10-hydroxy-20-(S)-camptothecin</td>\n",
       "      <td>10.00</td>\n",
       "      <td>48.0</td>\n",
       "      <td>0.117846</td>\n",
       "      <td>DTP</td>\n",
       "      <td>DMS273</td>\n",
       "      <td>DMS273</td>\n",
       "      <td>44315616</td>\n",
       "      <td>9-Acetamido-10-hydroxy-20-(S)-camptothecin</td>\n",
       "    </tr>\n",
       "    <tr>\n",
       "      <th>30277155</th>\n",
       "      <td>DMS 273</td>\n",
       "      <td>9-Acetamido-10-hydroxy-20-(S)-camptothecin</td>\n",
       "      <td>10.00</td>\n",
       "      <td>48.0</td>\n",
       "      <td>0.024410</td>\n",
       "      <td>DTP</td>\n",
       "      <td>DMS273</td>\n",
       "      <td>DMS273</td>\n",
       "      <td>44315616</td>\n",
       "      <td>9-Acetamido-10-hydroxy-20-(S)-camptothecin</td>\n",
       "    </tr>\n",
       "    <tr>\n",
       "      <th>30277156</th>\n",
       "      <td>DMS 273</td>\n",
       "      <td>9-Acetamido-10-hydroxy-20-(S)-camptothecin</td>\n",
       "      <td>100.00</td>\n",
       "      <td>48.0</td>\n",
       "      <td>0.032415</td>\n",
       "      <td>DTP</td>\n",
       "      <td>DMS273</td>\n",
       "      <td>DMS273</td>\n",
       "      <td>44315616</td>\n",
       "      <td>9-Acetamido-10-hydroxy-20-(S)-camptothecin</td>\n",
       "    </tr>\n",
       "    <tr>\n",
       "      <th>30277157</th>\n",
       "      <td>DMS 273</td>\n",
       "      <td>9-Acetamido-10-hydroxy-20-(S)-camptothecin</td>\n",
       "      <td>100.00</td>\n",
       "      <td>48.0</td>\n",
       "      <td>0.018989</td>\n",
       "      <td>DTP</td>\n",
       "      <td>DMS273</td>\n",
       "      <td>DMS273</td>\n",
       "      <td>44315616</td>\n",
       "      <td>9-Acetamido-10-hydroxy-20-(S)-camptothecin</td>\n",
       "    </tr>\n",
       "  </tbody>\n",
       "</table>\n",
       "<p>9260719 rows × 10 columns</p>\n",
       "</div>"
      ],
      "text/plain": [
       "              CCL                                               Drug    Dose  \\\n",
       "20171677   SF-268  1,4-Naphthalenedione, 2,2'-(1H-indole-2,3-diyl...    0.01   \n",
       "20171678   SF-268  1,4-Naphthalenedione, 2,2'-(1H-indole-2,3-diyl...    0.10   \n",
       "20171679   SF-268  1,4-Naphthalenedione, 2,2'-(1H-indole-2,3-diyl...    1.00   \n",
       "20171680   SF-268  1,4-Naphthalenedione, 2,2'-(1H-indole-2,3-diyl...   10.00   \n",
       "20171681   SF-268  1,4-Naphthalenedione, 2,2'-(1H-indole-2,3-diyl...  100.00   \n",
       "...           ...                                                ...     ...   \n",
       "30277153  DMS 273         9-Acetamido-10-hydroxy-20-(S)-camptothecin    1.00   \n",
       "30277154  DMS 273         9-Acetamido-10-hydroxy-20-(S)-camptothecin   10.00   \n",
       "30277155  DMS 273         9-Acetamido-10-hydroxy-20-(S)-camptothecin   10.00   \n",
       "30277156  DMS 273         9-Acetamido-10-hydroxy-20-(S)-camptothecin  100.00   \n",
       "30277157  DMS 273         9-Acetamido-10-hydroxy-20-(S)-camptothecin  100.00   \n",
       "\n",
       "          Duration  Viability Source CCL_reduced   Cello PubChem_CID  \\\n",
       "20171677      48.0   0.953717    DTP       SF268   SF268      362451   \n",
       "20171678      48.0   0.975273    DTP       SF268   SF268      362451   \n",
       "20171679      48.0   0.976541    DTP       SF268   SF268      362451   \n",
       "20171680      48.0   0.953083    DTP       SF268   SF268      362451   \n",
       "20171681      48.0   0.449673    DTP       SF268   SF268      362451   \n",
       "...            ...        ...    ...         ...     ...         ...   \n",
       "30277153      48.0   0.233538    DTP      DMS273  DMS273    44315616   \n",
       "30277154      48.0   0.117846    DTP      DMS273  DMS273    44315616   \n",
       "30277155      48.0   0.024410    DTP      DMS273  DMS273    44315616   \n",
       "30277156      48.0   0.032415    DTP      DMS273  DMS273    44315616   \n",
       "30277157      48.0   0.018989    DTP      DMS273  DMS273    44315616   \n",
       "\n",
       "                                               Dr_repr_name  \n",
       "20171677  1,4-Naphthalenedione, 2,2'-(1H-indole-2,3-diyl...  \n",
       "20171678  1,4-Naphthalenedione, 2,2'-(1H-indole-2,3-diyl...  \n",
       "20171679  1,4-Naphthalenedione, 2,2'-(1H-indole-2,3-diyl...  \n",
       "20171680  1,4-Naphthalenedione, 2,2'-(1H-indole-2,3-diyl...  \n",
       "20171681  1,4-Naphthalenedione, 2,2'-(1H-indole-2,3-diyl...  \n",
       "...                                                     ...  \n",
       "30277153         9-Acetamido-10-hydroxy-20-(S)-camptothecin  \n",
       "30277154         9-Acetamido-10-hydroxy-20-(S)-camptothecin  \n",
       "30277155         9-Acetamido-10-hydroxy-20-(S)-camptothecin  \n",
       "30277156         9-Acetamido-10-hydroxy-20-(S)-camptothecin  \n",
       "30277157         9-Acetamido-10-hydroxy-20-(S)-camptothecin  \n",
       "\n",
       "[9260719 rows x 10 columns]"
      ]
     },
     "execution_count": 41,
     "metadata": {},
     "output_type": "execute_result"
    }
   ],
   "source": [
    "M['Viability']=viabs\n",
    "M[M['Source']=='DTP']"
   ]
  },
  {
   "cell_type": "code",
   "execution_count": 46,
   "id": "bba7b6e4",
   "metadata": {},
   "outputs": [
    {
     "data": {
      "text/plain": [
       "<AxesSubplot:ylabel='Count'>"
      ]
     },
     "execution_count": 46,
     "metadata": {},
     "output_type": "execute_result"
    },
    {
     "data": {
      "image/png": "[encoded data removed]",
      "text/plain": [
       "<Figure size 432x288 with 1 Axes>"
      ]
     },
     "metadata": {
      "needs_background": "light"
     },
     "output_type": "display_data"
    }
   ],
   "source": [
    "np.random.shuffle(viabs)\n",
    "a=viabs[:10**6]\n",
    "sns.histplot(a, bins=np.linspace(-2,10,101))"
   ]
  },
  {
   "cell_type": "code",
   "execution_count": 42,
   "id": "7c9db85e",
   "metadata": {},
   "outputs": [
    {
     "data": {
      "text/html": [
       "<div>\n",
       "<style scoped>\n",
       "    .dataframe tbody tr th:only-of-type {\n",
       "        vertical-align: middle;\n",
       "    }\n",
       "\n",
       "    .dataframe tbody tr th {\n",
       "        vertical-align: top;\n",
       "    }\n",
       "\n",
       "    .dataframe thead th {\n",
       "        text-align: right;\n",
       "    }\n",
       "</style>\n",
       "<table border=\"1\" class=\"dataframe\">\n",
       "  <thead>\n",
       "    <tr style=\"text-align: right;\">\n",
       "      <th></th>\n",
       "      <th>CCL</th>\n",
       "      <th>Drug</th>\n",
       "      <th>Dose</th>\n",
       "      <th>Duration</th>\n",
       "      <th>Viability</th>\n",
       "      <th>Source</th>\n",
       "      <th>CCL_reduced</th>\n",
       "      <th>Cello</th>\n",
       "      <th>PubChem_CID</th>\n",
       "      <th>Dr_repr_name</th>\n",
       "    </tr>\n",
       "  </thead>\n",
       "  <tbody>\n",
       "    <tr>\n",
       "      <th>0</th>\n",
       "      <td>CAS1</td>\n",
       "      <td>CIL55</td>\n",
       "      <td>0.00030</td>\n",
       "      <td>72.0</td>\n",
       "      <td>0.948448</td>\n",
       "      <td>CTD2</td>\n",
       "      <td>CAS1</td>\n",
       "      <td>CAS1</td>\n",
       "      <td>6623618</td>\n",
       "      <td>CIL55</td>\n",
       "    </tr>\n",
       "    <tr>\n",
       "      <th>1</th>\n",
       "      <td>CAS1</td>\n",
       "      <td>CIL55</td>\n",
       "      <td>0.00030</td>\n",
       "      <td>72.0</td>\n",
       "      <td>0.912565</td>\n",
       "      <td>CTD2</td>\n",
       "      <td>CAS1</td>\n",
       "      <td>CAS1</td>\n",
       "      <td>6623618</td>\n",
       "      <td>CIL55</td>\n",
       "    </tr>\n",
       "    <tr>\n",
       "      <th>2</th>\n",
       "      <td>CAS1</td>\n",
       "      <td>CIL55</td>\n",
       "      <td>0.00061</td>\n",
       "      <td>72.0</td>\n",
       "      <td>0.880625</td>\n",
       "      <td>CTD2</td>\n",
       "      <td>CAS1</td>\n",
       "      <td>CAS1</td>\n",
       "      <td>6623618</td>\n",
       "      <td>CIL55</td>\n",
       "    </tr>\n",
       "    <tr>\n",
       "      <th>3</th>\n",
       "      <td>CAS1</td>\n",
       "      <td>CIL55</td>\n",
       "      <td>0.00061</td>\n",
       "      <td>72.0</td>\n",
       "      <td>0.789330</td>\n",
       "      <td>CTD2</td>\n",
       "      <td>CAS1</td>\n",
       "      <td>CAS1</td>\n",
       "      <td>6623618</td>\n",
       "      <td>CIL55</td>\n",
       "    </tr>\n",
       "    <tr>\n",
       "      <th>4</th>\n",
       "      <td>CAS1</td>\n",
       "      <td>CIL55</td>\n",
       "      <td>0.00120</td>\n",
       "      <td>72.0</td>\n",
       "      <td>0.973525</td>\n",
       "      <td>CTD2</td>\n",
       "      <td>CAS1</td>\n",
       "      <td>CAS1</td>\n",
       "      <td>6623618</td>\n",
       "      <td>CIL55</td>\n",
       "    </tr>\n",
       "  </tbody>\n",
       "</table>\n",
       "</div>"
      ],
      "text/plain": [
       "    CCL   Drug     Dose  Duration  Viability Source CCL_reduced Cello  \\\n",
       "0  CAS1  CIL55  0.00030      72.0   0.948448   CTD2        CAS1  CAS1   \n",
       "1  CAS1  CIL55  0.00030      72.0   0.912565   CTD2        CAS1  CAS1   \n",
       "2  CAS1  CIL55  0.00061      72.0   0.880625   CTD2        CAS1  CAS1   \n",
       "3  CAS1  CIL55  0.00061      72.0   0.789330   CTD2        CAS1  CAS1   \n",
       "4  CAS1  CIL55  0.00120      72.0   0.973525   CTD2        CAS1  CAS1   \n",
       "\n",
       "  PubChem_CID Dr_repr_name  \n",
       "0     6623618        CIL55  \n",
       "1     6623618        CIL55  \n",
       "2     6623618        CIL55  \n",
       "3     6623618        CIL55  \n",
       "4     6623618        CIL55  "
      ]
     },
     "execution_count": 42,
     "metadata": {},
     "output_type": "execute_result"
    }
   ],
   "source": [
    "M.head()"
   ]
  },
  {
   "cell_type": "code",
   "execution_count": 43,
   "id": "f0cf814d",
   "metadata": {},
   "outputs": [],
   "source": [
    "M.to_pickle(f'{Path}/M_all_all.pkl')"
   ]
  },
  {
   "cell_type": "code",
   "execution_count": null,
   "id": "e6acf00e",
   "metadata": {},
   "outputs": [],
   "source": []
  },
  {
   "cell_type": "code",
   "execution_count": null,
   "id": "54cc99ff",
   "metadata": {},
   "outputs": [],
   "source": []
  },
  {
   "cell_type": "code",
   "execution_count": null,
   "id": "483d5145",
   "metadata": {},
   "outputs": [],
   "source": []
  },
  {
   "cell_type": "code",
   "execution_count": null,
   "id": "2c263813",
   "metadata": {},
   "outputs": [],
   "source": []
  },
  {
   "cell_type": "code",
   "execution_count": null,
   "id": "66711999",
   "metadata": {},
   "outputs": [],
   "source": []
  },
  {
   "cell_type": "code",
   "execution_count": null,
   "id": "83d7a06e",
   "metadata": {},
   "outputs": [],
   "source": []
  },
  {
   "cell_type": "code",
   "execution_count": null,
   "id": "0c32c351",
   "metadata": {},
   "outputs": [],
   "source": []
  },
  {
   "cell_type": "code",
   "execution_count": null,
   "id": "628f857a",
   "metadata": {},
   "outputs": [],
   "source": []
  }
 ],
 "metadata": {
  "kernelspec": {
   "display_name": "Python 3 (ipykernel)",
   "language": "python",
   "name": "python3"
  },
  "language_info": {
   "codemirror_mode": {
    "name": "ipython",
    "version": 3
   },
   "file_extension": ".py",
   "mimetype": "text/x-python",
   "name": "python",
   "nbconvert_exporter": "python",
   "pygments_lexer": "ipython3",
   "version": "3.10.12"
  }
 },
 "nbformat": 4,
 "nbformat_minor": 5
}
