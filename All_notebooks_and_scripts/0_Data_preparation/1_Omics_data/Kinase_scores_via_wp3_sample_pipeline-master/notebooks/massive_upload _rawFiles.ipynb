{
 "cells": [
  {
   "cell_type": "code",
   "execution_count": 1,
   "metadata": {},
   "outputs": [],
   "source": [
    "import os\n",
    "import pandas as pd\n",
    "import glob\n",
    "from pathlib import  Path\n",
    "import ftplib\n",
    "\n",
    "\n",
    "path_to_folder = '/media/kusterlab/internal_projects/active/TOPAS/WP31/SIMSI/raw_files'\n",
    "machines = ['lumos_1', 'eclipse_1', 'lumos_3', 'eclipse_2','lumos_2', 'eclipse_2']\n",
    "\n",
    "\n",
    "\n",
    "def check_path_exist(func):\n",
    "    \"\"\" \n",
    "    General  Decorator to check the file path before openening \n",
    "    returns list if the path doesnot exist and dataframe if exists\n",
    "    USAGE: \n",
    "    \n",
    "    @check_path_exist\n",
    "    def your_pandas_function(path):\n",
    "        <code>\n",
    "    \"\"\"\n",
    "    def wrapper(path:str,*args,**kwargs):\n",
    "        if os.path.exists(path):\n",
    "            print('###')\n",
    "            print(f'Reading the file {path}')\n",
    "            try:\n",
    "                df = func(path,*args,**kwargs)\n",
    "                print(f'{path} loaded with success!')\n",
    "                return df\n",
    "            except:\n",
    "                print(f'# ERROR in OPENING {path}')\n",
    "                return [f'error in reading the file {path} probably opened somewhere']\n",
    "        else:\n",
    "            print(f'{path} does not exist')\n",
    "            pass\n",
    "    return wrapper\n",
    "\n",
    "\n",
    "\n",
    "def get_the_machine_folder(file_name):\n",
    "    return '/media/raw_files/'  + [x for x in machines if os.path.exists(os.path.join('/media/raw_files/',x,'raw',file_name))][0] + '/raw/' + file_name \n",
    "\n",
    "\n",
    "\n",
    "@check_path_exist\n",
    "def massive_single_file_importer(original_file_path:str, active_session:ftplib,destination_file_name:str,destination_file_folder:str):\n",
    "    \"\"\"\n",
    "    Importing a single file to the massive\n",
    "    :original_file_path: original path of the file in the netapp or anywhere\n",
    "    :active_session: the ftplib active session object\n",
    "    :destination_file_name: the name of the file in the massive repo\n",
    "    :destination_file_folder: the destinaiton_folder in massinve repo\n",
    "    \"\"\"\n",
    "    try:\n",
    "        active_session.mkd(destination_file_folder)\n",
    "    except:\n",
    "        print(f'Making the destination folder failed, probably the folder was existing in your repo')\n",
    "\n",
    "    try:\n",
    "        file = open(original_file_path,'rb') \n",
    "        destination_file_path = os.path.join(destination_file_folder,destination_file_name)\n",
    "        active_session.storbinary(f'STOR {destination_file_path}', file)\n",
    "        print(f'the file {original_file_path} was imported')\n",
    "        file.close()\n",
    "    except:\n",
    "        print(f'{original_file_path} was not imported') "
   ]
  },
  {
   "cell_type": "markdown",
   "metadata": {},
   "source": [
    "# data set preparation"
   ]
  },
  {
   "cell_type": "code",
   "execution_count": 2,
   "metadata": {},
   "outputs": [],
   "source": [
    "p = Path(path_to_folder)\n",
    "file_names,fp_pp,batch_name = [] , [] , []\n",
    "for i in p.glob('**/*.raw'):\n",
    "    file_names.append(i.name)\n",
    "    batch_name.append(str(i).split('/')[-2])\n",
    "    fp_pp.append(str(i).split('/')[-3])\n",
    "df = pd.DataFrame(list(zip(file_names,fp_pp,batch_name)),columns=['file_names','fp_pp','batch_name'])\n",
    "df['original_file_path'] = df['file_names'].apply(lambda x:get_the_machine_folder(x))"
   ]
  },
  {
   "cell_type": "markdown",
   "metadata": {},
   "source": [
    "# import to massive"
   ]
  },
  {
   "cell_type": "code",
   "execution_count": 3,
   "metadata": {},
   "outputs": [
    {
     "name": "stdout",
     "output_type": "stream",
     "text": [
      "5139_A01_058297_S00_U01_TMT11_R1.raw\n",
      "###\n",
      "Reading the file /media/raw_files/lumos_3/raw/5139_A01_058297_S00_U01_TMT11_R1.raw\n",
      "the file /media/raw_files/lumos_3/raw/5139_A01_058297_S00_U01_TMT11_R1.raw was imported\n",
      "/media/raw_files/lumos_3/raw/5139_A01_058297_S00_U01_TMT11_R1.raw loaded with success!\n",
      "5139_A02_058297_S00_U02_TMT11_R1.raw\n",
      "###\n",
      "Reading the file /media/raw_files/lumos_3/raw/5139_A02_058297_S00_U02_TMT11_R1.raw\n",
      "Making the destination folder failed, probably the folder was existing in your repo\n",
      "the file /media/raw_files/lumos_3/raw/5139_A02_058297_S00_U02_TMT11_R1.raw was imported\n",
      "/media/raw_files/lumos_3/raw/5139_A02_058297_S00_U02_TMT11_R1.raw loaded with success!\n",
      "5139_A03_058297_S00_U03_TMT11_R1.raw\n",
      "###\n",
      "Reading the file /media/raw_files/lumos_3/raw/5139_A03_058297_S00_U03_TMT11_R1.raw\n",
      "Making the destination folder failed, probably the folder was existing in your repo\n",
      "the file /media/raw_files/lumos_3/raw/5139_A03_058297_S00_U03_TMT11_R1.raw was imported\n",
      "/media/raw_files/lumos_3/raw/5139_A03_058297_S00_U03_TMT11_R1.raw loaded with success!\n",
      "5139_A04_058297_S00_U04_TMT11_R1.raw\n",
      "###\n",
      "Reading the file /media/raw_files/lumos_3/raw/5139_A04_058297_S00_U04_TMT11_R1.raw\n",
      "Making the destination folder failed, probably the folder was existing in your repo\n",
      "the file /media/raw_files/lumos_3/raw/5139_A04_058297_S00_U04_TMT11_R1.raw was imported\n",
      "/media/raw_files/lumos_3/raw/5139_A04_058297_S00_U04_TMT11_R1.raw loaded with success!\n",
      "5139_A05_058297_S00_U05_TMT11_R1.raw\n",
      "###\n",
      "Reading the file /media/raw_files/lumos_3/raw/5139_A05_058297_S00_U05_TMT11_R1.raw\n",
      "Making the destination folder failed, probably the folder was existing in your repo\n",
      "the file /media/raw_files/lumos_3/raw/5139_A05_058297_S00_U05_TMT11_R1.raw was imported\n",
      "/media/raw_files/lumos_3/raw/5139_A05_058297_S00_U05_TMT11_R1.raw loaded with success!\n",
      "5139_A06_058297_S00_U06_TMT11_R1.raw\n",
      "###\n",
      "Reading the file /media/raw_files/lumos_3/raw/5139_A06_058297_S00_U06_TMT11_R1.raw\n",
      "Making the destination folder failed, probably the folder was existing in your repo\n",
      "the file /media/raw_files/lumos_3/raw/5139_A06_058297_S00_U06_TMT11_R1.raw was imported\n",
      "/media/raw_files/lumos_3/raw/5139_A06_058297_S00_U06_TMT11_R1.raw loaded with success!\n",
      "5139_A07_058297_S00_U07_TMT11_R1.raw\n",
      "###\n",
      "Reading the file /media/raw_files/lumos_3/raw/5139_A07_058297_S00_U07_TMT11_R1.raw\n",
      "Making the destination folder failed, probably the folder was existing in your repo\n",
      "the file /media/raw_files/lumos_3/raw/5139_A07_058297_S00_U07_TMT11_R1.raw was imported\n",
      "/media/raw_files/lumos_3/raw/5139_A07_058297_S00_U07_TMT11_R1.raw loaded with success!\n",
      "5139_A08_058297_S00_U08_TMT11_R1.raw\n",
      "###\n",
      "Reading the file /media/raw_files/lumos_3/raw/5139_A08_058297_S00_U08_TMT11_R1.raw\n",
      "Making the destination folder failed, probably the folder was existing in your repo\n",
      "the file /media/raw_files/lumos_3/raw/5139_A08_058297_S00_U08_TMT11_R1.raw was imported\n",
      "/media/raw_files/lumos_3/raw/5139_A08_058297_S00_U08_TMT11_R1.raw loaded with success!\n",
      "5139_A09_058297_S00_U09_TMT11_R1.raw\n",
      "###\n",
      "Reading the file /media/raw_files/lumos_3/raw/5139_A09_058297_S00_U09_TMT11_R1.raw\n",
      "Making the destination folder failed, probably the folder was existing in your repo\n"
     ]
    }
   ],
   "source": [
    "session = ftplib.FTP('massive.ucsd.edu','asakhteman','<password>')\n",
    "for i in range(len(df)):\n",
    "    original_file_path = df['original_file_path'][i]\n",
    "    file_name = df['file_names'][i]\n",
    "    folder_name = df['batch_name'][i]\n",
    "    print(file_name)\n",
    "    massive_single_file_importer(original_file_path,session,file_name,folder_name)\n",
    "session.quit()\n"
   ]
  }
 ],
 "metadata": {
  "kernelspec": {
   "display_name": "Python 3.8.10 64-bit",
   "language": "python",
   "name": "python3"
  },
  "language_info": {
   "codemirror_mode": {
    "name": "ipython",
    "version": 3
   },
   "file_extension": ".py",
   "mimetype": "text/x-python",
   "name": "python",
   "nbconvert_exporter": "python",
   "pygments_lexer": "ipython3",
   "version": "3.8.10"
  },
  "orig_nbformat": 4,
  "vscode": {
   "interpreter": {
    "hash": "916dbcbb3f70747c44a77c7bcd40155683ae19c65e1c03b4aa3499c5328201f1"
   }
  }
 },
 "nbformat": 4,
 "nbformat_minor": 2
}
