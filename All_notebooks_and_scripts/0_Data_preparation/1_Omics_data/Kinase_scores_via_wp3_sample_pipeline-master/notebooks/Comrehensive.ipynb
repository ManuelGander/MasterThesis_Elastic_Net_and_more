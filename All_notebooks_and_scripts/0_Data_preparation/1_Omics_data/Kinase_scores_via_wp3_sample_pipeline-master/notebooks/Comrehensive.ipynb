{
 "cells": [
  {
   "cell_type": "code",
   "execution_count": null,
   "metadata": {},
   "outputs": [],
   "source": [
    "# For all the FP IDs basket annotation, occurence, max number peptides, median number peptides, max intensity, max fold change\n",
    "\n",
    "\n",
    "import pandas as pd\n",
    "import re\n",
    "\n",
    "FP_KEY = 'Gene names'\n",
    "# REGEX PATTERNS FOR THE PATIENTS IDS\n",
    "REGEX = r'(^\\S+-.+-\\S)|(Reporter intensity corrected)|(^P\\d{6}$)'  # patient identifiers\n",
    "Z_SCORE_REGEX = r'(^\\S+-.+-\\S)|(Reporter intensity corrected)|(^P\\d{6}$) Z-score'\n",
    "REGEX_META = r'^Identification metadata'  # to get num identified pepetides in FP intensity file\n",
    "\n",
    "\n",
    "def load_intensity_meta_data(instensitypath,key,regex = REGEX_META):\n",
    "    cols = pd.read_csv(instensitypath,low_memory=False, nrows=10).filter(regex=regex).columns.tolist()\n",
    "    cols.append(key)\n",
    "    intensity_df = pd.read_csv(instensitypath,low_memory=False, usecols=cols)\n",
    "    intensity_df.index = intensity_df[key]\n",
    "    intensity_df = intensity_df.loc[:,~intensity_df.columns.duplicated()]\n",
    "    # intensity_df = intensity_df.fillna(0)\n",
    "\n",
    "    return intensity_df.fillna('num_peptides=0;')\n",
    "\n",
    "\n",
    "\n",
    "def load_intensity_scores(instensitypath,key = FP_KEY, regex = REGEX):\n",
    "    intensity_df = pd.read_csv(instensitypath,low_memory=False)\n",
    "    intensity_df.index = intensity_df[key]\n",
    "    intensity_df = intensity_df.filter(regex = regex)\n",
    "    intensity_df = intensity_df.loc[:,~intensity_df.columns.duplicated()].copy()\n",
    "    return intensity_df\n",
    "\n",
    "\n",
    "\n",
    "\n",
    "def get_pep_number_from_protein_name(intensity_df:pd.DataFrame,protein_name:str,regex=REGEX_META) -> pd.DataFrame:\n",
    "    \"\"\" \n",
    "    gets the number of the identified pepetides from the protein name across all the patients\n",
    "    :intensity_df: A pandas dataframe of the intensities with Identification metadata columns for each patient \n",
    "    :protein_name: the name of the protein\n",
    "    :USAGE :\n",
    "        get_pep_number_from_protein_name(fp_df,'EGFR')\n",
    "\n",
    "    \"\"\"\n",
    "    print(protein_name)\n",
    "    premeta_df = pd.DataFrame(intensity_df)\n",
    "    premeta_df = premeta_df.filter(regex=regex)\n",
    "    premeta_df = pd.DataFrame(premeta_df.loc[protein_name,:].str.replace('num_peptides=|;','', regex=True),columns=[protein_name])\n",
    "    premeta_df[protein_name] = premeta_df[protein_name].str.replace('detected in batch','0', regex=True) \n",
    "    premeta_df[protein_name] = pd.to_numeric(premeta_df[protein_name])\n",
    "    premeta_df['Sample name'] = premeta_df.index.str.replace('Identification metadata ','', regex=True)\n",
    "    premeta_df.columns = ['num_pep','Sample name']\n",
    "    return premeta_df\n",
    "\n",
    "\n",
    "\n"
   ]
  },
  {
   "cell_type": "code",
   "execution_count": null,
   "metadata": {},
   "outputs": [],
   "source": [
    "sample_annotation_df = pd.read_csv('/media/kusterlab/internal_projects/active/TOPAS/WP31/Searches/patient_annotation_231121_PAN_cancer.csv')\n",
    "meta_data_df = pd.read_excel('/media/kusterlab/internal_projects/active/TOPAS/WP31/Playground/Retrospective_MTBs_Evaluation/METADATA_PAN CANCER_Batch155_AS_231116.xlsx')\n",
    "report_directory = '/media/kusterlab/internal_projects/active/TOPAS/WP31/Playground/Retrospective_study/2023.11.21_CJ_PANCANCER_151'\n"
   ]
  },
  {
   "cell_type": "code",
   "execution_count": null,
   "metadata": {},
   "outputs": [],
   "source": [
    "intensity_file = 'preprocessed_fp.csv'\n",
    "intensity_path = report_directory + '/' + intensity_file\n",
    "intensity_meta_df = load_intensity_meta_data(intensity_path,FP_KEY,regex = REGEX_META)\n",
    "intesity_scores_df = load_intensity_scores(intensity_path,FP_KEY,regex=REGEX)\n",
    "fc_file_path = report_directory + '/' + 'full_proteome_measures_fc.tsv'\n",
    "fc_file_df = pd.read_csv(fc_file_path,sep='\\t')\n",
    "fc_file_df.set_index(FP_KEY,inplace=True)\n",
    "fc_file_df.columns  = fc_file_df.columns.str.replace('fc_','')"
   ]
  },
  {
   "cell_type": "code",
   "execution_count": null,
   "metadata": {},
   "outputs": [],
   "source": [
    "common_index = [x for x in fc_file_df.index if x in intesity_scores_df.index]  # overlapping proteins between dataFrames\n",
    "# aligining all data frames\n",
    "intesity_scores_df = intesity_scores_df.loc[common_index,:]\n",
    "intensity_meta_df = intensity_meta_df.loc[common_index,:]\n",
    "fc_file_df = fc_file_df.loc[common_index,:]\n",
    "max_intensitires = intesity_scores_df.max(numeric_only = True,axis=1)\n",
    "max_fcs = fc_file_df.max(numeric_only = True,axis=1)\n",
    "counts_df = intesity_scores_df.count(axis=1)\n",
    "final_df = pd.DataFrame(list(zip(max_intensitires,max_fcs,counts_df)),columns = ['max_intensity','max Fold Change','Occurence'])\n",
    "final_df.index = common_index\n",
    "final_df['proteins'] = final_df.index"
   ]
  },
  {
   "cell_type": "markdown",
   "metadata": {},
   "source": [
    "# adding basket annotations"
   ]
  },
  {
   "cell_type": "code",
   "execution_count": null,
   "metadata": {},
   "outputs": [],
   "source": [
    "basket_annotation_path = \"/media/kusterlab/internal_projects/active/TOPAS/WP31/Playground/Retrospective_MTBs_Evaluation/TUPAC_SCORING_4th gen_230628.xlsx\"\n",
    "# basket_annotation_path = \"/home/amir/Desktop/basket_annotation.csv\" # the excel file was not opened\n",
    "basket_annotation_df = pd.read_(basket_annotation_path)\n",
    "final_df['basket_annotation'] = ''\n",
    "for i in range(len(final_df)):\n",
    "    final_df['basket_annotation'][i] = ';'.join(basket_annotation_df['BASKET'][basket_annotation_df[\"GENE NAME\"].isin([final_df.index[i]])].unique().tolist())\n"
   ]
  },
  {
   "cell_type": "code",
   "execution_count": null,
   "metadata": {},
   "outputs": [],
   "source": [
    "# TODO: this will take 1.5h , refactor it in the function to do it only once\n",
    "final_df['median_peptides'] = final_df['proteins'].apply(lambda x:int(get_pep_number_from_protein_name(intensity_meta_df,x)['num_pep'].median()))\n",
    "final_df['max_peptides'] = final_df['proteins'].apply(lambda x:get_pep_number_from_protein_name(intensity_meta_df,x)['num_pep'].max())"
   ]
  },
  {
   "cell_type": "code",
   "execution_count": null,
   "metadata": {},
   "outputs": [],
   "source": [
    "final_df.to_excel('/home/amir/Desktop/all_proteins_statistics.xlsx',index=None)"
   ]
  }
 ],
 "metadata": {
  "kernelspec": {
   "display_name": "Python 3.8.10 64-bit",
   "language": "python",
   "name": "python3"
  },
  "language_info": {
   "codemirror_mode": {
    "name": "ipython",
    "version": 3
   },
   "file_extension": ".py",
   "mimetype": "text/x-python",
   "name": "python",
   "nbconvert_exporter": "python",
   "pygments_lexer": "ipython3",
   "version": "3.8.10"
  },
  "orig_nbformat": 4,
  "vscode": {
   "interpreter": {
    "hash": "916dbcbb3f70747c44a77c7bcd40155683ae19c65e1c03b4aa3499c5328201f1"
   }
  }
 },
 "nbformat": 4,
 "nbformat_minor": 2
}
