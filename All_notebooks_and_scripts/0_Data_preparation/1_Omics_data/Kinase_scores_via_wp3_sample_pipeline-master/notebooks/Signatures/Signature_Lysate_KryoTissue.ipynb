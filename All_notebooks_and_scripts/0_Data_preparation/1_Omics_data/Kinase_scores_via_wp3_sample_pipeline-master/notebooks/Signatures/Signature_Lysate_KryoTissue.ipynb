{
 "cells": [
  {
   "cell_type": "code",
   "execution_count": null,
   "metadata": {},
   "outputs": [],
   "source": [
    "# needed functions and libraries\n",
    "import pandas as pd\n",
    "import seaborn as sns\n",
    "from pathlib import Path\n",
    "import signature_functions as sf\n",
    "\n",
    "def signature_pipeline(entity,input_df,list_proteins,report_dir,level='FP'):\n",
    "    # univariate Analysis with Cross_validation\n",
    "    ROC_univariate_df = sf.univariate_analysis_with_CV_for_all_proteins(input_df,\n",
    "                                                    list_proteins,\n",
    "                                                    entity,\n",
    "                                                    K_folds = 5,\n",
    "                                                    repeats = 1,\n",
    "                                                    threshold = 0.7\n",
    "                                                    )\n",
    "\n",
    "    # T_test\n",
    "    first_t_test_result_df = sf.one_vs_all_t_test(\n",
    "                            input_df,\n",
    "                            list_proteins,\n",
    "                            entity,\n",
    "                            sf.entity_subtypes)\n",
    "    t_test_univariate_df = first_t_test_result_df.merge(ROC_univariate_df,right_on='names',left_on='Gene Names')\n",
    "    t_test_univariate_df.to_excel(Path(report_dir)/f'{level}_signatures_{entity}.xlsx')\n",
    "    print(f'{entity}_Finished')\n",
    "    return t_test_univariate_df"
   ]
  },
  {
   "attachments": {},
   "cell_type": "markdown",
   "metadata": {},
   "source": [
    " Inputs for phospho protein"
   ]
  },
  {
   "cell_type": "code",
   "execution_count": null,
   "metadata": {},
   "outputs": [],
   "source": [
    "\n",
    "report_dir = '/media/kusterlab/internal_projects/active/TOPAS/WP31/Playground/Retrospective_study/2023.06.22_AhS_PAPER_COHORT'\n",
    "meta_file_path = '/media/kusterlab/internal_projects/active/TOPAS/WP31/Playground/Retrospective_MTBs_Evaluation/Metadata_Papercohort_230801.xlsx'\n",
    "meta_df = pd.read_excel(meta_file_path)\n",
    "sf.entity_subtypes = 'Input Material'\n",
    "entity = 'Lysate'\n",
    "list_interesting = ['Lysate', 'Kryotissue']\n",
    "meta_df = meta_df[meta_df[\"Input Material\"].isin(list_interesting)]\n",
    "path_to_file = f'{report_dir}/preprocessed_fp.csv'\n",
    "fp_intensity_file = sf.read_intensity_file(path_to_file,'Gene names')\n",
    "path_to_file = f'{report_dir}/preprocessed_pp.csv'\n",
    "pp_intensity_file = sf.read_intensity_file(path_to_file,'Modified sequence')\n",
    "path_to_file = f'{report_dir}/protein_results/protein_scores.tsv'\n",
    "phosphorylation_intensity_file = pd.read_csv(path_to_file,sep = '\\t').set_index('Gene names')\n",
    "path_to_file = f'{report_dir}/kinase_results/kinase_scores.tsv'\n",
    "kinase_intensity_file = pd.read_csv(path_to_file,sep = '\\t').set_index('PSP Kinases')\n",
    "path_to_file = f'{report_dir}/basket_scores_4th_gen.tsv'\n",
    "basket_intensity_file = pd.read_csv(path_to_file,sep = '\\t').set_index('Sample').transpose()"
   ]
  },
  {
   "cell_type": "code",
   "execution_count": null,
   "metadata": {},
   "outputs": [],
   "source": [
    "for level,intensity_file in zip([\n",
    "                                    'FP',\n",
    "                                    'PP',\n",
    "                                    'Phsopho_scores',\n",
    "                                    'kinase_score',\n",
    "                                    'basket_score'\n",
    "                                ],\n",
    "                                [\n",
    "                                    fp_intensity_file,\n",
    "                                    pp_intensity_file,\n",
    "                                    phosphorylation_intensity_file,\n",
    "                                    kinase_intensity_file,\n",
    "                                    basket_intensity_file\n",
    "                                ]):\n",
    "\n",
    "    # signature by t_test\n",
    "    input_df,list_proteins = sf.prepareDataframeforTest(\n",
    "                                                        intensity_file,\n",
    "                                                        meta=meta_df,\n",
    "                                                        minimum_patients_per_entity = 8,\n",
    "                                                        protein_expressed_in_at_least_percent = 70)\n",
    "    res = signature_pipeline(entity,input_df,list_proteins,report_dir,level=level)"
   ]
  },
  {
   "cell_type": "markdown",
   "metadata": {},
   "source": [
    "# Removing Protocol effect:\n",
    "- removing the proteins at FP level which are significantly expressed between Kryo tisseu and Lysates"
   ]
  },
  {
   "cell_type": "code",
   "execution_count": null,
   "metadata": {},
   "outputs": [],
   "source": [
    "path_to_the_file = Path(report_dir)/'FP_signatures_Lysate.xlsx'\n",
    "signature_df = pd.read_excel(path_to_the_file)\n",
    "print(f'Number of the proteins before removing:{len(signature_df)}')\n",
    "filtered_data = signature_df[signature_df['fdr'] > 1e-16]  # removing the protein with less than 0.01% FDR\n",
    "filtered_data[\"Gene Names\"].to_csv('~/Desktop/final_protein.txt',index=False,header=False)\n",
    "print(f'Number of the proteins after removing:{len(filtered_data)}')"
   ]
  }
 ],
 "metadata": {
  "kernelspec": {
   "display_name": "Python 3.8.10 64-bit",
   "language": "python",
   "name": "python3"
  },
  "language_info": {
   "codemirror_mode": {
    "name": "ipython",
    "version": 3
   },
   "file_extension": ".py",
   "mimetype": "text/x-python",
   "name": "python",
   "nbconvert_exporter": "python",
   "pygments_lexer": "ipython3",
   "version": "3.8.10"
  },
  "orig_nbformat": 4,
  "vscode": {
   "interpreter": {
    "hash": "916dbcbb3f70747c44a77c7bcd40155683ae19c65e1c03b4aa3499c5328201f1"
   }
  }
 },
 "nbformat": 4,
 "nbformat_minor": 2
}
