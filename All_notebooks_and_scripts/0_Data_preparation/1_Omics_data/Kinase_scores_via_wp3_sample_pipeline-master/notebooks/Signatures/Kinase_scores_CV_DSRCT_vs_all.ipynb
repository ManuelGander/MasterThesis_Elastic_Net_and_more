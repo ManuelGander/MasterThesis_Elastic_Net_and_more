{
 "cells": [
  {
   "cell_type": "code",
   "execution_count": 1,
   "metadata": {},
   "outputs": [],
   "source": [
    "import pandas as pd\n",
    "import seaborn as sns\n",
    "import notebooks.signature_functions as signature_functions\n"
   ]
  },
  {
   "cell_type": "markdown",
   "metadata": {},
   "source": [
    "# Kinases highly active over DSRCT with respect to other Entities"
   ]
  },
  {
   "cell_type": "code",
   "execution_count": 4,
   "metadata": {},
   "outputs": [],
   "source": [
    "# preprocess\n",
    "import warnings\n",
    "warnings.filterwarnings('ignore')\n",
    "report_directory = '/media/kusterlab/internal_projects/active/TOPAS/WP31/Playground/Retrospective_study/2023.02.07_CJ_batch82_corrected'\n",
    "annotation_file = '/media/kusterlab/internal_projects/active/TOPAS/WP31/Searches/patient_annotation_mixed_cohort_230207_w_tall.csv'\n",
    "\n",
    "kinase_scores_file = f'{report_directory}/kinase_results/kinase_scores.tsv'\n",
    "kinase_scores_file_annotation = f'{report_directory}/kinase_results/scored_peptides.tsv'\n"
   ]
  },
  {
   "cell_type": "code",
   "execution_count": 5,
   "metadata": {},
   "outputs": [],
   "source": [
    "kinase_scores = pd.read_csv(kinase_scores_file,sep='\\t')\n",
    "kinase_scores_annotation_df = pd.read_csv(kinase_scores_file_annotation,sep='\\t')\n",
    "annotation_file = pd.read_csv(annotation_file)\n",
    "dsrct_patinets = annotation_file['Sample name'][annotation_file['Histologic Subtype'] == 'DSRCT'].tolist()\n",
    "kinase_scores.index = kinase_scores['PSP Kinases']\n",
    "kinase_scores_df = kinase_scores.transpose()\n",
    "all_patinets =  annotation_file['Sample name'].unique().tolist()\n",
    "kinase_scores_df = kinase_scores_df[kinase_scores_df.index.isin(all_patinets)]\n",
    "kinase_list = kinase_scores_df.columns\n",
    "kinase_scores_df['Entity'] = 'others'\n",
    "kinase_scores_df['Entity'][kinase_scores_df.index.isin(dsrct_patinets)] = ['DSRCT']\n",
    "t_result = signature_functions.one_vs_all_t_test(kinase_scores_df,kinase_list, 'DSRCT','Entity')\n",
    "new_sginatures = signature_functions.get_final_signatures_from_t_test_results_by_criteria(t_result,p_value_threshold=0.01,\n",
    "                                                                                          fdr_threshold=None,delta_threshold=1)\n",
    "sub = kinase_scores_df[new_sginatures['Gene Names']]\n",
    "sub.index = kinase_scores_df.index\n",
    "\n",
    "sub['patients'] = sub.index"
   ]
  },
  {
   "cell_type": "code",
   "execution_count": 9,
   "metadata": {},
   "outputs": [],
   "source": [
    "kinase_scores_annotation_df = kinase_scores_annotation_df[['PSP Kinases', 'Modified sequence']]\n",
    "counts_mod_seq_df  = kinase_scores_annotation_df.groupby('PSP Kinases').count()\n",
    "final_res_df = sub.transpose()\n",
    "final_res_df = t_result.merge(counts_mod_seq_df,right_index=True, left_on='Gene Names')"
   ]
  },
  {
   "cell_type": "code",
   "execution_count": 15,
   "metadata": {},
   "outputs": [],
   "source": [
    "final_res_df.to_excel(f'{report_directory}/DSRCT_kinase_activity_vs_others.xlsx')"
   ]
  },
  {
   "cell_type": "code",
   "execution_count": null,
   "metadata": {},
   "outputs": [],
   "source": [
    "protein = sub.columns\n",
    "\n",
    "sub = pd.melt(sub ,id_vars=['patients'],value_vars=protein,  value_name='kinase_scores')\n",
    "sub['Entity'] = 'others'\n",
    "sub['Entity'][sub.patients.isin(dsrct_patinets)] = 'DSRCT'\n",
    "sns.catplot(\n",
    "    data=sub, kind=\"swarm\",\n",
    "    x=\"PSP Kinases\", y=\"kinase_scores\", hue=\"Entity\",\n",
    "    aspect=5\n",
    ")\n"
   ]
  }
 ],
 "metadata": {
  "kernelspec": {
   "display_name": "Python 3.8.10 64-bit",
   "language": "python",
   "name": "python3"
  },
  "language_info": {
   "codemirror_mode": {
    "name": "ipython",
    "version": 3
   },
   "file_extension": ".py",
   "mimetype": "text/x-python",
   "name": "python",
   "nbconvert_exporter": "python",
   "pygments_lexer": "ipython3",
   "version": "3.8.10"
  },
  "orig_nbformat": 4,
  "vscode": {
   "interpreter": {
    "hash": "916dbcbb3f70747c44a77c7bcd40155683ae19c65e1c03b4aa3499c5328201f1"
   }
  }
 },
 "nbformat": 4,
 "nbformat_minor": 2
}