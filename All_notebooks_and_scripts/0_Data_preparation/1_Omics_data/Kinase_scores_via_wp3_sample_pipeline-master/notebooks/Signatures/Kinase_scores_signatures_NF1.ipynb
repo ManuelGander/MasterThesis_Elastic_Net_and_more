{
 "cells": [
  {
   "cell_type": "code",
   "execution_count": 1,
   "metadata": {},
   "outputs": [],
   "source": [
    "# needed functions and libraries\n",
    "import pandas as pd\n",
    "import seaborn as sns\n",
    "from pathlib import Path\n",
    "import signature_functions as sf"
   ]
  },
  {
   "cell_type": "markdown",
   "metadata": {},
   "source": [
    "# inputs"
   ]
  },
  {
   "cell_type": "code",
   "execution_count": 2,
   "metadata": {},
   "outputs": [
    {
     "name": "stderr",
     "output_type": "stream",
     "text": [
      "/tmp/ipykernel_338891/2889669311.py:27: SettingWithCopyWarning: \n",
      "A value is trying to be set on a copy of a slice from a DataFrame\n",
      "\n",
      "See the caveats in the documentation: https://pandas.pydata.org/pandas-docs/stable/user_guide/indexing.html#returning-a-view-versus-a-copy\n",
      "  meta_df[sf.entity_subtypes][meta_df['Sample name'].isin(patients_interest)] = 'NF1--EGFR++'\n"
     ]
    }
   ],
   "source": [
    "config_path = '/media/kusterlab/internal_projects/active/TOPAS/WP31/Playground/Retrospective_study/2023.06.22_AhS_PAPER_COHORT/configs.json'\n",
    "configs = sf.config_reader(config_path)\n",
    "report_dir = configs['results_folder']\n",
    "meta_file_path = configs['metadata_annotation']\n",
    "meta_df = pd.read_excel(meta_file_path)\n",
    "sf.entity_subtypes = 'code_oncotree'\n",
    "path_to_file = f'{report_dir}/kinase_results/kinase_scores.tsv'\n",
    "\n",
    "# signature by t_test\n",
    "intensity_file = pd.read_csv(path_to_file,sep = '\\t').set_index('PSP Kinases')\n",
    "\n",
    "patients_interest =    ['I063-024-2M1-P1',\n",
    "                        'H021-WJQEW5-T1',\n",
    "                        'H021-DWG1JA-T1',\n",
    "                        'H021-8DSJKN-T1-Q1',\n",
    "                        'H021-WFP9B3-M1',\n",
    "                        'H021-DGKVVG-T1',\n",
    "                        'H021-VTEG9B-T1',\n",
    "                        'I007-126-1T1-P1',\n",
    "                        'I049-022-XT1-P1',\n",
    "                        'H021-N8E2BK-M1',\n",
    "                        'H021-YT3YPX-T1-Q1',\n",
    "                        'H021-VDA4RJ-M1',\n",
    "                        'H021-6Q4GQN-M2',\n",
    "                        'I012-003-1T1-P1',\n",
    "                        'I034-052-222996',\n",
    "                        'H021-5WKVYW-T3',\n",
    "                        'I027-023-0T1-P1']\n",
    "meta_df[sf.entity_subtypes][meta_df['Sample name'].isin(patients_interest)] = 'NF1--EGFR++'\n",
    "list_of_interested_entitiese = ['NF1--EGFR++']\n"
   ]
  },
  {
   "cell_type": "code",
   "execution_count": 3,
   "metadata": {},
   "outputs": [],
   "source": [
    "def signature_pipeline(entity):\n",
    "    # Preprocessing\n",
    "    \n",
    "    input_df,list_proteins = sf.prepareDataframeforTest(\n",
    "                                                        intensity_file,\n",
    "                                                        meta=meta_df,\n",
    "                                                        minimum_patients_per_entity = 8,\n",
    "                                                        protein_expressed_in_at_least_percent = 70)\n",
    "\n",
    "    # univariate Analysis with Cross_validation\n",
    "    ROC_univariate_df = sf.univariate_analysis_with_CV_for_all_proteins(input_df,\n",
    "                                                    list_proteins,\n",
    "                                                    entity,\n",
    "                                                    K_folds = 5,\n",
    "                                                    repeats = 1,\n",
    "                                                    threshold = 0.7\n",
    "                                                    )\n",
    "\n",
    "    # T_test\n",
    "    first_t_test_result_df = sf.one_vs_all_t_test(\n",
    "                            input_df,\n",
    "                            list_proteins,\n",
    "                            entity,\n",
    "                            sf.entity_subtypes)\n",
    "    t_test_univariate_df = first_t_test_result_df.merge(ROC_univariate_df,right_on='names',left_on='Gene Names')\n",
    "    t_test_univariate_df = t_test_univariate_df.rename(columns={'Gene Names':'kinase'})\n",
    "    t_test_univariate_df.to_excel(Path(report_dir)/f'kinase_signatures_{entity}vs_all.xlsx')\n",
    "    print(f'{entity}_Finished')\n",
    "    return 'fnished'"
   ]
  },
  {
   "cell_type": "code",
   "execution_count": 4,
   "metadata": {},
   "outputs": [
    {
     "name": "stdout",
     "output_type": "stream",
     "text": [
      "NF1--EGFR++_Finished\n"
     ]
    },
    {
     "name": "stderr",
     "output_type": "stream",
     "text": [
      "/home/amir/topas/Topas_paper_scripts/scripts_for_papers/MTB_scripts/Signatures/signature_functions.py:225: SettingWithCopyWarning: \n",
      "A value is trying to be set on a copy of a slice from a DataFrame\n",
      "\n",
      "See the caveats in the documentation: https://pandas.pydata.org/pandas-docs/stable/user_guide/indexing.html#returning-a-view-versus-a-copy\n",
      "  p_df['up_down'][(p_df['means_group1'] < p_df['means_group2'])] = 'down'\n"
     ]
    },
    {
     "data": {
      "text/plain": [
       "['fnished']"
      ]
     },
     "execution_count": 4,
     "metadata": {},
     "output_type": "execute_result"
    }
   ],
   "source": [
    "[signature_pipeline(x) for x in list_of_interested_entitiese]"
   ]
  },
  {
   "cell_type": "markdown",
   "metadata": {},
   "source": [
    "T_test Cross_validaton"
   ]
  },
  {
   "cell_type": "code",
   "execution_count": 4,
   "metadata": {},
   "outputs": [
    {
     "name": "stderr",
     "output_type": "stream",
     "text": [
      "/home/amir/.local/lib/python3.8/site-packages/sklearn/model_selection/_split.py:684: UserWarning: The least populated class in y has only 3 members, which is less than n_splits=5.\n",
      "  warnings.warn(\n",
      "/home/amir/topas/mtb/mtb_portal/flask-backend/notebooks/Signatures/signature_functions.py:225: SettingWithCopyWarning: \n",
      "A value is trying to be set on a copy of a slice from a DataFrame\n",
      "\n",
      "See the caveats in the documentation: https://pandas.pydata.org/pandas-docs/stable/user_guide/indexing.html#returning-a-view-versus-a-copy\n",
      "  p_df['up_down'][(p_df['means_group1'] < p_df['means_group2'])] = 'down'\n",
      "/home/amir/topas/mtb/mtb_portal/flask-backend/notebooks/Signatures/signature_functions.py:225: SettingWithCopyWarning: \n",
      "A value is trying to be set on a copy of a slice from a DataFrame\n",
      "\n",
      "See the caveats in the documentation: https://pandas.pydata.org/pandas-docs/stable/user_guide/indexing.html#returning-a-view-versus-a-copy\n",
      "  p_df['up_down'][(p_df['means_group1'] < p_df['means_group2'])] = 'down'\n",
      "/home/amir/topas/mtb/mtb_portal/flask-backend/notebooks/Signatures/signature_functions.py:225: SettingWithCopyWarning: \n",
      "A value is trying to be set on a copy of a slice from a DataFrame\n",
      "\n",
      "See the caveats in the documentation: https://pandas.pydata.org/pandas-docs/stable/user_guide/indexing.html#returning-a-view-versus-a-copy\n",
      "  p_df['up_down'][(p_df['means_group1'] < p_df['means_group2'])] = 'down'\n",
      "/home/amir/topas/mtb/mtb_portal/flask-backend/notebooks/Signatures/signature_functions.py:225: SettingWithCopyWarning: \n",
      "A value is trying to be set on a copy of a slice from a DataFrame\n",
      "\n",
      "See the caveats in the documentation: https://pandas.pydata.org/pandas-docs/stable/user_guide/indexing.html#returning-a-view-versus-a-copy\n",
      "  p_df['up_down'][(p_df['means_group1'] < p_df['means_group2'])] = 'down'\n",
      "/home/amir/topas/mtb/mtb_portal/flask-backend/notebooks/Signatures/signature_functions.py:225: SettingWithCopyWarning: \n",
      "A value is trying to be set on a copy of a slice from a DataFrame\n",
      "\n",
      "See the caveats in the documentation: https://pandas.pydata.org/pandas-docs/stable/user_guide/indexing.html#returning-a-view-versus-a-copy\n",
      "  p_df['up_down'][(p_df['means_group1'] < p_df['means_group2'])] = 'down'\n"
     ]
    },
    {
     "data": {
      "image/png": "[encoded data removed]",
      "text/plain": [
       "<Figure size 432x288 with 1 Axes>"
      ]
     },
     "metadata": {
      "needs_background": "light"
     },
     "output_type": "display_data"
    },
    {
     "data": {
      "text/plain": [
       "0.9057726204465335"
      ]
     },
     "execution_count": 4,
     "metadata": {},
     "output_type": "execute_result"
    }
   ],
   "source": [
    "input_df,list_proteins = sf.prepareDataframeforTest(\n",
    "                                                intensity_file,\n",
    "                                                meta=meta_df,\n",
    "                                                minimum_patients_per_entity = 8,\n",
    "                                                protein_expressed_in_at_least_percent = 70)\n",
    "CV_reseults = sf.cross_validation_for_one_vs_all_t_test(\n",
    "                                         input_df,\n",
    "                                         intensity_file,\n",
    "                                         meta_df,\n",
    "                                         \"LMS\",\n",
    "                                         list_proteins,\n",
    "                                         k_folds = 5,\n",
    "                                         num_repeats = 1,\n",
    "                                         p_value_cutoff = None,\n",
    "                                         fdr_cutoff = .01,\n",
    "                                         average_difference_twogroups = .5) \n",
    "sf.ROC_curve_analysis(CV_reseults.labels,CV_reseults.scores,curve_title='LMS kinase scores')"
   ]
  }
 ],
 "metadata": {
  "kernelspec": {
   "display_name": "Python 3.8.10 64-bit",
   "language": "python",
   "name": "python3"
  },
  "language_info": {
   "codemirror_mode": {
    "name": "ipython",
    "version": 3
   },
   "file_extension": ".py",
   "mimetype": "text/x-python",
   "name": "python",
   "nbconvert_exporter": "python",
   "pygments_lexer": "ipython3",
   "version": "3.8.10"
  },
  "orig_nbformat": 4,
  "vscode": {
   "interpreter": {
    "hash": "916dbcbb3f70747c44a77c7bcd40155683ae19c65e1c03b4aa3499c5328201f1"
   }
  }
 },
 "nbformat": 4,
 "nbformat_minor": 2
}
