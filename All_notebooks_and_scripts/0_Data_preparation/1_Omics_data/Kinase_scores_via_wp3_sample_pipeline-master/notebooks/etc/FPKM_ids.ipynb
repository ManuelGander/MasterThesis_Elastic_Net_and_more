{
 "cells": [
  {
   "cell_type": "code",
   "execution_count": 60,
   "metadata": {},
   "outputs": [],
   "source": [
    "import pandas as pd\n",
    "import re\n",
    "fpkm_df = pd.read_csv(\"/media/kusterlab/internal_projects/active/TOPAS/WP31/FPKM/fpkms_230725mitINFORM.csv\")\n",
    "sample_annotation_df = pd.read_csv(\"/media/kusterlab/internal_projects/active/TOPAS/WP31/Searches/patient_annotation_231023_PAN_cancer_copy.csv\")\n",
    "fpkm_df.set_index('Unnamed: 0',inplace=True)\n",
    "fpkm_df_ids = [x.replace(' Z-score','') for x in fpkm_df.columns]\n",
    "sample_annotation_df_ids = sample_annotation_df['Sample name'].tolist()\n",
    "def remove_replicate_from_ids(list_to_proceed):\n",
    "    import re\n",
    "    regex = re.compile(r\"-R[0-9]$\", re.IGNORECASE)\n",
    "    list_regex= [regex.findall(x) for x in list_to_proceed]\n",
    "    list_regex = [x[0] if len(x)>0 else '' for x in list_regex]\n",
    "    for i,x in enumerate(list_regex):\n",
    "        list_to_proceed[i] = list_to_proceed[i].replace(x,'')\n",
    "    return list_to_proceed\n",
    "\n",
    "fpkm_df_ids = remove_replicate_from_ids(fpkm_df_ids)\n",
    "sample_annotation_df_ids = remove_replicate_from_ids(sample_annotation_df_ids)\n",
    "\n",
    "patient_ids_to_be_requested = pd.DataFrame(list(set([x for x in sample_annotation_df_ids if x not in fpkm_df_ids])),columns=['ids'])\n",
    "\n",
    "\n",
    "sample_annotation_df['Sample_name_rep_truncated'] = sample_annotation_df['Sample name'].str.replace(r'-R[0-9]$', '', regex=True)\n",
    "final = patient_ids_to_be_requested.merge(sample_annotation_df,right_on='Sample_name_rep_truncated',left_on='ids',how='inner')\n",
    "final = final[['ids','Batch Name']]\n",
    "final = final.drop_duplicates(subset=['ids'])\n",
    "final.to_excel('/home/amir/Desktop/fpkm_ids_tobe_requested.xlsx')"
   ]
  },
  {
   "cell_type": "code",
   "execution_count": 52,
   "metadata": {},
   "outputs": [],
   "source": []
  },
  {
   "cell_type": "code",
   "execution_count": 54,
   "metadata": {},
   "outputs": [],
   "source": []
  },
  {
   "cell_type": "code",
   "execution_count": 56,
   "metadata": {},
   "outputs": [],
   "source": []
  },
  {
   "cell_type": "code",
   "execution_count": null,
   "metadata": {},
   "outputs": [],
   "source": []
  }
 ],
 "metadata": {
  "kernelspec": {
   "display_name": "Python 3.8.10 64-bit",
   "language": "python",
   "name": "python3"
  },
  "language_info": {
   "codemirror_mode": {
    "name": "ipython",
    "version": 3
   },
   "file_extension": ".py",
   "mimetype": "text/x-python",
   "name": "python",
   "nbconvert_exporter": "python",
   "pygments_lexer": "ipython3",
   "version": "3.8.10"
  },
  "orig_nbformat": 4,
  "vscode": {
   "interpreter": {
    "hash": "916dbcbb3f70747c44a77c7bcd40155683ae19c65e1c03b4aa3499c5328201f1"
   }
  }
 },
 "nbformat": 4,
 "nbformat_minor": 2
}
