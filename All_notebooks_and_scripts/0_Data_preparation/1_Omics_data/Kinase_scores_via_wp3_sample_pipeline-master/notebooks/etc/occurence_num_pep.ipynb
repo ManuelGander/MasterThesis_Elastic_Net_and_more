{
 "cells": [
  {
   "cell_type": "code",
   "execution_count": 81,
   "metadata": {},
   "outputs": [],
   "source": [
    "import pandas as pd\n",
    "REGEX = r'(^\\S+-.+-\\S)|(Reporter intensity corrected)|(^P\\d{6}$)'  # patient identifiers\n",
    "Z_SCORE_REGEX = r'(^\\S+-.+-\\S)|(Reporter intensity corrected)|(^P\\d{6}$) Z-score'\n",
    "REGEX_META = r'^Identification metadata'  # to get num identified pepetides in FP intensity file\n",
    "\n",
    "def load_intensity_scores(instensitypath,key = 'Gene names', regex = REGEX):\n",
    "    intensity_df = pd.read_csv(instensitypath,low_memory=False)\n",
    "    intensity_df.index = intensity_df[key]\n",
    "    intensity_df = intensity_df.filter(regex = regex)\n",
    "    intensity_df = intensity_df.loc[:,~intensity_df.columns.duplicated()].copy()\n",
    "\n",
    "    return intensity_df\n",
    "\n",
    "\n",
    "def unnest_proteingroups(df:pd.DataFrame) -> pd.DataFrame:\n",
    "    \"\"\"\n",
    "    Unnest the protein_groups A;B as two separate rows with the same values\n",
    "    the protein groups are the index of the the pandas dataframe df\n",
    "    \"\"\"\n",
    "    temp_df = df\n",
    "    temp_df['index'] = temp_df.index.str.split(';')\n",
    "    temp_df = temp_df.explode('index')\n",
    "    temp_df = temp_df.set_index('index')\n",
    "    return temp_df\n",
    "\n",
    "\n",
    "\n",
    "def load_intensity_meta_data(instensitypath,key,regex = REGEX_META):\n",
    "    cols = pd.read_csv(instensitypath,low_memory=False, nrows=10).filter(regex=regex).columns.tolist()\n",
    "    cols.append(key)\n",
    "    intensity_df = pd.read_csv(instensitypath,low_memory=False, usecols=cols)\n",
    "    intensity_df.index = intensity_df[key]\n",
    "    intensity_df = intensity_df.loc[:,~intensity_df.columns.duplicated()]\n",
    "    # intensity_df = intensity_df.fillna(0)\n",
    "\n",
    "    return intensity_df.fillna('num_peptides=0;')\n",
    "\n",
    "\n",
    "def get_pep_number_from_protein_name(intensity_df:pd.DataFrame,protein_name:str,regex) -> pd.DataFrame:\n",
    "    \"\"\" \n",
    "    gets the number of the identified pepetides from the protein name across all the patients\n",
    "    :intensity_df: A pandas dataframe of the intensities with Identification metadata columns for each patient \n",
    "    :protein_name: the name of the protein\n",
    "    :USAGE :\n",
    "        get_pep_number_from_protein_name(fp_df,'EGFR')\n",
    "\n",
    "    \"\"\"\n",
    "\n",
    "    try:\n",
    "            \n",
    "        premeta_df = pd.DataFrame(intensity_df.loc[protein_name,:])\n",
    "        premeta_df = premeta_df.filter(regex=regex,axis=0)\n",
    "        premeta_df[protein_name] = premeta_df[protein_name].str.replace('num_peptides=|;','', regex=True)\n",
    "        premeta_df[protein_name] = premeta_df[protein_name].str.replace('detected in batch','0', regex=True) \n",
    "        premeta_df[protein_name] = pd.to_numeric(premeta_df[protein_name])\n",
    "        premeta_df['Sample name'] = premeta_df.index.str.replace('Identification metadata ','', regex=True)\n",
    "        premeta_df.columns = ['num_pep','Sample name']\n",
    "        return premeta_df['num_pep'].median()\n",
    "    except: \n",
    "        return None\n",
    "\n",
    "\n",
    "def get_occurence(identifier,intensity_scores):\n",
    "    try:\n",
    "        df = intensity_scores.T\n",
    "        return df[df.notna()].count()[identifier]\n",
    "    except:\n",
    "        return None\n"
   ]
  },
  {
   "cell_type": "code",
   "execution_count": 23,
   "metadata": {},
   "outputs": [],
   "source": [
    "intensitty_path = '/media/kusterlab/internal_projects/active/TOPAS/WP31/Playground/Retrospective_study/2024.01.17_CJ_pancancer_169/preprocessed_fp.csv'\n",
    "intensity_meta_path =  '/media/kusterlab/internal_projects/active/TOPAS/WP31/Playground/Retrospective_study/2024.01.17_CJ_pancancer_169/preprocessed_fp.csv'\n",
    "intensity_scores = load_intensity_scores(intensitty_path)\n",
    "intensity_scores = unnest_proteingroups(intensity_scores)\n",
    "intensity_meta = load_intensity_meta_data(intensity_meta_path,'Gene names')\n",
    "intensity_meta = unnest_proteingroups(intensity_meta)\n",
    "df = pd.read_csv('Immunotherapy_FFPE.csv')\n",
    "df['occurence'] = df['Gene names'].apply(lambda x:get_occurence(x,intensity_scores))\n",
    "df['median_num_pep'] = df['Gene names'].apply(lambda x:get_pep_number_from_protein_name(intensity_meta,x,regex=REGEX_META))\n",
    "df.to_excel('Immunotherapy_FFPE.xlsx',index=None)"
   ]
  }
 ],
 "metadata": {
  "kernelspec": {
   "display_name": "Python 3.9.12 ('base')",
   "language": "python",
   "name": "python3"
  },
  "language_info": {
   "codemirror_mode": {
    "name": "ipython",
    "version": 3
   },
   "file_extension": ".py",
   "mimetype": "text/x-python",
   "name": "python",
   "nbconvert_exporter": "python",
   "pygments_lexer": "ipython3",
   "version": "3.9.12"
  },
  "orig_nbformat": 4,
  "vscode": {
   "interpreter": {
    "hash": "4823b16e41b1a9e9fc018dbab85830ef30aabb537119fd863cf94307d4e7678c"
   }
  }
 },
 "nbformat": 4,
 "nbformat_minor": 2
}
