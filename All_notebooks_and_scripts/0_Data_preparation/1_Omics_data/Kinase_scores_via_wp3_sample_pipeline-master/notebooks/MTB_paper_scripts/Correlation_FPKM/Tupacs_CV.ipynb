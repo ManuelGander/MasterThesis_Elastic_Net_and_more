{
 "cells": [
  {
   "cell_type": "code",
   "execution_count": 1,
   "metadata": {},
   "outputs": [],
   "source": [
    "import pandas as pd\n",
    "import matplotlib.pyplot as plt\n",
    "import numpy as np\n",
    "%run './functions_needed.ipynb'\n",
    "df_main = pd.read_csv('/media/kusterlab/internal_projects/active/TOPAS/WP31/Playground/Retrospective_study/2023.06.22_AhS_PAPER_COHORT_ref/basket_scores_4th_gen.tsv',sep='\\t')\n",
    "meta_data = pd.read_csv('/media/kusterlab/internal_projects/active/TOPAS/WP31/Searches/patient_annotation_paper_cohort_230626_final.csv')\n",
    "df_main = df_main.set_index(\"Sample\").T\n",
    "\n",
    "patinet_regex= r'(^\\S+-.+-\\S)'"
   ]
  },
  {
   "cell_type": "markdown",
   "metadata": {},
   "source": [
    "# For the patients"
   ]
  },
  {
   "cell_type": "code",
   "execution_count": 2,
   "metadata": {},
   "outputs": [
    {
     "name": "stderr",
     "output_type": "stream",
     "text": [
      "/tmp/ipykernel_515333/3026546880.py:4: SettingWithCopyWarning: \n",
      "A value is trying to be set on a copy of a slice from a DataFrame.\n",
      "Try using .loc[row_indexer,col_indexer] = value instead\n",
      "\n",
      "See the caveats in the documentation: https://pandas.pydata.org/pandas-docs/stable/user_guide/indexing.html#returning-a-view-versus-a-copy\n",
      "  df['Proteins_names'] = df.index\n"
     ]
    }
   ],
   "source": [
    "patients_list = meta_data['Sample name'][meta_data['Batch Name'] < 73].tolist()\n",
    "patients_list = [x for x in patients_list if x not in meta_data['Sample name'][meta_data['Batch Name'] == 16].tolist()]\n",
    "df = df_main[patients_list]\n",
    "df['Proteins_names'] = df.index\n",
    "melted_df = pd.melt(df,id_vars=['Proteins_names'],value_name='value',var_name='variable')\n",
    "cv_df_patients = get_cv_from_melted_df(melted_df)\n",
    "cv_df_patients.columns = ['std_patients','mean_patients','cv_patients','Gene names']"
   ]
  },
  {
   "cell_type": "markdown",
   "metadata": {},
   "source": [
    "# For the ref channels"
   ]
  },
  {
   "cell_type": "code",
   "execution_count": 3,
   "metadata": {},
   "outputs": [],
   "source": [
    "df = df_main.filter(regex='^Reporter intensity corrected 9|^Reporter intensity corrected 10|^Reporter intensity corrected 11')\n",
    "df = df.loc[:,~df.columns.str.contains('Batch16')] # batch 16 was removed as\n",
    "df['Proteins_names'] = df.index\n",
    "melted_df = pd.melt(df,id_vars=['Proteins_names'],value_name='value',var_name='variable')\n",
    "melted_df[\"Batch_name\"] = melted_df.variable.apply(lambda x:x.split('_')[1])\n",
    "melted_df['Batch_name'] = melted_df.Batch_name.str.replace(\"Batch\",'')\n",
    "melted_df.Batch_name = melted_df.Batch_name.astype('int')\n",
    "melted_df = melted_df[melted_df.Batch_name < 73]\n",
    "cv_df = get_cv_from_melted_df(melted_df)"
   ]
  },
  {
   "cell_type": "code",
   "execution_count": 4,
   "metadata": {},
   "outputs": [],
   "source": [
    "all_cvs = cv_df.merge(cv_df_patients,on='Gene names')"
   ]
  },
  {
   "cell_type": "code",
   "execution_count": 7,
   "metadata": {},
   "outputs": [],
   "source": [
    "all_cvs.to_excel('/home/amir/Desktop/CVs_TUPAC_scores.xlsx')"
   ]
  },
  {
   "cell_type": "code",
   "execution_count": 6,
   "metadata": {},
   "outputs": [
    {
     "data": {
      "image/png": "[encoded data removed]",
      "text/plain": [
       "<Figure size 432x288 with 1 Axes>"
      ]
     },
     "metadata": {
      "needs_background": "light"
     },
     "output_type": "display_data"
    }
   ],
   "source": [
    "plt.hist(all_cvs['cv']*100, cumulative=True, bins=np.linspace(0,100,1000), histtype='step', density=True, label='TUPAC_Scores_ref_channels')\n",
    "plt.hist(all_cvs['cv_patients']*100, cumulative=True, bins=np.linspace(0,100,1000), histtype='step', density=True, label='TUPAC_Scores_patients')\n",
    "plt.legend()\n",
    "plt.xlim([0, 100])\n",
    "plt.xlabel('% CV')\n",
    "plt.ylabel('Cumulative frequency')\n",
    "plt.tight_layout()\n",
    "plt.savefig('/home/amir/Desktop/CV_TOPAC_scors_ref_channels.svg',dpi=300)\n"
   ]
  }
 ],
 "metadata": {
  "kernelspec": {
   "display_name": "Python 3.8.10 64-bit",
   "language": "python",
   "name": "python3"
  },
  "language_info": {
   "codemirror_mode": {
    "name": "ipython",
    "version": 3
   },
   "file_extension": ".py",
   "mimetype": "text/x-python",
   "name": "python",
   "nbconvert_exporter": "python",
   "pygments_lexer": "ipython3",
   "version": "3.8.10"
  },
  "orig_nbformat": 4,
  "vscode": {
   "interpreter": {
    "hash": "916dbcbb3f70747c44a77c7bcd40155683ae19c65e1c03b4aa3499c5328201f1"
   }
  }
 },
 "nbformat": 4,
 "nbformat_minor": 2
}
