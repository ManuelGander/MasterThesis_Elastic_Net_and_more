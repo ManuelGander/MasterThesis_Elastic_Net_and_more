{
 "cells": [
  {
   "cell_type": "code",
   "execution_count": 1,
   "metadata": {},
   "outputs": [],
   "source": [
    "%run './functions.ipynb'"
   ]
  },
  {
   "cell_type": "code",
   "execution_count": 2,
   "metadata": {},
   "outputs": [
    {
     "name": "stdout",
     "output_type": "stream",
     "text": [
      "reading /media/kusterlab/internal_projects/active/TOPAS/WP31/Playground/Retrospective_study/2023.06.22_AhS_PAPER_COHORT/preprocessed_fp.csv\n",
      "Intensity meta_data loaded\n"
     ]
    }
   ],
   "source": [
    "meta_df = pd.read_excel(patietns_meta_data)\n",
    "intensity_meta = load_intensity_meta_data(Path(direcroy_path)/Path(PREPROCESSED_FP_INTENSITY),'Gene names')\n",
    "RNA_failed_patients = meta_df['Sample name'][meta_df['RNA QC issue'] == 'x'].tolist()"
   ]
  },
  {
   "cell_type": "markdown",
   "metadata": {},
   "source": [
    "# Correlation with  all Transcript FPKM\n"
   ]
  },
  {
   "cell_type": "code",
   "execution_count": null,
   "metadata": {},
   "outputs": [],
   "source": [
    "#  full proteome_z_scores\n",
    "Z_SCORES_df_proteome = pd.read_csv(Path(direcroy_path)/Path(Z_SCORES_PATH),sep='\\t')\n",
    "Z_SCORES_df_proteome = Z_SCORES_df_proteome.set_index('Gene names')\n",
    "Z_SCORES_df_proteome = Z_SCORES_df_proteome.filter(regex=REGEX)\n",
    "# there is no protein grouping at transcriptome level we unnest the protein groups also for protein data\n",
    "Z_SCORES_df_proteome = unnest_proteingroups(Z_SCORES_df_proteome)\n",
    "Z_SCORES_df_proteome.columns = Z_SCORES_df_proteome.columns.str.replace('zscore_','')\n",
    "\n",
    "# transcriptome_z_scores\n",
    "transcripts_z_scores = pd.read_csv(transcripts_path)\n",
    "transcripts_z_scores = transcripts_z_scores.set_index('genes')\n",
    "transcripts_z_scores =  transcripts_z_scores.filter(regex=Z_SCORE_REGEX)\n",
    "transcripts_z_scores.columns = transcripts_z_scores.columns.str.replace(' Z-score','')\n",
    "\n",
    "protein_list = intersection(transcripts_z_scores.index.tolist(),Z_SCORES_df_proteome.index.tolist())\n",
    "intersecting_patients = intersection(transcripts_z_scores.columns.tolist(),Z_SCORES_df_proteome.columns.tolist())\n",
    "\n",
    "intersecting_patients = [x for x in intersecting_patients if x not in  RNA_failed_patients]\n",
    "Z_SCORES_df_proteome = Z_SCORES_df_proteome[intersecting_patients]\n",
    "transcripts_z_scores = transcripts_z_scores[intersecting_patients]\n",
    "correlation_df = pd.DataFrame(protein_list,columns=['protein'])\n",
    "correlation_df['correlation'] = None\n",
    "correlation_df['num_patients'] = None\n",
    "correlation_df['median_peptides'] = None\n",
    "\n",
    "for i in range(len(correlation_df)):\n",
    "    protein_correlaiton, num_patientes = get_correlation(correlation_df['protein'][i],Z_SCORES_df_proteome,transcripts_z_scores)\n",
    "    correlation_df['correlation'][i] = protein_correlaiton\n",
    "    correlation_df['num_patients'][i] = num_patientes\n",
    "    try:\n",
    "        correlation_df['median_peptides'][i] = get_pep_number_from_protein_name(intensity_meta,correlation_df['protein'][i]).median()\n",
    "    except:\n",
    "        print('no median of the peptides was calculated for this protein')\n",
    "correlation_df = correlation_df.set_index('protein')\n",
    "\n",
    "basket_annotation_df = pd.read_excel(basket_annotation_path)\n",
    "correlation_df['basket_annotation'] = ''\n",
    "for i in range(len(correlation_df)):\n",
    "    correlation_df['basket_annotation'][i] = ';'.join(basket_annotation_df['BASKET'][basket_annotation_df[\"GENE NAME\"].isin([correlation_df.index[i]])].unique().tolist())\n",
    "\n",
    "correlation_df = correlation_df.dropna(subset='correlation')\n",
    "correlation_df.to_excel('~/Desktop/correlation_all_proteins_RNA_failed_removed.xlsx')\n"
   ]
  },
  {
   "cell_type": "code",
   "execution_count": null,
   "metadata": {},
   "outputs": [],
   "source": [
    "get_corelation_scatter_plot_per_prtein('NF1',transcripts_z_scores,Z_SCORES_df_proteome,plot_saving_dir)\n"
   ]
  },
  {
   "cell_type": "markdown",
   "metadata": {},
   "source": [
    "# Correlation df with the Lysates"
   ]
  },
  {
   "cell_type": "code",
   "execution_count": null,
   "metadata": {},
   "outputs": [],
   "source": [
    "# after addin the ne\n",
    "meta_data = pd.read_excel(patietns_meta_data)\n",
    "lysate_samples = meta_data['Sample name'][meta_data['Input Material'] == 'Lysate']\n",
    "#  full proteome_z_scores\n",
    "Z_SCORES_df_proteome = pd.read_csv(Path(direcroy_path)/Path(Z_SCORES_PATH),sep='\\t')\n",
    "Z_SCORES_df_proteome = Z_SCORES_df_proteome.set_index('Gene names')\n",
    "Z_SCORES_df_proteome = Z_SCORES_df_proteome.filter(regex=REGEX)\n",
    "# there is no protein grouping at transcriptome level we unnest the protein groups also for protein data\n",
    "Z_SCORES_df_proteome = unnest_proteingroups(Z_SCORES_df_proteome)\n",
    "Z_SCORES_df_proteome.columns = Z_SCORES_df_proteome.columns.str.replace('zscore_','')\n",
    "\n",
    "# transcriptome_z_scores\n",
    "transcripts_z_scores = pd.read_csv(transcripts_path)\n",
    "transcripts_z_scores = transcripts_z_scores.set_index('genes')\n",
    "transcripts_z_scores =  transcripts_z_scores.filter(regex=Z_SCORE_REGEX)\n",
    "transcripts_z_scores.columns = transcripts_z_scores.columns.str.replace(' Z-score','')\n",
    "\n",
    "\n",
    "samples_to_consider = intersection(transcripts_z_scores.columns,lysate_samples)\n",
    "samples_to_consider = intersection(samples_to_consider,Z_SCORES_df_proteome.columns)\n",
    "samples_to_consider = [x for x in samples_to_consider if x not in  RNA_failed_patients]\n",
    "\n",
    "transcripts_z_scores = transcripts_z_scores[samples_to_consider]\n",
    "Z_SCORES_df_proteome = Z_SCORES_df_proteome[samples_to_consider]\n",
    "\n",
    "\n",
    "protein_list = intersection(transcripts_z_scores.index.tolist(),Z_SCORES_df_proteome.index.tolist())\n",
    "intersecting_patients = intersection(transcripts_z_scores.columns.tolist(),Z_SCORES_df_proteome.columns.tolist())\n",
    "Z_SCORES_df_proteome = Z_SCORES_df_proteome[intersecting_patients]\n",
    "transcripts_z_scores = transcripts_z_scores[intersecting_patients]\n",
    "correlation_df_lysates = pd.DataFrame(protein_list,columns=['protein'])\n",
    "correlation_df_lysates['correlation'] = None\n",
    "correlation_df_lysates['num_patients'] = None\n",
    "for i in range(len(correlation_df)):\n",
    "    protein_correlaiton, num_patientes = get_correlation(correlation_df_lysates['protein'][i],Z_SCORES_df_proteome,transcripts_z_scores)\n",
    "    correlation_df_lysates['correlation'][i] = protein_correlaiton\n",
    "    correlation_df_lysates['num_patients'][i] = num_patientes\n",
    "\n",
    "\n",
    "correlation_df_lysates = correlation_df_lysates.set_index('protein')\n",
    "basket_annotation_df = pd.read_excel(basket_annotation_path)\n",
    "correlation_df_lysates['basket_annotation'] = ''\n",
    "for i in range(len(correlation_df_lysates)):\n",
    "    correlation_df_lysates['basket_annotation'][i] = ';'.join(basket_annotation_df['BASKET'][basket_annotation_df[\"GENE NAME\"].isin([correlation_df_lysates.index[i]])].unique().tolist())\n",
    "\n",
    "\n",
    "correlation_df_lysates = correlation_df_lysates.dropna(subset='correlation')\n",
    "correlation_df_lysates.to_excel('~/Desktop/correlation_df_with_lysates_RNA_failed_removed.xlsx')\n",
    "#samples = pd.DataFrame(samples_to_consider)\n",
    "#samples.columns = ['IDs']\n",
    "correlation_df['protein'] = correlation_df.index\n",
    "correlation_df['type'] = 'all'\n",
    "correlation_df_lysates['protein'] = correlation_df_lysates.index\n",
    "correlation_df_lysates['type'] = 'Lysate'\n",
    "\n",
    "all_correlation_df = pd.concat([correlation_df_lysates,correlation_df])\n",
    "all_correlation_df = all_correlation_df.dropna(subset='correlation')\n"
   ]
  },
  {
   "cell_type": "markdown",
   "metadata": {},
   "source": [
    "# Histogram"
   ]
  },
  {
   "cell_type": "code",
   "execution_count": null,
   "metadata": {},
   "outputs": [],
   "source": [
    "#import plotly.express as px\n",
    "#fig = px.histogram(all_correlation_df, x=\"correlation\",color='type',nbins=100,histnorm='probability density')\n",
    "#fig.show()\n",
    "# libraries & dataset\n",
    "import seaborn as sns\n",
    "import matplotlib.pyplot as plt\n",
    "fig = plt.figure(figsize=(19.20,10.80))\n",
    "# set a grey background (use sns.set_theme() if seaborn version 0.11.0 or above) \n",
    "#sns.set(style=\"darkgrid\")\n",
    "#fig, axs = plt.subplots(1, 2, figsize=(7, 7))\n",
    "#sns.histplot(data=correlation_df_lysates, x=\"correlation\",binwidth=0.1, kde=True, color=\"red\", ax=axs[0],bins=1000)\n",
    "#sns.histplot(data=correlation_df, x=\"correlation\", kde=True, color=\"blue\", ax=axs[1],bins=1000)\n",
    "correlation_df = correlation_df.dropna(subset='correlation')\n",
    "correlation_df_lysates = correlation_df_lysates.dropna(subset='correlation')\n",
    "sns.histplot(data=correlation_df_lysates, x=\"correlation\",label=\"Lysates\",  kde=True,color=\"red\",bins=50) # only for the lysates\n",
    "sns.histplot(data=correlation_df, x=\"correlation\",label=\"All patients\", kde=True, color=\"blue\",bins=50)  # for all patients\n",
    "#plt.axvline(2.8, 0,0.17)\n",
    "plt.legend() \n",
    "#plt.show()\n",
    "plt.savefig(f'{plot_saving_dir}/correlation_FPKM_protein_lysates_vs_all.svg',dpi=300)\n",
    "\n"
   ]
  },
  {
   "cell_type": "markdown",
   "metadata": {},
   "source": [
    "# intensity dynamic range"
   ]
  },
  {
   "cell_type": "code",
   "execution_count": null,
   "metadata": {},
   "outputs": [],
   "source": [
    "# Dynamic range\n",
    "intensity_file = Path(direcroy_path)/Path(PREPROCESSED_FP_INTENSITY)\n",
    "intensity_file_df = pd.read_csv(intensity_file)\n",
    "intensity_file_df = intensity_file_df.set_index('Gene names')\n",
    "intensity_file_df = unnest_proteingroups(intensity_file_df)\n",
    "intensity_file_data = intensity_file_df.filter(regex=REGEX)\n",
    "intensity_file_meta_df = intensity_file_df.filter(regex=REGEX_META)\n",
    "\n",
    "intensity_file_meta_df = intensity_file_meta_df.applymap(str)\n",
    "intensity_file_meta_df = intensity_file_meta_df.applymap(replace_statement)\n",
    "intensity_file_meta_df = intensity_file_meta_df.applymap(lambda x:x.replace('nan','0'))\n",
    "intensity_file_meta_df = intensity_file_meta_df.apply(pd.to_numeric)\n",
    "\n",
    "\n",
    "occurence = intensity_file_data.count(axis=1)\n",
    "mins = intensity_file_data.min(axis=1)\n",
    "maxes = intensity_file_data.max(axis=1)\n",
    "medians = intensity_file_data.median(axis=1)\n",
    "\n",
    "min_num_pep = intensity_file_meta_df.min(axis=1)\n",
    "max_num_pep = intensity_file_meta_df.max(axis =1 )\n",
    "median_num_pep = intensity_file_meta_df.median(axis=1)\n",
    "\n",
    "intensity_file_data['Occurence'] = occurence\n",
    "intensity_file_data['min_intensity'] = mins\n",
    "intensity_file_data['max_intensity'] = maxes\n",
    "intensity_file_data['median_intensity'] = medians\n",
    "\n",
    "intensity_file_meta_df['min_num_pep'] = min_num_pep\n",
    "intensity_file_meta_df['max_num_pep'] = max_num_pep\n",
    "intensity_file_meta_df['median_num_pep'] = median_num_pep\n"
   ]
  },
  {
   "cell_type": "code",
   "execution_count": null,
   "metadata": {},
   "outputs": [],
   "source": [
    "# merging correlation between transcripts and proteome\n",
    "final = pd.concat([intensity_file_meta_df[['min_num_pep','max_num_pep','median_num_pep']],\n",
    "                   intensity_file_data[['min_intensity','max_intensity','median_intensity','Occurence']]],axis=1)\n",
    "final_df = final.merge(correlation_df,right_index=True,left_index=True,how='left')\n"
   ]
  },
  {
   "cell_type": "markdown",
   "metadata": {},
   "source": [
    "# adding basket annotation "
   ]
  },
  {
   "cell_type": "code",
   "execution_count": null,
   "metadata": {},
   "outputs": [],
   "source": [
    "basket_annotation_df = pd.read_excel(basket_annotation_path)\n",
    "final_df['basket_annotation'] = ''\n",
    "for i in range(len(final_df)):\n",
    "    final_df['basket_annotation'][i] = ';'.join(basket_annotation_df['BASKET'][basket_annotation_df[\"GENE NAME\"].isin([final_df.index[i]])].unique().tolist())\n"
   ]
  },
  {
   "cell_type": "markdown",
   "metadata": {},
   "source": [
    "# TUPAC score dynamic range"
   ]
  },
  {
   "cell_type": "code",
   "execution_count": null,
   "metadata": {},
   "outputs": [],
   "source": [
    "basket_scores_df = pd.read_csv(Path(direcroy_path)/BASKET_SCORES_PATH,sep='\\t')\n",
    "basket_scores_df = basket_scores_df.set_index('Sample').T\n",
    "basket_scores_df['min_TUPAC_scores'] = basket_scores_df.min(axis=1)\n",
    "basket_scores_df['max_TUPAC_scores'] = basket_scores_df.max(axis=1)\n",
    "basket_scores_df['median_TUPAC_scores'] = basket_scores_df.median(axis=1)\n",
    "TUPAC_scores_statistics = basket_scores_df[['min_TUPAC_scores','max_TUPAC_scores','median_TUPAC_scores']]"
   ]
  },
  {
   "cell_type": "markdown",
   "metadata": {},
   "source": [
    "# saving the data"
   ]
  },
  {
   "cell_type": "code",
   "execution_count": null,
   "metadata": {},
   "outputs": [],
   "source": [
    "with pd.ExcelWriter(Path(direcroy_path)/'dynamic_ranges_Correlation.xlsx') as writer:  \n",
    "    final_df.to_excel(writer, sheet_name='FP')\n",
    "    TUPAC_scores_statistics.to_excel(writer, sheet_name='TUPAC_SCORES')"
   ]
  }
 ],
 "metadata": {
  "kernelspec": {
   "display_name": "Python 3.8.10 64-bit",
   "language": "python",
   "name": "python3"
  },
  "language_info": {
   "codemirror_mode": {
    "name": "ipython",
    "version": 3
   },
   "file_extension": ".py",
   "mimetype": "text/x-python",
   "name": "python",
   "nbconvert_exporter": "python",
   "pygments_lexer": "ipython3",
   "version": "3.8.10"
  },
  "orig_nbformat": 4,
  "vscode": {
   "interpreter": {
    "hash": "916dbcbb3f70747c44a77c7bcd40155683ae19c65e1c03b4aa3499c5328201f1"
   }
  }
 },
 "nbformat": 4,
 "nbformat_minor": 2
}
