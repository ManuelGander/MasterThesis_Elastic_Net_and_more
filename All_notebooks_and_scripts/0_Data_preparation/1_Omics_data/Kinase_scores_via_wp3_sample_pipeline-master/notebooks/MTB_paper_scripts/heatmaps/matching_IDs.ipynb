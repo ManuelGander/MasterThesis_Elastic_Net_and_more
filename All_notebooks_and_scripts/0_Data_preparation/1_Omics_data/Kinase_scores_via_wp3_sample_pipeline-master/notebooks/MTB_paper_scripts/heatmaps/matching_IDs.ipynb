{
 "cells": [
  {
   "cell_type": "code",
   "execution_count": 1,
   "metadata": {},
   "outputs": [],
   "source": [
    "import pandas as pd"
   ]
  },
  {
   "cell_type": "code",
   "execution_count": 2,
   "metadata": {},
   "outputs": [],
   "source": [
    "mapping_table_path = '/media/kusterlab/internal_projects/active/TOPAS/WP31/Playground/MTBPapercohort_genetic_annotationJH/geneticAnnotation_proteomicsCohort_2023-07-05.xlsx'\n",
    "meta_data_path = '/media/kusterlab/internal_projects/active/TOPAS/WP31/Playground/Retrospective_MTBs_Evaluation/Metadata_Paper cohort_230621.xlsx'"
   ]
  },
  {
   "cell_type": "code",
   "execution_count": 4,
   "metadata": {},
   "outputs": [
    {
     "name": "stderr",
     "output_type": "stream",
     "text": [
      "/tmp/ipykernel_296802/3954317593.py:8: SettingWithCopyWarning: \n",
      "A value is trying to be set on a copy of a slice from a DataFrame\n",
      "\n",
      "See the caveats in the documentation: https://pandas.pydata.org/pandas-docs/stable/user_guide/indexing.html#returning-a-view-versus-a-copy\n",
      "  mapping_table_df['2nd_id'][~(mapping_table_df['2nd_id'].str.startswith('-M')|mapping_table_df['2nd_id'].str.startswith('-T'))] = ''\n",
      "/tmp/ipykernel_296802/3954317593.py:13: SettingWithCopyWarning: \n",
      "A value is trying to be set on a copy of a slice from a DataFrame\n",
      "\n",
      "See the caveats in the documentation: https://pandas.pydata.org/pandas-docs/stable/user_guide/indexing.html#returning-a-view-versus-a-copy\n",
      "  meta_data_df['2nd_id'][~(meta_data_df['2nd_id'].str.startswith('-M')|meta_data_df['2nd_id'].str.startswith('-T'))] = ''\n"
     ]
    }
   ],
   "source": [
    "# by exact matching of the patients with M and T at the end\n",
    "mapping_table_df = pd.read_excel(mapping_table_path)\n",
    "meta_data_df = pd.read_excel(meta_data_path)\n",
    "mapping_table_df['sample_id'] = mapping_table_df[\"dataMASTERID\"].apply(lambda x:x.split('.')[1])\n",
    "mapping_table_df['2nd_id'] = mapping_table_df[\"dataMASTERID\"].apply(lambda x:x.split('.')[2])\n",
    "mapping_table_df['2nd_id'] = mapping_table_df['2nd_id'].str.replace('tumor0','-T')\n",
    "mapping_table_df['2nd_id'] = mapping_table_df['2nd_id'].str.replace('metastasis0','-M')\n",
    "mapping_table_df['2nd_id'][~(mapping_table_df['2nd_id'].str.startswith('-M')|mapping_table_df['2nd_id'].str.startswith('-T'))] = ''\n",
    "mapping_table_df['sample_id'] = mapping_table_df['sample_id'] + mapping_table_df['2nd_id']\n",
    "meta_data_df['sample_id'] = meta_data_df['Sample name'].apply(lambda x:x.split('-')[1])\n",
    "meta_data_df['2nd_id'] =  meta_data_df['Sample name'].apply(lambda x:x.split('-')[2])\n",
    "meta_data_df['2nd_id'] = '-' + meta_data_df['2nd_id']\n",
    "meta_data_df['2nd_id'][~(meta_data_df['2nd_id'].str.startswith('-M')|meta_data_df['2nd_id'].str.startswith('-T'))] = ''\n",
    "meta_data_df['sample_id'] = meta_data_df['sample_id'] + meta_data_df['2nd_id']\n",
    "merged_file = meta_data_df.merge(mapping_table_df,on='sample_id',how='inner')\n",
    "merged_file = merged_file.set_index('dataMASTERID')\n",
    "merged_file.to_excel('~/Desktop/matched_ids.xlsx')"
   ]
  },
  {
   "cell_type": "code",
   "execution_count": 4,
   "metadata": {},
   "outputs": [],
   "source": [
    "# by matching only based on the second identifier\n",
    "mapping_table_df = pd.read_excel(mapping_table_path)\n",
    "meta_data_df = pd.read_excel(meta_data_path)\n",
    "mapping_table_df['sample_id'] = mapping_table_df[\"dataMASTERID\"].apply(lambda x:x.split('.')[1])\n",
    "meta_data_df['sample_id'] = meta_data_df['Sample name'].apply(lambda x:x.split('-')[1])\n",
    "merged_file = meta_data_df.merge(mapping_table_df,on='sample_id',how='left')\n",
    "merged_file = merged_file.set_index('dataMASTERID')\n",
    "merged_file.to_excel('~/Desktop/matched_ids_ignoringT_M.xlsx')"
   ]
  },
  {
   "cell_type": "code",
   "execution_count": 5,
   "metadata": {},
   "outputs": [],
   "source": [
    "merged_file.to_excel('~/Desktop/matched_ids_ignoringT_M.xlsx')"
   ]
  }
 ],
 "metadata": {
  "kernelspec": {
   "display_name": "Python 3.9.12 ('base')",
   "language": "python",
   "name": "python3"
  },
  "language_info": {
   "codemirror_mode": {
    "name": "ipython",
    "version": 3
   },
   "file_extension": ".py",
   "mimetype": "text/x-python",
   "name": "python",
   "nbconvert_exporter": "python",
   "pygments_lexer": "ipython3",
   "version": "3.9.12"
  },
  "orig_nbformat": 4,
  "vscode": {
   "interpreter": {
    "hash": "4823b16e41b1a9e9fc018dbab85830ef30aabb537119fd863cf94307d4e7678c"
   }
  }
 },
 "nbformat": 4,
 "nbformat_minor": 2
}
