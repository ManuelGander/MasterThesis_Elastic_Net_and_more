{
 "cells": [
  {
   "cell_type": "code",
   "execution_count": 2,
   "metadata": {},
   "outputs": [],
   "source": [
    "from pathlib import  Path\n",
    "import pandas as pd\n",
    "report_directory = \"/media/kusterlab/internal_projects/active/TOPAS/WP31/Playground/Retrospective_study/2023.07.03_AhS_PANCANCER_COHORT_batch116\"\n",
    "pp_measures_path = Path(report_directory) / Path('phospho_measures_z.tsv')\n",
    "pp_measure_df = pd.read_csv(pp_measures_path,sep='\\t')\n",
    "\n",
    "\n",
    "\n",
    "\n"
   ]
  },
  {
   "cell_type": "code",
   "execution_count": 17,
   "metadata": {},
   "outputs": [],
   "source": [
    "\n",
    "def get_peps_per_protein_name(protein_of_intereset,pp_measure_df,report_directory):\n",
    "    df = pp_measure_df[pp_measure_df['Gene names'] == protein_of_intereset]\n",
    "    df = df.drop(['Gene names','Proteins'],axis = 1)\n",
    "    df = df.set_index('Modified sequence')\n",
    "    dft  = df.T\n",
    "    dft = dft.dropna(axis=0,how='all')\n",
    "    dft.index = dft.index.str.replace('zscore_','')\n",
    "    dft.to_excel(f'{report_directory}/TERT_peps.xlsx')"
   ]
  },
  {
   "cell_type": "code",
   "execution_count": 19,
   "metadata": {},
   "outputs": [],
   "source": [
    "protein_of_intereset = 'TERT'\n"
   ]
  }
 ],
 "metadata": {
  "kernelspec": {
   "display_name": "Python 3.9.12 ('base')",
   "language": "python",
   "name": "python3"
  },
  "language_info": {
   "codemirror_mode": {
    "name": "ipython",
    "version": 3
   },
   "file_extension": ".py",
   "mimetype": "text/x-python",
   "name": "python",
   "nbconvert_exporter": "python",
   "pygments_lexer": "ipython3",
   "version": "3.9.12"
  },
  "orig_nbformat": 4,
  "vscode": {
   "interpreter": {
    "hash": "4823b16e41b1a9e9fc018dbab85830ef30aabb537119fd863cf94307d4e7678c"
   }
  }
 },
 "nbformat": 4,
 "nbformat_minor": 2
}
