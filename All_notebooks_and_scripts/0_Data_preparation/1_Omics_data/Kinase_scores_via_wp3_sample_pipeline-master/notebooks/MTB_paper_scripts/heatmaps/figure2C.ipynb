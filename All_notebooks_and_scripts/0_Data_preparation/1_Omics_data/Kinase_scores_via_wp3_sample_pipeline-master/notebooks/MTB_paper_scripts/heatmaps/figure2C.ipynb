{
 "cells": [
  {
   "cell_type": "code",
   "execution_count": 59,
   "metadata": {},
   "outputs": [],
   "source": [
    "\n",
    "# heatmap plot\n",
    "\n",
    "import pandas as pd\n",
    "import numpy as np\n",
    "\n",
    "from pathlib import Path"
   ]
  },
  {
   "cell_type": "code",
   "execution_count": 60,
   "metadata": {},
   "outputs": [],
   "source": [
    "phosphorylation_scores_path = '/media/kusterlab/internal_projects/active/TOPAS/WP31/Playground/Retrospective_study/2023.06.22_AhS_PAPER_COHORT/protein_results/protein_scores.tsv'\n",
    "phospho_measure_path = '/media/kusterlab/internal_projects/active/TOPAS/WP31/Playground/Retrospective_study/2023.06.22_AhS_PAPER_COHORT/phospho_measures_z.tsv'\n",
    "sample_annotation_path = \"/media/kusterlab/internal_projects/active/TOPAS/WP31/Searches/patient_annotation_paper_cohort_230626_final.csv\""
   ]
  },
  {
   "cell_type": "code",
   "execution_count": 61,
   "metadata": {},
   "outputs": [],
   "source": [
    "patients_list = [\n",
    "                'H021-W3ZFUV-T1-E1',\n",
    "                'H021-UJBX-M4-Q1',\n",
    "                'H021-8DSJKN-T1-Q1',\n",
    "                'H021-3CX96H-T1',\n",
    "                'H021-M9ZE3G-M1-E1'\n",
    "                ]\n",
    "meta_data_path = '/media/kusterlab/internal_projects/active/TOPAS/WP31/Playground/Retrospective_MTBs_Evaluation/Metadata_Papercohort_230801.xlsx'\n",
    "meta_data = pd.read_excel(meta_data_path)\n",
    "meta = meta_data[meta_data['Sample name'].isin(patients_list)][['Sample name', 'Paper_pseudo_identifier']].set_index('Sample name').to_dict()['Paper_pseudo_identifier']"
   ]
  },
  {
   "cell_type": "code",
   "execution_count": 62,
   "metadata": {},
   "outputs": [],
   "source": [
    "ps_scores = pd.read_csv(phosphorylation_scores_path,sep='\\t')\n",
    "phospho_measure = pd.read_csv(phospho_measure_path,sep='\\t')"
   ]
  },
  {
   "cell_type": "code",
   "execution_count": 63,
   "metadata": {},
   "outputs": [],
   "source": [
    "sample_annotation_df = pd.read_csv(sample_annotation_path)\n",
    "sample_annotation_df = sample_annotation_df[['Sample name','Batch Name']]\n",
    "new_pep_scores_df = phospho_measure.set_index('Modified sequence')\n",
    "new_pep_scores_df = new_pep_scores_df.filter(regex='zscore_')\n",
    "new_pep_scores_df.columns = new_pep_scores_df.columns.str.replace('zscore_','')\n",
    "new_pep_scores_df =  new_pep_scores_df.T\n",
    "new_pep_scores_df = new_pep_scores_df.merge(sample_annotation_df,right_on='Sample name',left_index=True)\n",
    "new_pep_scores_df = new_pep_scores_df.set_index('Batch Name')\n",
    "def get_num_batch_pep(peptide):\n",
    "    test = new_pep_scores_df[peptide]\n",
    "    test = test.dropna()\n",
    "    ans = 0\n",
    "    if len(test) > 0:\n",
    "        ans = len(test.index.unique())\n",
    "    return ans"
   ]
  },
  {
   "cell_type": "code",
   "execution_count": 64,
   "metadata": {},
   "outputs": [],
   "source": [
    "\n",
    "protein_of_interest= \"EGFR\"\n",
    "def get_phospho_score_and_related_peptides_z_scores(peptides_z_scores_df:pd.DataFrame,\n",
    "                                         ps_scores_df:pd.DataFrame,\n",
    "                                         protein_of_interest:str,\n",
    "                                         patients_list:list)-> pd.DataFrame:\n",
    "    \"\"\" \n",
    "    Gets the Phosphorylation scores and peptides z_scores given a protein and list of patients\n",
    "    \n",
    "    :peptides_z_scores_df:  phospho_measures_z.tsv\n",
    "    :ps_scores_df: protein_scores.tsv\n",
    "    :protein_of_interest: like EGFR\n",
    "    :patients_list: a list of patients\n",
    "    \"\"\"\n",
    "    ps_scores_df = ps_scores[ps_scores['Gene names'] == protein_of_interest]\n",
    "    peptides_z_scores_df = phospho_measure[phospho_measure['Gene names'] == protein_of_interest]\n",
    "    peptides_z_scores_df = peptides_z_scores_df.set_index('Modified sequence')\n",
    "    ps_scores_df = ps_scores_df.set_index('Gene names')\n",
    "\n",
    "    peptides_z_scores_df = peptides_z_scores_df.filter(regex='zscore_')\n",
    "    peptides_z_scores_df.columns = peptides_z_scores_df.columns.str.replace('zscore_','')\n",
    "    peptides_z_scores_df = peptides_z_scores_df[patients_list]   \n",
    "\n",
    "    ps_scores_df = ps_scores_df[patients_list]\n",
    "    if all(ps_scores_df.columns == peptides_z_scores_df.columns):\n",
    "        final_df = pd.concat([peptides_z_scores_df,ps_scores_df])\n",
    "    return final_df\n",
    " "
   ]
  },
  {
   "cell_type": "code",
   "execution_count": 65,
   "metadata": {},
   "outputs": [],
   "source": [
    "df = get_phospho_score_and_related_peptides_z_scores(phospho_measure,\n",
    "                                                    ps_scores,\n",
    "                                                    protein_of_interest,\n",
    "                                                    patients_list)\n"
   ]
  },
  {
   "cell_type": "code",
   "execution_count": 66,
   "metadata": {},
   "outputs": [],
   "source": [
    "final_pepe_list =  [x for x in df.index.tolist() if x in new_pep_scores_df.columns]\n",
    "pep_batch_count = list(map(get_num_batch_pep,final_pepe_list))\n",
    "df_pep_batch = pd.DataFrame(list(zip(final_pepe_list,pep_batch_count)),columns=['peptides_lists','counts'])\n",
    "df_removing_pep_batch = df_pep_batch['peptides_lists'][df_pep_batch['counts'] <= 1].tolist()\n",
    "df = df[~df.index.isin(df_removing_pep_batch)]\n",
    "min_df = df.min().min()\n",
    "max_df = df.max().max()\n",
    "df = df.fillna(-4)"
   ]
  },
  {
   "cell_type": "code",
   "execution_count": 67,
   "metadata": {},
   "outputs": [],
   "source": [
    "\n",
    "df = df.loc[:,patients_list]\n",
    "df.columns = df.columns.map(meta)"
   ]
  },
  {
   "cell_type": "code",
   "execution_count": null,
   "metadata": {},
   "outputs": [],
   "source": [
    "# adding psite annotations\n",
    "import psite_annotation as pa\n",
    "df['Modified sequence'] = df.index\n",
    "df['Proteins'] = 'P00533'\n",
    "pa.addPeptideAndPsitePositions(df, pa.pspFastaFile, pspInput = True)\n",
    "df['Site positions'] = df['Site positions'].str.replace(\"P00533_\",'')\n",
    "df['Site positions'][-1] = 'EGFR'\n",
    "df.set_index('Site positions',inplace=True)\n",
    "columns_to_del = [x for x in df.columns if x in ['protein', 'Proteins', 'Start positions', 'End positions','Modified sequence','Site sequence context']]\n",
    "df = df.drop(columns=columns_to_del)"
   ]
  },
  {
   "cell_type": "code",
   "execution_count": 79,
   "metadata": {},
   "outputs": [
    {
     "data": {
      "image/png": "[encoded data removed]",
      "text/plain": [
       "<Figure size 1440x504 with 2 Axes>"
      ]
     },
     "metadata": {
      "needs_background": "light"
     },
     "output_type": "display_data"
    }
   ],
   "source": [
    "# heatmap\n",
    "import seaborn as sns\n",
    "import matplotlib.pyplot as plt\n",
    "from matplotlib import colors\n",
    "plt.rcParams[\"figure.figsize\"] = [20, 7]\n",
    "plt.rcParams[\"figure.autolayout\"] = True\n",
    "cmap = colors.ListedColormap(['grey','blue','wheat','red'])\n",
    "bounds = [-4,min_df,0,2,max_df]\n",
    "norm = colors.BoundaryNorm(bounds,cmap.N)\n",
    "# plot heatmap\n",
    "sns.heatmap(df,cmap=cmap,norm=norm)\n",
    "\n",
    "plt.savefig('phosphorylation_scores_heatmap.svg')\n",
    "plt.show()"
   ]
  },
  {
   "cell_type": "code",
   "execution_count": 68,
   "metadata": {},
   "outputs": [],
   "source": []
  }
 ],
 "metadata": {
  "kernelspec": {
   "display_name": "Python 3.8.10 64-bit",
   "language": "python",
   "name": "python3"
  },
  "language_info": {
   "codemirror_mode": {
    "name": "ipython",
    "version": 3
   },
   "file_extension": ".py",
   "mimetype": "text/x-python",
   "name": "python",
   "nbconvert_exporter": "python",
   "pygments_lexer": "ipython3",
   "version": "3.8.10"
  },
  "orig_nbformat": 4,
  "vscode": {
   "interpreter": {
    "hash": "916dbcbb3f70747c44a77c7bcd40155683ae19c65e1c03b4aa3499c5328201f1"
   }
  }
 },
 "nbformat": 4,
 "nbformat_minor": 2
}
