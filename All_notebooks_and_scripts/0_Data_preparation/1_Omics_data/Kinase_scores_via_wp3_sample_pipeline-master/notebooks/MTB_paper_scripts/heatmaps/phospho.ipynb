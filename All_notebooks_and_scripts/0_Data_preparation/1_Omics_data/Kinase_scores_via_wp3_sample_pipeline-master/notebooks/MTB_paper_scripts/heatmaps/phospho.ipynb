{
 "cells": [
  {
   "cell_type": "code",
   "execution_count": 1,
   "metadata": {},
   "outputs": [],
   "source": [
    "\n",
    "# heatmap plot\n",
    "\n",
    "import pandas as pd\n",
    "import numpy as np\n",
    "\n",
    "from pathlib import Path"
   ]
  },
  {
   "cell_type": "code",
   "execution_count": 2,
   "metadata": {},
   "outputs": [],
   "source": [
    "phosphorylation_scores_path = '/media/kusterlab/internal_projects/active/TOPAS/WP31/Playground/Retrospective_study/2023.06.22_AhS_PAPER_COHORT/protein_results/protein_scores.tsv'\n",
    "#phospho_measure_path = '/media/kusterlab/internal_projects/active/TOPAS/WP31/Playground/Retrospective_study/2023.06.22_AhS_PAPER_COHORT/phospho_measures_z.tsv'\n",
    "sample_annotation_path = \"/media/kusterlab/internal_projects/active/TOPAS/WP31/Searches/patient_annotation_paper_cohort_230626_final.csv\""
   ]
  },
  {
   "cell_type": "code",
   "execution_count": 3,
   "metadata": {},
   "outputs": [],
   "source": [
    "patients_list = [\n",
    "'H021-YHPFMB-T2',\n",
    "'H021-XHP589-M2-R2',\n",
    "'H021-TPPC3H-M2-Q1',\n",
    "'H021-UA4J9Y-T1',\n",
    "'H021-PHLFH6-M4-R2',\n",
    "'H021-3GHH6S-T1',\n",
    "'H021-DTSDEX-M6',\n",
    "'H021-8Z72-T4',\n",
    "'H021-3GHH6S-T1-R2',\n",
    "'H021-ENGUHR-T2',\n",
    "'H021-2A3P6Y-M3-E1',\n",
    "'H021-TPPC3H-M3'\n",
    "                ]\n",
    "meta_data_path = '/media/kusterlab/internal_projects/active/TOPAS/WP31/Playground/Retrospective_MTBs_Evaluation/Metadata_Papercohort_230801.xlsx'\n",
    "meta_data = pd.read_excel(meta_data_path)\n",
    "meta = meta_data[meta_data['Sample name'].isin(patients_list)][['Sample name', 'Paper_pseudo_identifier']].set_index('Sample name').to_dict()['Paper_pseudo_identifier']"
   ]
  },
  {
   "cell_type": "code",
   "execution_count": 8,
   "metadata": {},
   "outputs": [],
   "source": [
    "ps_scores = pd.read_csv(phosphorylation_scores_path,sep='\\t')\n",
    "ps_scores = ps_scores.set_index('Gene names')\n",
    "#phospho_measure = pd.read_csv(phospho_measure_path,sep='\\t')"
   ]
  },
  {
   "cell_type": "code",
   "execution_count": 13,
   "metadata": {},
   "outputs": [],
   "source": [
    "overlapping = [x for x in ps_scores.columns.to_list() if x in patients_list]"
   ]
  },
  {
   "cell_type": "code",
   "execution_count": 15,
   "metadata": {},
   "outputs": [],
   "source": [
    "proteins = ['EGFR',\n",
    "'ERBB2',\n",
    "'ERBB3',\n",
    "'FGFR1',\n",
    "'FGFR4',\n",
    "'FGFR3;FGFR2',\n",
    "'FLT1',\n",
    "'KDR',\n",
    "'FLT4',\n",
    "'PDGFRA;FLT3',\n",
    "'PDGFRB',\n",
    "'AXL',\n",
    "'ALK',\n",
    "'DDR1',\n",
    "'DDR2',\n",
    "'KIT',\n",
    "'RET',\n",
    "'NTRK2',\n",
    "'NTRK3',\n",
    "'IGF1R;INSRR',\n",
    "'MET',\n",
    "'MERTK',\n",
    "'EPHB2',\n",
    "'EPHA2',\n",
    "'EPHA7;EPHA10',\n",
    "'EPHB3',\n",
    "'EPHA4',\n",
    "'EPHA5',\n",
    "'EPHB4',\n",
    "'EPHA3',\n",
    "'EFNB2',\n",
    "'ABL1',\n",
    "'ABL2',\n",
    "'PTK2',\n",
    "'JAK1',\n",
    "'JAK2',\n",
    "'JAK3',\n",
    "'SRC',\n",
    "'YES1',\n",
    "'CSK;MATK',\n",
    "'FGR',\n",
    "'FYN',\n",
    "'LYN',\n",
    "'LCK',\n",
    "'PLK1',\n",
    "'AURKB;AURKC',\n",
    "'AURKA'\n",
    "]"
   ]
  },
  {
   "cell_type": "code",
   "execution_count": 14,
   "metadata": {},
   "outputs": [],
   "source": [
    "\n",
    "df = ps_scores[overlapping]"
   ]
  },
  {
   "cell_type": "code",
   "execution_count": 16,
   "metadata": {},
   "outputs": [],
   "source": [
    "df = df[df.index.isin(proteins)]"
   ]
  },
  {
   "cell_type": "code",
   "execution_count": 18,
   "metadata": {},
   "outputs": [],
   "source": [
    "min_df = df.min().min()\n",
    "max_df = df.max().max()"
   ]
  },
  {
   "cell_type": "code",
   "execution_count": 21,
   "metadata": {},
   "outputs": [],
   "source": [
    "df = df.fillna(-4.2)"
   ]
  },
  {
   "cell_type": "code",
   "execution_count": 22,
   "metadata": {},
   "outputs": [
    {
     "data": {
      "image/png": "[encoded data removed]",
      "text/plain": [
       "<Figure size 1440x504 with 2 Axes>"
      ]
     },
     "metadata": {
      "needs_background": "light"
     },
     "output_type": "display_data"
    }
   ],
   "source": [
    "# heatmap\n",
    "import seaborn as sns\n",
    "import matplotlib.pyplot as plt\n",
    "from matplotlib import colors\n",
    "plt.rcParams[\"figure.figsize\"] = [20, 7]\n",
    "plt.rcParams[\"figure.autolayout\"] = True\n",
    "cmap = colors.ListedColormap(['grey','blue','wheat','red'])\n",
    "bounds = [-4,min_df,0,2,max_df]\n",
    "norm = colors.BoundaryNorm(bounds,cmap.N)\n",
    "# plot heatmap\n",
    "sns.heatmap(df,cmap=cmap,norm=norm)\n",
    "\n",
    "plt.savefig('/home/amir/Desktop/phosphoscores.svg')\n",
    "plt.show()"
   ]
  },
  {
   "cell_type": "code",
   "execution_count": 68,
   "metadata": {},
   "outputs": [],
   "source": []
  }
 ],
 "metadata": {
  "kernelspec": {
   "display_name": "Python 3.8.10 64-bit",
   "language": "python",
   "name": "python3"
  },
  "language_info": {
   "codemirror_mode": {
    "name": "ipython",
    "version": 3
   },
   "file_extension": ".py",
   "mimetype": "text/x-python",
   "name": "python",
   "nbconvert_exporter": "python",
   "pygments_lexer": "ipython3",
   "version": "3.8.10"
  },
  "orig_nbformat": 4,
  "vscode": {
   "interpreter": {
    "hash": "916dbcbb3f70747c44a77c7bcd40155683ae19c65e1c03b4aa3499c5328201f1"
   }
  }
 },
 "nbformat": 4,
 "nbformat_minor": 2
}
