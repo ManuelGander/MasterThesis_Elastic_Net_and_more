{
 "cells": [
  {
   "cell_type": "code",
   "execution_count": null,
   "metadata": {},
   "outputs": [],
   "source": [
    "def get_z_score_per_patient_per_protein_name_pscores(patient,protein,df):\n",
    "    return df.loc[df['Gene names']==protein,patient] .tolist()[0]\n",
    "\n",
    "def get_z_score_per_patient_per_peptides_name_pp(patient,peptide,df):\n",
    "    col = 'zscore_' + patient\n",
    "    return df.loc[df['Modified sequence']==peptide,col] .tolist()[0]\n",
    "\n",
    "def get_z_score_per_patient_per_protein_name_fp(patient,protein,df):\n",
    "    col = 'zscore_' + patient\n",
    "    return df.loc[df['Gene names']==protein,col] .tolist()[0]"
   ]
  }
 ],
 "metadata": {
  "language_info": {
   "name": "python"
  },
  "orig_nbformat": 4
 },
 "nbformat": 4,
 "nbformat_minor": 2
}
