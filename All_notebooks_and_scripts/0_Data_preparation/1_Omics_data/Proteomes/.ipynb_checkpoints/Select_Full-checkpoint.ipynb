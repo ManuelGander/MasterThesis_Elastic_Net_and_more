{
 "cells": [
  {
   "cell_type": "code",
   "execution_count": 1,
   "id": "fdfedf3f",
   "metadata": {},
   "outputs": [],
   "source": [
    "import pandas as pd\n",
    "import numpy as np\n",
    "import seaborn as sns"
   ]
  },
  {
   "cell_type": "code",
   "execution_count": 2,
   "id": "139b5e85",
   "metadata": {},
   "outputs": [],
   "source": [
    "Path='/home/mgander/Atlantic/data/copied_data'"
   ]
  },
  {
   "cell_type": "code",
   "execution_count": 3,
   "id": "4beda194",
   "metadata": {},
   "outputs": [],
   "source": [
    "# The TOPAS data\n",
    "# M=pd.read_pickle(f'{Path}/TMT/TOPAS/M.pkl')"
   ]
  },
  {
   "cell_type": "code",
   "execution_count": 4,
   "id": "5e6c0baa",
   "metadata": {
    "scrolled": true
   },
   "outputs": [],
   "source": [
    "A=pd.read_pickle(f'{Path}/Atlantic/M.pkl')\n",
    "B=pd.read_pickle(f'{Path}/TMT/Patients_and_CYL/M.pkl')\n",
    "C=pd.read_pickle(f'{Path}/TMT/DecryptM/M.pkl')"
   ]
  },
  {
   "cell_type": "code",
   "execution_count": 5,
   "id": "2cbfd816",
   "metadata": {},
   "outputs": [],
   "source": [
    "all_seqs=sorted(set(list(A.index)+list(B.index)+list(C.index)))\n",
    "D_seqs={all_seqs[i]:i for i in range(len(all_seqs))}"
   ]
  },
  {
   "cell_type": "code",
   "execution_count": null,
   "id": "96e1b5c8",
   "metadata": {},
   "outputs": [],
   "source": []
  },
  {
   "cell_type": "code",
   "execution_count": 6,
   "id": "6301e9b4",
   "metadata": {},
   "outputs": [],
   "source": [
    "# Get occurances"
   ]
  },
  {
   "cell_type": "code",
   "execution_count": 7,
   "id": "2307052d",
   "metadata": {},
   "outputs": [],
   "source": [
    "def get_occurences(f_all_seqs, Af, Tf, Df):\n",
    "    dfn=pd.DataFrame(data=np.zeros(len(f_all_seqs)), index=f_all_seqs, columns=['ns'])\n",
    "    dfn.loc[Af.index, 'ns']+=(Af>0).sum(1)\n",
    "    dfn.loc[Tf.index, 'ns']+=(Tf>0).sum(1)\n",
    "    dfn.loc[Df.index, 'ns']+=(Df>0).sum(1)\n",
    "    return(dfn)"
   ]
  },
  {
   "cell_type": "code",
   "execution_count": 17,
   "id": "386a8620",
   "metadata": {},
   "outputs": [],
   "source": [
    "def get_occurences_one(f_all_seqs, Af):\n",
    "    dfn=pd.DataFrame(data=np.zeros(len(f_all_seqs)), index=f_all_seqs, columns=['ns'])\n",
    "    dfn.loc[Af.index, 'ns']+=(Af>0).sum(1)\n",
    "    return(dfn)"
   ]
  },
  {
   "cell_type": "code",
   "execution_count": 18,
   "id": "0f1e7ec1",
   "metadata": {},
   "outputs": [],
   "source": [
    "def matrixify(seqs_all,A,B,C, fr=0.05):\n",
    "    dfn=get_occurences(seqs_all,A,B,C)\n",
    "    seqs_keep=list(dfn[dfn['ns']>(A.shape[1]+B.shape[1]+C.shape[1])*fr].index)\n",
    "    M=pd.DataFrame(np.full((len(seqs_keep), A.shape[1]+B.shape[1]+C.shape[1]), np.NaN), index=seqs_keep)\n",
    "    M=add_data(M, A, 0)\n",
    "    M=add_data(M, B, A.shape[1])\n",
    "    M=add_data(M, C, A.shape[1]+B.shape[1])\n",
    "    cols=list(A.columns)+list(B.columns)+list(C.columns)\n",
    "    M.columns=cols\n",
    "    return(M)"
   ]
  },
  {
   "cell_type": "code",
   "execution_count": 19,
   "id": "bdc985b8",
   "metadata": {},
   "outputs": [],
   "source": [
    "def matrixify_one(seqs_all,A, fr=0.05):\n",
    "    dfn=get_occurences_one(seqs_all,A)\n",
    "    seqs_keep=list(dfn[dfn['ns']>(A.shape[1])*fr].index)\n",
    "    M=pd.DataFrame(np.full((len(seqs_keep), A.shape[1]), np.NaN), index=seqs_keep)\n",
    "    M=add_data(M, A, 0)\n",
    "    cols=list(A.columns)\n",
    "    M.columns=cols\n",
    "    return(M)"
   ]
  },
  {
   "cell_type": "code",
   "execution_count": 20,
   "id": "28190878",
   "metadata": {},
   "outputs": [],
   "source": [
    "def add_data(M, A, l0=0):\n",
    "    As=A.loc[sorted(set(M.index)&set(A.index))].copy()\n",
    "    seqs=list(As.index)\n",
    "    cols=list(As.columns)\n",
    "    M.loc[seqs, l0:l0+A.shape[1]-1]=As.values\n",
    "    return(M)"
   ]
  },
  {
   "cell_type": "markdown",
   "id": "acc27c86",
   "metadata": {},
   "source": [
    "# Make it into matrices"
   ]
  },
  {
   "cell_type": "code",
   "execution_count": 21,
   "id": "400cc529",
   "metadata": {},
   "outputs": [],
   "source": [
    "# This is the cutoff on how many times a peptide at least had to be observed\n",
    "fr=0.05"
   ]
  },
  {
   "cell_type": "code",
   "execution_count": 22,
   "id": "c462e9cc",
   "metadata": {},
   "outputs": [],
   "source": [
    "all_seqs=sorted(set(list(A.index)))\n",
    "D_seqs={all_seqs[i]:i for i in range(len(all_seqs))}\n",
    "M=matrixify_one(all_seqs, A, fr=0.05)"
   ]
  },
  {
   "cell_type": "code",
   "execution_count": null,
   "id": "a700d2da",
   "metadata": {},
   "outputs": [],
   "source": [
    "M=matrixify(all_seqs, A, B, C, fr=0.05)"
   ]
  },
  {
   "cell_type": "code",
   "execution_count": 36,
   "id": "821b3726",
   "metadata": {},
   "outputs": [],
   "source": [
    "# Let's median-normalize here again to get that bias out"
   ]
  },
  {
   "cell_type": "code",
   "execution_count": 23,
   "id": "ad607406",
   "metadata": {},
   "outputs": [
    {
     "data": {
      "text/plain": [
       "0.6068891894253678"
      ]
     },
     "execution_count": 23,
     "metadata": {},
     "output_type": "execute_result"
    }
   ],
   "source": [
    "np.isnan(M).sum().sum()/M.size"
   ]
  },
  {
   "cell_type": "code",
   "execution_count": 24,
   "id": "0b76fef4",
   "metadata": {},
   "outputs": [],
   "source": [
    "Mf=M.loc[[a for a in M.index if a[:2]=='FP']]\n",
    "Mp=M.loc[[a for a in M.index if a[:2]=='PP']]\n",
    "Mf=Mf/np.nanmedian(Mf, 0)\n",
    "Mp=Mp/np.nanmedian(Mp, 0)\n",
    "M=pd.concat([Mf, Mp])"
   ]
  },
  {
   "cell_type": "code",
   "execution_count": 15,
   "id": "343667a4",
   "metadata": {},
   "outputs": [],
   "source": [
    "M=M.iloc[:1000,:].copy()"
   ]
  },
  {
   "cell_type": "markdown",
   "id": "9f5b3173",
   "metadata": {},
   "source": [
    "# Transform TMT-relative values"
   ]
  },
  {
   "cell_type": "code",
   "execution_count": 25,
   "id": "0fdbc8ee",
   "metadata": {},
   "outputs": [],
   "source": [
    "# For the Patients_and_CYL-samples we have the refernce consisting of 4 cell lines (G401, KHOSNP, RD(=RD2), and HS729)\n",
    "# So we need to multiply all of them with this factor\n",
    "# For the DecryptM experiments we multiply with the full-/phosphoproteome of the unperturbet cell lines"
   ]
  },
  {
   "cell_type": "code",
   "execution_count": 26,
   "id": "b5eb33bf",
   "metadata": {},
   "outputs": [],
   "source": [
    "D_ref={}\n",
    "D_ref['Patients']=np.ones(len(M))\n",
    "D_ref['A431']=np.ones(len(M))\n",
    "D_ref['A549']=np.ones(len(M))\n",
    "D_ref['RPMI8226']=np.ones(len(M))\n",
    "D_ref['K562']=np.ones(len(M))\n",
    "D_ref['PC9']=np.ones(len(M))"
   ]
  },
  {
   "cell_type": "code",
   "execution_count": 27,
   "id": "3ac4d0d7",
   "metadata": {},
   "outputs": [
    {
     "name": "stdout",
     "output_type": "stream",
     "text": [
      "0\n",
      "1\n",
      "2\n",
      "3\n",
      "4\n",
      "5\n",
      "6\n",
      "7\n",
      "8\n",
      "9\n",
      "10\n",
      "11\n",
      "12\n",
      "13\n",
      "14\n",
      "15\n",
      "16\n",
      "17\n",
      "18\n",
      "19\n",
      "20\n",
      "21\n",
      "22\n",
      "23\n",
      "24\n",
      "25\n",
      "26\n",
      "27\n",
      "28\n",
      "29\n",
      "30\n",
      "31\n",
      "32\n",
      "33\n",
      "34\n",
      "35\n",
      "36\n",
      "37\n",
      "38\n",
      "39\n",
      "40\n",
      "41\n",
      "42\n",
      "43\n",
      "44\n",
      "45\n",
      "46\n",
      "47\n",
      "48\n",
      "49\n",
      "50\n",
      "51\n",
      "52\n",
      "53\n",
      "54\n",
      "55\n",
      "56\n",
      "57\n",
      "58\n",
      "59\n",
      "60\n",
      "61\n",
      "62\n",
      "63\n",
      "64\n",
      "65\n",
      "66\n",
      "67\n",
      "68\n",
      "69\n",
      "70\n",
      "71\n",
      "72\n",
      "73\n",
      "74\n",
      "75\n",
      "76\n",
      "77\n",
      "78\n",
      "79\n",
      "80\n",
      "81\n",
      "82\n",
      "83\n",
      "84\n",
      "85\n",
      "86\n",
      "87\n",
      "88\n",
      "89\n",
      "90\n",
      "91\n",
      "92\n",
      "93\n",
      "94\n",
      "95\n",
      "96\n",
      "97\n",
      "98\n",
      "99\n",
      "100\n",
      "101\n",
      "102\n",
      "103\n",
      "104\n",
      "105\n",
      "106\n",
      "107\n",
      "108\n",
      "109\n",
      "110\n",
      "111\n",
      "112\n",
      "113\n",
      "114\n",
      "115\n",
      "116\n",
      "117\n",
      "118\n",
      "119\n",
      "120\n",
      "121\n"
     ]
    }
   ],
   "source": [
    "for i,c in enumerate(M.columns):\n",
    "    print(i)\n",
    "    if 'TMT' in c:\n",
    "        data=c.split('_')[0]\n",
    "        ccl=c.split('_')[3]\n",
    "        \n",
    "        if data=='Patients':\n",
    "            M[c]=M[c]*D_ref['Patients']\n",
    "        elif data=='DecryptM':\n",
    "            M[c]=M[c]*D_ref[ccl]"
   ]
  },
  {
   "cell_type": "code",
   "execution_count": 28,
   "id": "7bb4a97e",
   "metadata": {},
   "outputs": [],
   "source": [
    "M.to_pickle(f'{Path}/M_Atl.pkl')"
   ]
  },
  {
   "cell_type": "code",
   "execution_count": 29,
   "id": "f25312a6",
   "metadata": {},
   "outputs": [
    {
     "data": {
      "text/plain": [
       "'/home/mgander/Atlantic/data/copied_data'"
      ]
     },
     "execution_count": 29,
     "metadata": {},
     "output_type": "execute_result"
    }
   ],
   "source": [
    "Path"
   ]
  },
  {
   "cell_type": "code",
   "execution_count": null,
   "id": "8a7b5355",
   "metadata": {},
   "outputs": [],
   "source": []
  },
  {
   "cell_type": "code",
   "execution_count": null,
   "id": "d7853e63",
   "metadata": {},
   "outputs": [],
   "source": []
  },
  {
   "cell_type": "code",
   "execution_count": null,
   "id": "f7891ca7",
   "metadata": {},
   "outputs": [],
   "source": []
  },
  {
   "cell_type": "code",
   "execution_count": null,
   "id": "02340094",
   "metadata": {},
   "outputs": [],
   "source": []
  },
  {
   "cell_type": "code",
   "execution_count": null,
   "id": "fb0cc902",
   "metadata": {},
   "outputs": [],
   "source": []
  },
  {
   "cell_type": "code",
   "execution_count": null,
   "id": "4be79586",
   "metadata": {},
   "outputs": [],
   "source": []
  },
  {
   "cell_type": "code",
   "execution_count": null,
   "id": "b11c9635",
   "metadata": {},
   "outputs": [],
   "source": []
  },
  {
   "cell_type": "code",
   "execution_count": null,
   "id": "b40a45ab",
   "metadata": {},
   "outputs": [],
   "source": []
  },
  {
   "cell_type": "code",
   "execution_count": null,
   "id": "cbacdfa0",
   "metadata": {},
   "outputs": [],
   "source": []
  },
  {
   "cell_type": "code",
   "execution_count": null,
   "id": "0fcee5ce",
   "metadata": {},
   "outputs": [],
   "source": []
  },
  {
   "cell_type": "code",
   "execution_count": null,
   "id": "e5853d6b",
   "metadata": {},
   "outputs": [],
   "source": []
  }
 ],
 "metadata": {
  "kernelspec": {
   "display_name": "phos",
   "language": "python",
   "name": "phos"
  },
  "language_info": {
   "codemirror_mode": {
    "name": "ipython",
    "version": 3
   },
   "file_extension": ".py",
   "mimetype": "text/x-python",
   "name": "python",
   "nbconvert_exporter": "python",
   "pygments_lexer": "ipython3",
   "version": "3.10.5"
  }
 },
 "nbformat": 4,
 "nbformat_minor": 5
}
