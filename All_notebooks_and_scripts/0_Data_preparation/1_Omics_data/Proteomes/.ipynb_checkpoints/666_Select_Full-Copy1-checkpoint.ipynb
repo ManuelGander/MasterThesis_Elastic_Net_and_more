{
 "cells": [
  {
   "cell_type": "code",
   "execution_count": 68,
   "id": "fdfedf3f",
   "metadata": {},
   "outputs": [],
   "source": [
    "import pandas as pd\n",
    "import numpy as np\n",
    "import seaborn as sns"
   ]
  },
  {
   "cell_type": "code",
   "execution_count": 69,
   "id": "139b5e85",
   "metadata": {},
   "outputs": [],
   "source": [
    "Path='/home/mgander/Atlantic/data/copied_data/'"
   ]
  },
  {
   "cell_type": "code",
   "execution_count": 3,
   "id": "5e6c0baa",
   "metadata": {},
   "outputs": [],
   "source": [
    "Af=pd.read_pickle(f'{Path}/Atlantic/F_M.pkl')\n",
    "Ap=pd.read_pickle(f'{Path}/Atlantic/P_M.pkl')\n",
    "\n",
    "Tf=pd.read_pickle(f'{Path}/TMT/Patients_and_CYL/FP_matrix.pkl')\n",
    "Tp=pd.read_pickle(f'{Path}/TMT/Patients_and_CYL/PP_matrix.pkl')\n",
    "Tf.columns=[a[3:] for a in Tf.columns]\n",
    "Tp.columns=[a[3:] for a in Tp.columns]\n",
    "\n",
    "Df=pd.read_pickle(f'{Path}/TMT/DecryptM/FP_matrix.pkl')\n",
    "Dp=pd.read_pickle(f'{Path}/TMT/DecryptM/PP_matrix.pkl')"
   ]
  },
  {
   "cell_type": "code",
   "execution_count": 4,
   "id": "2cbfd816",
   "metadata": {},
   "outputs": [],
   "source": [
    "f_all_seqs=sorted(set(list(Af.index)+list(Tf.index)+list(Df.index)))\n",
    "p_all_seqs=sorted(set(list(Ap.index)+list(Tp.index)+list(Dp.index)))\n",
    "D_f={f_all_seqs[i]:i for i in range(len(f_all_seqs))}"
   ]
  },
  {
   "cell_type": "code",
   "execution_count": 5,
   "id": "5f39f5cf",
   "metadata": {},
   "outputs": [],
   "source": [
    "A_cols_kept=sorted(set(Af.columns)&set(Ap.columns))\n",
    "T_cols_kept=sorted(set(Tf.columns)&set(Tp.columns))\n",
    "D_cols_kept=sorted(set(Df.columns)&set(Dp.columns))"
   ]
  },
  {
   "cell_type": "code",
   "execution_count": 6,
   "id": "47f68511",
   "metadata": {},
   "outputs": [],
   "source": [
    "Af=Af[A_cols_kept].copy()\n",
    "Ap=Ap[A_cols_kept].copy()\n",
    "\n",
    "Tf=Tf[T_cols_kept].copy()\n",
    "Tp=Tp[T_cols_kept].copy()\n",
    "\n",
    "Df=Df[D_cols_kept].copy()\n",
    "Dp=Dp[D_cols_kept].copy()"
   ]
  },
  {
   "cell_type": "code",
   "execution_count": null,
   "id": "006217a1",
   "metadata": {},
   "outputs": [],
   "source": []
  },
  {
   "cell_type": "code",
   "execution_count": 7,
   "id": "de436826",
   "metadata": {},
   "outputs": [],
   "source": [
    "# Get occurances"
   ]
  },
  {
   "cell_type": "code",
   "execution_count": 23,
   "id": "588697c5",
   "metadata": {},
   "outputs": [],
   "source": [
    "dfn=pd.DataFrame(data=np.zeros(len(f_all_seqs)), index=f_all_seqs, columns=['ns'])\n",
    "dpn=pd.DataFrame(data=np.zeros(len(p_all_seqs)), index=p_all_seqs, columns=['ns'])"
   ]
  },
  {
   "cell_type": "code",
   "execution_count": 24,
   "id": "cdfe4700",
   "metadata": {},
   "outputs": [],
   "source": [
    "dfn.loc[Af.index, 'ns']+=(Af>0).sum(1)\n",
    "dfn.loc[Tf.index, 'ns']+=(Tf>0).sum(1)\n",
    "dfn.loc[Df.index, 'ns']+=(Df>0).sum(1)\n",
    "\n",
    "dpn.loc[Ap.index, 'ns']+=(Ap>0).sum(1)\n",
    "dpn.loc[Tp.index, 'ns']+=(Tp>0).sum(1)\n",
    "dpn.loc[Dp.index, 'ns']+=(Dp>0).sum(1)"
   ]
  },
  {
   "cell_type": "code",
   "execution_count": 61,
   "id": "8d720065",
   "metadata": {},
   "outputs": [],
   "source": [
    "fr=0.05\n",
    "f_seqs_keep=list(dfn[dfn['ns']>(len(A_cols_kept)+len(T_cols_kept)+len(D_cols_kept))*fr].index)\n",
    "p_seqs_keep=list(dpn[dpn['ns']>(len(A_cols_kept)+len(T_cols_kept)+len(D_cols_kept))*fr].index)"
   ]
  },
  {
   "cell_type": "code",
   "execution_count": 63,
   "id": "40838fe0",
   "metadata": {},
   "outputs": [],
   "source": [
    "D_f={f_seqs_keep[i]:i for i in range(len(f_seqs_keep))}\n",
    "D_p={p_seqs_keep[i]:i for i in range(len(p_seqs_keep))}"
   ]
  },
  {
   "cell_type": "code",
   "execution_count": null,
   "id": "4d59a35a",
   "metadata": {},
   "outputs": [],
   "source": []
  },
  {
   "cell_type": "code",
   "execution_count": 64,
   "id": "1f1c9f01",
   "metadata": {},
   "outputs": [],
   "source": [
    "M=np.full((len(f_seqs_keep)+len(p_seqs_keep), Af.shape[1]+Tf.shape[1]+Df.shape[1]), np.NaN)"
   ]
  },
  {
   "cell_type": "code",
   "execution_count": null,
   "id": "f1079af4",
   "metadata": {},
   "outputs": [],
   "source": []
  },
  {
   "cell_type": "code",
   "execution_count": null,
   "id": "654a8131",
   "metadata": {},
   "outputs": [],
   "source": []
  },
  {
   "cell_type": "code",
   "execution_count": null,
   "id": "1c9e3054",
   "metadata": {},
   "outputs": [],
   "source": []
  },
  {
   "cell_type": "code",
   "execution_count": null,
   "id": "13d84db6",
   "metadata": {},
   "outputs": [],
   "source": []
  },
  {
   "cell_type": "code",
   "execution_count": null,
   "id": "4e0b191d",
   "metadata": {},
   "outputs": [],
   "source": []
  },
  {
   "cell_type": "code",
   "execution_count": null,
   "id": "74552c5d",
   "metadata": {},
   "outputs": [],
   "source": []
  },
  {
   "cell_type": "code",
   "execution_count": null,
   "id": "6f6757e5",
   "metadata": {},
   "outputs": [],
   "source": []
  },
  {
   "cell_type": "code",
   "execution_count": null,
   "id": "114c8851",
   "metadata": {},
   "outputs": [],
   "source": []
  },
  {
   "cell_type": "code",
   "execution_count": null,
   "id": "46e21e3f",
   "metadata": {},
   "outputs": [],
   "source": []
  },
  {
   "cell_type": "code",
   "execution_count": null,
   "id": "db684795",
   "metadata": {},
   "outputs": [],
   "source": []
  },
  {
   "cell_type": "code",
   "execution_count": null,
   "id": "c73dd414",
   "metadata": {},
   "outputs": [],
   "source": []
  },
  {
   "cell_type": "code",
   "execution_count": null,
   "id": "6ba8562b",
   "metadata": {},
   "outputs": [],
   "source": []
  },
  {
   "cell_type": "code",
   "execution_count": null,
   "id": "eef9b0ec",
   "metadata": {},
   "outputs": [],
   "source": []
  },
  {
   "cell_type": "code",
   "execution_count": null,
   "id": "f80f1d2b",
   "metadata": {},
   "outputs": [],
   "source": []
  }
 ],
 "metadata": {
  "kernelspec": {
   "display_name": "phos",
   "language": "python",
   "name": "phos"
  },
  "language_info": {
   "codemirror_mode": {
    "name": "ipython",
    "version": 3
   },
   "file_extension": ".py",
   "mimetype": "text/x-python",
   "name": "python",
   "nbconvert_exporter": "python",
   "pygments_lexer": "ipython3",
   "version": "3.10.5"
  }
 },
 "nbformat": 4,
 "nbformat_minor": 5
}
