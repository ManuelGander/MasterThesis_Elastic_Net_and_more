{
 "cells": [
  {
   "cell_type": "code",
   "execution_count": 1,
   "id": "0e769762",
   "metadata": {},
   "outputs": [],
   "source": [
    "import numpy as np\n",
    "import anndata\n",
    "import pandas as pd\n",
    "import scanpy as sc\n",
    "import scipy\n",
    "import seaborn as sns\n",
    "import networkx as nx\n",
    "import matplotlib.pyplot as plt\n",
    "from os import listdir\n",
    "from os.path import isfile, join, isdir\n",
    "import re"
   ]
  },
  {
   "cell_type": "code",
   "execution_count": 2,
   "id": "28b6f92b",
   "metadata": {},
   "outputs": [],
   "source": [
    "Path0='/media/kusterlab/internal_projects/active/TOPAS/WP31/Searches'\n",
    "Path1='/home/mgander/Atlantic/data/copied_data'"
   ]
  },
  {
   "cell_type": "code",
   "execution_count": 3,
   "id": "01a6a035",
   "metadata": {},
   "outputs": [],
   "source": [
    "def fix_modifications(mods):\n",
    "    # Fix Modifications\n",
    "    replace_with=[('_(Acetyl (Protein N-term))','_(ac)'),\n",
    "                    ('pT','T(ph)'), ('pS','S(ph)'), ('pY','Y(ph)'), ('(Oxidation (M))','M(ox)'),\n",
    "                  ('(Phospho (STY))', '(ph)')]\n",
    "    new_mods=[]\n",
    "    for m in mods:\n",
    "        for t in replace_with:\n",
    "            m=m.replace(t[0], t[1])\n",
    "        new_mods.append(m)\n",
    "    return(new_mods)"
   ]
  },
  {
   "cell_type": "code",
   "execution_count": 4,
   "id": "f9e5b9b3",
   "metadata": {},
   "outputs": [],
   "source": [
    "def load_all_exp(cancertype, pattern, cols_kept):\n",
    "    mypath=Path0+'/'+cancertype\n",
    "    onlydir = [f for f in listdir(mypath) if isdir(join(mypath, f))]\n",
    "    \n",
    "    kept=[]\n",
    "    for a in onlydir:\n",
    "        matches = re.findall(pattern, a)\n",
    "        if len(matches)==1:\n",
    "            kept.append(matches[0])\n",
    "        elif len(matches)>1:\n",
    "            print(matches)\n",
    "    \n",
    "    evs=[]\n",
    "    for k in kept:\n",
    "        print(k)\n",
    "        df=pd.read_csv(f'{Path0}/{cancertype}/{k}/combined/txt/evidence.txt', sep='\\t')\n",
    "        dfs=df[cols_kept].copy()\n",
    "        dfs=dfs.sort_values('Score')\n",
    "        dfs=dfs.drop_duplicates(subset=['Modified sequence']).copy()\n",
    "        dfs['Experiment']=k\n",
    "        dfs['Cancertype']=cancertype\n",
    "        evs.append(dfs)\n",
    "    Df=pd.concat(evs, ignore_index=True)\n",
    "    return(Df)"
   ]
  },
  {
   "cell_type": "code",
   "execution_count": 5,
   "id": "2957f450",
   "metadata": {},
   "outputs": [],
   "source": [
    "pattern = r'Batch\\d+_[FP]P.*'\n",
    "cols_kept=['Proteins', 'Modified sequence', 'Gene names', 'Score']+[f'Reporter intensity corrected {i}' for i in range(1,12)]"
   ]
  },
  {
   "cell_type": "markdown",
   "id": "aaa712c1",
   "metadata": {},
   "source": [
    "# Chordoma"
   ]
  },
  {
   "cell_type": "code",
   "execution_count": 6,
   "id": "e8a6ee85",
   "metadata": {},
   "outputs": [
    {
     "name": "stdout",
     "output_type": "stream",
     "text": [
      "Batch62_PP_Chordoma_redo\n",
      "Batch64_PP_Chordoma\n",
      "Batch63_PP_Chordoma_redo\n"
     ]
    },
    {
     "name": "stderr",
     "output_type": "stream",
     "text": [
      "/tmp/ipykernel_22725/1304637186.py:16: DtypeWarning: Columns (92) have mixed types. Specify dtype option on import or set low_memory=False.\n",
      "  df=pd.read_csv(f'{Path0}/{cancertype}/{k}/combined/txt/evidence.txt', sep='\\t')\n"
     ]
    },
    {
     "name": "stdout",
     "output_type": "stream",
     "text": [
      "Batch63_FP_Chordoma\n",
      "Batch65_PP_Chordoma_redo\n",
      "Batch62_FP_Chordoma\n",
      "Batch64_FP_Chordoma\n",
      "Batch65_FP_Chordoma\n"
     ]
    },
    {
     "name": "stderr",
     "output_type": "stream",
     "text": [
      "/tmp/ipykernel_22725/1304637186.py:16: DtypeWarning: Columns (100) have mixed types. Specify dtype option on import or set low_memory=False.\n",
      "  df=pd.read_csv(f'{Path0}/{cancertype}/{k}/combined/txt/evidence.txt', sep='\\t')\n"
     ]
    },
    {
     "name": "stdout",
     "output_type": "stream",
     "text": [
      "Batch36_FP_MASTER_INFORM\n",
      "Batch36_PP_MASTER_INFORM\n"
     ]
    }
   ],
   "source": [
    "cancertype='Chordoma'\n",
    "Df0=load_all_exp(cancertype, pattern, cols_kept)"
   ]
  },
  {
   "cell_type": "code",
   "execution_count": 7,
   "id": "c3510ca7",
   "metadata": {
    "scrolled": true
   },
   "outputs": [
    {
     "name": "stdout",
     "output_type": "stream",
     "text": [
      "Batch26_FP_MASTER\n"
     ]
    },
    {
     "name": "stderr",
     "output_type": "stream",
     "text": [
      "/tmp/ipykernel_22725/1304637186.py:16: DtypeWarning: Columns (91,100) have mixed types. Specify dtype option on import or set low_memory=False.\n",
      "  df=pd.read_csv(f'{Path0}/{cancertype}/{k}/combined/txt/evidence.txt', sep='\\t')\n"
     ]
    },
    {
     "name": "stdout",
     "output_type": "stream",
     "text": [
      "Batch18_PP_MASTER\n",
      "Batch22_PP_INFORM\n",
      "Batch23_PP_INFORM\n",
      "Batch27_FP_MASTER\n",
      "Batch21_PP_MASTER\n",
      "Batch1_PP_INFORM_MASTER\n",
      "Batch28_FP_MASTER\n",
      "Batch2_PP_MASTER\n",
      "Batch3_PP_MASTER\n",
      "Batch1_FP_INFORM_MASTER\n"
     ]
    },
    {
     "name": "stderr",
     "output_type": "stream",
     "text": [
      "/tmp/ipykernel_22725/1304637186.py:16: DtypeWarning: Columns (100) have mixed types. Specify dtype option on import or set low_memory=False.\n",
      "  df=pd.read_csv(f'{Path0}/{cancertype}/{k}/combined/txt/evidence.txt', sep='\\t')\n"
     ]
    },
    {
     "name": "stdout",
     "output_type": "stream",
     "text": [
      "Batch2_FP_MASTER\n",
      "Batch4_PP_MASTER_redo\n",
      "Batch3_FP_MASTER\n",
      "Batch5_PP_MASTER_redo\n",
      "Batch4_FP_MASTER_redo\n",
      "Batch26_PP_MASTER\n"
     ]
    },
    {
     "name": "stderr",
     "output_type": "stream",
     "text": [
      "/tmp/ipykernel_22725/1304637186.py:16: DtypeWarning: Columns (5,8,92,94,97,100,101) have mixed types. Specify dtype option on import or set low_memory=False.\n",
      "  df=pd.read_csv(f'{Path0}/{cancertype}/{k}/combined/txt/evidence.txt', sep='\\t')\n"
     ]
    },
    {
     "name": "stdout",
     "output_type": "stream",
     "text": [
      "Batch5_FP_MASTER_redo\n",
      "Batch6_PP_MASTER_redo\n",
      "Batch6_FP_MASTER_redo\n",
      "Batch7_PP_MASTER_redo\n",
      "Batch7_FP_MASTER_redo\n",
      "Batch8_PP_MASTER_redo\n",
      "Batch8_FP_MASTER_redo\n",
      "Batch9_PP_MASTER_redo\n",
      "Batch9_FP_MASTER_redo\n",
      "Batch10_PP_MASTER_redo\n",
      "Batch10_FP_MASTER_redo\n",
      "Batch25_PP_INFORM\n",
      "Batch11_FP_MASTER_redo\n",
      "Batch11_PP_MASTER_redo\n",
      "Batch12_FP_MASTER\n"
     ]
    },
    {
     "name": "stderr",
     "output_type": "stream",
     "text": [
      "/tmp/ipykernel_22725/1304637186.py:16: DtypeWarning: Columns (100) have mixed types. Specify dtype option on import or set low_memory=False.\n",
      "  df=pd.read_csv(f'{Path0}/{cancertype}/{k}/combined/txt/evidence.txt', sep='\\t')\n"
     ]
    },
    {
     "name": "stdout",
     "output_type": "stream",
     "text": [
      "Batch15_FP_MASTER\n",
      "Batch29_PP_INFORM_redo\n",
      "Batch16_FP_MASTER\n",
      "Batch16_PP_MASTER\n",
      "Batch17_FP_MASTER\n",
      "Batch18_FP_MASTER\n",
      "Batch20_PP_MASTER\n",
      "Batch20_FP_MASTER\n"
     ]
    },
    {
     "name": "stderr",
     "output_type": "stream",
     "text": [
      "/tmp/ipykernel_22725/1304637186.py:16: DtypeWarning: Columns (91,100) have mixed types. Specify dtype option on import or set low_memory=False.\n",
      "  df=pd.read_csv(f'{Path0}/{cancertype}/{k}/combined/txt/evidence.txt', sep='\\t')\n"
     ]
    },
    {
     "name": "stdout",
     "output_type": "stream",
     "text": [
      "Batch17_PP_MASTER\n",
      "Batch21_FP_MASTER\n",
      "Batch27_PP_MASTER\n",
      "Batch22_FP_INFORM\n",
      "Batch44_PP_MASTER\n",
      "Batch33_PP_MASTER\n",
      "Batch46_FP_MASTER\n",
      "Batch39_FP_MASTER\n",
      "Batch40_PP_MASTER_redo\n",
      "Batch41_PP_MASTER_redo\n",
      "Batch46_PP_MASTER\n",
      "Batch45_FP_MASTER\n",
      "Batch45_PP_MASTER\n"
     ]
    },
    {
     "name": "stderr",
     "output_type": "stream",
     "text": [
      "/tmp/ipykernel_22725/1304637186.py:16: DtypeWarning: Columns (97) have mixed types. Specify dtype option on import or set low_memory=False.\n",
      "  df=pd.read_csv(f'{Path0}/{cancertype}/{k}/combined/txt/evidence.txt', sep='\\t')\n"
     ]
    },
    {
     "name": "stdout",
     "output_type": "stream",
     "text": [
      "Batch49_PP_MASTER\n",
      "Batch50_PP_MASTER\n",
      "Batch50_FP_MASTER\n",
      "Batch51_FP_MASTER\n",
      "Batch51_PP_MASTER\n",
      "Batch52_FP_MASTER\n",
      "Batch52_PP_MASTER\n",
      "Batch53_FP_MASTER\n",
      "Batch55_PP_MASTER\n",
      "Batch54_PP_MASTER\n",
      "Batch54_FP_MASTER\n",
      "Batch53_PP_MASTER_redo\n",
      "Batch56_PP_INFORM_redo\n",
      "Batch56_FP_INFORM\n",
      "Batch55_FP_MASTER\n",
      "Batch57_PP_INFORM\n",
      "Batch57_FP_INFORM\n"
     ]
    },
    {
     "name": "stderr",
     "output_type": "stream",
     "text": [
      "/tmp/ipykernel_22725/1304637186.py:16: DtypeWarning: Columns (100) have mixed types. Specify dtype option on import or set low_memory=False.\n",
      "  df=pd.read_csv(f'{Path0}/{cancertype}/{k}/combined/txt/evidence.txt', sep='\\t')\n"
     ]
    },
    {
     "name": "stdout",
     "output_type": "stream",
     "text": [
      "Batch58_PP_MASTER\n",
      "Batch58_FP_MASTER\n",
      "Batch59_FP_INFORM\n"
     ]
    },
    {
     "name": "stderr",
     "output_type": "stream",
     "text": [
      "/tmp/ipykernel_22725/1304637186.py:16: DtypeWarning: Columns (100) have mixed types. Specify dtype option on import or set low_memory=False.\n",
      "  df=pd.read_csv(f'{Path0}/{cancertype}/{k}/combined/txt/evidence.txt', sep='\\t')\n"
     ]
    },
    {
     "name": "stdout",
     "output_type": "stream",
     "text": [
      "Batch59_PP_INFORM\n",
      "Batch60_FP_MASTER\n",
      "Batch60_PP_MASTER\n",
      "Batch66_FP_INFORM\n",
      "Batch66_PP_INFORM\n",
      "Batch67_FP_MASTER\n",
      "Batch67_PP_MASTER\n",
      "Batch68_PP_MASTER\n",
      "Batch68_FP_MASTER\n",
      "Batch70_FP_INFORM\n",
      "Batch70_PP_INFORM\n",
      "Batch92_FP_CATCH\n",
      "Batch69_FP_INFORM\n",
      "Batch71_PP_MASTER\n",
      "Batch72_PP_MASTER\n",
      "Batch71_FP_MASTER\n",
      "Batch69_PP_INFORM_redo\n",
      "Batch72_FP_INFORM\n",
      "Batch74_PP_MASTER\n",
      "Batch74_FP_MASTER\n"
     ]
    },
    {
     "name": "stderr",
     "output_type": "stream",
     "text": [
      "/tmp/ipykernel_22725/1304637186.py:16: DtypeWarning: Columns (100) have mixed types. Specify dtype option on import or set low_memory=False.\n",
      "  df=pd.read_csv(f'{Path0}/{cancertype}/{k}/combined/txt/evidence.txt', sep='\\t')\n"
     ]
    },
    {
     "name": "stdout",
     "output_type": "stream",
     "text": [
      "Batch73_PP_MASTER\n",
      "Batch73_FP_MASTER\n",
      "Batch75_FP_MASTER\n",
      "Batch75_PP_MASTER\n",
      "Batch76_FP_MASTER\n",
      "Batch77_PP_MASTER\n",
      "Batch76_PP_MASTER\n",
      "Batch83_FP_MASTER\n",
      "Batch77_FP_INFORM\n",
      "Batch79_FP_MASTER\n",
      "Batch78_FP_MASTER\n",
      "Batch81_FP_MASTER\n",
      "Batch80_FP_MASTER\n"
     ]
    },
    {
     "name": "stderr",
     "output_type": "stream",
     "text": [
      "/tmp/ipykernel_22725/1304637186.py:16: DtypeWarning: Columns (91,100) have mixed types. Specify dtype option on import or set low_memory=False.\n",
      "  df=pd.read_csv(f'{Path0}/{cancertype}/{k}/combined/txt/evidence.txt', sep='\\t')\n"
     ]
    },
    {
     "name": "stdout",
     "output_type": "stream",
     "text": [
      "Batch80_PP_MASTER\n",
      "Batch79_PP_MASTER_redo\n",
      "Batch81_PP_MASTER\n",
      "Batch82_FP_MASTER\n",
      "Batch82_PP_MASTER\n"
     ]
    },
    {
     "name": "stderr",
     "output_type": "stream",
     "text": [
      "/tmp/ipykernel_22725/1304637186.py:16: DtypeWarning: Columns (92) have mixed types. Specify dtype option on import or set low_memory=False.\n",
      "  df=pd.read_csv(f'{Path0}/{cancertype}/{k}/combined/txt/evidence.txt', sep='\\t')\n"
     ]
    },
    {
     "name": "stdout",
     "output_type": "stream",
     "text": [
      "Batch78_PP_MASTER_redo\n",
      "Batch84_FP_MASTER\n",
      "Batch83_PP_MASTER\n",
      "Batch84_PP_MASTER\n",
      "Batch85_FP_MASTER\n",
      "Batch86_FP_MASTER\n"
     ]
    },
    {
     "name": "stderr",
     "output_type": "stream",
     "text": [
      "/tmp/ipykernel_22725/1304637186.py:16: DtypeWarning: Columns (100) have mixed types. Specify dtype option on import or set low_memory=False.\n",
      "  df=pd.read_csv(f'{Path0}/{cancertype}/{k}/combined/txt/evidence.txt', sep='\\t')\n"
     ]
    },
    {
     "name": "stdout",
     "output_type": "stream",
     "text": [
      "Batch85_PP_MASTER\n",
      "Batch86_PP_MASTER\n",
      "Batch87_PP_MASTER\n",
      "Batch88_FP_MASTER\n",
      "Batch87_FP_MASTER_redo\n",
      "Batch88_PP_MASTER\n",
      "Batch89_FP_MASTER\n",
      "Batch89_PP_MASTER\n",
      "Batch90_PP_MASTER\n",
      "Batch91_PP_MASTER\n",
      "Batch92_PP_MASTER\n",
      "Batch90_FP_MASTER_redo\n",
      "Batch91_FP_MASTER_redo\n",
      "Batch93_FP_MASTER\n",
      "Batch93_PP_MASTER\n",
      "Batch94_PP_MASTER\n",
      "Batch94_FP_MASTER\n",
      "Batch96_FP_MASTER\n",
      "Batch95_PP_MASTER\n",
      "Batch95_FP_MASTER\n",
      "Batch96_PP_MASTER\n",
      "Batch97_FP_MASTER\n",
      "Batch97_PP_MASTER\n",
      "Batch98_PP_MASTER\n",
      "Batch98_FP_MASTER\n",
      "Batch99_PP_MASTER\n",
      "Batch99_FP_MASTER\n"
     ]
    },
    {
     "name": "stderr",
     "output_type": "stream",
     "text": [
      "/tmp/ipykernel_22725/1304637186.py:16: DtypeWarning: Columns (100) have mixed types. Specify dtype option on import or set low_memory=False.\n",
      "  df=pd.read_csv(f'{Path0}/{cancertype}/{k}/combined/txt/evidence.txt', sep='\\t')\n"
     ]
    },
    {
     "name": "stdout",
     "output_type": "stream",
     "text": [
      "Batch102_PP_MASTER\n",
      "Batch100_FP_MASTER\n",
      "Batch101_PP_MASTER\n",
      "Batch100_PP_MASTER_redo\n",
      "Batch101_FP_MASTER\n",
      "Batch102_FP_MASTER\n",
      "Batch103_FP_MASTER\n",
      "Batch103_PP_MASTER\n"
     ]
    },
    {
     "name": "stderr",
     "output_type": "stream",
     "text": [
      "/tmp/ipykernel_22725/1304637186.py:16: DtypeWarning: Columns (91,92) have mixed types. Specify dtype option on import or set low_memory=False.\n",
      "  df=pd.read_csv(f'{Path0}/{cancertype}/{k}/combined/txt/evidence.txt', sep='\\t')\n"
     ]
    },
    {
     "name": "stdout",
     "output_type": "stream",
     "text": [
      "Batch104_PP_MASTER\n",
      "Batch104_FP_MASTER\n",
      "Batch105_PP_MASTER\n",
      "Batch106_PP_MASTER\n",
      "Batch105_FP_MASTER\n",
      "Batch106_FP_MASTER\n",
      "Batch107_FP_MASTER\n",
      "Batch109_PP_MASTER\n",
      "Batch107_PP_MASTER\n",
      "Batch110_FP_MASTER\n",
      "Batch108_PP_MASTER\n",
      "Batch109_FP_MASTER_redo\n",
      "Batch108_FP_MASTER_redo\n",
      "Batch110_PP_MASTER\n",
      "Batch111_FP_MASTER\n",
      "Batch111_PP_MASTER\n",
      "Batch112_FP_MASTER\n",
      "Batch112_PP_MASTER\n",
      "Batch113_FP_MASTER\n",
      "Batch114_FP_MASTER\n"
     ]
    },
    {
     "name": "stderr",
     "output_type": "stream",
     "text": [
      "/tmp/ipykernel_22725/1304637186.py:16: DtypeWarning: Columns (91,100) have mixed types. Specify dtype option on import or set low_memory=False.\n",
      "  df=pd.read_csv(f'{Path0}/{cancertype}/{k}/combined/txt/evidence.txt', sep='\\t')\n"
     ]
    },
    {
     "name": "stdout",
     "output_type": "stream",
     "text": [
      "Batch113_PP_MASTER\n",
      "Batch114_PP_MASTER\n",
      "Batch115_FP_MASTER\n"
     ]
    },
    {
     "name": "stderr",
     "output_type": "stream",
     "text": [
      "/tmp/ipykernel_22725/1304637186.py:16: DtypeWarning: Columns (100) have mixed types. Specify dtype option on import or set low_memory=False.\n",
      "  df=pd.read_csv(f'{Path0}/{cancertype}/{k}/combined/txt/evidence.txt', sep='\\t')\n"
     ]
    },
    {
     "name": "stdout",
     "output_type": "stream",
     "text": [
      "Batch115_PP_MASTER\n",
      "Batch116_FP_MASTER\n",
      "Batch116_PP_MASTER\n",
      "Batch117_FP_MASTER\n",
      "Batch117_PP_MASTER\n",
      "Batch118_FP_MASTER\n",
      "Batch118_PP_MASTER\n",
      "Batch119_FP_MASTER\n",
      "Batch120_FP_MASTER\n",
      "Batch119_PP_MASTER\n",
      "Batch120_PP_MASTER\n",
      "Batch121_FP_MASTER\n",
      "Batch121_PP_MASTER\n"
     ]
    },
    {
     "name": "stderr",
     "output_type": "stream",
     "text": [
      "/tmp/ipykernel_22725/1304637186.py:16: DtypeWarning: Columns (92,94,100) have mixed types. Specify dtype option on import or set low_memory=False.\n",
      "  df=pd.read_csv(f'{Path0}/{cancertype}/{k}/combined/txt/evidence.txt', sep='\\t')\n"
     ]
    },
    {
     "name": "stdout",
     "output_type": "stream",
     "text": [
      "Batch122_FP_MASTER\n",
      "Batch122_PP_MASTER\n",
      "Batch123_FP_MASTER\n",
      "Batch123_PP_MASTER\n",
      "Batch124_FP_MASTER\n",
      "Batch124_PP_MASTER\n",
      "Batch125_FP_MASTER\n",
      "Batch125_PP_MASTER\n",
      "Batch126_FP_MASTER\n",
      "Batch128_FP_MASTER\n",
      "Batch129_FP_MASTER\n",
      "Batch129_PP_MASTER\n",
      "Batch128_PP_MASTER\n",
      "Batch130_FP_MASTER\n",
      "Batch130_PP_MASTER\n",
      "Batch131_FP_MASTER\n",
      "Batch131_PP_MASTER\n",
      "Batch132_FP_MASTER\n",
      "Batch132_PP_MASTER\n",
      "Batch133_FP_MASTER\n",
      "Batch133_PP_MASTER\n",
      "Batch134_FP_MASTER\n",
      "Batch134_PP_MASTER\n",
      "Batch136_FP_MASTER_refractionate\n"
     ]
    },
    {
     "name": "stderr",
     "output_type": "stream",
     "text": [
      "/tmp/ipykernel_22725/1304637186.py:16: DtypeWarning: Columns (85,93) have mixed types. Specify dtype option on import or set low_memory=False.\n",
      "  df=pd.read_csv(f'{Path0}/{cancertype}/{k}/combined/txt/evidence.txt', sep='\\t')\n"
     ]
    },
    {
     "name": "stdout",
     "output_type": "stream",
     "text": [
      "Batch139_PP_MASTER\n",
      "Batch140_PP_MASTER\n",
      "Batch139_FP_MASTER\n",
      "Batch135_FP_MASTER_redo\n",
      "Batch137_PP_MASTER\n",
      "Batch140_FP_MASTER\n",
      "Batch138_PP_MASTER\n",
      "Batch135_PP_MASTER_redo\n",
      "Batch136_PP_MASTER_redo\n",
      "Batch137_FP_MASTER\n",
      "Batch138_FP_MASTER\n",
      "Batch141_PP_MASTER\n",
      "Batch141_FP_MASTER\n",
      "Batch142_PP_MASTER\n",
      "Batch145_FP_MASTER\n",
      "Batch143_PP_MASTER\n",
      "Batch144_PP_MASTER\n",
      "Batch143_FP_MASTER\n",
      "Batch142_FP_MASTER_redo\n",
      "Batch144_FP_MASTER\n",
      "Batch145_PP_MASTER\n",
      "Batch146_FP_MASTER\n",
      "Batch146_PP_MASTER\n",
      "Batch147_FP_MASTER\n",
      "Batch147_PP_MASTER\n",
      "Batch148_FP_MASTER\n"
     ]
    },
    {
     "name": "stderr",
     "output_type": "stream",
     "text": [
      "/tmp/ipykernel_22725/1304637186.py:16: DtypeWarning: Columns (100) have mixed types. Specify dtype option on import or set low_memory=False.\n",
      "  df=pd.read_csv(f'{Path0}/{cancertype}/{k}/combined/txt/evidence.txt', sep='\\t')\n"
     ]
    },
    {
     "name": "stdout",
     "output_type": "stream",
     "text": [
      "Batch148_PP_MASTER\n",
      "Batch149_FP_MASTER\n",
      "Batch149_PP_MASTER\n",
      "Batch151_FP_MASTER\n"
     ]
    },
    {
     "name": "stderr",
     "output_type": "stream",
     "text": [
      "/tmp/ipykernel_22725/1304637186.py:16: DtypeWarning: Columns (100) have mixed types. Specify dtype option on import or set low_memory=False.\n",
      "  df=pd.read_csv(f'{Path0}/{cancertype}/{k}/combined/txt/evidence.txt', sep='\\t')\n"
     ]
    },
    {
     "name": "stdout",
     "output_type": "stream",
     "text": [
      "Batch151_PP_MASTER\n",
      "Batch152_PP_MASTER\n",
      "Batch152_FP_MASTER\n",
      "Batch150_PP_MASTER\n",
      "Batch153_PP_MASTER\n",
      "Batch154_FP_MASTER\n",
      "Batch154_PP_MASTER\n",
      "Batch155_FP_MASTER\n",
      "Batch155_PP_MASTER\n",
      "Batch150_FP_MASTER\n",
      "Batch153_FP_MASTER\n",
      "Batch156_FP_MASTER\n",
      "Batch156_PP_MASTER\n",
      "Batch157_FP_MASTER\n",
      "Batch157_PP_MASTER\n"
     ]
    }
   ],
   "source": [
    "cancertype='Sarcoma'\n",
    "Df1=load_all_exp(cancertype, pattern, cols_kept)"
   ]
  },
  {
   "cell_type": "code",
   "execution_count": 12,
   "id": "78bbde38",
   "metadata": {},
   "outputs": [],
   "source": [
    "Df=pd.concat([Df0, Df1], ignore_index=True)"
   ]
  },
  {
   "cell_type": "code",
   "execution_count": 13,
   "id": "b60d7c47",
   "metadata": {},
   "outputs": [],
   "source": [
    "# Fix mods w.r.t. (phospho)-->(ph)\n",
    "mods=sorted(set(Df['Modified sequence']))\n",
    "fixed_mods=fix_modifications(mods)\n",
    "D_mod_fixer={mods[i]:fixed_mods[i] for i in range(len(mods))}\n",
    "Df['Modified sequence']=[D_mod_fixer[a] for a in Df['Modified sequence']]"
   ]
  },
  {
   "cell_type": "code",
   "execution_count": 14,
   "id": "a3073de8",
   "metadata": {},
   "outputs": [],
   "source": [
    "Df.to_pickle(f'{Path1}/TMT/Patients.pkl')"
   ]
  },
  {
   "cell_type": "code",
   "execution_count": 15,
   "id": "f107665d",
   "metadata": {},
   "outputs": [
    {
     "data": {
      "text/html": [
       "<div>\n",
       "<style scoped>\n",
       "    .dataframe tbody tr th:only-of-type {\n",
       "        vertical-align: middle;\n",
       "    }\n",
       "\n",
       "    .dataframe tbody tr th {\n",
       "        vertical-align: top;\n",
       "    }\n",
       "\n",
       "    .dataframe thead th {\n",
       "        text-align: right;\n",
       "    }\n",
       "</style>\n",
       "<table border=\"1\" class=\"dataframe\">\n",
       "  <thead>\n",
       "    <tr style=\"text-align: right;\">\n",
       "      <th></th>\n",
       "      <th>Proteins</th>\n",
       "      <th>Modified sequence</th>\n",
       "      <th>Gene names</th>\n",
       "      <th>Score</th>\n",
       "      <th>Reporter intensity corrected 1</th>\n",
       "      <th>Reporter intensity corrected 2</th>\n",
       "      <th>Reporter intensity corrected 3</th>\n",
       "      <th>Reporter intensity corrected 4</th>\n",
       "      <th>Reporter intensity corrected 5</th>\n",
       "      <th>Reporter intensity corrected 6</th>\n",
       "      <th>Reporter intensity corrected 7</th>\n",
       "      <th>Reporter intensity corrected 8</th>\n",
       "      <th>Reporter intensity corrected 9</th>\n",
       "      <th>Reporter intensity corrected 10</th>\n",
       "      <th>Reporter intensity corrected 11</th>\n",
       "      <th>Experiment</th>\n",
       "      <th>Cancertype</th>\n",
       "    </tr>\n",
       "  </thead>\n",
       "  <tbody>\n",
       "    <tr>\n",
       "      <th>0</th>\n",
       "      <td>B7ZM68;Q6ZNL6;Q6ZNL6-2</td>\n",
       "      <td>_VTGKNRR_</td>\n",
       "      <td>FGD5</td>\n",
       "      <td>0.00</td>\n",
       "      <td>0.00</td>\n",
       "      <td>0.0</td>\n",
       "      <td>1603.40</td>\n",
       "      <td>0.00</td>\n",
       "      <td>0.00</td>\n",
       "      <td>2217.60</td>\n",
       "      <td>0.0</td>\n",
       "      <td>1018.3</td>\n",
       "      <td>3407.8</td>\n",
       "      <td>2420.70</td>\n",
       "      <td>2908.0</td>\n",
       "      <td>Batch62_PP_Chordoma_redo</td>\n",
       "      <td>Chordoma</td>\n",
       "    </tr>\n",
       "    <tr>\n",
       "      <th>1</th>\n",
       "      <td>NaN</td>\n",
       "      <td>_RKPSFIR_</td>\n",
       "      <td>NaN</td>\n",
       "      <td>0.00</td>\n",
       "      <td>4879.90</td>\n",
       "      <td>10917.0</td>\n",
       "      <td>8056.60</td>\n",
       "      <td>38849.00</td>\n",
       "      <td>7032.80</td>\n",
       "      <td>9509.90</td>\n",
       "      <td>10426.0</td>\n",
       "      <td>13630.0</td>\n",
       "      <td>16925.0</td>\n",
       "      <td>5501.50</td>\n",
       "      <td>4753.6</td>\n",
       "      <td>Batch62_PP_Chordoma_redo</td>\n",
       "      <td>Chordoma</td>\n",
       "    </tr>\n",
       "    <tr>\n",
       "      <th>2</th>\n",
       "      <td>A0A0G2JIW1;P0DMV8-2;P0DMV9;P0DMV8;V9GZ37;P1114...</td>\n",
       "      <td>_TACERAKR_</td>\n",
       "      <td>HSPA1A;HSPA1B;HSPA8;HSPA2;HSPA6;HSPA7</td>\n",
       "      <td>0.00</td>\n",
       "      <td>2977.50</td>\n",
       "      <td>1191.0</td>\n",
       "      <td>5663.60</td>\n",
       "      <td>534.35</td>\n",
       "      <td>11360.00</td>\n",
       "      <td>7132.30</td>\n",
       "      <td>2374.2</td>\n",
       "      <td>6016.7</td>\n",
       "      <td>0.0</td>\n",
       "      <td>0.00</td>\n",
       "      <td>0.0</td>\n",
       "      <td>Batch62_PP_Chordoma_redo</td>\n",
       "      <td>Chordoma</td>\n",
       "    </tr>\n",
       "    <tr>\n",
       "      <th>3</th>\n",
       "      <td>B4DJX4;Q9HAU0-8;Q9HAU0;Q9HAU0-2;Q9HAU0-4;Q9HAU...</td>\n",
       "      <td>_TSRASKK_</td>\n",
       "      <td>PLEKHA5</td>\n",
       "      <td>0.00</td>\n",
       "      <td>1246.50</td>\n",
       "      <td>0.0</td>\n",
       "      <td>1636.00</td>\n",
       "      <td>1289.70</td>\n",
       "      <td>7134.00</td>\n",
       "      <td>4019.60</td>\n",
       "      <td>1538.6</td>\n",
       "      <td>4544.0</td>\n",
       "      <td>29957.0</td>\n",
       "      <td>18187.00</td>\n",
       "      <td>18284.0</td>\n",
       "      <td>Batch62_PP_Chordoma_redo</td>\n",
       "      <td>Chordoma</td>\n",
       "    </tr>\n",
       "    <tr>\n",
       "      <th>4</th>\n",
       "      <td>Q9NUT2-5;Q9NUT2-4;Q9NUT2-3;Q9NUT2-2;Q9NUT2</td>\n",
       "      <td>_TAAPPPKK_</td>\n",
       "      <td>ABCB8</td>\n",
       "      <td>0.00</td>\n",
       "      <td>781.34</td>\n",
       "      <td>1051.4</td>\n",
       "      <td>715.03</td>\n",
       "      <td>0.00</td>\n",
       "      <td>1121.70</td>\n",
       "      <td>1571.00</td>\n",
       "      <td>1774.3</td>\n",
       "      <td>2834.9</td>\n",
       "      <td>0.0</td>\n",
       "      <td>933.09</td>\n",
       "      <td>0.0</td>\n",
       "      <td>Batch62_PP_Chordoma_redo</td>\n",
       "      <td>Chordoma</td>\n",
       "    </tr>\n",
       "    <tr>\n",
       "      <th>...</th>\n",
       "      <td>...</td>\n",
       "      <td>...</td>\n",
       "      <td>...</td>\n",
       "      <td>...</td>\n",
       "      <td>...</td>\n",
       "      <td>...</td>\n",
       "      <td>...</td>\n",
       "      <td>...</td>\n",
       "      <td>...</td>\n",
       "      <td>...</td>\n",
       "      <td>...</td>\n",
       "      <td>...</td>\n",
       "      <td>...</td>\n",
       "      <td>...</td>\n",
       "      <td>...</td>\n",
       "      <td>...</td>\n",
       "      <td>...</td>\n",
       "    </tr>\n",
       "    <tr>\n",
       "      <th>19642282</th>\n",
       "      <td>P13861;P13861-2</td>\n",
       "      <td>_GDSES(ph)EEDEDLEVPVPSR_</td>\n",
       "      <td>PRKAR2A</td>\n",
       "      <td>501.33</td>\n",
       "      <td>24176.00</td>\n",
       "      <td>6954.8</td>\n",
       "      <td>30414.00</td>\n",
       "      <td>68134.00</td>\n",
       "      <td>2672.50</td>\n",
       "      <td>6167.40</td>\n",
       "      <td>102700.0</td>\n",
       "      <td>27574.0</td>\n",
       "      <td>31483.0</td>\n",
       "      <td>71501.00</td>\n",
       "      <td>83757.0</td>\n",
       "      <td>Batch157_PP_MASTER</td>\n",
       "      <td>Sarcoma</td>\n",
       "    </tr>\n",
       "    <tr>\n",
       "      <th>19642283</th>\n",
       "      <td>A0A3B3ISF0;H0Y9K3;D6R9W6;Q659C4-9;Q659C4;A0A3B...</td>\n",
       "      <td>_LNGPGENVS(ph)EDEAQSSNQR_</td>\n",
       "      <td>LARP1B</td>\n",
       "      <td>501.38</td>\n",
       "      <td>17692.00</td>\n",
       "      <td>2607.1</td>\n",
       "      <td>10333.00</td>\n",
       "      <td>23875.00</td>\n",
       "      <td>0.00</td>\n",
       "      <td>258.17</td>\n",
       "      <td>24310.0</td>\n",
       "      <td>13785.0</td>\n",
       "      <td>43302.0</td>\n",
       "      <td>111830.00</td>\n",
       "      <td>115930.0</td>\n",
       "      <td>Batch157_PP_MASTER</td>\n",
       "      <td>Sarcoma</td>\n",
       "    </tr>\n",
       "    <tr>\n",
       "      <th>19642284</th>\n",
       "      <td>Q9BXB4</td>\n",
       "      <td>_SFSLASSSNS(ph)PISQR_</td>\n",
       "      <td>OSBPL11</td>\n",
       "      <td>501.47</td>\n",
       "      <td>101160.00</td>\n",
       "      <td>15976.0</td>\n",
       "      <td>61594.00</td>\n",
       "      <td>136900.00</td>\n",
       "      <td>17404.00</td>\n",
       "      <td>4916.30</td>\n",
       "      <td>35886.0</td>\n",
       "      <td>94208.0</td>\n",
       "      <td>486590.0</td>\n",
       "      <td>818010.00</td>\n",
       "      <td>911380.0</td>\n",
       "      <td>Batch157_PP_MASTER</td>\n",
       "      <td>Sarcoma</td>\n",
       "    </tr>\n",
       "    <tr>\n",
       "      <th>19642285</th>\n",
       "      <td>P40818;P40818-2</td>\n",
       "      <td>_SYSS(ph)PDITQAIQEEEK_</td>\n",
       "      <td>USP8</td>\n",
       "      <td>533.03</td>\n",
       "      <td>25371.00</td>\n",
       "      <td>8217.6</td>\n",
       "      <td>22032.00</td>\n",
       "      <td>70757.00</td>\n",
       "      <td>719.57</td>\n",
       "      <td>4605.80</td>\n",
       "      <td>57072.0</td>\n",
       "      <td>70414.0</td>\n",
       "      <td>40893.0</td>\n",
       "      <td>83244.00</td>\n",
       "      <td>85201.0</td>\n",
       "      <td>Batch157_PP_MASTER</td>\n",
       "      <td>Sarcoma</td>\n",
       "    </tr>\n",
       "    <tr>\n",
       "      <th>19642286</th>\n",
       "      <td>A0A075B6Q2;S4R347;Q5T0N5-3;Q5T0N5-4;Q5T0N5-2;Q...</td>\n",
       "      <td>_ES(ph)PEGSYTDDANQEVR_</td>\n",
       "      <td>FNBP1L</td>\n",
       "      <td>589.08</td>\n",
       "      <td>131900.00</td>\n",
       "      <td>56124.0</td>\n",
       "      <td>79892.00</td>\n",
       "      <td>249380.00</td>\n",
       "      <td>40427.00</td>\n",
       "      <td>38300.00</td>\n",
       "      <td>150670.0</td>\n",
       "      <td>97344.0</td>\n",
       "      <td>474040.0</td>\n",
       "      <td>315340.00</td>\n",
       "      <td>370820.0</td>\n",
       "      <td>Batch157_PP_MASTER</td>\n",
       "      <td>Sarcoma</td>\n",
       "    </tr>\n",
       "  </tbody>\n",
       "</table>\n",
       "<p>19642287 rows × 17 columns</p>\n",
       "</div>"
      ],
      "text/plain": [
       "                                                   Proteins  \\\n",
       "0                                    B7ZM68;Q6ZNL6;Q6ZNL6-2   \n",
       "1                                                       NaN   \n",
       "2         A0A0G2JIW1;P0DMV8-2;P0DMV9;P0DMV8;V9GZ37;P1114...   \n",
       "3         B4DJX4;Q9HAU0-8;Q9HAU0;Q9HAU0-2;Q9HAU0-4;Q9HAU...   \n",
       "4                Q9NUT2-5;Q9NUT2-4;Q9NUT2-3;Q9NUT2-2;Q9NUT2   \n",
       "...                                                     ...   \n",
       "19642282                                    P13861;P13861-2   \n",
       "19642283  A0A3B3ISF0;H0Y9K3;D6R9W6;Q659C4-9;Q659C4;A0A3B...   \n",
       "19642284                                             Q9BXB4   \n",
       "19642285                                    P40818;P40818-2   \n",
       "19642286  A0A075B6Q2;S4R347;Q5T0N5-3;Q5T0N5-4;Q5T0N5-2;Q...   \n",
       "\n",
       "                  Modified sequence                             Gene names  \\\n",
       "0                         _VTGKNRR_                                   FGD5   \n",
       "1                         _RKPSFIR_                                    NaN   \n",
       "2                        _TACERAKR_  HSPA1A;HSPA1B;HSPA8;HSPA2;HSPA6;HSPA7   \n",
       "3                         _TSRASKK_                                PLEKHA5   \n",
       "4                        _TAAPPPKK_                                  ABCB8   \n",
       "...                             ...                                    ...   \n",
       "19642282   _GDSES(ph)EEDEDLEVPVPSR_                                PRKAR2A   \n",
       "19642283  _LNGPGENVS(ph)EDEAQSSNQR_                                 LARP1B   \n",
       "19642284      _SFSLASSSNS(ph)PISQR_                                OSBPL11   \n",
       "19642285     _SYSS(ph)PDITQAIQEEEK_                                   USP8   \n",
       "19642286     _ES(ph)PEGSYTDDANQEVR_                                 FNBP1L   \n",
       "\n",
       "           Score  Reporter intensity corrected 1  \\\n",
       "0           0.00                            0.00   \n",
       "1           0.00                         4879.90   \n",
       "2           0.00                         2977.50   \n",
       "3           0.00                         1246.50   \n",
       "4           0.00                          781.34   \n",
       "...          ...                             ...   \n",
       "19642282  501.33                        24176.00   \n",
       "19642283  501.38                        17692.00   \n",
       "19642284  501.47                       101160.00   \n",
       "19642285  533.03                        25371.00   \n",
       "19642286  589.08                       131900.00   \n",
       "\n",
       "          Reporter intensity corrected 2  Reporter intensity corrected 3  \\\n",
       "0                                    0.0                         1603.40   \n",
       "1                                10917.0                         8056.60   \n",
       "2                                 1191.0                         5663.60   \n",
       "3                                    0.0                         1636.00   \n",
       "4                                 1051.4                          715.03   \n",
       "...                                  ...                             ...   \n",
       "19642282                          6954.8                        30414.00   \n",
       "19642283                          2607.1                        10333.00   \n",
       "19642284                         15976.0                        61594.00   \n",
       "19642285                          8217.6                        22032.00   \n",
       "19642286                         56124.0                        79892.00   \n",
       "\n",
       "          Reporter intensity corrected 4  Reporter intensity corrected 5  \\\n",
       "0                                   0.00                            0.00   \n",
       "1                               38849.00                         7032.80   \n",
       "2                                 534.35                        11360.00   \n",
       "3                                1289.70                         7134.00   \n",
       "4                                   0.00                         1121.70   \n",
       "...                                  ...                             ...   \n",
       "19642282                        68134.00                         2672.50   \n",
       "19642283                        23875.00                            0.00   \n",
       "19642284                       136900.00                        17404.00   \n",
       "19642285                        70757.00                          719.57   \n",
       "19642286                       249380.00                        40427.00   \n",
       "\n",
       "          Reporter intensity corrected 6  Reporter intensity corrected 7  \\\n",
       "0                                2217.60                             0.0   \n",
       "1                                9509.90                         10426.0   \n",
       "2                                7132.30                          2374.2   \n",
       "3                                4019.60                          1538.6   \n",
       "4                                1571.00                          1774.3   \n",
       "...                                  ...                             ...   \n",
       "19642282                         6167.40                        102700.0   \n",
       "19642283                          258.17                         24310.0   \n",
       "19642284                         4916.30                         35886.0   \n",
       "19642285                         4605.80                         57072.0   \n",
       "19642286                        38300.00                        150670.0   \n",
       "\n",
       "          Reporter intensity corrected 8  Reporter intensity corrected 9  \\\n",
       "0                                 1018.3                          3407.8   \n",
       "1                                13630.0                         16925.0   \n",
       "2                                 6016.7                             0.0   \n",
       "3                                 4544.0                         29957.0   \n",
       "4                                 2834.9                             0.0   \n",
       "...                                  ...                             ...   \n",
       "19642282                         27574.0                         31483.0   \n",
       "19642283                         13785.0                         43302.0   \n",
       "19642284                         94208.0                        486590.0   \n",
       "19642285                         70414.0                         40893.0   \n",
       "19642286                         97344.0                        474040.0   \n",
       "\n",
       "          Reporter intensity corrected 10  Reporter intensity corrected 11  \\\n",
       "0                                 2420.70                           2908.0   \n",
       "1                                 5501.50                           4753.6   \n",
       "2                                    0.00                              0.0   \n",
       "3                                18187.00                          18284.0   \n",
       "4                                  933.09                              0.0   \n",
       "...                                   ...                              ...   \n",
       "19642282                         71501.00                          83757.0   \n",
       "19642283                        111830.00                         115930.0   \n",
       "19642284                        818010.00                         911380.0   \n",
       "19642285                         83244.00                          85201.0   \n",
       "19642286                        315340.00                         370820.0   \n",
       "\n",
       "                        Experiment Cancertype  \n",
       "0         Batch62_PP_Chordoma_redo   Chordoma  \n",
       "1         Batch62_PP_Chordoma_redo   Chordoma  \n",
       "2         Batch62_PP_Chordoma_redo   Chordoma  \n",
       "3         Batch62_PP_Chordoma_redo   Chordoma  \n",
       "4         Batch62_PP_Chordoma_redo   Chordoma  \n",
       "...                            ...        ...  \n",
       "19642282        Batch157_PP_MASTER    Sarcoma  \n",
       "19642283        Batch157_PP_MASTER    Sarcoma  \n",
       "19642284        Batch157_PP_MASTER    Sarcoma  \n",
       "19642285        Batch157_PP_MASTER    Sarcoma  \n",
       "19642286        Batch157_PP_MASTER    Sarcoma  \n",
       "\n",
       "[19642287 rows x 17 columns]"
      ]
     },
     "execution_count": 15,
     "metadata": {},
     "output_type": "execute_result"
    }
   ],
   "source": [
    "Df"
   ]
  },
  {
   "cell_type": "code",
   "execution_count": null,
   "id": "1604cc1a",
   "metadata": {},
   "outputs": [],
   "source": []
  },
  {
   "cell_type": "code",
   "execution_count": null,
   "id": "a3ed485a",
   "metadata": {},
   "outputs": [],
   "source": []
  },
  {
   "cell_type": "code",
   "execution_count": null,
   "id": "93038993",
   "metadata": {},
   "outputs": [],
   "source": []
  },
  {
   "cell_type": "code",
   "execution_count": null,
   "id": "2b467e36",
   "metadata": {},
   "outputs": [],
   "source": []
  },
  {
   "cell_type": "code",
   "execution_count": null,
   "id": "ede2a310",
   "metadata": {},
   "outputs": [],
   "source": []
  },
  {
   "cell_type": "code",
   "execution_count": null,
   "id": "7e735f1b",
   "metadata": {},
   "outputs": [],
   "source": []
  },
  {
   "cell_type": "code",
   "execution_count": null,
   "id": "d2931330",
   "metadata": {},
   "outputs": [],
   "source": []
  },
  {
   "cell_type": "code",
   "execution_count": null,
   "id": "8baa1710",
   "metadata": {},
   "outputs": [],
   "source": []
  }
 ],
 "metadata": {
  "kernelspec": {
   "display_name": "phos",
   "language": "python",
   "name": "phos"
  },
  "language_info": {
   "codemirror_mode": {
    "name": "ipython",
    "version": 3
   },
   "file_extension": ".py",
   "mimetype": "text/x-python",
   "name": "python",
   "nbconvert_exporter": "python",
   "pygments_lexer": "ipython3",
   "version": "3.9.16"
  }
 },
 "nbformat": 4,
 "nbformat_minor": 5
}
