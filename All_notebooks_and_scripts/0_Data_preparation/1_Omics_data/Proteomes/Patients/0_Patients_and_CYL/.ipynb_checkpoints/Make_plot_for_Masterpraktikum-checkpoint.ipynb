{
 "cells": [
  {
   "cell_type": "code",
   "execution_count": 1,
   "id": "cd150955-7bd0-4ad5-ab0f-7df552bc5bf0",
   "metadata": {},
   "outputs": [],
   "source": [
    "import pandas as pd\n",
    "import numpy as np\n",
    "import seaborn as sns\n",
    "\n",
    "import warnings\n",
    "warnings.filterwarnings(\"ignore\", message=\"Mean of empty slice\", category=RuntimeWarning)\n",
    "Path='/home/mgander/Atlantic/data/copied_data'\n",
    "\n",
    "M = pd.read_pickle(f'{Path}/TMT/Patients_and_CYL/FP_matrix.pkl')"
   ]
  },
  {
   "cell_type": "code",
   "execution_count": 19,
   "id": "c64ad44a-4ead-4e6d-b2c2-1712bbc33ced",
   "metadata": {},
   "outputs": [],
   "source": [
    "# This is the function I got from my friend that he uses for impuation of missing values in proteomics (LC-MS)\n",
    "\n",
    "def impute_normal_down_shift_distribution(unimputerd_dataframe:pd.DataFrame ,column_wise=True, width=0.3, downshift=1.8, seed=2):\n",
    "    \"\"\" \n",
    "    Performs imputation across a matrix columnswise\n",
    "    https://rdrr.io/github/jdreyf/jdcbioinfo/man/impute_normal.html#google_vignette\n",
    "    :width: Scale factor for the standard deviation of imputed distribution relative to the sample standard deviation.\n",
    "    :downshift: Down-shifted the mean of imputed distribution from the sample mean, in units of sample standard deviation.\n",
    "    :seed: Random seed\n",
    "    \n",
    "    \"\"\"\n",
    "    \n",
    "    print(unimputerd_dataframe.shape)\n",
    "\n",
    "    unimputerd_df = unimputerd_dataframe.iloc[:,2:]\n",
    "\n",
    "    unimputerd_matrix = unimputerd_df.replace({pd.NA: np.nan}, inplace=True) #Added to modify pandas's NAN values into  numpy NAN values\n",
    "    \n",
    "    unimputerd_matrix = unimputerd_df.to_numpy()\n",
    "    columns_names = unimputerd_df.columns\n",
    "    rownames = unimputerd_df.index\n",
    "    unimputerd_matrix[~np.isfinite(unimputerd_matrix)] = None\n",
    "    main_mean = np.nanmean(unimputerd_matrix)\n",
    "    main_std = np.nanstd(unimputerd_matrix)\n",
    "    np.random.seed(seed = seed)\n",
    "    def impute_normal_per_vector(temp:np.ndarray,width=width, downshift=downshift):\n",
    "        \"\"\" Performs imputation for a single vector \"\"\"\n",
    "        if column_wise:\n",
    "            temp_sd = np.nanstd(temp)\n",
    "            temp_mean = np.nanmean(temp)\n",
    "        else:\n",
    "            # over all matrix\n",
    "            temp_sd = main_std\n",
    "            temp_mean = main_mean\n",
    "\n",
    "        shrinked_sd = width * temp_sd\n",
    "        downshifted_mean = temp_mean - (downshift * temp_sd) \n",
    "        n_missing = np.count_nonzero(np.isnan(temp))\n",
    "        temp[np.isnan(temp)] = np.random.normal(loc=downshifted_mean, scale=shrinked_sd, size=n_missing)\n",
    "        if n_missing > 0:\n",
    "            print \n",
    "        return temp\n",
    "    final_matrix = np.apply_along_axis(impute_normal_per_vector, 0, unimputerd_matrix)\n",
    "    final_df = pd.DataFrame(final_matrix)\n",
    "    final_df.index = rownames\n",
    "    final_df.columns = columns_names\n",
    "\n",
    "    final_df = pd.concat([unimputerd_dataframe.iloc[:,:2],final_df], axis=1) \n",
    "    \n",
    "    return final_df"
   ]
  },
  {
   "cell_type": "code",
   "execution_count": 2,
   "id": "28ea7fec-44f7-473a-bd90-2a7b7448d291",
   "metadata": {},
   "outputs": [],
   "source": [
    "pat_channels = [a for a in M.columns if not a[-2:] in ['T9', 'T10', 'T11']]"
   ]
  },
  {
   "cell_type": "code",
   "execution_count": 3,
   "id": "bf3919c0-90b9-4fd8-a8f5-c6c2e221cd9f",
   "metadata": {},
   "outputs": [],
   "source": [
    "M = M[pat_channels].copy()"
   ]
  },
  {
   "cell_type": "code",
   "execution_count": 7,
   "id": "a6b1b4cc-2051-4386-a7d0-df0750232f56",
   "metadata": {
    "scrolled": true
   },
   "outputs": [
    {
     "data": {
      "text/plain": [
       "Protein IDs\n",
       "REV__CON__Q0V8M9                                                                                                                                                                                                                                                                                                                                                                                                                             3424\n",
       "REV__A0A1W2PPX1;REV__O95389;REV__O95389-2                                                                                                                                                                                                                                                                                                                                                                                                    3414\n",
       "REV__Q92796;REV__Q5JUW8                                                                                                                                                                                                                                                                                                                                                                                                                      3365\n",
       "Q15361                                                                                                                                                                                                                                                                                                                                                                                                                                       3350\n",
       "REV__E9PPD1;REV__E9PJF5;REV__Q9HCU9;REV__H0YCF7;REV__G5E9I4                                                                                                                                                                                                                                                                                                                                                                                  2372\n",
       "                                                                                                                                                                                                                                                                                                                                                                                                                                             ... \n",
       "Q9P2E9;A0A087WVV2;F8W7S5;A0A087WU26;A2A2S5;V9GY78;C9J066;A6PVU8;H0YDJ4;H9KV85;E9PN67;Q8N4C6-10;Q8N4C6-5;Q8N4C6;Q8N4C6-2;Q8N4C6-9;Q8N4C6-4;Q8N4C6-11;Q8N4C6-6;Q9NNX1;Q9NNX1-2;Q9NNX1-3;Q8N4C6-7                                                                                                                                                                                                                                               3424\n",
       "H3BPE1;H3BQK9;A0A5F9ZGX0;E9PNZ4;A0A669KBB0;E9PLY0;A0A669KB06;H0Y4F5;E9PS75;A0A669KB84;REV__B1AP38;REV__Q14642;REV__O43149-2;REV__I3L141;O15169-2                                                                                                                                                                                                                                                                                             3424\n",
       "P46939-2;P46939;P46939-4;Q5T097;P46939-3;H0Y337;A0A0D9SG57;A0A0A0MSM3;Q5T098;O95859;O95859-2;Q13474-2;Q5JT45;Q5JT44;REV__A0A087WVP1;Q13474;REV__Q14517;Q5SYY2                                                                                                                                                                                                                                                                                3424\n",
       "Q01082;A0A087WUZ3;Q01082-2;Q01082-3;F8W6C1;REV__Q96CN4-2;REV__Q9HBG6-11;REV__Q9HBG6-7;REV__O95628-10;REV__Q96CN4;REV__Q9HBG6-8;REV__Q9HBG6-9;REV__Q9HBG6-4;REV__Q9HBG6-3;REV__Q9HBG6-6;REV__O95628-6;F6UBL3;REV__Q9HBG6;REV__Q9HBG6-5;REV__Q9HBG6-10;A0A494C1G7;REV__O95628-9;REV__A6NFT4;Q96J87-3;Q96J87;Q86UT5-3;Q86UT5-2;Q86UT5;REV__O95628-4;REV__O95628-8;REV__O95628;REV__O95628-2;E9PPZ1;REV__O95628-7;REV__O95628-5;REV__O95628-3    3424\n",
       "A0A0A0MTS7;Q8WZ42-12;Q8WZ42-13;Q8WZ42-8;Q8WZ42;Q8WZ42-2;Q8WZ42-7;Q8WZ42-4;Q8WZ42-11;Q8WZ42-5;Q8WZ42-3;Q8WZ42-10;Q8WZ42-9;A0A0A0MRA3;Q8WZ42-6;H7C1P9;A0A0U1RRH3;H0Y4J7;A0A0C4DG59;REV__Q32MZ4-2;REV__R4GMW8;REV__P28715;REV__A0A090HNM7;REV__Q32MZ4;O14576-3;REV__A0A1W2PS85;A0A0A0MTG2;A0A1B0GXE3;REV__P28715-2;O14576-4;O14576-5;O14576-2;REV__Q32MZ4-3;O14576                                                                              3424\n",
       "Length: 174943, dtype: int64"
      ]
     },
     "execution_count": 7,
     "metadata": {},
     "output_type": "execute_result"
    }
   ],
   "source": [
    "np.isnan(M).sum(1)"
   ]
  },
  {
   "cell_type": "code",
   "execution_count": 18,
   "id": "fefbb05d-b23e-4b2c-a409-b5f1893a3897",
   "metadata": {},
   "outputs": [
    {
     "data": {
      "text/plain": [
       "<Axes: xlabel='Q13202', ylabel='Count'>"
      ]
     },
     "execution_count": 18,
     "metadata": {},
     "output_type": "execute_result"
    },
    {
     "data": {
      "image/png": "[encoded data removed]",
      "text/plain": [
       "<Figure size 640x480 with 1 Axes>"
      ]
     },
     "metadata": {},
     "output_type": "display_data"
    }
   ],
   "source": [
    "sns.histplot(M.loc['Q13202'])"
   ]
  },
  {
   "cell_type": "code",
   "execution_count": 27,
   "id": "a691db60-9ef5-471f-a834-29f954467f2e",
   "metadata": {},
   "outputs": [],
   "source": [
    "mean = np.mean(M.loc['Q13202'])\n",
    "std = np.std(M.loc['Q13202'])"
   ]
  },
  {
   "cell_type": "code",
   "execution_count": 30,
   "id": "599e1ba3-df65-4c02-9691-72f726aefe62",
   "metadata": {},
   "outputs": [],
   "source": [
    "shrinked_sd = std * 0.3\n",
    "downshifted_mean = mean - 1.8*std"
   ]
  },
  {
   "cell_type": "code",
   "execution_count": 33,
   "id": "dfdd8dcb-49d8-4723-a37c-13518539cd5d",
   "metadata": {},
   "outputs": [],
   "source": [
    "rnds = np.random.normal(downshifted_mean, shrinked_sd, 2000)"
   ]
  },
  {
   "cell_type": "code",
   "execution_count": 37,
   "id": "3bd9673e-afca-49da-bc9a-a185f63e58cd",
   "metadata": {
    "scrolled": true
   },
   "outputs": [],
   "source": [
    "df0 = pd.DataFrame({'values':M.loc['Q13202'], 'type':'Q13202'})\n",
    "df1 = pd.DataFrame({'values':rnds, 'type':'Imputed'})"
   ]
  },
  {
   "cell_type": "code",
   "execution_count": null,
   "id": "7cbd0ec1-32e2-4c7d-87e9-1bbfbb6e3646",
   "metadata": {},
   "outputs": [],
   "source": [
    "dfc = pd.concat([df0, df1]).copy()"
   ]
  },
  {
   "cell_type": "code",
   "execution_count": null,
   "id": "17c854fc-25f7-4d0c-9c99-1b7a543eff3a",
   "metadata": {},
   "outputs": [],
   "source": []
  },
  {
   "cell_type": "code",
   "execution_count": null,
   "id": "3697661e-35f0-45ae-8e69-f33b7069d4be",
   "metadata": {},
   "outputs": [],
   "source": []
  },
  {
   "cell_type": "code",
   "execution_count": null,
   "id": "4ae3f5be-7766-4d39-bfd8-31b663763809",
   "metadata": {},
   "outputs": [],
   "source": []
  },
  {
   "cell_type": "code",
   "execution_count": 34,
   "id": "bd95648c-f25d-4cf7-8e5d-a68d8cc393b0",
   "metadata": {},
   "outputs": [
    {
     "data": {
      "text/plain": [
       "<Axes: xlabel='Q13202', ylabel='Count'>"
      ]
     },
     "execution_count": 34,
     "metadata": {},
     "output_type": "execute_result"
    },
    {
     "data": {
      "image/png": "[encoded data removed]",
      "text/plain": [
       "<Figure size 640x480 with 1 Axes>"
      ]
     },
     "metadata": {},
     "output_type": "display_data"
    }
   ],
   "source": [
    "sns.histplot(M.loc['Q13202'])\n",
    "sns.histplot(rnds)"
   ]
  },
  {
   "cell_type": "code",
   "execution_count": null,
   "id": "036824ed-b268-44a4-af1b-d97a64ed424b",
   "metadata": {},
   "outputs": [],
   "source": []
  },
  {
   "cell_type": "code",
   "execution_count": null,
   "id": "4d4e4a1a-f501-4294-99b5-81e91f6116e9",
   "metadata": {},
   "outputs": [],
   "source": []
  },
  {
   "cell_type": "code",
   "execution_count": null,
   "id": "a31987f9-2fd9-4334-a38f-44dd1f0eec2d",
   "metadata": {},
   "outputs": [],
   "source": []
  },
  {
   "cell_type": "code",
   "execution_count": null,
   "id": "c02c65d0-787f-4327-820f-0dc67cc0a3ba",
   "metadata": {},
   "outputs": [],
   "source": []
  },
  {
   "cell_type": "code",
   "execution_count": null,
   "id": "64646a7b-f2ff-4ae5-9fe0-76d610a3c461",
   "metadata": {},
   "outputs": [],
   "source": []
  },
  {
   "cell_type": "code",
   "execution_count": 8,
   "id": "86b963ba-c7c6-4679-90bc-15e0f6a28a5d",
   "metadata": {},
   "outputs": [
    {
     "data": {
      "text/plain": [
       "<Axes: ylabel='Count'>"
      ]
     },
     "execution_count": 8,
     "metadata": {},
     "output_type": "execute_result"
    },
    {
     "data": {
      "image/png": "[encoded data removed]",
      "text/plain": [
       "<Figure size 640x480 with 1 Axes>"
      ]
     },
     "metadata": {},
     "output_type": "display_data"
    }
   ],
   "source": [
    "sns.histplot(list(np.isnan(M).sum(1)))"
   ]
  },
  {
   "cell_type": "code",
   "execution_count": null,
   "id": "aa2b3a83-3bc7-4da2-b3ac-bd25d41f1397",
   "metadata": {},
   "outputs": [],
   "source": [
    "np.isnan(M).sum().between(1"
   ]
  },
  {
   "cell_type": "code",
   "execution_count": null,
   "id": "cb1d2d38-c3b3-45e4-abdb-2b7309526282",
   "metadata": {},
   "outputs": [],
   "source": []
  },
  {
   "cell_type": "code",
   "execution_count": null,
   "id": "0db6be19-a57b-4546-a3c9-20d46d0826cf",
   "metadata": {},
   "outputs": [],
   "source": []
  },
  {
   "cell_type": "code",
   "execution_count": null,
   "id": "012cf374-846a-420d-8ee0-c2778515f9f8",
   "metadata": {},
   "outputs": [],
   "source": []
  },
  {
   "cell_type": "code",
   "execution_count": null,
   "id": "8b23fc89-e2c2-4e21-9391-309a7073295e",
   "metadata": {},
   "outputs": [],
   "source": []
  },
  {
   "cell_type": "code",
   "execution_count": null,
   "id": "7ba37136-32cd-4cb4-949f-d064b730148a",
   "metadata": {},
   "outputs": [],
   "source": []
  }
 ],
 "metadata": {
  "kernelspec": {
   "display_name": "ott_env",
   "language": "python",
   "name": "ott_env"
  },
  "language_info": {
   "codemirror_mode": {
    "name": "ipython",
    "version": 3
   },
   "file_extension": ".py",
   "mimetype": "text/x-python",
   "name": "python",
   "nbconvert_exporter": "python",
   "pygments_lexer": "ipython3",
   "version": "3.12.2"
  }
 },
 "nbformat": 4,
 "nbformat_minor": 5
}
