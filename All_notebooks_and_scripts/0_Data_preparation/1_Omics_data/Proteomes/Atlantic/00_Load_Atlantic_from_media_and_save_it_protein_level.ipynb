{
 "cells": [
  {
   "cell_type": "code",
   "execution_count": 50,
   "id": "f9699405",
   "metadata": {},
   "outputs": [],
   "source": [
    "import numpy as np\n",
    "import anndata\n",
    "import pandas as pd\n",
    "import scanpy as sc\n",
    "import scipy\n",
    "import seaborn as sns\n",
    "import networkx as nx\n",
    "import matplotlib.pyplot as plt"
   ]
  },
  {
   "cell_type": "code",
   "execution_count": 51,
   "id": "7a16e2eb",
   "metadata": {},
   "outputs": [],
   "source": [
    "Path='/media/kusterlab/internal_projects/active/NCI60_Phospho/Final_dataset/'"
   ]
  },
  {
   "cell_type": "code",
   "execution_count": 87,
   "id": "29742f81",
   "metadata": {},
   "outputs": [],
   "source": [
    "file='NCI60_FP'\n",
    "#file='CRC65_FP'\n",
    "#file='NCI60_GluC'\n",
    "#file='pNCI60_GluC'"
   ]
  },
  {
   "cell_type": "code",
   "execution_count": 88,
   "id": "712252af",
   "metadata": {},
   "outputs": [],
   "source": [
    "file2='evidence'\n",
    "file2='proteinGroups'"
   ]
  },
  {
   "cell_type": "code",
   "execution_count": 89,
   "id": "c7ebe09b",
   "metadata": {
    "scrolled": true
   },
   "outputs": [
    {
     "name": "stderr",
     "output_type": "stream",
     "text": [
      "/tmp/ipykernel_755/3484351550.py:3: DtypeWarning: Columns (449,450) have mixed types. Specify dtype option on import or set low_memory=False.\n",
      "  df=pd.read_csv(f'{Path}/MQ1.5.5.1_{file}_complete/txt/{file2}.txt', sep='\\t', lineterminator='\\n')\n"
     ]
    }
   ],
   "source": [
    "# For linux lines end with /n, for mac with /r\n",
    "\n",
    "df=pd.read_csv(f'{Path}/MQ1.5.5.1_{file}_complete/txt/{file2}.txt', sep='\\t', lineterminator='\\n')"
   ]
  },
  {
   "cell_type": "code",
   "execution_count": 90,
   "id": "2c409827",
   "metadata": {
    "scrolled": true
   },
   "outputs": [],
   "source": [
    "cols_kept=[a for a in df.columns if a[:5]=='Inten' and a!='Intensity']"
   ]
  },
  {
   "cell_type": "code",
   "execution_count": 91,
   "id": "e67dd07f",
   "metadata": {},
   "outputs": [],
   "source": [
    "df=df[['Protein IDs']+cols_kept].copy()"
   ]
  },
  {
   "cell_type": "code",
   "execution_count": 92,
   "id": "c775505c",
   "metadata": {
    "scrolled": true
   },
   "outputs": [],
   "source": [
    "df.index=df['Protein IDs']\n",
    "del df['Protein IDs']"
   ]
  },
  {
   "cell_type": "code",
   "execution_count": 93,
   "id": "91dd3a88",
   "metadata": {},
   "outputs": [],
   "source": [
    "df.columns=[a[10:] for a in df.columns]"
   ]
  },
  {
   "cell_type": "code",
   "execution_count": 94,
   "id": "a4f3d15f",
   "metadata": {},
   "outputs": [],
   "source": [
    "def purge_and_capitalize(ccl):\n",
    "    ccl_str=ccl.replace('-', '')\n",
    "    ccl_str=ccl_str.replace(' ', '')\n",
    "    return(ccl_str.upper())\n",
    "\n",
    "def map_celllines_to_cellosaurus(ccls):\n",
    "    # Let's remove '-' and spaces and capitalize everything\n",
    "    D_ccl={}\n",
    "\n",
    "    for ccl in ccls:\n",
    "        D_ccl[ccl]=purge_and_capitalize(ccl)\n",
    "    ccl_red=sorted(set([D_ccl[a] for a in ccls]))\n",
    "    len(ccl_red)\n",
    "    \n",
    "    Path='/home/mgander/Atlantic/data/'\n",
    "    dfc=pd.read_pickle(f'{Path}/Viability/CCL_dict/Cellosaurus_CCLs.pkl')\n",
    "    dfc=dfc[dfc['Species']=='NCBI_TaxID=9606; ! Homo sapiens (Human)']\n",
    "\n",
    "    # Use the synonyms to map to the Cellosaurus ID\n",
    "    cellosaurus_ids=list(dfc['Cellosaurus_ID'])\n",
    "    syns=list(dfc['Synonyms'])\n",
    "\n",
    "    syn_l=[]\n",
    "    for s in syns:\n",
    "        if '; ' in s:\n",
    "            syn_l.append(s.split('; '))\n",
    "        else:\n",
    "            syn_l.append(s)\n",
    "    D_cello={cellosaurus_ids[i]:cellosaurus_ids[i] for i in range(len(cellosaurus_ids))}\n",
    "\n",
    "    for i in range(len(syn_l)):\n",
    "        for s in syn_l[i]:\n",
    "            D_cello[s]=cellosaurus_ids[i]\n",
    "            \n",
    "    ccl_red=sorted(set(ccl_red))\n",
    "    for ccl in ccl_red:\n",
    "        if ccl in cellosaurus_ids:\n",
    "            D_cello[ccl]=ccl\n",
    "            \n",
    "    D_cello['C106']='C106[HUMANRECTALADENOCARCINOMA]'\n",
    "    D_cello['CC20']='CC20[HUMANCOLONADENOCARCINOMA]'\n",
    "    D_cello['NCIADRES']='NCIADRRES'\n",
    "    D_cello['Hela']='HELA'\n",
    "    D_cello['HL60(TB)']='HL60'\n",
    "    D_cello['C125-PM']='x'\n",
    "    \n",
    "    keys=list(D_cello.keys())\n",
    "    # Still missing\n",
    "    for ccl_red in ccl_red:\n",
    "        if not ccl_red in keys:\n",
    "            print(f'{ccl_red}')\n",
    "    #return([D_ccl[a] for a in ccls])\n",
    "    return([D_cello[D_ccl[a]] for a in ccls])"
   ]
  },
  {
   "cell_type": "code",
   "execution_count": 95,
   "id": "f084d6e7",
   "metadata": {
    "scrolled": true
   },
   "outputs": [],
   "source": [
    "df.columns=[a+'_'+b for a,b in zip(map_celllines_to_cellosaurus([a.split('_')[0] for a in df.columns]), \n",
    "                                  [a.split('_')[1] for a in df.columns])]"
   ]
  },
  {
   "cell_type": "code",
   "execution_count": 96,
   "id": "e7ab9f89",
   "metadata": {},
   "outputs": [],
   "source": [
    "df.to_pickle(f'/home/mgander/Atlantic/data/copied_data/{file}_{file2}.pkl')"
   ]
  },
  {
   "cell_type": "code",
   "execution_count": null,
   "id": "0f20fdc9",
   "metadata": {},
   "outputs": [],
   "source": []
  },
  {
   "cell_type": "code",
   "execution_count": null,
   "id": "c01e78c0",
   "metadata": {},
   "outputs": [],
   "source": []
  }
 ],
 "metadata": {
  "kernelspec": {
   "display_name": "phos",
   "language": "python",
   "name": "phos"
  },
  "language_info": {
   "codemirror_mode": {
    "name": "ipython",
    "version": 3
   },
   "file_extension": ".py",
   "mimetype": "text/x-python",
   "name": "python",
   "nbconvert_exporter": "python",
   "pygments_lexer": "ipython3",
   "version": "3.9.16"
  }
 },
 "nbformat": 4,
 "nbformat_minor": 5
}
