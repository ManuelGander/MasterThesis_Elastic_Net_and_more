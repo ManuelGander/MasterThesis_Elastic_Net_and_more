{
 "cells": [
  {
   "cell_type": "code",
   "execution_count": 6,
   "id": "f9699405",
   "metadata": {},
   "outputs": [],
   "source": [
    "import numpy as np\n",
    "import anndata\n",
    "import pandas as pd\n",
    "import scanpy as sc\n",
    "import scipy\n",
    "import seaborn as sns\n",
    "import networkx as nx\n",
    "import matplotlib.pyplot as plt"
   ]
  },
  {
   "cell_type": "code",
   "execution_count": 7,
   "id": "7a16e2eb",
   "metadata": {},
   "outputs": [],
   "source": [
    "Path='/media/kusterlab/internal_projects/active/NCI60_Phospho/Final_dataset/'"
   ]
  },
  {
   "cell_type": "code",
   "execution_count": 8,
   "id": "29742f81",
   "metadata": {},
   "outputs": [],
   "source": [
    "file='NCI60_FP'\n",
    "#file='CRC65_FP'\n",
    "#file='NCI60_GluC'\n",
    "#file='pNCI60_GluC'"
   ]
  },
  {
   "cell_type": "code",
   "execution_count": 9,
   "id": "b24da11f",
   "metadata": {},
   "outputs": [],
   "source": [
    "file2='evidence'"
   ]
  },
  {
   "cell_type": "code",
   "execution_count": 10,
   "id": "c7ebe09b",
   "metadata": {
    "scrolled": true
   },
   "outputs": [
    {
     "name": "stderr",
     "output_type": "stream",
     "text": [
      "/tmp/ipykernel_26770/3484351550.py:3: DtypeWarning: Columns (449,450) have mixed types. Specify dtype option on import or set low_memory=False.\n",
      "  df=pd.read_csv(f'{Path}/MQ1.5.5.1_{file}_complete/txt/{file2}.txt', sep='\\t', lineterminator='\\n')\n"
     ]
    }
   ],
   "source": [
    "# For linux lines end with /n, for mac with /r\n",
    "\n",
    "df=pd.read_csv(f'{Path}/MQ1.5.5.1_{file}_complete/txt/{file2}.txt', sep='\\t', lineterminator='\\n')"
   ]
  },
  {
   "cell_type": "code",
   "execution_count": 20,
   "id": "e67dd07f",
   "metadata": {},
   "outputs": [],
   "source": [
    "df=df[['Modified sequence', 'Proteins', 'Gene names', 'Type', 'Experiment', 'Retention time', 'PEP', 'Intensity', 'id', 'Protein group IDs', 'Peptide ID', 'Mod. peptide ID', 'MS/MS IDs']].copy()"
   ]
  },
  {
   "cell_type": "code",
   "execution_count": 18,
   "id": "76f4914a",
   "metadata": {},
   "outputs": [],
   "source": [
    "# make phos and full-proteome consistent\n",
    "if file[-3:]=='_FP':\n",
    "    file='f'+file[:-3]"
   ]
  },
  {
   "cell_type": "code",
   "execution_count": 22,
   "id": "e7ab9f89",
   "metadata": {},
   "outputs": [],
   "source": [
    "df.to_pickle(f'/home/mgander/Atlantic/data/copied_data/{file}.pkl')"
   ]
  },
  {
   "cell_type": "code",
   "execution_count": 23,
   "id": "a9f65866",
   "metadata": {
    "scrolled": true
   },
   "outputs": [
    {
     "data": {
      "text/plain": [
       "60"
      ]
     },
     "execution_count": 23,
     "metadata": {},
     "output_type": "execute_result"
    }
   ],
   "source": [
    "len(sorted(set(df['Experiment'])))"
   ]
  },
  {
   "cell_type": "code",
   "execution_count": null,
   "id": "c01e78c0",
   "metadata": {},
   "outputs": [],
   "source": []
  },
  {
   "cell_type": "code",
   "execution_count": null,
   "id": "dd69efb1",
   "metadata": {},
   "outputs": [],
   "source": []
  },
  {
   "cell_type": "markdown",
   "id": "d10f030c",
   "metadata": {},
   "source": [
    "## For combined Phosphoproteomes"
   ]
  },
  {
   "cell_type": "code",
   "execution_count": 5,
   "id": "5c0b46eb",
   "metadata": {},
   "outputs": [],
   "source": [
    "import numpy as np\n",
    "import anndata\n",
    "import pandas as pd\n",
    "import scanpy as sc\n",
    "import scipy\n",
    "import seaborn as sns\n",
    "import networkx as nx\n",
    "import matplotlib.pyplot as plt"
   ]
  },
  {
   "cell_type": "code",
   "execution_count": 6,
   "id": "efa45714",
   "metadata": {},
   "outputs": [],
   "source": [
    "# load NCI60 experiments and CRC65 experiments"
   ]
  },
  {
   "cell_type": "code",
   "execution_count": 7,
   "id": "6084e9a4",
   "metadata": {},
   "outputs": [],
   "source": [
    "nci60_exps=sorted(set(pd.read_pickle('/home/mgander/Atlantic/data/copied_data/NCI60_FP.pkl')['Experiment']))\n",
    "crc65_exps=sorted(set(pd.read_pickle('/home/mgander/Atlantic/data/copied_data/CRC65_FP.pkl')['Experiment']))"
   ]
  },
  {
   "cell_type": "code",
   "execution_count": 9,
   "id": "c630052f",
   "metadata": {},
   "outputs": [
    {
     "name": "stderr",
     "output_type": "stream",
     "text": [
      "/tmp/ipykernel_20914/2216209097.py:3: DtypeWarning: Columns (4,6,56,57,65) have mixed types. Specify dtype option on import or set low_memory=False.\n",
      "  df=pd.read_csv(f'{Path}/MQ1.5.5.1_{file}_complete/txt/evidence.txt', sep='\\t', lineterminator='\\n')\n"
     ]
    }
   ],
   "source": [
    "file='pNCI60_pCRC65'\n",
    "Path='/media/kusterlab/internal_projects/active/NCI60_Phospho/Final_dataset/'\n",
    "df=pd.read_csv(f'{Path}/MQ1.5.5.1_{file}_complete/txt/evidence.txt', sep='\\t', lineterminator='\\n')\n",
    "df=df[['Modified sequence', 'Proteins', 'Gene names', 'Type', 'Experiment', 'Retention time', 'PEP', 'Intensity', 'id', 'Protein group IDs', 'Peptide ID', 'Mod. peptide ID', 'MS/MS IDs']].copy()"
   ]
  },
  {
   "cell_type": "code",
   "execution_count": 10,
   "id": "9b2eb416",
   "metadata": {},
   "outputs": [],
   "source": [
    "# Split it into both"
   ]
  },
  {
   "cell_type": "code",
   "execution_count": 11,
   "id": "e079d7d7",
   "metadata": {},
   "outputs": [],
   "source": [
    "df0=df[df['Experiment'].isin(nci60_exps)].copy()\n",
    "df1=df[df['Experiment'].isin(crc65_exps)].copy()"
   ]
  },
  {
   "cell_type": "code",
   "execution_count": 15,
   "id": "8cf42726",
   "metadata": {},
   "outputs": [],
   "source": [
    "df0.to_pickle(f'/home/mgander/Atlantic/data/copied_data/pNCI60.pkl')"
   ]
  },
  {
   "cell_type": "code",
   "execution_count": 16,
   "id": "ca35f1ae",
   "metadata": {},
   "outputs": [],
   "source": [
    "df1.to_pickle(f'/home/mgander/Atlantic/data/copied_data/pCRC65.pkl')"
   ]
  },
  {
   "cell_type": "code",
   "execution_count": null,
   "id": "4efab014",
   "metadata": {},
   "outputs": [],
   "source": []
  },
  {
   "cell_type": "code",
   "execution_count": null,
   "id": "0879f430",
   "metadata": {},
   "outputs": [],
   "source": []
  },
  {
   "cell_type": "code",
   "execution_count": null,
   "id": "a88d58df",
   "metadata": {},
   "outputs": [],
   "source": []
  },
  {
   "cell_type": "code",
   "execution_count": null,
   "id": "f464727d",
   "metadata": {},
   "outputs": [],
   "source": []
  },
  {
   "cell_type": "code",
   "execution_count": null,
   "id": "2bb6e599",
   "metadata": {},
   "outputs": [],
   "source": []
  },
  {
   "cell_type": "code",
   "execution_count": null,
   "id": "0bb05b63",
   "metadata": {},
   "outputs": [],
   "source": []
  }
 ],
 "metadata": {
  "kernelspec": {
   "display_name": "phos",
   "language": "python",
   "name": "phos"
  },
  "language_info": {
   "codemirror_mode": {
    "name": "ipython",
    "version": 3
   },
   "file_extension": ".py",
   "mimetype": "text/x-python",
   "name": "python",
   "nbconvert_exporter": "python",
   "pygments_lexer": "ipython3",
   "version": "3.10.5"
  }
 },
 "nbformat": 4,
 "nbformat_minor": 5
}
