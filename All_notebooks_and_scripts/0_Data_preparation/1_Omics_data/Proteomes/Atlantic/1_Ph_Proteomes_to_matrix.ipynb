{
 "cells": [
  {
   "cell_type": "code",
   "execution_count": 1,
   "id": "696ff593",
   "metadata": {},
   "outputs": [],
   "source": [
    "import numpy as np\n",
    "import anndata\n",
    "import pandas as pd\n",
    "import scanpy as sc\n",
    "import scipy\n",
    "import seaborn as sns\n",
    "import networkx as nx\n",
    "import matplotlib.pyplot as plt"
   ]
  },
  {
   "cell_type": "code",
   "execution_count": 2,
   "id": "d32261d4",
   "metadata": {},
   "outputs": [],
   "source": [
    "Path='/home/mgander/Atlantic/data/copied_data/Atlantic'"
   ]
  },
  {
   "cell_type": "code",
   "execution_count": 3,
   "id": "9f20fc7b",
   "metadata": {},
   "outputs": [],
   "source": [
    "#file='fNCI60'\n",
    "#file='fNCI60_GluC'\n",
    "#file='fCRC65'\n",
    "\n",
    "#file='pNCI60'\n",
    "#file='pNCI60_GluC'\n",
    "#file='pCRC65'"
   ]
  },
  {
   "cell_type": "code",
   "execution_count": 4,
   "id": "0f0f1301",
   "metadata": {},
   "outputs": [],
   "source": [
    "file='pNCI60'\n",
    "df0=pd.read_pickle(f'{Path}/{file}.pkl')"
   ]
  },
  {
   "cell_type": "code",
   "execution_count": 5,
   "id": "612815c6",
   "metadata": {},
   "outputs": [],
   "source": [
    "file='pCRC65'\n",
    "df1=pd.read_pickle(f'{Path}/{file}.pkl')"
   ]
  },
  {
   "cell_type": "code",
   "execution_count": 7,
   "id": "b2e4f760",
   "metadata": {
    "scrolled": true
   },
   "outputs": [
    {
     "data": {
      "text/plain": [
       "60"
      ]
     },
     "execution_count": 7,
     "metadata": {},
     "output_type": "execute_result"
    }
   ],
   "source": [
    "len(sorted(set(df0['Experiment'])))"
   ]
  },
  {
   "cell_type": "code",
   "execution_count": 8,
   "id": "b5173c4c",
   "metadata": {
    "scrolled": true
   },
   "outputs": [
    {
     "data": {
      "text/plain": [
       "65"
      ]
     },
     "execution_count": 8,
     "metadata": {},
     "output_type": "execute_result"
    }
   ],
   "source": [
    "len(sorted(set(df1['Experiment'])))"
   ]
  },
  {
   "cell_type": "markdown",
   "id": "cc349a4d",
   "metadata": {},
   "source": [
    "# Reshape dataframe into matrix"
   ]
  },
  {
   "cell_type": "code",
   "execution_count": 9,
   "id": "ca670ce5",
   "metadata": {},
   "outputs": [],
   "source": [
    "df=pd.concat([df0, df1], ignore_index=True)\n",
    "df=df[~np.isnan(df['Intensity'])].copy()"
   ]
  },
  {
   "cell_type": "code",
   "execution_count": 13,
   "id": "fa64b6b1",
   "metadata": {
    "scrolled": true
   },
   "outputs": [],
   "source": [
    "mods=list(df['Modified sequence'])\n",
    "prots=list(df['Proteins'])\n",
    "D_mod_to_prot={mods[i]:prots[i] for i in range(len(mods))}\n",
    "\n",
    "np.save(f\"{Path}/D_mod_to_prot.npy\", D_mod_to_prot)"
   ]
  },
  {
   "cell_type": "code",
   "execution_count": null,
   "id": "793e42bf",
   "metadata": {},
   "outputs": [],
   "source": []
  },
  {
   "cell_type": "code",
   "execution_count": null,
   "id": "e1b6c1b7",
   "metadata": {},
   "outputs": [],
   "source": []
  },
  {
   "cell_type": "code",
   "execution_count": null,
   "id": "cb9b070f",
   "metadata": {},
   "outputs": [],
   "source": []
  },
  {
   "cell_type": "code",
   "execution_count": null,
   "id": "e5f34017",
   "metadata": {},
   "outputs": [],
   "source": []
  },
  {
   "cell_type": "code",
   "execution_count": 9,
   "id": "bb574027",
   "metadata": {},
   "outputs": [],
   "source": [
    "# Some intensities are nan, which is a little weird"
   ]
  },
  {
   "cell_type": "code",
   "execution_count": 10,
   "id": "3896a4dd",
   "metadata": {},
   "outputs": [],
   "source": [
    "mods=sorted(set(df['Modified sequence']))\n",
    "exps=sorted(set(df['Experiment']))"
   ]
  },
  {
   "cell_type": "code",
   "execution_count": 11,
   "id": "fb1c55d0",
   "metadata": {},
   "outputs": [],
   "source": [
    "D_mod_to_ind={mods[i]:i for i in range(len(mods))}"
   ]
  },
  {
   "cell_type": "code",
   "execution_count": 12,
   "id": "50c4781d",
   "metadata": {},
   "outputs": [],
   "source": [
    "M=np.full((len(mods), len(exps)), np.NaN)"
   ]
  },
  {
   "cell_type": "code",
   "execution_count": 13,
   "id": "a7dae248",
   "metadata": {
    "scrolled": true
   },
   "outputs": [
    {
     "name": "stdout",
     "output_type": "stream",
     "text": [
      "0\n",
      "1\n",
      "2\n",
      "3\n",
      "4\n",
      "5\n",
      "6\n",
      "7\n",
      "8\n",
      "9\n",
      "10\n",
      "11\n",
      "12\n",
      "13\n",
      "14\n",
      "15\n",
      "16\n",
      "17\n",
      "18\n",
      "19\n",
      "20\n",
      "21\n",
      "22\n",
      "23\n",
      "24\n",
      "25\n",
      "26\n",
      "27\n",
      "28\n",
      "29\n",
      "30\n",
      "31\n",
      "32\n",
      "33\n",
      "34\n",
      "35\n",
      "36\n",
      "37\n",
      "38\n",
      "39\n",
      "40\n",
      "41\n",
      "42\n",
      "43\n",
      "44\n",
      "45\n",
      "46\n",
      "47\n",
      "48\n",
      "49\n",
      "50\n",
      "51\n",
      "52\n",
      "53\n",
      "54\n",
      "55\n",
      "56\n",
      "57\n",
      "58\n",
      "59\n",
      "60\n",
      "61\n",
      "62\n",
      "63\n",
      "64\n",
      "65\n",
      "66\n",
      "67\n",
      "68\n",
      "69\n",
      "70\n",
      "71\n",
      "72\n",
      "73\n",
      "74\n",
      "75\n",
      "76\n",
      "77\n",
      "78\n",
      "79\n",
      "80\n",
      "81\n",
      "82\n",
      "83\n",
      "84\n",
      "85\n",
      "86\n",
      "87\n",
      "88\n",
      "89\n",
      "90\n",
      "91\n",
      "92\n",
      "93\n",
      "94\n",
      "95\n",
      "96\n",
      "97\n",
      "98\n",
      "99\n",
      "100\n",
      "101\n",
      "102\n",
      "103\n",
      "104\n",
      "105\n",
      "106\n",
      "107\n",
      "108\n",
      "109\n",
      "110\n",
      "111\n",
      "112\n",
      "113\n",
      "114\n",
      "115\n",
      "116\n",
      "117\n",
      "118\n",
      "119\n",
      "120\n",
      "121\n",
      "122\n",
      "123\n",
      "124\n"
     ]
    }
   ],
   "source": [
    "for i,exp in enumerate(exps):\n",
    "    print(i)\n",
    "    dfc=df[df['Experiment']==exp].copy()\n",
    "    dfcs=dfc[['Modified sequence', 'Intensity']].copy()\n",
    "    ints=dfcs.groupby('Modified sequence').mean()\n",
    "    indices=[D_mod_to_ind[a] for a in ints.index]\n",
    "    M[indices, i:i+1]=np.array(ints.values)"
   ]
  },
  {
   "cell_type": "code",
   "execution_count": 15,
   "id": "7e787798",
   "metadata": {
    "scrolled": true
   },
   "outputs": [],
   "source": [
    "Df=pd.DataFrame(data=M, columns=exps, index=mods)"
   ]
  },
  {
   "cell_type": "code",
   "execution_count": 18,
   "id": "1cde10e2",
   "metadata": {},
   "outputs": [],
   "source": [
    "#Df.to_pickle(f'{Path}/P_M_not_normalized.pkl')"
   ]
  },
  {
   "cell_type": "code",
   "execution_count": 15,
   "id": "6ab85319",
   "metadata": {},
   "outputs": [],
   "source": [
    "for i in range(len(exps)):\n",
    "    Df[exps[i]]=Df[exps[i]]/np.nanmedian(Df[exps[i]])"
   ]
  },
  {
   "cell_type": "markdown",
   "id": "1b343a1e",
   "metadata": {},
   "source": [
    "# Combine cell lines that were measured several times"
   ]
  },
  {
   "cell_type": "code",
   "execution_count": 16,
   "id": "0cdcb285",
   "metadata": {},
   "outputs": [],
   "source": [
    "def purge_and_capitalize(ccl):\n",
    "    ccl_str=ccl.replace('-', '')\n",
    "    ccl_str=ccl_str.replace(' ', '')\n",
    "    return(ccl_str.upper())\n",
    "\n",
    "def map_celllines_to_cellosaurus(ccls):\n",
    "    # Let's remove '-' and spaces and capitalize everything\n",
    "    D_ccl={}\n",
    "\n",
    "    for ccl in ccls:\n",
    "        D_ccl[ccl]=purge_and_capitalize(ccl)\n",
    "    ccl_red=sorted(set([D_ccl[a] for a in ccls]))\n",
    "    len(ccl_red)\n",
    "    \n",
    "    Path='/home/mgander/Atlantic/data/'\n",
    "    dfc=pd.read_pickle(f'{Path}/Viability/CCL_dict/Cellosaurus_CCLs.pkl')\n",
    "    dfc=dfc[dfc['Species']=='NCBI_TaxID=9606; ! Homo sapiens (Human)']\n",
    "\n",
    "    # Use the synonyms to map to the Cellosaurus ID\n",
    "    cellosaurus_ids=list(dfc['Cellosaurus_ID'])\n",
    "    syns=list(dfc['Synonyms'])\n",
    "\n",
    "    syn_l=[]\n",
    "    for s in syns:\n",
    "        if '; ' in s:\n",
    "            syn_l.append(s.split('; '))\n",
    "        else:\n",
    "            syn_l.append(s)\n",
    "    D_cello={cellosaurus_ids[i]:cellosaurus_ids[i] for i in range(len(cellosaurus_ids))}\n",
    "\n",
    "    for i in range(len(syn_l)):\n",
    "        for s in syn_l[i]:\n",
    "            D_cello[s]=cellosaurus_ids[i]\n",
    "            \n",
    "    ccl_red=sorted(set(ccl_red))\n",
    "    for ccl in ccl_red:\n",
    "        if ccl in cellosaurus_ids:\n",
    "            D_cello[ccl]=ccl\n",
    "            \n",
    "    D_cello['C106']='C106[HUMANRECTALADENOCARCINOMA]'\n",
    "    D_cello['CC20']='CC20[HUMANCOLONADENOCARCINOMA]'\n",
    "    D_cello['NCIADRES']='NCIADRRES'\n",
    "    D_cello['Hela']='HELA'\n",
    "    \n",
    "    keys=list(D_cello.keys())\n",
    "    # Still missing\n",
    "    for ccl_red in ccl_red:\n",
    "        if not ccl_red in keys:\n",
    "            print(f'{ccl_red}')\n",
    "    #return([D_ccl[a] for a in ccls])\n",
    "    \n",
    "    return([D_cello[D_ccl[a]] for a in ccls])"
   ]
  },
  {
   "cell_type": "code",
   "execution_count": 17,
   "id": "758518b9",
   "metadata": {
    "scrolled": true
   },
   "outputs": [],
   "source": [
    "dfe=pd.DataFrame({'Experiment':exps})\n",
    "dfe['CCL']=[a.split('_')[0] for a in exps]\n",
    "dfe['Cello']=map_celllines_to_cellosaurus(list(dfe['CCL']))"
   ]
  },
  {
   "cell_type": "code",
   "execution_count": 18,
   "id": "4af2bbf6",
   "metadata": {},
   "outputs": [],
   "source": [
    "dvc=dfe['Cello'].value_counts()\n",
    "plurals=list(dvc[dvc>1].index)\n",
    "singulars=list(dvc[dvc==1].index)"
   ]
  },
  {
   "cell_type": "code",
   "execution_count": 19,
   "id": "2961731b",
   "metadata": {
    "scrolled": true
   },
   "outputs": [
    {
     "name": "stderr",
     "output_type": "stream",
     "text": [
      "/tmp/ipykernel_3420/3241054075.py:7: RuntimeWarning: Mean of empty slice\n",
      "  Dfs[p]=np.nanmean(dfs.values, 1)\n",
      "/tmp/ipykernel_3420/3241054075.py:7: RuntimeWarning: Mean of empty slice\n",
      "  Dfs[p]=np.nanmean(dfs.values, 1)\n",
      "/tmp/ipykernel_3420/3241054075.py:7: RuntimeWarning: Mean of empty slice\n",
      "  Dfs[p]=np.nanmean(dfs.values, 1)\n"
     ]
    }
   ],
   "source": [
    "Dfs=Df[list(dfe[dfe['Cello'].isin(singulars)]['Experiment'])].copy()\n",
    "Dfs.columns=[a.split('_')[0] for a in singulars]\n",
    "\n",
    "for p in plurals:\n",
    "    cols=list(dfe[dfe['Cello']==p]['Experiment'])\n",
    "    dfs=Df[cols]\n",
    "    Dfs[p]=np.nanmean(dfs.values, 1)"
   ]
  },
  {
   "cell_type": "code",
   "execution_count": 42,
   "id": "0da1817b",
   "metadata": {},
   "outputs": [],
   "source": [
    "# Check with Cellosaurus\n",
    "dfc=pd.read_pickle(f'/home/mgander/Atlantic/data/Viability/CCL_dict/Cellosaurus_CCLs.pkl')\n",
    "for a in Dfs.columns:\n",
    "     if not a in list(dfc['Cellosaurus_ID']):\n",
    "            print(a)"
   ]
  },
  {
   "cell_type": "code",
   "execution_count": 43,
   "id": "d52fb570",
   "metadata": {},
   "outputs": [],
   "source": [
    "Dfs.index=['PP'+a for a in Dfs.index]"
   ]
  },
  {
   "cell_type": "code",
   "execution_count": 44,
   "id": "b54fd828",
   "metadata": {},
   "outputs": [],
   "source": [
    "Dfs.columns=['Atlantic_?_?_'+a+'_?_0um_0min' for a in Dfs.columns]"
   ]
  },
  {
   "cell_type": "code",
   "execution_count": 45,
   "id": "449ad08b",
   "metadata": {},
   "outputs": [],
   "source": [
    "Dfs.to_pickle(f'{Path}/P_M.pkl')"
   ]
  },
  {
   "cell_type": "code",
   "execution_count": null,
   "id": "2b0c3f9a",
   "metadata": {},
   "outputs": [],
   "source": []
  },
  {
   "cell_type": "code",
   "execution_count": null,
   "id": "cf321ea3",
   "metadata": {},
   "outputs": [],
   "source": []
  },
  {
   "cell_type": "code",
   "execution_count": null,
   "id": "3eca4b2f",
   "metadata": {},
   "outputs": [],
   "source": []
  },
  {
   "cell_type": "code",
   "execution_count": null,
   "id": "b1014361",
   "metadata": {},
   "outputs": [],
   "source": []
  },
  {
   "cell_type": "code",
   "execution_count": null,
   "id": "9761070e",
   "metadata": {},
   "outputs": [],
   "source": []
  },
  {
   "cell_type": "code",
   "execution_count": null,
   "id": "1e9fa01d",
   "metadata": {},
   "outputs": [],
   "source": []
  },
  {
   "cell_type": "code",
   "execution_count": null,
   "id": "b631cbf0",
   "metadata": {},
   "outputs": [],
   "source": []
  },
  {
   "cell_type": "code",
   "execution_count": null,
   "id": "0439472d",
   "metadata": {},
   "outputs": [],
   "source": []
  },
  {
   "cell_type": "code",
   "execution_count": null,
   "id": "1db87eba",
   "metadata": {},
   "outputs": [],
   "source": []
  },
  {
   "cell_type": "code",
   "execution_count": null,
   "id": "90679a12",
   "metadata": {},
   "outputs": [],
   "source": []
  },
  {
   "cell_type": "code",
   "execution_count": null,
   "id": "40d285e7",
   "metadata": {},
   "outputs": [],
   "source": []
  },
  {
   "cell_type": "code",
   "execution_count": null,
   "id": "0736235e",
   "metadata": {},
   "outputs": [],
   "source": []
  },
  {
   "cell_type": "code",
   "execution_count": null,
   "id": "be4842d9",
   "metadata": {},
   "outputs": [],
   "source": []
  },
  {
   "cell_type": "code",
   "execution_count": null,
   "id": "25d4afaf",
   "metadata": {},
   "outputs": [],
   "source": []
  },
  {
   "cell_type": "code",
   "execution_count": null,
   "id": "85a428f6",
   "metadata": {},
   "outputs": [],
   "source": []
  },
  {
   "cell_type": "code",
   "execution_count": null,
   "id": "67f1d120",
   "metadata": {},
   "outputs": [],
   "source": []
  },
  {
   "cell_type": "code",
   "execution_count": null,
   "id": "7ae76cdb",
   "metadata": {},
   "outputs": [],
   "source": []
  },
  {
   "cell_type": "code",
   "execution_count": null,
   "id": "d97edab1",
   "metadata": {},
   "outputs": [],
   "source": []
  },
  {
   "cell_type": "code",
   "execution_count": null,
   "id": "6fc353bd",
   "metadata": {},
   "outputs": [],
   "source": []
  },
  {
   "cell_type": "code",
   "execution_count": null,
   "id": "99062571",
   "metadata": {},
   "outputs": [],
   "source": []
  },
  {
   "cell_type": "code",
   "execution_count": null,
   "id": "82f74a64",
   "metadata": {},
   "outputs": [],
   "source": []
  },
  {
   "cell_type": "code",
   "execution_count": null,
   "id": "f25aee80",
   "metadata": {},
   "outputs": [],
   "source": []
  },
  {
   "cell_type": "code",
   "execution_count": null,
   "id": "af44da9d",
   "metadata": {},
   "outputs": [],
   "source": []
  },
  {
   "cell_type": "code",
   "execution_count": null,
   "id": "20e02b04",
   "metadata": {},
   "outputs": [],
   "source": []
  },
  {
   "cell_type": "code",
   "execution_count": null,
   "id": "1e5a2fbf",
   "metadata": {},
   "outputs": [],
   "source": []
  }
 ],
 "metadata": {
  "kernelspec": {
   "display_name": "phos",
   "language": "python",
   "name": "phos"
  },
  "language_info": {
   "codemirror_mode": {
    "name": "ipython",
    "version": 3
   },
   "file_extension": ".py",
   "mimetype": "text/x-python",
   "name": "python",
   "nbconvert_exporter": "python",
   "pygments_lexer": "ipython3",
   "version": "3.10.5"
  }
 },
 "nbformat": 4,
 "nbformat_minor": 5
}
