{
 "cells": [
  {
   "cell_type": "code",
   "execution_count": 4,
   "id": "07ed7305-f61d-4855-b84f-dba87fc7af3b",
   "metadata": {},
   "outputs": [],
   "source": [
    "import numpy as np\n",
    "import anndata\n",
    "import pandas as pd\n",
    "import scanpy as sc\n",
    "import scipy\n",
    "import seaborn as sns\n",
    "import networkx as nx\n",
    "import matplotlib.pyplot as plt"
   ]
  },
  {
   "cell_type": "code",
   "execution_count": 5,
   "id": "a65c0ebc-6e05-4aaf-af78-dfce9acdd48f",
   "metadata": {},
   "outputs": [],
   "source": [
    "Path='/media/kusterlab/internal_projects/active/NCI60_Phospho/Final_dataset/'"
   ]
  },
  {
   "cell_type": "code",
   "execution_count": 8,
   "id": "2ed2d9ba-e586-4d28-9e86-d605ba748118",
   "metadata": {},
   "outputs": [],
   "source": [
    "file2='proteinGroups'"
   ]
  },
  {
   "cell_type": "code",
   "execution_count": 9,
   "id": "f80807d2-54f2-428a-b4e0-86775ac38f04",
   "metadata": {},
   "outputs": [
    {
     "name": "stderr",
     "output_type": "stream",
     "text": [
      "/tmp/ipykernel_1921/270476762.py:1: DtypeWarning: Columns (449,450) have mixed types. Specify dtype option on import or set low_memory=False.\n",
      "  df0=pd.read_csv(f'{Path}/MQ1.5.5.1_NCI60_FP_complete/txt/{file2}.txt', sep='\\t', lineterminator='\\n')\n",
      "/tmp/ipykernel_1921/270476762.py:2: DtypeWarning: Columns (504,505) have mixed types. Specify dtype option on import or set low_memory=False.\n",
      "  df1=pd.read_csv(f'{Path}/MQ1.5.5.1_CRC65_FP_complete/txt/{file2}.txt', sep='\\t', lineterminator='\\n')\n"
     ]
    }
   ],
   "source": [
    "df0=pd.read_csv(f'{Path}/MQ1.5.5.1_NCI60_FP_complete/txt/{file2}.txt', sep='\\t', lineterminator='\\n')\n",
    "df1=pd.read_csv(f'{Path}/MQ1.5.5.1_CRC65_FP_complete/txt/{file2}.txt', sep='\\t', lineterminator='\\n')"
   ]
  },
  {
   "cell_type": "code",
   "execution_count": 16,
   "id": "d291d8c7-4f3c-4c34-9354-87a35b89d5b1",
   "metadata": {},
   "outputs": [],
   "source": [
    "df0 = df0[['Protein IDs', 'Gene names']].drop_duplicates().copy()\n",
    "df1 = df1[['Protein IDs', 'Gene names']].drop_duplicates().copy()"
   ]
  },
  {
   "cell_type": "code",
   "execution_count": 20,
   "id": "5c45f12a-6373-4eb4-9a4e-9e5217482877",
   "metadata": {},
   "outputs": [],
   "source": [
    "df = pd.concat([df0, df1]).drop_duplicates().copy()"
   ]
  },
  {
   "cell_type": "code",
   "execution_count": 21,
   "id": "41d65aba-d256-4d78-97eb-7151b3f88de5",
   "metadata": {},
   "outputs": [
    {
     "data": {
      "text/html": [
       "<div>\n",
       "<style scoped>\n",
       "    .dataframe tbody tr th:only-of-type {\n",
       "        vertical-align: middle;\n",
       "    }\n",
       "\n",
       "    .dataframe tbody tr th {\n",
       "        vertical-align: top;\n",
       "    }\n",
       "\n",
       "    .dataframe thead th {\n",
       "        text-align: right;\n",
       "    }\n",
       "</style>\n",
       "<table border=\"1\" class=\"dataframe\">\n",
       "  <thead>\n",
       "    <tr style=\"text-align: right;\">\n",
       "      <th></th>\n",
       "      <th>Protein IDs</th>\n",
       "      <th>Gene names</th>\n",
       "    </tr>\n",
       "  </thead>\n",
       "  <tbody>\n",
       "    <tr>\n",
       "      <th>0</th>\n",
       "      <td>P0DN26;A0A075B759;Q9Y536;F5H284;A0A0B4J2A2;P0DN37</td>\n",
       "      <td>PPIAL4E;PPIAL4A;PPIAL4D;PPIAL4C</td>\n",
       "    </tr>\n",
       "    <tr>\n",
       "      <th>1</th>\n",
       "      <td>A0A0B4J2F0</td>\n",
       "      <td>PIGBOS1</td>\n",
       "    </tr>\n",
       "    <tr>\n",
       "      <th>2</th>\n",
       "      <td>A0A0C4DH73</td>\n",
       "      <td>IGKV1-12</td>\n",
       "    </tr>\n",
       "    <tr>\n",
       "      <th>3</th>\n",
       "      <td>A0A5B9;P01850</td>\n",
       "      <td>TRBC2;TRBC1</td>\n",
       "    </tr>\n",
       "    <tr>\n",
       "      <th>4</th>\n",
       "      <td>A0AV96;A0AV96-2</td>\n",
       "      <td>RBM47</td>\n",
       "    </tr>\n",
       "    <tr>\n",
       "      <th>...</th>\n",
       "      <td>...</td>\n",
       "      <td>...</td>\n",
       "    </tr>\n",
       "    <tr>\n",
       "      <th>12664</th>\n",
       "      <td>REV__Q9Y5C1</td>\n",
       "      <td>NaN</td>\n",
       "    </tr>\n",
       "    <tr>\n",
       "      <th>12665</th>\n",
       "      <td>REV__Q9Y5E3</td>\n",
       "      <td>NaN</td>\n",
       "    </tr>\n",
       "    <tr>\n",
       "      <th>12666</th>\n",
       "      <td>REV__Q9Y5F9-2;REV__Q9Y5F9</td>\n",
       "      <td>NaN</td>\n",
       "    </tr>\n",
       "    <tr>\n",
       "      <th>12667</th>\n",
       "      <td>REV__Q9Y613</td>\n",
       "      <td>NaN</td>\n",
       "    </tr>\n",
       "    <tr>\n",
       "      <th>12668</th>\n",
       "      <td>REV__Q9Y6I3-3;REV__Q9Y6I3;REV__Q9Y6I3-1;REV__O...</td>\n",
       "      <td>NaN</td>\n",
       "    </tr>\n",
       "  </tbody>\n",
       "</table>\n",
       "<p>16108 rows × 2 columns</p>\n",
       "</div>"
      ],
      "text/plain": [
       "                                             Protein IDs  \\\n",
       "0      P0DN26;A0A075B759;Q9Y536;F5H284;A0A0B4J2A2;P0DN37   \n",
       "1                                             A0A0B4J2F0   \n",
       "2                                             A0A0C4DH73   \n",
       "3                                          A0A5B9;P01850   \n",
       "4                                        A0AV96;A0AV96-2   \n",
       "...                                                  ...   \n",
       "12664                                        REV__Q9Y5C1   \n",
       "12665                                        REV__Q9Y5E3   \n",
       "12666                          REV__Q9Y5F9-2;REV__Q9Y5F9   \n",
       "12667                                        REV__Q9Y613   \n",
       "12668  REV__Q9Y6I3-3;REV__Q9Y6I3;REV__Q9Y6I3-1;REV__O...   \n",
       "\n",
       "                            Gene names  \n",
       "0      PPIAL4E;PPIAL4A;PPIAL4D;PPIAL4C  \n",
       "1                              PIGBOS1  \n",
       "2                             IGKV1-12  \n",
       "3                          TRBC2;TRBC1  \n",
       "4                                RBM47  \n",
       "...                                ...  \n",
       "12664                              NaN  \n",
       "12665                              NaN  \n",
       "12666                              NaN  \n",
       "12667                              NaN  \n",
       "12668                              NaN  \n",
       "\n",
       "[16108 rows x 2 columns]"
      ]
     },
     "execution_count": 21,
     "metadata": {},
     "output_type": "execute_result"
    }
   ],
   "source": [
    "df"
   ]
  },
  {
   "cell_type": "code",
   "execution_count": 22,
   "id": "f873f275-1873-42cb-8958-18072c93a795",
   "metadata": {},
   "outputs": [],
   "source": [
    "df.to_pickle('Uniprots_to_Gene_Names.pkl')"
   ]
  },
  {
   "cell_type": "code",
   "execution_count": null,
   "id": "92f1a19f-a15a-45a1-b220-3c713afcc9c3",
   "metadata": {},
   "outputs": [],
   "source": []
  },
  {
   "cell_type": "code",
   "execution_count": null,
   "id": "17189347-aa1a-4330-9967-e95e58bc8073",
   "metadata": {},
   "outputs": [],
   "source": []
  }
 ],
 "metadata": {
  "kernelspec": {
   "display_name": "ott_env",
   "language": "python",
   "name": "ott_env"
  },
  "language_info": {
   "codemirror_mode": {
    "name": "ipython",
    "version": 3
   },
   "file_extension": ".py",
   "mimetype": "text/x-python",
   "name": "python",
   "nbconvert_exporter": "python",
   "pygments_lexer": "ipython3",
   "version": "3.12.2"
  }
 },
 "nbformat": 4,
 "nbformat_minor": 5
}
