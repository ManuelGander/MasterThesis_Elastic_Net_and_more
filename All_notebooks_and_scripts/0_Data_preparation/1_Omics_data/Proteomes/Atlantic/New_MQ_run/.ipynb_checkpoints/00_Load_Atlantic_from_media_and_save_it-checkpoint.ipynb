{
 "cells": [
  {
   "cell_type": "code",
   "execution_count": 24,
   "id": "f9699405",
   "metadata": {
    "scrolled": true
   },
   "outputs": [],
   "source": [
    "import numpy as np\n",
    "import anndata\n",
    "import pandas as pd\n",
    "import scanpy as sc\n",
    "import scipy\n",
    "import seaborn as sns\n",
    "import networkx as nx\n",
    "import matplotlib.pyplot as plt"
   ]
  },
  {
   "cell_type": "code",
   "execution_count": 2,
   "id": "7a16e2eb",
   "metadata": {},
   "outputs": [],
   "source": [
    "Path='/home/mgander/Atlantic/data/'"
   ]
  },
  {
   "cell_type": "code",
   "execution_count": 3,
   "id": "c7ebe09b",
   "metadata": {
    "scrolled": true
   },
   "outputs": [
    {
     "name": "stderr",
     "output_type": "stream",
     "text": [
      "/tmp/ipykernel_767/1313670085.py:3: DtypeWarning: Columns (4,6,55,56,58,63) have mixed types. Specify dtype option on import or set low_memory=False.\n",
      "  df=pd.read_csv(f'{Path}/evidence.txt', sep='\\t', lineterminator='\\n')\n"
     ]
    }
   ],
   "source": [
    "# For linux lines end with /n, for mac with /r\n",
    "\n",
    "df=pd.read_csv(f'{Path}/evidence.txt', sep='\\t', lineterminator='\\n')"
   ]
  },
  {
   "cell_type": "code",
   "execution_count": 6,
   "id": "e67dd07f",
   "metadata": {},
   "outputs": [],
   "source": [
    "df=df[['Modified sequence', 'Proteins', 'Gene names', 'Type', 'Experiment', 'Retention time', 'PEP', 'Intensity', 'id', 'Protein group IDs', 'Peptide ID', 'Mod. peptide ID', 'MS/MS IDs']].copy()"
   ]
  },
  {
   "cell_type": "code",
   "execution_count": 9,
   "id": "e91a393d",
   "metadata": {},
   "outputs": [
    {
     "data": {
      "text/plain": [
       "Experiment\n",
       "OVCAR3_NCI60     62462\n",
       "HOP92_NCI60      58955\n",
       "OVCAR5_NCI60     58837\n",
       "OVCAR4_NCI60     58711\n",
       "NCIH23_NCI60     58624\n",
       "                 ...  \n",
       "SW1116_CRC65     40713\n",
       "LS 174T_CRC65    39838\n",
       "TK10_NCI60       37019\n",
       "UACC62_NCI60     35212\n",
       "CoCM-1_CRC65     19590\n",
       "Name: count, Length: 126, dtype: int64"
      ]
     },
     "execution_count": 9,
     "metadata": {},
     "output_type": "execute_result"
    }
   ],
   "source": [
    "df.value_counts('Experiment')"
   ]
  },
  {
   "cell_type": "code",
   "execution_count": 10,
   "id": "e7ab9f89",
   "metadata": {},
   "outputs": [],
   "source": [
    "df.to_pickle(f'/home/mgander/Atlantic/data/copied_data/Atlantic/New_MQ_run_phos.pkl')"
   ]
  },
  {
   "cell_type": "code",
   "execution_count": 11,
   "id": "a9f65866",
   "metadata": {
    "scrolled": true
   },
   "outputs": [
    {
     "data": {
      "text/plain": [
       "126"
      ]
     },
     "execution_count": 11,
     "metadata": {},
     "output_type": "execute_result"
    }
   ],
   "source": [
    "len(sorted(set(df['Experiment'])))"
   ]
  },
  {
   "cell_type": "code",
   "execution_count": null,
   "id": "d4d6bd63",
   "metadata": {},
   "outputs": [],
   "source": []
  },
  {
   "cell_type": "code",
   "execution_count": null,
   "id": "c01e78c0",
   "metadata": {},
   "outputs": [],
   "source": []
  }
 ],
 "metadata": {
  "kernelspec": {
   "display_name": "phos",
   "language": "python",
   "name": "phos"
  },
  "language_info": {
   "codemirror_mode": {
    "name": "ipython",
    "version": 3
   },
   "file_extension": ".py",
   "mimetype": "text/x-python",
   "name": "python",
   "nbconvert_exporter": "python",
   "pygments_lexer": "ipython3",
   "version": "3.10.5"
  }
 },
 "nbformat": 4,
 "nbformat_minor": 5
}
