{
 "cells": [
  {
   "cell_type": "code",
   "execution_count": 3,
   "id": "f9699405",
   "metadata": {
    "scrolled": true
   },
   "outputs": [],
   "source": [
    "import numpy as np\n",
    "import anndata\n",
    "import pandas as pd\n",
    "import scanpy as sc\n",
    "import scipy\n",
    "import seaborn as sns\n",
    "import networkx as nx\n",
    "import matplotlib.pyplot as plt"
   ]
  },
  {
   "cell_type": "code",
   "execution_count": 4,
   "id": "7a16e2eb",
   "metadata": {},
   "outputs": [],
   "source": [
    "Path='/home/mgander/Atlantic/data/'"
   ]
  },
  {
   "cell_type": "code",
   "execution_count": 5,
   "id": "c7ebe09b",
   "metadata": {
    "scrolled": true
   },
   "outputs": [
    {
     "name": "stderr",
     "output_type": "stream",
     "text": [
      "/tmp/ipykernel_17742/531050388.py:3: DtypeWarning: Columns (4,6,55,56,58,63) have mixed types. Specify dtype option on import or set low_memory=False.\n",
      "  df=pd.read_csv(f'{Path}/PP_evidence_0.txt', sep='\\t', lineterminator='\\n')\n"
     ]
    }
   ],
   "source": [
    "# For linux lines end with /n, for mac with /r\n",
    "\n",
    "df=pd.read_csv(f'{Path}/PP_evidence_0.txt', sep='\\t', lineterminator='\\n')"
   ]
  },
  {
   "cell_type": "code",
   "execution_count": 8,
   "id": "47f0204d",
   "metadata": {},
   "outputs": [],
   "source": [
    "df['Experiment']=['pat_'+ a for a in df['Experiment']]"
   ]
  },
  {
   "cell_type": "code",
   "execution_count": 6,
   "id": "c1237e55",
   "metadata": {},
   "outputs": [],
   "source": [
    "df.to_csv(f'{Path}/evidence_new.txt', sep='\\t')"
   ]
  },
  {
   "cell_type": "code",
   "execution_count": 7,
   "id": "b945b124",
   "metadata": {},
   "outputs": [],
   "source": [
    "dfs=df.sample(10**3)"
   ]
  },
  {
   "cell_type": "code",
   "execution_count": 8,
   "id": "c795363f",
   "metadata": {},
   "outputs": [],
   "source": [
    "dfs.to_csv(f'{Path}/evidence.txt', sep='\\t')"
   ]
  },
  {
   "cell_type": "code",
   "execution_count": 15,
   "id": "2c887a54",
   "metadata": {},
   "outputs": [
    {
     "data": {
      "text/plain": [
       "728735            pat_C32_CRC65\n",
       "4039944         pat_HOP92_NCI60\n",
       "425990           pat_GP2d_CRC65\n",
       "140032     pat_Colo 320DM_CRC65\n",
       "1757445       pat_COLO205_NCI60\n",
       "                   ...         \n",
       "488241         pat_HDC-57_CRC65\n",
       "1427097           pat_C99_CRC65\n",
       "2021776       pat_HDC-111_CRC65\n",
       "524987        pat_HDC-135_CRC65\n",
       "324008           pat_T47D_NCI60\n",
       "Name: Experiment, Length: 1000, dtype: object"
      ]
     },
     "execution_count": 15,
     "metadata": {},
     "output_type": "execute_result"
    }
   ],
   "source": [
    "dfs['Experiment']"
   ]
  },
  {
   "cell_type": "code",
   "execution_count": 17,
   "id": "c5d02c4d",
   "metadata": {},
   "outputs": [
    {
     "data": {
      "text/plain": [
       "['pat_786O_NCI60',\n",
       " 'pat_A498_NCI60',\n",
       " 'pat_A549_NCI60',\n",
       " 'pat_ACHN_NCI60',\n",
       " 'pat_BT549_NCI60',\n",
       " 'pat_C106_CRC65',\n",
       " 'pat_C10_CRC65',\n",
       " 'pat_C125-PM_CRC65',\n",
       " 'pat_C32_CRC65',\n",
       " 'pat_C70_CRC65',\n",
       " 'pat_C75_CRC65',\n",
       " 'pat_C80_CRC65',\n",
       " 'pat_C84_CRC65',\n",
       " 'pat_C99_CRC65',\n",
       " 'pat_CAKI1_NCI60',\n",
       " 'pat_CC07_CRC65',\n",
       " 'pat_CC20_CRC65',\n",
       " 'pat_CCK-81_CRC65',\n",
       " 'pat_CCRFCEM_NCI60',\n",
       " 'pat_COLO205_NCI60',\n",
       " 'pat_CaCo-2_CRC65',\n",
       " 'pat_CaR-1_CRC65',\n",
       " 'pat_CoCM-1_CRC65',\n",
       " 'pat_Colo 320DM_CRC65',\n",
       " 'pat_Colo 741_CRC65',\n",
       " 'pat_Colo-678_CRC65',\n",
       " 'pat_DLD-1_CRC65',\n",
       " 'pat_DU145_NCI60',\n",
       " 'pat_EKVX_NCI60',\n",
       " 'pat_GP2d_CRC65',\n",
       " 'pat_HCA-46_CRC65',\n",
       " 'pat_HCA-7_CRC65',\n",
       " 'pat_HCC2998_NCI60',\n",
       " 'pat_HCT116_CRC65',\n",
       " 'pat_HCT116_NCI60',\n",
       " 'pat_HCT15_NCI60',\n",
       " 'pat_HDC-111_CRC65',\n",
       " 'pat_HDC-114_CRC65',\n",
       " 'pat_HDC-135_CRC65',\n",
       " 'pat_HDC-142_CRC65',\n",
       " 'pat_HDC-143_CRC65',\n",
       " 'pat_HDC-54_CRC65',\n",
       " 'pat_HDC-57_CRC65',\n",
       " 'pat_HDC-73_CRC65',\n",
       " 'pat_HDC-82_CRC65',\n",
       " 'pat_HDC-8_CRC65',\n",
       " 'pat_HDC-9_CRC65',\n",
       " 'pat_HL60_NCI60',\n",
       " 'pat_HOP62_NCI60',\n",
       " 'pat_HOP92_NCI60',\n",
       " 'pat_HRA-19_CRC65',\n",
       " 'pat_HS578T_NCI60',\n",
       " 'pat_HT29_CRC65',\n",
       " 'pat_HT29_NCI60',\n",
       " 'pat_HT55_CRC65',\n",
       " 'pat_Hela',\n",
       " 'pat_IGROV1_NCI60',\n",
       " 'pat_K562_NCI60',\n",
       " 'pat_KM12_NCI60',\n",
       " 'pat_LIM1863_CRC65',\n",
       " 'pat_LOXIMVI_NCI60',\n",
       " 'pat_LS 174T_CRC65',\n",
       " 'pat_LS 180_CRC65',\n",
       " 'pat_LS1034_CRC65',\n",
       " 'pat_LS123_CRC65',\n",
       " 'pat_LS411_CRC65',\n",
       " 'pat_LS513_CRC65',\n",
       " 'pat_LoVo_CRC65',\n",
       " 'pat_M14_NCI60',\n",
       " 'pat_MALME3M_NCI60',\n",
       " 'pat_MCF7_NCI60',\n",
       " 'pat_MDAMB231_NCI60',\n",
       " 'pat_MDAMB435_NCI60',\n",
       " 'pat_MDAMB468_NCI60',\n",
       " 'pat_MOLT4_NCI60',\n",
       " 'pat_NCI-H548_CRC65',\n",
       " 'pat_NCI-H716_CRC65',\n",
       " 'pat_NCI-H747_CRC65',\n",
       " 'pat_NCIADRES_NCI60',\n",
       " 'pat_NCIH226_NCI60',\n",
       " 'pat_NCIH23_NCI60',\n",
       " 'pat_NCIH322M_NCI60',\n",
       " 'pat_NCIH460_NCI60',\n",
       " 'pat_NCIH522_NCI60',\n",
       " 'pat_OVCAR3_NCI60',\n",
       " 'pat_OVCAR4_NCI60',\n",
       " 'pat_OVCAR5_NCI60',\n",
       " 'pat_OVCAR8_NCI60',\n",
       " 'pat_OXCO-1_CRC65',\n",
       " 'pat_OXCO-3_CRC65',\n",
       " 'pat_PC/JW_CRC65',\n",
       " 'pat_PC3_NCI60',\n",
       " 'pat_RCM-1_CRC65',\n",
       " 'pat_RKO_CRC65',\n",
       " 'pat_RPMI8226_NCI60',\n",
       " 'pat_RXF393_NCI60',\n",
       " 'pat_SF268_NCI60',\n",
       " 'pat_SF295_NCI60',\n",
       " 'pat_SF539_NCI60',\n",
       " 'pat_SK-CO-1_CRC65',\n",
       " 'pat_SKMEL28_NCI60',\n",
       " 'pat_SKMEL2_NCI60',\n",
       " 'pat_SKMEL5_NCI60',\n",
       " 'pat_SKOV3_NCI60',\n",
       " 'pat_SN12C_NCI60',\n",
       " 'pat_SNB19_NCI60',\n",
       " 'pat_SNB75_NCI60',\n",
       " 'pat_SNU-C2B_CRC65',\n",
       " 'pat_SR_NCI60',\n",
       " 'pat_SW1116_CRC65',\n",
       " 'pat_SW1417_CRC65',\n",
       " 'pat_SW403_CRC65',\n",
       " 'pat_SW480_CRC65',\n",
       " 'pat_SW48_CRC65',\n",
       " 'pat_SW620_CRC65',\n",
       " 'pat_SW620_NCI60',\n",
       " 'pat_SW837_CRC65',\n",
       " 'pat_SW948_CRC65',\n",
       " 'pat_T47D_NCI60',\n",
       " 'pat_T84_CRC65',\n",
       " 'pat_U031_NCI60',\n",
       " 'pat_U251_NCI60',\n",
       " 'pat_UACC257_NCI60',\n",
       " 'pat_UACC62_NCI60',\n",
       " 'pat_VACO 4A_CRC65']"
      ]
     },
     "execution_count": 17,
     "metadata": {},
     "output_type": "execute_result"
    }
   ],
   "source": [
    "sorted(set(dfs.Experiment))"
   ]
  },
  {
   "cell_type": "code",
   "execution_count": null,
   "id": "056c8a31",
   "metadata": {},
   "outputs": [],
   "source": [
    "Sample name,Cohort,Program,Batch Name,Entity,Histologic subtype,TMT Channel,QC\n",
    "HOP92,NCI60,FIRAS,HOP92_NCI60,NCI,Dontknoma,1,passed"
   ]
  },
  {
   "cell_type": "code",
   "execution_count": 19,
   "id": "d7fc4be4",
   "metadata": {},
   "outputs": [],
   "source": [
    "dfn['Cohort']='0'\n",
    "dfn['Program']=dfn.index\n",
    "dfn['Batch Name']='0'\n",
    "dfn['Entity']='0'\n",
    "dfn['Histologic subtype']='0'\n",
    "dfn['TMT Channel']=1\n",
    "dfn['QC']='passed'"
   ]
  },
  {
   "cell_type": "code",
   "execution_count": 24,
   "id": "a780465e",
   "metadata": {},
   "outputs": [],
   "source": [
    "dfn.to_csv('/home/mgander/Atlantic/data/patient_annotation_FH_LFQ_test3.csv')"
   ]
  },
  {
   "cell_type": "code",
   "execution_count": null,
   "id": "6896bc4f",
   "metadata": {},
   "outputs": [],
   "source": []
  },
  {
   "cell_type": "code",
   "execution_count": null,
   "id": "2ab522a3",
   "metadata": {},
   "outputs": [],
   "source": []
  },
  {
   "cell_type": "code",
   "execution_count": null,
   "id": "56d49e22",
   "metadata": {},
   "outputs": [],
   "source": []
  },
  {
   "cell_type": "code",
   "execution_count": null,
   "id": "446c737c",
   "metadata": {},
   "outputs": [],
   "source": []
  },
  {
   "cell_type": "code",
   "execution_count": null,
   "id": "980c9521",
   "metadata": {},
   "outputs": [],
   "source": []
  },
  {
   "cell_type": "code",
   "execution_count": null,
   "id": "85371d8e",
   "metadata": {},
   "outputs": [],
   "source": []
  },
  {
   "cell_type": "code",
   "execution_count": null,
   "id": "653ba96d",
   "metadata": {},
   "outputs": [],
   "source": []
  },
  {
   "cell_type": "code",
   "execution_count": 10,
   "id": "3cc091cd",
   "metadata": {},
   "outputs": [],
   "source": [
    "dfn=pd.DataFrame({'Sample name':list(set(df.Experiment))})"
   ]
  },
  {
   "cell_type": "code",
   "execution_count": 12,
   "id": "9e73ea7d",
   "metadata": {},
   "outputs": [],
   "source": [
    "dfn.index=dfn['Sample name']\n",
    "del dfn['Sample name']"
   ]
  },
  {
   "cell_type": "code",
   "execution_count": 14,
   "id": "9bf468f9",
   "metadata": {},
   "outputs": [],
   "source": [
    "dfn.to_csv(f'{Path}/samples.csv', sep='\\t')"
   ]
  },
  {
   "cell_type": "code",
   "execution_count": null,
   "id": "0a289f00",
   "metadata": {},
   "outputs": [],
   "source": []
  },
  {
   "cell_type": "code",
   "execution_count": null,
   "id": "c7fbca1f",
   "metadata": {},
   "outputs": [],
   "source": []
  },
  {
   "cell_type": "code",
   "execution_count": null,
   "id": "d238db21",
   "metadata": {},
   "outputs": [],
   "source": []
  }
 ],
 "metadata": {
  "kernelspec": {
   "display_name": "phos",
   "language": "python",
   "name": "phos"
  },
  "language_info": {
   "codemirror_mode": {
    "name": "ipython",
    "version": 3
   },
   "file_extension": ".py",
   "mimetype": "text/x-python",
   "name": "python",
   "nbconvert_exporter": "python",
   "pygments_lexer": "ipython3",
   "version": "3.10.5"
  }
 },
 "nbformat": 4,
 "nbformat_minor": 5
}
