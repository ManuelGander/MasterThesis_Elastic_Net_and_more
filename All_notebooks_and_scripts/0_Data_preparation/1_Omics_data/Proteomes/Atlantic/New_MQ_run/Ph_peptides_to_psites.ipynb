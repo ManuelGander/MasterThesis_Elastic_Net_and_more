{
 "cells": [
  {
   "cell_type": "code",
   "execution_count": 1,
   "id": "696ff593",
   "metadata": {},
   "outputs": [],
   "source": [
    "import numpy as np\n",
    "import anndata\n",
    "import pandas as pd\n",
    "import scanpy as sc\n",
    "import scipy\n",
    "import seaborn as sns\n",
    "import networkx as nx\n",
    "import matplotlib.pyplot as plt"
   ]
  },
  {
   "cell_type": "code",
   "execution_count": 2,
   "id": "d32261d4",
   "metadata": {},
   "outputs": [],
   "source": [
    "Path='/home/mgander/Atlantic/data/copied_data/Atlantic'"
   ]
  },
  {
   "cell_type": "markdown",
   "id": "cc349a4d",
   "metadata": {},
   "source": [
    "# Reshape dataframe into matrix"
   ]
  },
  {
   "cell_type": "code",
   "execution_count": 13,
   "id": "b4238339-8b54-45af-b6a7-e4c8156f5375",
   "metadata": {},
   "outputs": [],
   "source": [
    "# Matthews p-site annotation package\n",
    "import sys\n",
    "psite_annotation_path=f'/home/mgander/KL/psite_annotation-main'\n",
    "sys.path.append(psite_annotation_path)\n",
    "import psite_annotation as pa"
   ]
  },
  {
   "cell_type": "code",
   "execution_count": 14,
   "id": "f39a79c4",
   "metadata": {
    "scrolled": true
   },
   "outputs": [],
   "source": [
    "file='New_MQ_run_phos'\n",
    "df=pd.read_pickle(f'{Path}/{file}.pkl')\n",
    "df = df.drop_duplicates(['Modified sequence', 'Proteins'])[['Modified sequence', 'Proteins', 'Gene names']].copy()"
   ]
  },
  {
   "cell_type": "code",
   "execution_count": 15,
   "id": "de1f9620-a190-4223-a141-5c6f65d93aeb",
   "metadata": {},
   "outputs": [
    {
     "name": "stderr",
     "output_type": "stream",
     "text": [
      "/home/mgander/KL/psite_annotation-main/psite_annotation/functional_annotation.py:92: FutureWarning: Series.__getitem__ treating keys as positions is deprecated. In a future version, integer keys will always be treated as labels (consistent with DataFrame behavior). To access a value by position, use `ser.iloc[pos]`\n",
      "  lambda x: getPeptidePositions(x[0], proteinSeqs, x[1], returnAllPotentialSites),\n"
     ]
    }
   ],
   "source": [
    "pa.addPeptideAndPsitePositions(df, pa.pspFastaFile, pspInput = True)"
   ]
  },
  {
   "cell_type": "code",
   "execution_count": 20,
   "id": "58ec0e2a-3fa3-44ca-bf6d-ebfec1514ac9",
   "metadata": {},
   "outputs": [
    {
     "data": {
      "text/html": [
       "<div>\n",
       "<style scoped>\n",
       "    .dataframe tbody tr th:only-of-type {\n",
       "        vertical-align: middle;\n",
       "    }\n",
       "\n",
       "    .dataframe tbody tr th {\n",
       "        vertical-align: top;\n",
       "    }\n",
       "\n",
       "    .dataframe thead th {\n",
       "        text-align: right;\n",
       "    }\n",
       "</style>\n",
       "<table border=\"1\" class=\"dataframe\">\n",
       "  <thead>\n",
       "    <tr style=\"text-align: right;\">\n",
       "      <th></th>\n",
       "      <th>Modified sequence</th>\n",
       "      <th>Proteins</th>\n",
       "      <th>Gene names</th>\n",
       "      <th>Start positions</th>\n",
       "      <th>End positions</th>\n",
       "      <th>Site sequence context</th>\n",
       "      <th>Site positions</th>\n",
       "    </tr>\n",
       "  </thead>\n",
       "  <tbody>\n",
       "    <tr>\n",
       "      <th>1</th>\n",
       "      <td>_(Acetyl (Protein N-term))AAAAAAAAAAGAAGGRGS(P...</td>\n",
       "      <td>Q86U42</td>\n",
       "      <td>PABPN1</td>\n",
       "      <td>1</td>\n",
       "      <td>23</td>\n",
       "      <td>AAAAAAAAGAAGGRGsGPGRRRHLVPGAGGE</td>\n",
       "      <td>Q86U42_S19</td>\n",
       "    </tr>\n",
       "    <tr>\n",
       "      <th>26</th>\n",
       "      <td>_AAAAAAAATM(Oxidation (M))ALAAPSS(Phospho (STY...</td>\n",
       "      <td>Q9NQS7</td>\n",
       "      <td>INCENP</td>\n",
       "      <td>126</td>\n",
       "      <td>154</td>\n",
       "      <td>AAAAAAATMALAAPSsPTPESPTMLTKKPED;AATMALAAPSSPTP...</td>\n",
       "      <td>Q9NQS7_S143;Q9NQS7_S148</td>\n",
       "    </tr>\n",
       "    <tr>\n",
       "      <th>27</th>\n",
       "      <td>_AAAAAAAAVPSAGPAGPAPT(Phospho (STY))SAAGR_</td>\n",
       "      <td>Q9Y4H2</td>\n",
       "      <td>IRS2</td>\n",
       "      <td>693</td>\n",
       "      <td>718</td>\n",
       "      <td>AAAAVPSAGPAGPAPtSAAGRTFPASGGGYK</td>\n",
       "      <td>Q9Y4H2_T713</td>\n",
       "    </tr>\n",
       "    <tr>\n",
       "      <th>41</th>\n",
       "      <td>_(Acetyl (Protein N-term))AAAAAAAGDS(Phospho (...</td>\n",
       "      <td>O75822</td>\n",
       "      <td>EIF3J</td>\n",
       "      <td>1</td>\n",
       "      <td>26</td>\n",
       "      <td>_____MAAAAAAAGDsDSWDADAFSVEDPVR</td>\n",
       "      <td>O75822_S11</td>\n",
       "    </tr>\n",
       "    <tr>\n",
       "      <th>79</th>\n",
       "      <td>_(Acetyl (Protein N-term))AAAAAAAGDS(Phospho (...</td>\n",
       "      <td>O75822</td>\n",
       "      <td>EIF3J</td>\n",
       "      <td>1</td>\n",
       "      <td>27</td>\n",
       "      <td>_____MAAAAAAAGDsDSWDADAFSVEDPVR</td>\n",
       "      <td>O75822_S11</td>\n",
       "    </tr>\n",
       "    <tr>\n",
       "      <th>...</th>\n",
       "      <td>...</td>\n",
       "      <td>...</td>\n",
       "      <td>...</td>\n",
       "      <td>...</td>\n",
       "      <td>...</td>\n",
       "      <td>...</td>\n",
       "      <td>...</td>\n",
       "    </tr>\n",
       "    <tr>\n",
       "      <th>6041998</th>\n",
       "      <td>_YYVPSY(Phospho (STY))EEVMNTNYSEAR_</td>\n",
       "      <td>Q9NW97</td>\n",
       "      <td>TMEM51</td>\n",
       "      <td>128</td>\n",
       "      <td>146</td>\n",
       "      <td>EEEDEEAASRYYVPSyEEVMNTNYSEARGEE</td>\n",
       "      <td>Q9NW97_Y134</td>\n",
       "    </tr>\n",
       "    <tr>\n",
       "      <th>6042470</th>\n",
       "      <td>_YY(Phospho (STY))VTIIDAPGHR_</td>\n",
       "      <td>P68104;Q5VTE0</td>\n",
       "      <td>EEF1A1;EEF1A1P5</td>\n",
       "      <td>84;84</td>\n",
       "      <td>96;96</td>\n",
       "      <td>ITIDISLWKFETSKYyVTIIDAPGHRDFIKN</td>\n",
       "      <td>P68104_Y86;Q5VTE0_Y86</td>\n",
       "    </tr>\n",
       "    <tr>\n",
       "      <th>6042471</th>\n",
       "      <td>_Y(Phospho (STY))YVTIIDAPGHR_</td>\n",
       "      <td>P68104;Q5VTE0</td>\n",
       "      <td>EEF1A1;EEF1A1P5</td>\n",
       "      <td>84;84</td>\n",
       "      <td>96;96</td>\n",
       "      <td>GITIDISLWKFETSKyYVTIIDAPGHRDFIK</td>\n",
       "      <td>P68104_Y85;Q5VTE0_Y85</td>\n",
       "    </tr>\n",
       "    <tr>\n",
       "      <th>6042472</th>\n",
       "      <td>_YYVT(Phospho (STY))IIDAPGHR_</td>\n",
       "      <td>P68104;Q5VTE0</td>\n",
       "      <td>EEF1A1;EEF1A1P5</td>\n",
       "      <td>84;84</td>\n",
       "      <td>96;96</td>\n",
       "      <td>IDISLWKFETSKYYVtIIDAPGHRDFIKNMI</td>\n",
       "      <td>P68104_T88;Q5VTE0_T88</td>\n",
       "    </tr>\n",
       "    <tr>\n",
       "      <th>6042643</th>\n",
       "      <td>_YYYS(Phospho (STY))DNFFDGQR_</td>\n",
       "      <td>Q9H4B6</td>\n",
       "      <td>SAV1</td>\n",
       "      <td>132</td>\n",
       "      <td>144</td>\n",
       "      <td>SFAVENGDSGSRYYYsDNFFDGQRKRPLGDR</td>\n",
       "      <td>Q9H4B6_S136</td>\n",
       "    </tr>\n",
       "  </tbody>\n",
       "</table>\n",
       "<p>112383 rows × 7 columns</p>\n",
       "</div>"
      ],
      "text/plain": [
       "                                         Modified sequence       Proteins  \\\n",
       "1        _(Acetyl (Protein N-term))AAAAAAAAAAGAAGGRGS(P...         Q86U42   \n",
       "26       _AAAAAAAATM(Oxidation (M))ALAAPSS(Phospho (STY...         Q9NQS7   \n",
       "27              _AAAAAAAAVPSAGPAGPAPT(Phospho (STY))SAAGR_         Q9Y4H2   \n",
       "41       _(Acetyl (Protein N-term))AAAAAAAGDS(Phospho (...         O75822   \n",
       "79       _(Acetyl (Protein N-term))AAAAAAAGDS(Phospho (...         O75822   \n",
       "...                                                    ...            ...   \n",
       "6041998                _YYVPSY(Phospho (STY))EEVMNTNYSEAR_         Q9NW97   \n",
       "6042470                      _YY(Phospho (STY))VTIIDAPGHR_  P68104;Q5VTE0   \n",
       "6042471                      _Y(Phospho (STY))YVTIIDAPGHR_  P68104;Q5VTE0   \n",
       "6042472                      _YYVT(Phospho (STY))IIDAPGHR_  P68104;Q5VTE0   \n",
       "6042643                      _YYYS(Phospho (STY))DNFFDGQR_         Q9H4B6   \n",
       "\n",
       "              Gene names Start positions End positions  \\\n",
       "1                 PABPN1               1            23   \n",
       "26                INCENP             126           154   \n",
       "27                  IRS2             693           718   \n",
       "41                 EIF3J               1            26   \n",
       "79                 EIF3J               1            27   \n",
       "...                  ...             ...           ...   \n",
       "6041998           TMEM51             128           146   \n",
       "6042470  EEF1A1;EEF1A1P5           84;84         96;96   \n",
       "6042471  EEF1A1;EEF1A1P5           84;84         96;96   \n",
       "6042472  EEF1A1;EEF1A1P5           84;84         96;96   \n",
       "6042643             SAV1             132           144   \n",
       "\n",
       "                                     Site sequence context  \\\n",
       "1                          AAAAAAAAGAAGGRGsGPGRRRHLVPGAGGE   \n",
       "26       AAAAAAATMALAAPSsPTPESPTMLTKKPED;AATMALAAPSSPTP...   \n",
       "27                         AAAAVPSAGPAGPAPtSAAGRTFPASGGGYK   \n",
       "41                         _____MAAAAAAAGDsDSWDADAFSVEDPVR   \n",
       "79                         _____MAAAAAAAGDsDSWDADAFSVEDPVR   \n",
       "...                                                    ...   \n",
       "6041998                    EEEDEEAASRYYVPSyEEVMNTNYSEARGEE   \n",
       "6042470                    ITIDISLWKFETSKYyVTIIDAPGHRDFIKN   \n",
       "6042471                    GITIDISLWKFETSKyYVTIIDAPGHRDFIK   \n",
       "6042472                    IDISLWKFETSKYYVtIIDAPGHRDFIKNMI   \n",
       "6042643                    SFAVENGDSGSRYYYsDNFFDGQRKRPLGDR   \n",
       "\n",
       "                  Site positions  \n",
       "1                     Q86U42_S19  \n",
       "26       Q9NQS7_S143;Q9NQS7_S148  \n",
       "27                   Q9Y4H2_T713  \n",
       "41                    O75822_S11  \n",
       "79                    O75822_S11  \n",
       "...                          ...  \n",
       "6041998              Q9NW97_Y134  \n",
       "6042470    P68104_Y86;Q5VTE0_Y86  \n",
       "6042471    P68104_Y85;Q5VTE0_Y85  \n",
       "6042472    P68104_T88;Q5VTE0_T88  \n",
       "6042643              Q9H4B6_S136  \n",
       "\n",
       "[112383 rows x 7 columns]"
      ]
     },
     "execution_count": 20,
     "metadata": {},
     "output_type": "execute_result"
    }
   ],
   "source": [
    "df[df['Site positions']!='']"
   ]
  },
  {
   "cell_type": "code",
   "execution_count": 21,
   "id": "986b037c-e07f-4941-b5e3-2a2b79325d6e",
   "metadata": {},
   "outputs": [],
   "source": [
    "# If we are at it, also add PSP information\n",
    "pa.addPSPKinaseSubstrateAnnotations(df, pa.pspKinaseSubstrateFile)"
   ]
  },
  {
   "cell_type": "code",
   "execution_count": 22,
   "id": "e1894fae-c17d-4aa5-a21d-803ebd69e9ef",
   "metadata": {},
   "outputs": [],
   "source": [
    "df.to_pickle('Phosphopeptides_to_psites.pkl')"
   ]
  },
  {
   "cell_type": "code",
   "execution_count": null,
   "id": "6ecdba4a-6c16-4dce-98f9-6353e449e3c9",
   "metadata": {},
   "outputs": [],
   "source": []
  },
  {
   "cell_type": "code",
   "execution_count": null,
   "id": "42445a0a-56ad-44e7-9798-3e2c61eb20c8",
   "metadata": {},
   "outputs": [],
   "source": []
  },
  {
   "cell_type": "code",
   "execution_count": null,
   "id": "69be171c-ecb4-40a4-a425-6538f18982d3",
   "metadata": {},
   "outputs": [],
   "source": []
  },
  {
   "cell_type": "code",
   "execution_count": null,
   "id": "34f05d5e-ef7a-45cc-9168-70a26afe5e40",
   "metadata": {},
   "outputs": [],
   "source": []
  },
  {
   "cell_type": "code",
   "execution_count": null,
   "id": "21d58824-4a5a-45c5-826e-bc70c7b2f1d5",
   "metadata": {},
   "outputs": [],
   "source": []
  }
 ],
 "metadata": {
  "kernelspec": {
   "display_name": "phos",
   "language": "python",
   "name": "phos"
  },
  "language_info": {
   "codemirror_mode": {
    "name": "ipython",
    "version": 3
   },
   "file_extension": ".py",
   "mimetype": "text/x-python",
   "name": "python",
   "nbconvert_exporter": "python",
   "pygments_lexer": "ipython3",
   "version": "3.9.16"
  }
 },
 "nbformat": 4,
 "nbformat_minor": 5
}
