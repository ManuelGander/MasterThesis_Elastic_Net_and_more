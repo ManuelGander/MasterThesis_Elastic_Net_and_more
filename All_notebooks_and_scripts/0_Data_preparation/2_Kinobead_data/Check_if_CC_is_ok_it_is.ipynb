{
 "cells": [
  {
   "cell_type": "code",
   "execution_count": 96,
   "id": "9790f9bc-ddf1-4351-b74d-2cbc46debc71",
   "metadata": {},
   "outputs": [],
   "source": [
    "import pandas as pd\n",
    "import numpy as np\n",
    "import csv\n",
    "import pickle\n",
    "import seaborn as sns\n",
    "import numpy as np\n",
    "from scipy.optimize import curve_fit\n",
    "from tqdm import tqdm\n",
    "import matplotlib.pyplot as plt\n",
    "\n",
    "import curve_curator\n",
    "from curve_curator.models import _Model, MeanModel, LogisticModel\n",
    "from curve_curator.quantification import fit_model\n",
    "\n",
    "M0 = MeanModel()\n",
    "M1 = LogisticModel()\n",
    "fit_params = {'type': 'OLS', 'speed':'fast', 'control_fold_change':True}\n",
    "f_statistic_params = {'optimized_dofs':False, 'scale':1, 'loc':1}\n",
    "\n",
    "def process_dfs(dfs):\n",
    "    key = dfs['key'].iloc[0]\n",
    "    xs = list(dfs['log_dose'])\n",
    "    ys = list(dfs['Viability'])\n",
    "    \n",
    "    ns=round(dfs['Dose'].value_counts().median())\n",
    "    xs = np.array([*xs, *[min(xs)-3]*ns])\n",
    "    ys = np.array([*ys, *[1]*ns])\n",
    "\n",
    "    res = fit_model(pd.Series(ys), xs, M0, M1, fit_params, f_statistic_params)\n",
    "    params = res[:4]\n",
    "    rmse, r2 = res[5:7]\n",
    "    return(key,params, rmse, r2)"
   ]
  },
  {
   "cell_type": "code",
   "execution_count": null,
   "id": "deced573-874b-47a4-b893-17963ca90ec1",
   "metadata": {},
   "outputs": [],
   "source": []
  },
  {
   "cell_type": "code",
   "execution_count": null,
   "id": "2fe705ef-4712-43f3-afb2-7bf3d6a461a0",
   "metadata": {},
   "outputs": [],
   "source": []
  },
  {
   "cell_type": "code",
   "execution_count": 168,
   "id": "1e701db1-6f3f-43e4-a6aa-78259d70b165",
   "metadata": {},
   "outputs": [],
   "source": [
    "def fct(x, a, b, c, d):\n",
    "    return b + (a-b) / (1+10**(c*(x-d)))"
   ]
  },
  {
   "cell_type": "code",
   "execution_count": 205,
   "id": "13e82a88-aaa9-4829-9071-f57a37f95d22",
   "metadata": {},
   "outputs": [
    {
     "data": {
      "text/plain": [
       "<Axes: >"
      ]
     },
     "execution_count": 205,
     "metadata": {},
     "output_type": "execute_result"
    },
    {
     "data": {
      "image/png": "[encoded data removed]",
      "text/plain": [
       "<Figure size 640x480 with 1 Axes>"
      ]
     },
     "metadata": {},
     "output_type": "display_data"
    }
   ],
   "source": [
    "xs = np.linspace(0,10,11)-0\n",
    "ys = fct(xs, *[1,0,1,5])\n",
    "sns.scatterplot(x=xs, y=ys)"
   ]
  },
  {
   "cell_type": "code",
   "execution_count": 206,
   "id": "8444fb50-3f3f-4990-9722-b06779361846",
   "metadata": {
    "scrolled": true
   },
   "outputs": [
    {
     "data": {
      "text/plain": [
       "(-5.0000011891573815,\n",
       " 0.9999941449638916,\n",
       " 1.0000000300733427,\n",
       " -6.224837902146312e-07)"
      ]
     },
     "execution_count": 206,
     "metadata": {},
     "output_type": "execute_result"
    }
   ],
   "source": [
    "M0 = MeanModel()\n",
    "M1 = LogisticModel()\n",
    "fit_params = {'type': 'OLS', 'speed':'standard', 'control_fold_change':False}\n",
    "f_statistic_params = {'optimized_dofs':False, 'scale':1, 'loc':1}\n",
    "res = fit_model(pd.Series(ys), xs, M0, M1, fit_params, f_statistic_params)\n",
    "res[:4]"
   ]
  },
  {
   "cell_type": "code",
   "execution_count": null,
   "id": "628d2fed-1da5-4736-a858-54f40216b15f",
   "metadata": {},
   "outputs": [],
   "source": []
  },
  {
   "cell_type": "code",
   "execution_count": null,
   "id": "13551073-ce58-4851-8f27-2a5f55fc4694",
   "metadata": {},
   "outputs": [],
   "source": []
  },
  {
   "cell_type": "code",
   "execution_count": null,
   "id": "29ce1e73-4b5e-4a10-9216-cec3b92f9b3c",
   "metadata": {},
   "outputs": [],
   "source": []
  },
  {
   "cell_type": "code",
   "execution_count": 153,
   "id": "cc7284da-6fc3-4806-8e5c-dc37114ed91f",
   "metadata": {},
   "outputs": [
    {
     "data": {
      "text/plain": [
       "array([ 1.        ,  0.16666667, -2.5849625 ,  0.47916667])"
      ]
     },
     "execution_count": 153,
     "metadata": {},
     "output_type": "execute_result"
    }
   ],
   "source": [
    "params = np.array(res[2:6])\n",
    "#params[-1] = params[-1]*10\n",
    "params"
   ]
  },
  {
   "cell_type": "code",
   "execution_count": 154,
   "id": "8ac31156-ec3c-4d27-b4a2-fb2f8786b547",
   "metadata": {},
   "outputs": [
    {
     "data": {
      "text/plain": [
       "(-3.75,\n",
       " 10.0,\n",
       " 0.9999999999998946,\n",
       " 0.16666666666677207,\n",
       " -2.584962500720244,\n",
       " 0.47916666666669305,\n",
       " 0.7142857141637471,\n",
       " nan,\n",
       " 41200792486.476166,\n",
       " 329577217783.8336,\n",
       " 0.204130033468063,\n",
       " 0.2041044279993187,\n",
       " 0.5833333333333334,\n",
       " 0.44876373392775787,\n",
       " 0.44876373392775787,\n",
       " nan,\n",
       " nan,\n",
       " 9.375000000012639,\n",
       " 0.10853461319109532)"
      ]
     },
     "execution_count": 154,
     "metadata": {},
     "output_type": "execute_result"
    }
   ],
   "source": [
    "res"
   ]
  },
  {
   "cell_type": "code",
   "execution_count": null,
   "id": "f045abed-650b-4d65-8211-7fd788bcfca0",
   "metadata": {},
   "outputs": [],
   "source": []
  },
  {
   "cell_type": "code",
   "execution_count": null,
   "id": "d67bfb3e-b174-4783-805f-ebd09f4b8bf8",
   "metadata": {},
   "outputs": [],
   "source": []
  },
  {
   "cell_type": "code",
   "execution_count": null,
   "id": "942b86de-2dae-4f3d-aa24-1ebdea00599d",
   "metadata": {},
   "outputs": [],
   "source": []
  },
  {
   "cell_type": "code",
   "execution_count": 145,
   "id": "6daeea4c-182c-41f5-aa05-6bbadfb7488e",
   "metadata": {},
   "outputs": [
    {
     "data": {
      "text/plain": [
       "array([-0.76247774, -0.15507276,  0.20060947,  0.36610573,  0.434842  ])"
      ]
     },
     "execution_count": 145,
     "metadata": {},
     "output_type": "execute_result"
    }
   ],
   "source": [
    "M1(xs, )"
   ]
  },
  {
   "cell_type": "code",
   "execution_count": null,
   "id": "649f127b-01c4-4ecd-b63f-22f95b9c68f6",
   "metadata": {},
   "outputs": [],
   "source": []
  },
  {
   "cell_type": "code",
   "execution_count": null,
   "id": "e602aff9-7751-42e7-9a3b-f1240b728e9a",
   "metadata": {},
   "outputs": [],
   "source": []
  },
  {
   "cell_type": "code",
   "execution_count": 149,
   "id": "f9ebe89d-663f-4656-a6ba-00318f29e15c",
   "metadata": {},
   "outputs": [
    {
     "data": {
      "text/plain": [
       "0.5"
      ]
     },
     "execution_count": 149,
     "metadata": {},
     "output_type": "execute_result"
    }
   ],
   "source": [
    "M1(0, *[0,1,1,0])"
   ]
  },
  {
   "cell_type": "code",
   "execution_count": null,
   "id": "f069b54d-fa2a-451a-9367-347ef6acc855",
   "metadata": {},
   "outputs": [],
   "source": [
    "M1(0, *[0,1,1,0])"
   ]
  },
  {
   "cell_type": "code",
   "execution_count": null,
   "id": "b7d3a54a-5487-42fe-8e14-f8dd195e4319",
   "metadata": {},
   "outputs": [],
   "source": []
  },
  {
   "cell_type": "code",
   "execution_count": null,
   "id": "aefa2894-c284-4ee7-a7e9-42bd88d39d90",
   "metadata": {},
   "outputs": [],
   "source": []
  },
  {
   "cell_type": "code",
   "execution_count": null,
   "id": "06e1e27d-c799-4daa-a438-0629ebb4a684",
   "metadata": {},
   "outputs": [],
   "source": [
    "core(x, pec50, slope, front, back)"
   ]
  },
  {
   "cell_type": "code",
   "execution_count": null,
   "id": "83119be3-cb58-4657-a150-b84715fa3196",
   "metadata": {},
   "outputs": [],
   "source": []
  },
  {
   "cell_type": "code",
   "execution_count": 146,
   "id": "1c2511dd-83de-4639-9bb6-faf7ead236a0",
   "metadata": {},
   "outputs": [
    {
     "data": {
      "text/plain": [
       "array([1.00000000e+00, 1.00000000e+00, 5.00000000e-01, 3.16227766e-13,\n",
       "       1.00000000e-25])"
      ]
     },
     "execution_count": 146,
     "metadata": {},
     "output_type": "execute_result"
    }
   ],
   "source": [
    "ys"
   ]
  },
  {
   "cell_type": "code",
   "execution_count": 147,
   "id": "6cb25273-012a-4863-814f-138c1a580e32",
   "metadata": {},
   "outputs": [
    {
     "data": {
      "text/plain": [
       "0.5"
      ]
     },
     "execution_count": 147,
     "metadata": {},
     "output_type": "execute_result"
    }
   ],
   "source": [
    "ys.mean()"
   ]
  },
  {
   "cell_type": "code",
   "execution_count": null,
   "id": "7d47515c-7d9a-4a53-b918-d449ca4beb11",
   "metadata": {},
   "outputs": [],
   "source": []
  },
  {
   "cell_type": "code",
   "execution_count": null,
   "id": "33848dc2-9591-4587-b96f-a0a6a3d1b66b",
   "metadata": {},
   "outputs": [],
   "source": []
  },
  {
   "cell_type": "code",
   "execution_count": null,
   "id": "6b1f7b63-3b1e-4bc0-b396-2bc556e4756d",
   "metadata": {},
   "outputs": [],
   "source": []
  },
  {
   "cell_type": "code",
   "execution_count": 133,
   "id": "96900c96-2864-4607-b852-b50551a8392b",
   "metadata": {},
   "outputs": [
    {
     "name": "stderr",
     "output_type": "stream",
     "text": [
      "/tmp/ipykernel_6671/3161238644.py:2: RuntimeWarning: overflow encountered in scalar power\n",
      "  return b + (a-b) / (1+10**(c*(x-d)))\n"
     ]
    },
    {
     "data": {
      "text/plain": [
       "0.16666666666677207"
      ]
     },
     "execution_count": 133,
     "metadata": {},
     "output_type": "execute_result"
    }
   ],
   "source": [
    "fct(-1000, *params)"
   ]
  },
  {
   "cell_type": "code",
   "execution_count": null,
   "id": "3df77cb8-f3d5-4352-ab9c-cb4103600913",
   "metadata": {},
   "outputs": [],
   "source": []
  },
  {
   "cell_type": "code",
   "execution_count": null,
   "id": "026c38dc-16f8-4c0e-8fda-5a9aee750ad2",
   "metadata": {},
   "outputs": [],
   "source": []
  },
  {
   "cell_type": "code",
   "execution_count": 120,
   "id": "be7a3099-9f54-4baa-acc4-2af0be8c353a",
   "metadata": {},
   "outputs": [
    {
     "data": {
      "text/plain": [
       "<Axes: >"
      ]
     },
     "execution_count": 120,
     "metadata": {},
     "output_type": "execute_result"
    },
    {
     "data": {
      "image/png": "[encoded data removed]",
      "text/plain": [
       "<Figure size 640x480 with 1 Axes>"
      ]
     },
     "metadata": {},
     "output_type": "display_data"
    }
   ],
   "source": [
    "sns.lineplot(x=xs, y=fct(xs, *params))"
   ]
  },
  {
   "cell_type": "code",
   "execution_count": null,
   "id": "cabf7ccb-23aa-442f-ace9-35899659b41b",
   "metadata": {},
   "outputs": [],
   "source": []
  },
  {
   "cell_type": "code",
   "execution_count": null,
   "id": "ccc47bcf-3f74-41ba-bac1-ef20caee3a08",
   "metadata": {},
   "outputs": [],
   "source": []
  },
  {
   "cell_type": "code",
   "execution_count": null,
   "id": "b3a9c24f-97c6-4ee7-a647-cc90c548e812",
   "metadata": {},
   "outputs": [],
   "source": []
  },
  {
   "cell_type": "code",
   "execution_count": null,
   "id": "391b19bf-5a18-4ec5-a452-b127e2a664fa",
   "metadata": {},
   "outputs": [],
   "source": []
  },
  {
   "cell_type": "code",
   "execution_count": 28,
   "id": "a6e56f86-e6aa-4956-8524-a4334e2525ad",
   "metadata": {},
   "outputs": [
    {
     "data": {
      "text/plain": [
       "(-4.999008668960804,\n",
       " 9.96206641362993,\n",
       " 0.9854400345778122,\n",
       " 0.025477325725296315,\n",
       " -5.273482328406725,\n",
       " 0.6013597869538302,\n",
       " 0.9797652839703432,\n",
       " nan,\n",
       " 12912.202965826687,\n",
       " 129757085.48806897,\n",
       " 0.01570848705267946,\n",
       " 0.02130057747505525,\n",
       " 0.6249990833417499,\n",
       " 0.4449157792007915,\n",
       " 0.4449157792007915,\n",
       " nan,\n",
       " nan,\n",
       " 560.4840492857785,\n",
       " 1.2437662778274034e-09)"
      ]
     },
     "execution_count": 28,
     "metadata": {},
     "output_type": "execute_result"
    }
   ],
   "source": [
    "res"
   ]
  },
  {
   "cell_type": "code",
   "execution_count": null,
   "id": "f6b5cf28-a69b-49a2-9fbb-c2cdc11a9f01",
   "metadata": {},
   "outputs": [],
   "source": []
  },
  {
   "cell_type": "code",
   "execution_count": null,
   "id": "101396d3-a63e-4a3a-9398-2741be9cf999",
   "metadata": {},
   "outputs": [],
   "source": []
  },
  {
   "cell_type": "code",
   "execution_count": null,
   "id": "b2b0eeb4-5a19-4b47-8ded-b3a807ad3088",
   "metadata": {},
   "outputs": [],
   "source": []
  }
 ],
 "metadata": {
  "kernelspec": {
   "display_name": "phos",
   "language": "python",
   "name": "phos"
  },
  "language_info": {
   "codemirror_mode": {
    "name": "ipython",
    "version": 3
   },
   "file_extension": ".py",
   "mimetype": "text/x-python",
   "name": "python",
   "nbconvert_exporter": "python",
   "pygments_lexer": "ipython3",
   "version": "3.9.16"
  }
 },
 "nbformat": 4,
 "nbformat_minor": 5
}
