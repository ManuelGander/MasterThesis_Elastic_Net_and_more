{
 "cells": [
  {
   "cell_type": "code",
   "execution_count": 60,
   "id": "23112304-17ba-4d12-9afa-021c41e15937",
   "metadata": {},
   "outputs": [],
   "source": [
    "import pandas as pd\n",
    "import numpy as np\n",
    "import seaborn as sns\n",
    "import matplotlib.pyplot as plt\n",
    "import scipy\n",
    "import time\n",
    "import numpy as np\n",
    "# torch\n",
    "import torch\n",
    "from tqdm import tqdm\n",
    "import torch.nn as nn\n",
    "import torch.optim as optim\n",
    "from torch.optim.lr_scheduler import ExponentialLR"
   ]
  },
  {
   "cell_type": "code",
   "execution_count": 61,
   "id": "c81ebbfe-31f5-4aeb-bb16-ecec7a40505b",
   "metadata": {},
   "outputs": [],
   "source": [
    "device='cpu'\n",
    "#device='cuda'"
   ]
  },
  {
   "cell_type": "code",
   "execution_count": null,
   "id": "e0a87cfd-fe37-4eef-aee1-1c084c6b679b",
   "metadata": {},
   "outputs": [],
   "source": []
  },
  {
   "cell_type": "code",
   "execution_count": null,
   "id": "9131d1bb-00b9-497c-b670-c4bfe3b968ca",
   "metadata": {},
   "outputs": [],
   "source": []
  },
  {
   "cell_type": "code",
   "execution_count": 62,
   "id": "7b158365-4a40-4743-b759-92a45b17a52a",
   "metadata": {},
   "outputs": [],
   "source": [
    "import pickle\n",
    "with open(f'V_l.pkl', 'rb') as f:\n",
    "    V, dfvs, dfv = pickle.load(f)"
   ]
  },
  {
   "cell_type": "code",
   "execution_count": null,
   "id": "b49d927d-8dff-433b-acdb-05800b5370a0",
   "metadata": {},
   "outputs": [],
   "source": []
  },
  {
   "cell_type": "code",
   "execution_count": 63,
   "id": "554e0387-2211-4668-aa58-361c5fe49fe1",
   "metadata": {},
   "outputs": [],
   "source": [
    "# Take the mean over the same values"
   ]
  },
  {
   "cell_type": "code",
   "execution_count": 64,
   "id": "8264dda7-5138-468f-b57a-a158179a9a9f",
   "metadata": {},
   "outputs": [
    {
     "data": {
      "text/html": [
       "<div>\n",
       "<style scoped>\n",
       "    .dataframe tbody tr th:only-of-type {\n",
       "        vertical-align: middle;\n",
       "    }\n",
       "\n",
       "    .dataframe tbody tr th {\n",
       "        vertical-align: top;\n",
       "    }\n",
       "\n",
       "    .dataframe thead th {\n",
       "        text-align: right;\n",
       "    }\n",
       "</style>\n",
       "<table border=\"1\" class=\"dataframe\">\n",
       "  <thead>\n",
       "    <tr style=\"text-align: right;\">\n",
       "      <th></th>\n",
       "      <th>Cello</th>\n",
       "      <th>PubChem_CID</th>\n",
       "      <th>Dose</th>\n",
       "      <th>Viability</th>\n",
       "    </tr>\n",
       "  </thead>\n",
       "  <tbody>\n",
       "    <tr>\n",
       "      <th>0</th>\n",
       "      <td>2004</td>\n",
       "      <td>10427712</td>\n",
       "      <td>0.002000</td>\n",
       "      <td>0.812057</td>\n",
       "    </tr>\n",
       "    <tr>\n",
       "      <th>1</th>\n",
       "      <td>2004</td>\n",
       "      <td>10427712</td>\n",
       "      <td>0.004100</td>\n",
       "      <td>0.771664</td>\n",
       "    </tr>\n",
       "    <tr>\n",
       "      <th>2</th>\n",
       "      <td>2004</td>\n",
       "      <td>10427712</td>\n",
       "      <td>0.008100</td>\n",
       "      <td>0.962182</td>\n",
       "    </tr>\n",
       "    <tr>\n",
       "      <th>3</th>\n",
       "      <td>2004</td>\n",
       "      <td>10427712</td>\n",
       "      <td>0.016000</td>\n",
       "      <td>0.825710</td>\n",
       "    </tr>\n",
       "    <tr>\n",
       "      <th>4</th>\n",
       "      <td>2004</td>\n",
       "      <td>10427712</td>\n",
       "      <td>0.032000</td>\n",
       "      <td>0.605135</td>\n",
       "    </tr>\n",
       "    <tr>\n",
       "      <th>...</th>\n",
       "      <td>...</td>\n",
       "      <td>...</td>\n",
       "      <td>...</td>\n",
       "      <td>...</td>\n",
       "    </tr>\n",
       "    <tr>\n",
       "      <th>377233</th>\n",
       "      <td>ZR7530</td>\n",
       "      <td>78209992</td>\n",
       "      <td>0.010004</td>\n",
       "      <td>0.869975</td>\n",
       "    </tr>\n",
       "    <tr>\n",
       "      <th>377234</th>\n",
       "      <td>ZR7530</td>\n",
       "      <td>78209992</td>\n",
       "      <td>0.031631</td>\n",
       "      <td>0.976296</td>\n",
       "    </tr>\n",
       "    <tr>\n",
       "      <th>377235</th>\n",
       "      <td>ZR7530</td>\n",
       "      <td>78209992</td>\n",
       "      <td>0.100018</td>\n",
       "      <td>0.842750</td>\n",
       "    </tr>\n",
       "    <tr>\n",
       "      <th>377236</th>\n",
       "      <td>ZR7530</td>\n",
       "      <td>78209992</td>\n",
       "      <td>0.316256</td>\n",
       "      <td>0.945613</td>\n",
       "    </tr>\n",
       "    <tr>\n",
       "      <th>377237</th>\n",
       "      <td>ZR7530</td>\n",
       "      <td>78209992</td>\n",
       "      <td>1.000000</td>\n",
       "      <td>1.044697</td>\n",
       "    </tr>\n",
       "  </tbody>\n",
       "</table>\n",
       "<p>377238 rows × 4 columns</p>\n",
       "</div>"
      ],
      "text/plain": [
       "         Cello PubChem_CID      Dose  Viability\n",
       "0         2004    10427712  0.002000   0.812057\n",
       "1         2004    10427712  0.004100   0.771664\n",
       "2         2004    10427712  0.008100   0.962182\n",
       "3         2004    10427712  0.016000   0.825710\n",
       "4         2004    10427712  0.032000   0.605135\n",
       "...        ...         ...       ...        ...\n",
       "377233  ZR7530    78209992  0.010004   0.869975\n",
       "377234  ZR7530    78209992  0.031631   0.976296\n",
       "377235  ZR7530    78209992  0.100018   0.842750\n",
       "377236  ZR7530    78209992  0.316256   0.945613\n",
       "377237  ZR7530    78209992  1.000000   1.044697\n",
       "\n",
       "[377238 rows x 4 columns]"
      ]
     },
     "execution_count": 64,
     "metadata": {},
     "output_type": "execute_result"
    }
   ],
   "source": [
    "dfvm = dfv[['Cello', 'PubChem_CID', 'Dose', 'Viability']].groupby(['Cello', 'PubChem_CID', 'Dose']).mean().reset_index().copy()\n",
    "dfvm"
   ]
  },
  {
   "cell_type": "code",
   "execution_count": 65,
   "id": "bbc7489d-3f98-422b-b22c-b146f27302e5",
   "metadata": {},
   "outputs": [
    {
     "name": "stderr",
     "output_type": "stream",
     "text": [
      "/home/mgander/Atlantic/notebooks/linear3/utils.py:136: FutureWarning: Series.__getitem__ treating keys as positions is deprecated. In a future version, integer keys will always be treated as labels (consistent with DataFrame behavior). To access a value by position, use `ser.iloc[pos]`\n",
      "  M0.iloc[i,j]=mins[i]\n"
     ]
    }
   ],
   "source": [
    "import sys\n",
    "sys.path.append('/home/mgander/Atlantic/notebooks/linear3')\n",
    "import utils\n",
    "import importlib\n",
    "utils = importlib.reload(utils)\n",
    "D_prot, features, celllines = utils.load_dataset('kinase_scores')"
   ]
  },
  {
   "cell_type": "code",
   "execution_count": null,
   "id": "81d02efb-5197-49ac-bd06-9b68f981fe36",
   "metadata": {},
   "outputs": [],
   "source": []
  },
  {
   "cell_type": "code",
   "execution_count": 66,
   "id": "cfd71088-bf4a-4d84-ac80-0edf45242046",
   "metadata": {},
   "outputs": [],
   "source": [
    "import pickle\n",
    "with open(f'V_transfers.pkl', 'wb') as handle:\n",
    "    pickle.dump((V, dfvs, dfv, D_prot, features, celllines), handle, protocol=pickle.HIGHEST_PROTOCOL)\n",
    "#with open('V_transfers.pkl', 'rb') as f:\n",
    "#    V, dfvs, dfv, D_prot, features, celllines = pickle.load(f)"
   ]
  },
  {
   "cell_type": "code",
   "execution_count": null,
   "id": "97f10b5d-0a1f-4968-adef-84e217006d51",
   "metadata": {},
   "outputs": [],
   "source": []
  },
  {
   "cell_type": "code",
   "execution_count": null,
   "id": "61fbb9a4-1146-46c3-b152-4164bf7dcbf4",
   "metadata": {},
   "outputs": [],
   "source": []
  },
  {
   "cell_type": "code",
   "execution_count": null,
   "id": "7f9ed825-f25d-4acb-9307-3b020f4c434d",
   "metadata": {},
   "outputs": [],
   "source": []
  },
  {
   "cell_type": "code",
   "execution_count": null,
   "id": "85971c9e-cf31-4c4f-8bb6-8643a96ed49e",
   "metadata": {},
   "outputs": [],
   "source": []
  },
  {
   "cell_type": "code",
   "execution_count": 67,
   "id": "011cf943-6e2f-4d57-820a-0bb1eee88a35",
   "metadata": {},
   "outputs": [],
   "source": [
    "dfv = dfv[dfv['Cello'].isin(celllines)].copy()\n",
    "dfv = dfv[np.isfinite(dfv['Viability'])].copy()"
   ]
  },
  {
   "cell_type": "code",
   "execution_count": null,
   "id": "bfd85930-5c65-4f44-aeb0-cae66d825454",
   "metadata": {},
   "outputs": [],
   "source": []
  },
  {
   "cell_type": "code",
   "execution_count": null,
   "id": "4020d2c9-d8b3-4e53-bb19-821187432f44",
   "metadata": {},
   "outputs": [],
   "source": []
  },
  {
   "cell_type": "code",
   "execution_count": 68,
   "id": "35d2d1e8-1362-4111-8931-0d8814c63243",
   "metadata": {},
   "outputs": [],
   "source": [
    "fr_ccls=0.1\n",
    "fr_dr=0.0\n",
    "\n",
    "holdout_ccls = np.random.choice(sorted(set(dfv['Cello'])), int(len(sorted(set(dfv['Cello'])))*fr_ccls))\n",
    "holdout_drugs = np.random.choice(sorted(set(dfv['PubChem_CID'])), int(len(sorted(set(dfv['PubChem_CID'])))*fr_dr))"
   ]
  },
  {
   "cell_type": "code",
   "execution_count": 79,
   "id": "8026765b-7232-4d80-8e0c-5bbe3c73dcd9",
   "metadata": {},
   "outputs": [
    {
     "name": "stdout",
     "output_type": "stream",
     "text": [
      "12592\n",
      "127908\n"
     ]
    }
   ],
   "source": [
    "dfv['log_dose']=np.log10(dfv['Dose'])\n",
    "dfv_holdout = dfv[dfv['Cello'].isin(holdout_ccls)|dfv['PubChem_CID'].isin(holdout_drugs)].copy()\n",
    "print(len(dfv_holdout))\n",
    "dfv_train = dfv[~dfv['Cello'].isin(holdout_ccls)&~dfv['PubChem_CID'].isin(holdout_drugs)].copy()\n",
    "print(len(dfv_train))"
   ]
  },
  {
   "cell_type": "code",
   "execution_count": 80,
   "id": "0ddcf1a0-9152-403d-b682-ef071bd96ad4",
   "metadata": {},
   "outputs": [],
   "source": [
    "# Fit curves on train"
   ]
  },
  {
   "cell_type": "code",
   "execution_count": null,
   "id": "ed1954e6-a8da-42a9-8a7d-9d0515830da1",
   "metadata": {},
   "outputs": [],
   "source": []
  },
  {
   "cell_type": "code",
   "execution_count": null,
   "id": "02fc41f4-7126-4f7c-a522-47e6fbfac9a9",
   "metadata": {},
   "outputs": [],
   "source": [
    "def add_mean_to_dfvs(dfv_train, dfv_holdout):\n",
    "    def fct(x, a, b, c, d):\n",
    "        return a + (b-a) / (1+10**(-c*(x-d)))\n",
    "    from scipy.optimize import curve_fit\n",
    "    def fit_dfs(dfs):\n",
    "        xs0 = list(dfs['log_dose']-6)\n",
    "        ys0 = list(dfs['Viability'])\n",
    "        \n",
    "        ns=round(dfs['Dose'].value_counts().median())\n",
    "        xs = np.array([*xs0, *[min(xs0)-3]*ns])\n",
    "        ys = np.array([*ys0, *[1]*ns])\n",
    "    \n",
    "        # Perform the curve fitting\n",
    "        initial_guess = [1, 0.2, 1, -10]  # Initial guess for the parameters\n",
    "        bounds = [(0,100), (0,100), (-100,100), (-100,100)]\n",
    "        bounds = ([a[0] for a in bounds], [a[1] for a in bounds])\n",
    "        try:\n",
    "            params, covariance = curve_fit(fct, xs, ys, p0=initial_guess, bounds=bounds, maxfev=10**4)\n",
    "            \n",
    "        except:\n",
    "            params = [np.NaN]*4\n",
    "            pred = np.full(len(xs), np.NaN)\n",
    "        return(params)\n",
    "    \n",
    "    \n",
    "    drugs = sorted(set(dfv['PubChem_CID']))\n",
    "    frames0=[]\n",
    "    frames1=[]\n",
    "    for dr in tqdm(drugs):\n",
    "        dd = dfv_train[dfv_train['PubChem_CID']==dr].copy()\n",
    "        ddh = dfv_holdout[dfv_holdout['PubChem_CID']==dr].copy()\n",
    "        params = fit_dfs(dfv_train)\n",
    "        dd['mean']= fct(list(dd['log_dose']-6), *params)\n",
    "        ddh['mean']= fct(list(ddh['log_dose']-6), *params)\n",
    "        \n",
    "        frames0.append(dd)\n",
    "        frames1.append(ddh)\n",
    "        #sns.scatterplot(data=dd, x='log_dose', y='Viability')\n",
    "        #sns.scatterplot(data=dd, x='log_dose', y='mean')\n",
    "    dfv_train = pd.concat(frames0, ignore_index=True)\n",
    "    dfv_holdout = pd.concat(frames1, ignore_index=True)\n",
    "    dfv_train['viab_sub_mean'] = dfv_train['Viability'] - dfv_train['mean']\n",
    "    dfv_holdout['viab_sub_mean'] = dfv_holdout['Viability'] - dfv_holdout['mean']"
   ]
  },
  {
   "cell_type": "code",
   "execution_count": null,
   "id": "9ec8ba0f-0fd2-47f4-973b-87c94929380f",
   "metadata": {},
   "outputs": [],
   "source": []
  },
  {
   "cell_type": "code",
   "execution_count": null,
   "id": "5f3bc311-a2b4-4029-afeb-6b199358ee48",
   "metadata": {},
   "outputs": [],
   "source": []
  },
  {
   "cell_type": "code",
   "execution_count": null,
   "id": "39133847-a2e6-4692-984e-45289c187a76",
   "metadata": {},
   "outputs": [],
   "source": []
  },
  {
   "cell_type": "code",
   "execution_count": null,
   "id": "69cce43f-e68f-44e8-9b8e-8ac8e05f5ab9",
   "metadata": {},
   "outputs": [],
   "source": []
  },
  {
   "cell_type": "code",
   "execution_count": null,
   "id": "e434d827-ce89-4e17-9cb3-50c250efa61d",
   "metadata": {},
   "outputs": [],
   "source": []
  },
  {
   "cell_type": "code",
   "execution_count": null,
   "id": "c16e9669-6fb9-4a93-b09b-d186116b7e28",
   "metadata": {},
   "outputs": [],
   "source": []
  },
  {
   "cell_type": "code",
   "execution_count": null,
   "id": "9429c91b-d50b-44b2-9564-ccafef78bfb2",
   "metadata": {},
   "outputs": [],
   "source": []
  },
  {
   "cell_type": "code",
   "execution_count": 67,
   "id": "a7d11de5-f74b-4dbf-bedb-da59b528d818",
   "metadata": {},
   "outputs": [],
   "source": [
    "D_ccl_to_inds={}\n",
    "for k in D_prot.keys():\n",
    "    a,b=k.split('_')\n",
    "    if a in list(D_ccl_to_inds.keys()):\n",
    "        D_ccl_to_inds[a].append(b)\n",
    "    else:\n",
    "        D_ccl_to_inds[a] = [b]\n",
    "        \n",
    "def dfv_to_features(dfv, features, D_prot, D_ccl_to_inds):\n",
    "    ccls = list(dfv['Cello'])\n",
    "    Ps=np.zeros((len(ccls), len(features)))\n",
    "    for i,ccl in enumerate(ccls):\n",
    "        if len(D_ccl_to_inds[ccl])==1:\n",
    "            Ps[i,:] = D_prot[ccl+'_'+D_ccl_to_inds[ccl][0]]\n",
    "        else:\n",
    "            c = np.random.choice(D_ccl_to_inds[ccl])\n",
    "            Ps[i,:] = D_prot[ccl+'_'+c]\n",
    "    return(Ps)"
   ]
  },
  {
   "cell_type": "code",
   "execution_count": 68,
   "id": "a6e20775-4a8d-4381-baac-1a2905bdf28d",
   "metadata": {},
   "outputs": [],
   "source": [
    "def dfv_to_drug_emb(dfv, dfvs, V):\n",
    "    drugs = list(dfv['PubChem_CID'])\n",
    "    doses = list(dfv['Dose'])\n",
    "    dfvs['PubChem_CID'] = dfvs['PubChem_CID'].astype('category')\n",
    "    dfvs['key']=dfvs['PubChem_CID'].astype('str')+'_'+dfvs['Dose'].astype('str')\n",
    "    V.index = dfvs['key']\n",
    "    keys=[]\n",
    "    for i in range(len(drugs)):\n",
    "        drug = drugs[i]\n",
    "        dose = doses[i]\n",
    "        keys.append(str(drug)+'_'+str(dose))\n",
    "    return(V.loc[keys].values)"
   ]
  },
  {
   "cell_type": "code",
   "execution_count": 69,
   "id": "458e9be6-f194-4f25-afcf-538473f75bee",
   "metadata": {},
   "outputs": [],
   "source": [
    "def get_torch_tensor(dfv, features, D_prot, D_ccl_to_inds, dfvs, V):\n",
    "    P = dfv_to_features(dfv, features, D_prot, D_ccl_to_inds)\n",
    "    V = dfv_to_drug_emb(dfv, dfvs, V)\n",
    "    Pt = torch.tensor(P, dtype=torch.float32)\n",
    "    Vt = torch.tensor(V, dtype=torch.float32)\n",
    "    viabt = torch.tensor(dfv['Viability'].values, dtype=torch.float32)\n",
    "\n",
    "    return(Pt, Vt, viabt)"
   ]
  },
  {
   "cell_type": "code",
   "execution_count": 70,
   "id": "69c7142b-8959-4679-92e3-9b45edb82c28",
   "metadata": {},
   "outputs": [],
   "source": [
    "Pt0, Vt0, viabt0 = get_torch_tensor(dfv_train, features, D_prot, D_ccl_to_inds, dfvs, V)"
   ]
  },
  {
   "cell_type": "code",
   "execution_count": 71,
   "id": "250e21a3-3e94-40b3-9d1c-469f3c4b5071",
   "metadata": {},
   "outputs": [],
   "source": [
    "Pt1, Vt1, viabt1 = get_torch_tensor(dfv_holdout, features, D_prot, D_ccl_to_inds, dfvs, V)"
   ]
  },
  {
   "cell_type": "code",
   "execution_count": null,
   "id": "c0a535ea-ad67-4cbc-9867-1e7188ab0aab",
   "metadata": {},
   "outputs": [],
   "source": []
  },
  {
   "cell_type": "code",
   "execution_count": null,
   "id": "a26cd5cc-6d9b-4d5f-93c6-f52449d569a1",
   "metadata": {},
   "outputs": [],
   "source": []
  },
  {
   "cell_type": "code",
   "execution_count": null,
   "id": "0637ce78-6d19-4f55-847a-890574e2867c",
   "metadata": {},
   "outputs": [],
   "source": []
  },
  {
   "cell_type": "code",
   "execution_count": 72,
   "id": "58540205-c0e4-44ed-b20c-db74d2d1667b",
   "metadata": {},
   "outputs": [
    {
     "name": "stdout",
     "output_type": "stream",
     "text": [
      "Net(\n",
      "  (d1): Linear(in_features=189, out_features=30, bias=True)\n",
      "  (d2): Linear(in_features=272, out_features=30, bias=True)\n",
      "  (d3): Linear(in_features=60, out_features=30, bias=True)\n",
      "  (d4): Linear(in_features=30, out_features=1, bias=True)\n",
      ")\n"
     ]
    }
   ],
   "source": [
    "import torch\n",
    "import torch.nn as nn\n",
    "import torch.nn.functional as F\n",
    "import torch.nn.init as init\n",
    "\n",
    "dense_dim = 30\n",
    "\n",
    "\n",
    "class Net(nn.Module):\n",
    "\n",
    "    def __init__(self):\n",
    "        super(Net, self).__init__()\n",
    "        self.d1 = nn.Linear(Pt0.shape[1], dense_dim)\n",
    "        self.d2 = nn.Linear(Vt0.shape[1], dense_dim)\n",
    "        self.d3 = nn.Linear(dense_dim*2, dense_dim)\n",
    "        self.d4 = nn.Linear(dense_dim, 1)\n",
    "        \n",
    "    def forward(self, x, y):\n",
    "        x = F.relu(self.d1(x))\n",
    "        y = F.relu(self.d2(y))\n",
    "        z = torch.concat([x,y], axis=1)\n",
    "        z = F.relu(self.d3(z))\n",
    "        z = 1-F.sigmoid(self.d4(z))\n",
    "        return(z)\n",
    "net = Net().to(device)\n",
    "print(net)\n",
    "params = list(net.parameters())"
   ]
  },
  {
   "cell_type": "code",
   "execution_count": null,
   "id": "6730acbb-d31a-4f96-abae-b308fa06627e",
   "metadata": {},
   "outputs": [],
   "source": []
  },
  {
   "cell_type": "code",
   "execution_count": null,
   "id": "47d7c646-79ee-4871-8b74-b8526f27a594",
   "metadata": {},
   "outputs": [],
   "source": []
  },
  {
   "cell_type": "code",
   "execution_count": null,
   "id": "fc274f08-f83c-45ab-8da0-94300d592899",
   "metadata": {
    "scrolled": true
   },
   "outputs": [
    {
     "name": "stdout",
     "output_type": "stream",
     "text": [
      "137.01922607421875\n",
      "PearsonRResult(statistic=-0.0730008411706691, pvalue=4.0530088112114706e-19)\n"
     ]
    }
   ],
   "source": [
    "lr0=0.01\n",
    "lr1=0.00001\n",
    "steps=10**3\n",
    "gamma=np.exp(np.log(lr1)/steps)\n",
    "\n",
    "for i in range(steps):\n",
    "    lr=lr0*gamma**i\n",
    "    #lr=0.001\n",
    "\n",
    "    out = net(Pt0, Vt0).flatten()\n",
    "    rmse = torch.norm(out-viabt0)\n",
    "\n",
    "    your_optimizer = optim.Adam(list(net.parameters()), lr=lr)\n",
    "    # Backward pass and optimization (assuming you have an optimizer)\n",
    "    your_optimizer.zero_grad()\n",
    "    rmse.backward()\n",
    "    your_optimizer.step()\n",
    "    \n",
    "    if i%100==0:\n",
    "        print(float(rmse))\n",
    "        pred = net(Pt0, Vt0).flatten()\n",
    "        dfv_train['pred'] = pred.cpu().detach().numpy()\n",
    "                    \n",
    "\n",
    "        pred = net(Pt1, Vt1).flatten()\n",
    "        dfv_holdout['pred'] = pred.cpu().detach().numpy()\n",
    "        #sns.scatterplot(data=dfv_holdout, x = 'Viability', y = 'pred')\n",
    "        print(scipy.stats.pearsonr(dfv_holdout['Viability'], dfv_holdout['pred']))"
   ]
  },
  {
   "cell_type": "code",
   "execution_count": null,
   "id": "b9d523b9-a0d9-4f6c-85d4-474b49ee9dda",
   "metadata": {},
   "outputs": [],
   "source": []
  },
  {
   "cell_type": "code",
   "execution_count": 54,
   "id": "d58fc22d-70b9-4a35-a612-b068478045e8",
   "metadata": {},
   "outputs": [
    {
     "data": {
      "text/plain": [
       "<Axes: xlabel='Viability', ylabel='pred'>"
      ]
     },
     "execution_count": 54,
     "metadata": {},
     "output_type": "execute_result"
    },
    {
     "data": {
      "image/png": "[encoded data removed]",
      "text/plain": [
       "<Figure size 640x480 with 1 Axes>"
      ]
     },
     "metadata": {},
     "output_type": "display_data"
    }
   ],
   "source": [
    "# Train\n",
    "sns.scatterplot(data=dfv_train, x = 'Viability', y = 'pred', s=0.1)\n",
    "plt.plot([0,1], [0,1], color='red', zorder=-1)\n",
    "scipy.stats.pearsonr(dfv_train['Viability'], dfv_train['pred'])"
   ]
  },
  {
   "cell_type": "code",
   "execution_count": null,
   "id": "7103ce65-55fb-46d2-aa3b-af5fce21b64e",
   "metadata": {},
   "outputs": [],
   "source": [
    "# Holdout\n",
    "sns.scatterplot(data=dfv_holdout, x = 'Viability', y = 'pred', s=1)\n",
    "plt.plot([0,1], [0,1], color='red', zorder=-1)\n",
    "scipy.stats.pearsonr(dfv_holdout['Viability'], dfv_holdout['pred'])"
   ]
  },
  {
   "cell_type": "code",
   "execution_count": null,
   "id": "c9683fa1-bc50-437f-8941-721714c09160",
   "metadata": {},
   "outputs": [],
   "source": []
  },
  {
   "cell_type": "code",
   "execution_count": null,
   "id": "08f34f1a-cc2c-415f-ab29-65bb81024a27",
   "metadata": {},
   "outputs": [],
   "source": []
  },
  {
   "cell_type": "code",
   "execution_count": null,
   "id": "69141772-fee1-455a-ad21-0d1e6db58cc9",
   "metadata": {},
   "outputs": [],
   "source": []
  },
  {
   "cell_type": "code",
   "execution_count": null,
   "id": "d43fc799-d9dc-4932-b44d-e43dec6910fa",
   "metadata": {},
   "outputs": [],
   "source": []
  },
  {
   "cell_type": "code",
   "execution_count": null,
   "id": "da61dea0-2668-4677-9a35-caa5be6c1976",
   "metadata": {},
   "outputs": [],
   "source": []
  },
  {
   "cell_type": "code",
   "execution_count": null,
   "id": "281fb87d-0eb6-4a32-9a55-9846de2909b5",
   "metadata": {},
   "outputs": [],
   "source": []
  }
 ],
 "metadata": {
  "kernelspec": {
   "display_name": "phos",
   "language": "python",
   "name": "phos"
  },
  "language_info": {
   "codemirror_mode": {
    "name": "ipython",
    "version": 3
   },
   "file_extension": ".py",
   "mimetype": "text/x-python",
   "name": "python",
   "nbconvert_exporter": "python",
   "pygments_lexer": "ipython3",
   "version": "3.9.16"
  }
 },
 "nbformat": 4,
 "nbformat_minor": 5
}
